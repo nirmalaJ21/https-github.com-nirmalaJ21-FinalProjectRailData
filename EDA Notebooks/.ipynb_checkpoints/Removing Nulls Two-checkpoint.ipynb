{
 "cells": [
  {
   "cell_type": "code",
   "execution_count": 183,
   "id": "549bc021",
   "metadata": {
    "ExecuteTime": {
     "end_time": "2023-08-13T03:34:34.552886Z",
     "start_time": "2023-08-13T03:34:34.447002Z"
    }
   },
   "outputs": [],
   "source": [
    "import pandas as pd\n",
    "import numpy as np"
   ]
  },
  {
   "cell_type": "code",
   "execution_count": 184,
   "id": "9a50cb00",
   "metadata": {
    "ExecuteTime": {
     "end_time": "2023-08-13T03:34:34.607552Z",
     "start_time": "2023-08-13T03:34:34.457448Z"
    }
   },
   "outputs": [],
   "source": [
    "df = pd.read_parquet('rail_data_cleaned_20230728132300.parquet')"
   ]
  },
  {
   "cell_type": "markdown",
   "id": "6d9bc3d2bd81b433",
   "metadata": {},
   "source": [
    "### Dropping columns we don't need"
   ]
  },
  {
   "cell_type": "code",
   "execution_count": 185,
   "id": "19aa99ad09566cec",
   "metadata": {
    "ExecuteTime": {
     "end_time": "2023-08-13T03:34:34.607710Z",
     "start_time": "2023-08-13T03:34:34.515744Z"
    }
   },
   "outputs": [],
   "source": [
    "dropped = ['working_time_pass', 'pass', 'train_length']"
   ]
  },
  {
   "cell_type": "code",
   "execution_count": 186,
   "id": "b342704eb6b3b0f0",
   "metadata": {
    "ExecuteTime": {
     "end_time": "2023-08-13T03:34:34.607921Z",
     "start_time": "2023-08-13T03:34:34.520021Z"
    }
   },
   "outputs": [],
   "source": [
    "df = df.drop(columns=dropped)"
   ]
  },
  {
   "cell_type": "markdown",
   "id": "880e9c1e662914da",
   "metadata": {},
   "source": [
    "## Round 1\n",
    "#### Eliminating rows with duplicate id and train platforms in conjunction with null actuals"
   ]
  },
  {
   "cell_type": "code",
   "execution_count": 187,
   "id": "b428345e",
   "metadata": {
    "ExecuteTime": {
     "end_time": "2023-08-13T03:34:34.607963Z",
     "start_time": "2023-08-13T03:34:34.530252Z"
    }
   },
   "outputs": [],
   "source": [
    "# Subset of columns to consider for duplicates\n",
    "subset_columns = ['unique_id', 'train_platform']\n",
    "\n",
    "# Find rows with duplicated unique_id and train_platform\n",
    "duplicates = df.duplicated(subset=subset_columns, keep=False)\n",
    "\n",
    "# Find rows with null values in actual_arrival_time and actual_departure_time\n",
    "null_rows = (df['actual_arrival_time'].isnull()) & (df['actual_departure_time'].isnull())\n",
    "\n",
    "# Combine the conditions to get the rows to be removed\n",
    "rows_to_remove = duplicates & null_rows\n",
    "\n",
    "# Keep the rows that are not in rows_to_remove\n",
    "df_cleaned = df[~rows_to_remove]\n"
   ]
  },
  {
   "cell_type": "markdown",
   "id": "faaf3bd54dee375f",
   "metadata": {},
   "source": [
    "#### Looking at a busy route to evaluate cleaning"
   ]
  },
  {
   "cell_type": "code",
   "execution_count": 188,
   "id": "6ebe8fad",
   "metadata": {
    "ExecuteTime": {
     "end_time": "2023-08-13T03:34:34.608648Z",
     "start_time": "2023-08-13T03:34:34.552137Z"
    }
   },
   "outputs": [],
   "source": [
    "popular_id = df_cleaned[df_cleaned['unique_id'] == 'Y55129']"
   ]
  },
  {
   "cell_type": "code",
   "execution_count": 189,
   "id": "53611a73",
   "metadata": {
    "ExecuteTime": {
     "end_time": "2023-08-13T03:34:34.609986Z",
     "start_time": "2023-08-13T03:34:34.554069Z"
    }
   },
   "outputs": [
    {
     "data": {
      "text/html": [
       "<div>\n",
       "<style scoped>\n",
       "    .dataframe tbody tr th:only-of-type {\n",
       "        vertical-align: middle;\n",
       "    }\n",
       "\n",
       "    .dataframe tbody tr th {\n",
       "        vertical-align: top;\n",
       "    }\n",
       "\n",
       "    .dataframe thead th {\n",
       "        text-align: right;\n",
       "    }\n",
       "</style>\n",
       "<table border=\"1\" class=\"dataframe\">\n",
       "  <thead>\n",
       "    <tr style=\"text-align: right;\">\n",
       "      <th></th>\n",
       "      <th>route_id</th>\n",
       "      <th>unique_id</th>\n",
       "      <th>service_start_date</th>\n",
       "      <th>update_origin</th>\n",
       "      <th>train_platform</th>\n",
       "      <th>working_time_arrival</th>\n",
       "      <th>working_time_departure</th>\n",
       "      <th>planned_time_arrival</th>\n",
       "      <th>planned_time_departure</th>\n",
       "      <th>platform</th>\n",
       "      <th>actual_arrival_time</th>\n",
       "      <th>actual_departure_time</th>\n",
       "      <th>is_delayed_arrival</th>\n",
       "      <th>is_delayed_departure</th>\n",
       "    </tr>\n",
       "  </thead>\n",
       "  <tbody>\n",
       "    <tr>\n",
       "      <th>24918</th>\n",
       "      <td>202307288955129</td>\n",
       "      <td>Y55129</td>\n",
       "      <td>2023-07-28</td>\n",
       "      <td>Trust</td>\n",
       "      <td>BRENTX</td>\n",
       "      <td>2023-07-28 01:13:30</td>\n",
       "      <td>2023-07-28 01:14:00</td>\n",
       "      <td>NaT</td>\n",
       "      <td>NaT</td>\n",
       "      <td>1</td>\n",
       "      <td>2023-07-28 01:19:00</td>\n",
       "      <td>2023-07-28 01:20:00</td>\n",
       "      <td>False</td>\n",
       "      <td>False</td>\n",
       "    </tr>\n",
       "    <tr>\n",
       "      <th>24919</th>\n",
       "      <td>202307288955129</td>\n",
       "      <td>Y55129</td>\n",
       "      <td>2023-07-28</td>\n",
       "      <td>Trust</td>\n",
       "      <td>CRKLWD</td>\n",
       "      <td>2023-07-28 01:15:30</td>\n",
       "      <td>2023-07-28 01:17:00</td>\n",
       "      <td>2023-07-28 01:16:00</td>\n",
       "      <td>2023-07-28 01:17:00</td>\n",
       "      <td>1</td>\n",
       "      <td>2023-07-28 01:21:00</td>\n",
       "      <td>2023-07-28 01:22:00</td>\n",
       "      <td>False</td>\n",
       "      <td>False</td>\n",
       "    </tr>\n",
       "    <tr>\n",
       "      <th>24920</th>\n",
       "      <td>202307288955129</td>\n",
       "      <td>Y55129</td>\n",
       "      <td>2023-07-28</td>\n",
       "      <td>Trust</td>\n",
       "      <td>WHMPSTM</td>\n",
       "      <td>2023-07-28 01:20:00</td>\n",
       "      <td>2023-07-28 01:20:30</td>\n",
       "      <td>2023-07-28 01:20:00</td>\n",
       "      <td>2023-07-28 01:20:00</td>\n",
       "      <td>1</td>\n",
       "      <td>2023-07-28 01:24:00</td>\n",
       "      <td>2023-07-28 01:25:00</td>\n",
       "      <td>False</td>\n",
       "      <td>False</td>\n",
       "    </tr>\n",
       "    <tr>\n",
       "      <th>24922</th>\n",
       "      <td>202307288955129</td>\n",
       "      <td>Y55129</td>\n",
       "      <td>2023-07-28</td>\n",
       "      <td>Trust</td>\n",
       "      <td>KNTSHTN</td>\n",
       "      <td>2023-07-28 01:24:00</td>\n",
       "      <td>2023-07-28 01:24:30</td>\n",
       "      <td>2023-07-28 01:24:00</td>\n",
       "      <td>2023-07-28 01:24:00</td>\n",
       "      <td>1</td>\n",
       "      <td>2023-07-28 01:28:00</td>\n",
       "      <td>2023-07-28 01:29:00</td>\n",
       "      <td>False</td>\n",
       "      <td>False</td>\n",
       "    </tr>\n",
       "    <tr>\n",
       "      <th>24924</th>\n",
       "      <td>202307288955129</td>\n",
       "      <td>Y55129</td>\n",
       "      <td>2023-07-28</td>\n",
       "      <td>Trust</td>\n",
       "      <td>STPXBOX</td>\n",
       "      <td>2023-07-28 01:30:00</td>\n",
       "      <td>2023-07-28 01:32:00</td>\n",
       "      <td>2023-07-28 01:30:00</td>\n",
       "      <td>2023-07-28 01:32:00</td>\n",
       "      <td>A</td>\n",
       "      <td>2023-07-28 01:33:00</td>\n",
       "      <td>2023-07-28 01:34:00</td>\n",
       "      <td>False</td>\n",
       "      <td>False</td>\n",
       "    </tr>\n",
       "    <tr>\n",
       "      <th>...</th>\n",
       "      <td>...</td>\n",
       "      <td>...</td>\n",
       "      <td>...</td>\n",
       "      <td>...</td>\n",
       "      <td>...</td>\n",
       "      <td>...</td>\n",
       "      <td>...</td>\n",
       "      <td>...</td>\n",
       "      <td>...</td>\n",
       "      <td>...</td>\n",
       "      <td>...</td>\n",
       "      <td>...</td>\n",
       "      <td>...</td>\n",
       "      <td>...</td>\n",
       "    </tr>\n",
       "    <tr>\n",
       "      <th>92756</th>\n",
       "      <td>202307288955129</td>\n",
       "      <td>Y55129</td>\n",
       "      <td>2023-07-28</td>\n",
       "      <td>Darwin</td>\n",
       "      <td>SELHRST</td>\n",
       "      <td>2023-07-28 02:02:30</td>\n",
       "      <td>2023-07-28 02:03:00</td>\n",
       "      <td>NaT</td>\n",
       "      <td>NaT</td>\n",
       "      <td>1</td>\n",
       "      <td>2023-07-28 02:04:00</td>\n",
       "      <td>2023-07-28 02:04:00</td>\n",
       "      <td>False</td>\n",
       "      <td>False</td>\n",
       "    </tr>\n",
       "    <tr>\n",
       "      <th>92758</th>\n",
       "      <td>202307288955129</td>\n",
       "      <td>Y55129</td>\n",
       "      <td>2023-07-28</td>\n",
       "      <td>Darwin</td>\n",
       "      <td>ECROYDN</td>\n",
       "      <td>2023-07-28 02:06:00</td>\n",
       "      <td>2023-07-28 02:07:00</td>\n",
       "      <td>2023-07-28 02:06:00</td>\n",
       "      <td>2023-07-28 02:07:00</td>\n",
       "      <td>5</td>\n",
       "      <td>2023-07-28 02:06:00</td>\n",
       "      <td>2023-07-28 02:07:00</td>\n",
       "      <td>False</td>\n",
       "      <td>False</td>\n",
       "    </tr>\n",
       "    <tr>\n",
       "      <th>92761</th>\n",
       "      <td>202307288955129</td>\n",
       "      <td>Y55129</td>\n",
       "      <td>2023-07-28</td>\n",
       "      <td>Darwin</td>\n",
       "      <td>PURLEY</td>\n",
       "      <td>2023-07-28 02:12:00</td>\n",
       "      <td>2023-07-28 02:13:00</td>\n",
       "      <td>2023-07-28 02:12:00</td>\n",
       "      <td>2023-07-28 02:13:00</td>\n",
       "      <td>2</td>\n",
       "      <td>2023-07-28 02:12:00</td>\n",
       "      <td>2023-07-28 02:13:00</td>\n",
       "      <td>False</td>\n",
       "      <td>False</td>\n",
       "    </tr>\n",
       "    <tr>\n",
       "      <th>92768</th>\n",
       "      <td>202307288955129</td>\n",
       "      <td>Y55129</td>\n",
       "      <td>2023-07-28</td>\n",
       "      <td>Darwin</td>\n",
       "      <td>HORLEY</td>\n",
       "      <td>2023-07-28 02:25:30</td>\n",
       "      <td>2023-07-28 02:26:00</td>\n",
       "      <td>2023-07-28 02:26:00</td>\n",
       "      <td>2023-07-28 02:26:00</td>\n",
       "      <td>2</td>\n",
       "      <td>2023-07-28 02:26:00</td>\n",
       "      <td>2023-07-28 02:26:00</td>\n",
       "      <td>False</td>\n",
       "      <td>False</td>\n",
       "    </tr>\n",
       "    <tr>\n",
       "      <th>92769</th>\n",
       "      <td>202307288955129</td>\n",
       "      <td>Y55129</td>\n",
       "      <td>2023-07-28</td>\n",
       "      <td>Darwin</td>\n",
       "      <td>GTWK</td>\n",
       "      <td>2023-07-28 02:29:30</td>\n",
       "      <td>2023-07-28 02:31:30</td>\n",
       "      <td>2023-07-28 02:30:00</td>\n",
       "      <td>2023-07-28 02:31:00</td>\n",
       "      <td>2</td>\n",
       "      <td>2023-07-28 02:30:00</td>\n",
       "      <td>2023-07-28 02:31:00</td>\n",
       "      <td>False</td>\n",
       "      <td>False</td>\n",
       "    </tr>\n",
       "  </tbody>\n",
       "</table>\n",
       "<p>98 rows × 14 columns</p>\n",
       "</div>"
      ],
      "text/plain": [
       "              route_id unique_id service_start_date update_origin  \\\n",
       "24918  202307288955129    Y55129         2023-07-28         Trust   \n",
       "24919  202307288955129    Y55129         2023-07-28         Trust   \n",
       "24920  202307288955129    Y55129         2023-07-28         Trust   \n",
       "24922  202307288955129    Y55129         2023-07-28         Trust   \n",
       "24924  202307288955129    Y55129         2023-07-28         Trust   \n",
       "...                ...       ...                ...           ...   \n",
       "92756  202307288955129    Y55129         2023-07-28        Darwin   \n",
       "92758  202307288955129    Y55129         2023-07-28        Darwin   \n",
       "92761  202307288955129    Y55129         2023-07-28        Darwin   \n",
       "92768  202307288955129    Y55129         2023-07-28        Darwin   \n",
       "92769  202307288955129    Y55129         2023-07-28        Darwin   \n",
       "\n",
       "      train_platform working_time_arrival working_time_departure  \\\n",
       "24918         BRENTX  2023-07-28 01:13:30    2023-07-28 01:14:00   \n",
       "24919         CRKLWD  2023-07-28 01:15:30    2023-07-28 01:17:00   \n",
       "24920        WHMPSTM  2023-07-28 01:20:00    2023-07-28 01:20:30   \n",
       "24922        KNTSHTN  2023-07-28 01:24:00    2023-07-28 01:24:30   \n",
       "24924        STPXBOX  2023-07-28 01:30:00    2023-07-28 01:32:00   \n",
       "...              ...                  ...                    ...   \n",
       "92756        SELHRST  2023-07-28 02:02:30    2023-07-28 02:03:00   \n",
       "92758        ECROYDN  2023-07-28 02:06:00    2023-07-28 02:07:00   \n",
       "92761         PURLEY  2023-07-28 02:12:00    2023-07-28 02:13:00   \n",
       "92768         HORLEY  2023-07-28 02:25:30    2023-07-28 02:26:00   \n",
       "92769           GTWK  2023-07-28 02:29:30    2023-07-28 02:31:30   \n",
       "\n",
       "      planned_time_arrival planned_time_departure platform  \\\n",
       "24918                  NaT                    NaT        1   \n",
       "24919  2023-07-28 01:16:00    2023-07-28 01:17:00        1   \n",
       "24920  2023-07-28 01:20:00    2023-07-28 01:20:00        1   \n",
       "24922  2023-07-28 01:24:00    2023-07-28 01:24:00        1   \n",
       "24924  2023-07-28 01:30:00    2023-07-28 01:32:00        A   \n",
       "...                    ...                    ...      ...   \n",
       "92756                  NaT                    NaT        1   \n",
       "92758  2023-07-28 02:06:00    2023-07-28 02:07:00        5   \n",
       "92761  2023-07-28 02:12:00    2023-07-28 02:13:00        2   \n",
       "92768  2023-07-28 02:26:00    2023-07-28 02:26:00        2   \n",
       "92769  2023-07-28 02:30:00    2023-07-28 02:31:00        2   \n",
       "\n",
       "      actual_arrival_time actual_departure_time  is_delayed_arrival  \\\n",
       "24918 2023-07-28 01:19:00   2023-07-28 01:20:00               False   \n",
       "24919 2023-07-28 01:21:00   2023-07-28 01:22:00               False   \n",
       "24920 2023-07-28 01:24:00   2023-07-28 01:25:00               False   \n",
       "24922 2023-07-28 01:28:00   2023-07-28 01:29:00               False   \n",
       "24924 2023-07-28 01:33:00   2023-07-28 01:34:00               False   \n",
       "...                   ...                   ...                 ...   \n",
       "92756 2023-07-28 02:04:00   2023-07-28 02:04:00               False   \n",
       "92758 2023-07-28 02:06:00   2023-07-28 02:07:00               False   \n",
       "92761 2023-07-28 02:12:00   2023-07-28 02:13:00               False   \n",
       "92768 2023-07-28 02:26:00   2023-07-28 02:26:00               False   \n",
       "92769 2023-07-28 02:30:00   2023-07-28 02:31:00               False   \n",
       "\n",
       "       is_delayed_departure  \n",
       "24918                 False  \n",
       "24919                 False  \n",
       "24920                 False  \n",
       "24922                 False  \n",
       "24924                 False  \n",
       "...                     ...  \n",
       "92756                 False  \n",
       "92758                 False  \n",
       "92761                 False  \n",
       "92768                 False  \n",
       "92769                 False  \n",
       "\n",
       "[98 rows x 14 columns]"
      ]
     },
     "execution_count": 189,
     "metadata": {},
     "output_type": "execute_result"
    }
   ],
   "source": [
    "popular_id"
   ]
  },
  {
   "cell_type": "code",
   "execution_count": 190,
   "id": "95a0b1cce7eb1bd1",
   "metadata": {
    "ExecuteTime": {
     "end_time": "2023-08-13T03:34:34.617006Z",
     "start_time": "2023-08-13T03:34:34.568320Z"
    }
   },
   "outputs": [
    {
     "data": {
      "text/plain": [
       "array(['BRENTX', 'CRKLWD', 'WHMPSTM', 'KNTSHTN', 'STPXBOX', 'FRNDNLT',\n",
       "       'BLFR', 'SELHRST', 'ECROYDN', 'PURLEY', 'HORLEY', 'GTWK',\n",
       "       'LEAGRVE', 'LUTON', 'LUTOAPY', 'HRPNDN', 'STALBCY', 'RADLETT',\n",
       "       'ELTR', 'MLHB', 'HDON', 'FLITWCK', 'HRLG'], dtype=object)"
      ]
     },
     "execution_count": 190,
     "metadata": {},
     "output_type": "execute_result"
    }
   ],
   "source": [
    "# Looking at the number of unique train platforms\n",
    "\n",
    "popular_id['train_platform'].unique()"
   ]
  },
  {
   "cell_type": "code",
   "execution_count": 191,
   "id": "ec2d39aba17c6cd6",
   "metadata": {
    "ExecuteTime": {
     "end_time": "2023-08-13T03:34:34.617221Z",
     "start_time": "2023-08-13T03:34:34.572523Z"
    }
   },
   "outputs": [
    {
     "data": {
      "text/plain": [
       "23"
      ]
     },
     "execution_count": 191,
     "metadata": {},
     "output_type": "execute_result"
    }
   ],
   "source": [
    "popular_id['train_platform'].nunique()"
   ]
  },
  {
   "cell_type": "markdown",
   "id": "6dfce2e767713956",
   "metadata": {},
   "source": [
    "## Round 2\n",
    "### Keeping rows with earliest and latest times"
   ]
  },
  {
   "cell_type": "markdown",
   "id": "24e25a4ccb5109cb",
   "metadata": {},
   "source": [
    "#### Looking at a busy route to evaluate cleaning"
   ]
  },
  {
   "cell_type": "code",
   "execution_count": null,
   "id": "a97a381e8d301ee8",
   "metadata": {
    "ExecuteTime": {
     "start_time": "2023-08-13T03:34:34.809422Z"
    }
   },
   "outputs": [],
   "source": []
  }
 ],
 "metadata": {
  "kernelspec": {
   "display_name": "Python 3 (ipykernel)",
   "language": "python",
   "name": "python3"
  },
  "language_info": {
   "codemirror_mode": {
    "name": "ipython",
    "version": 3
   },
   "file_extension": ".py",
   "mimetype": "text/x-python",
   "name": "python",
   "nbconvert_exporter": "python",
   "pygments_lexer": "ipython3",
   "version": "3.9.13"
  }
 },
 "nbformat": 4,
 "nbformat_minor": 5
}
