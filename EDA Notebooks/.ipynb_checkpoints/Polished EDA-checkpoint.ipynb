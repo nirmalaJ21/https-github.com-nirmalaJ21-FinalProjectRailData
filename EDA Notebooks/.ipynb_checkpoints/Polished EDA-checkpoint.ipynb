{
 "cells": [
  {
   "cell_type": "code",
   "execution_count": 1,
   "id": "a5604521",
   "metadata": {},
   "outputs": [],
   "source": [
    "import pandas as pd\n",
    "import numpy as np"
   ]
  },
  {
   "cell_type": "code",
   "execution_count": 2,
   "id": "05391a86",
   "metadata": {},
   "outputs": [],
   "source": [
    "df = pd.read_parquet('rail_data_cleaned_20230728132300.parquet')"
   ]
  },
  {
   "cell_type": "code",
   "execution_count": 3,
   "id": "c66ef4d6",
   "metadata": {},
   "outputs": [],
   "source": [
    "df2 = pd.read_csv('RailReferences.csv')"
   ]
  },
  {
   "cell_type": "code",
   "execution_count": null,
   "id": "95aa341d",
   "metadata": {},
   "outputs": [],
   "source": []
  }
 ],
 "metadata": {
  "kernelspec": {
   "display_name": "Python 3 (ipykernel)",
   "language": "python",
   "name": "python3"
  },
  "language_info": {
   "codemirror_mode": {
    "name": "ipython",
    "version": 3
   },
   "file_extension": ".py",
   "mimetype": "text/x-python",
   "name": "python",
   "nbconvert_exporter": "python",
   "pygments_lexer": "ipython3",
   "version": "3.9.13"
  }
 },
 "nbformat": 4,
 "nbformat_minor": 5
}
