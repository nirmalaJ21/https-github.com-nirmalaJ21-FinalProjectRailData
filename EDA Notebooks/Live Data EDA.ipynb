{
 "cells": [
  {
   "cell_type": "markdown",
   "source": [
    "### Import required libraries"
   ],
   "metadata": {
    "collapsed": false
   },
   "id": "ce3478f1156447d4"
  },
  {
   "cell_type": "code",
   "execution_count": 166,
   "outputs": [],
   "source": [
    "import pandas as pd\n",
    "import os\n",
    "import psycopg2"
   ],
   "metadata": {
    "collapsed": false,
    "ExecuteTime": {
     "end_time": "2023-08-22T01:41:29.995427Z",
     "start_time": "2023-08-22T01:41:29.982905Z"
    }
   },
   "id": "91c414f8e741ebe0"
  },
  {
   "cell_type": "markdown",
   "source": [
    "### Define a function to test database connectivity against a PostgreSQL database in AWS."
   ],
   "metadata": {
    "collapsed": false
   },
   "id": "cc2c4429b715fece"
  },
  {
   "cell_type": "code",
   "execution_count": 167,
   "outputs": [
    {
     "name": "stdout",
     "output_type": "stream",
     "text": [
      "PostgreSQL database version:\n",
      "('PostgreSQL 15.3 on x86_64-pc-linux-gnu, compiled by gcc (GCC) 7.3.1 20180712 (Red Hat 7.3.1-12), 64-bit',)\n",
      "Database connection closed.\n"
     ]
    }
   ],
   "source": [
    "def connect():\n",
    "    \"\"\" Test Connection to the PostgreSQL database server \"\"\"\n",
    "    conn = None\n",
    "    try:\n",
    "        conn = psycopg2.connect(\n",
    "            host=\"database-1.cqfnswik0i0s.us-east-2.rds.amazonaws.com\",\n",
    "            database=\"DarwinTwo\",\n",
    "            user=\"gcpostgres\",\n",
    "            password=\"yb9GPoXzcdaLPFQO2ULv\")\n",
    "\n",
    "        # create a cursor\n",
    "        cur = conn.cursor()\n",
    "\n",
    "        # execute a statement\n",
    "        print('PostgreSQL database version:')\n",
    "        cur.execute('SELECT version()')\n",
    "\n",
    "        # display the PostgreSQL database server version\n",
    "        db_version = cur.fetchone()\n",
    "        print(db_version)\n",
    "        # close the communication with the PostgreSQL\n",
    "        cur.close()\n",
    "    except (Exception, psycopg2.DatabaseError) as error:\n",
    "        print(error)\n",
    "    finally:\n",
    "        if conn is not None:\n",
    "            conn.close()\n",
    "            print('Database connection closed.')\n",
    "connect()"
   ],
   "metadata": {
    "collapsed": false,
    "ExecuteTime": {
     "end_time": "2023-08-22T01:41:31.940631Z",
     "start_time": "2023-08-22T01:41:31.443166Z"
    }
   },
   "id": "4a0c15d9db3ef7e6"
  },
  {
   "cell_type": "markdown",
   "source": [
    "### Define a function to pull our data from PostgreSQL\n",
    "**Future optimizations***\n",
    "\n",
    "- If we want to filter on a particular update_origin, we can incorporate that in the select statement against the database."
   ],
   "metadata": {
    "collapsed": false
   },
   "id": "e7c08055b547edac"
  },
  {
   "cell_type": "code",
   "execution_count": 168,
   "outputs": [],
   "source": [
    "def read_PGSQL():\n",
    "    \"\"\" Get data from our PostgreSQL database server \"\"\"\n",
    "    conn = None\n",
    "    try:\n",
    "        conn = psycopg2.connect(\n",
    "            host=\"database-1.cqfnswik0i0s.us-east-2.rds.amazonaws.com\",\n",
    "            database=\"DarwinTwo\",\n",
    "            user=\"gcpostgres\",\n",
    "            password=\"yb9GPoXzcdaLPFQO2ULv\")\n",
    "\n",
    "        #  query the database directly using pandas...\n",
    "        df = pd.read_sql(\"SELECT * from darwin;\", conn)\n",
    "\n",
    "        # close the communication with the PostgreSQL\n",
    "        conn.close()\n",
    "    except (Exception, psycopg2.DatabaseError) as error:\n",
    "        print(error)\n",
    "    finally:\n",
    "        if conn is not None:\n",
    "            conn.close()\n",
    "            print('Database connection closed.')\n",
    "\n",
    "    return df"
   ],
   "metadata": {
    "collapsed": false,
    "ExecuteTime": {
     "end_time": "2023-08-22T01:41:33.763898Z",
     "start_time": "2023-08-22T01:41:33.749774Z"
    }
   },
   "id": "f8cf902c0022c66"
  },
  {
   "cell_type": "code",
   "execution_count": 169,
   "outputs": [],
   "source": [
    "### "
   ],
   "metadata": {
    "collapsed": false,
    "ExecuteTime": {
     "end_time": "2023-08-22T01:41:37.156542Z",
     "start_time": "2023-08-22T01:41:37.140465Z"
    }
   },
   "id": "c0645fe2d6390fbd"
  },
  {
   "cell_type": "code",
   "execution_count": 170,
   "outputs": [],
   "source": [
    "# def read_parquet():\n",
    "#     # Get the current working directory\n",
    "#     current_dir = os.getcwd()\n",
    "#     # Construct the local file path\n",
    "#     csv_file_path = os.path.join(current_dir, 'Raildata-psqlcsv.csv')\n",
    "#     print (csv_file_path)\n",
    "#     # Read the CSV file into a DataFrame\n",
    "#     df = pd.read_csv(csv_file_path)\n",
    "\n",
    "#     # Display the DataFrame\n",
    "#     return df"
   ],
   "metadata": {
    "collapsed": false,
    "ExecuteTime": {
     "end_time": "2023-08-22T01:41:37.615202Z",
     "start_time": "2023-08-22T01:41:37.611189Z"
    }
   },
   "id": "3171d9e6ebcbb13a"
  },
  {
   "cell_type": "code",
   "execution_count": 171,
   "outputs": [
    {
     "name": "stderr",
     "output_type": "stream",
     "text": [
      "/Users/diontajones/opt/anaconda3/lib/python3.9/site-packages/pandas/io/sql.py:761: UserWarning: pandas only support SQLAlchemy connectable(engine/connection) ordatabase string URI or sqlite3 DBAPI2 connectionother DBAPI2 objects are not tested, please consider using SQLAlchemy\n",
      "  warnings.warn(\n"
     ]
    },
    {
     "name": "stdout",
     "output_type": "stream",
     "text": [
      "Database connection closed.\n"
     ]
    },
    {
     "data": {
      "text/plain": "              route_id unique_id service_start_date update_origin  \\\n0      202308167142004    G42004         2023-08-16            TD   \n1      202308168044880    P44880         2023-08-16          None   \n2      202308167195839    G95839         2023-08-16            TD   \n3      202308167623593    L23593         2023-08-16            TD   \n4      202308168028082    P28082         2023-08-16            TD   \n...                ...       ...                ...           ...   \n30031  202308218726535    W26535         2023-08-21            TD   \n30032  202308218726535    W26535         2023-08-21            TD   \n30033  202308217635456    L35456         2023-08-21            TD   \n30034  202308218933367    Y33367         2023-08-21        Darwin   \n30035  202308218933367    Y33367         2023-08-21        Darwin   \n\n      train_platform working_time_pass working_time_arrival  \\\n0            WELLING              None             21:20:30   \n1             MANORS              None             21:20:30   \n2            SVNOAKS              None             21:31:00   \n3            CLPHMJM              None             21:20:00   \n4            SURREYQ              None             21:22:30   \n...              ...               ...                  ...   \n30031        NWPTRTG              None             19:29:30   \n30032        CRDFCEN              None             19:44:00   \n30033        LVRPSPY              None             17:11:00   \n30034        EDINPRK              None             17:11:00   \n30035        HAYMRKT              None             17:15:30   \n\n      working_time_departure planned_time_arrival planned_time_departure  ...  \\\n0                   21:21:00             21:21:00               21:21:00  ...   \n1                   21:21:00             21:21:00               21:21:00  ...   \n2                   21:32:00             21:31:00               21:32:00  ...   \n3                   21:21:00             21:20:00               21:21:00  ...   \n4                   21:23:30             21:23:00               21:23:00  ...   \n...                      ...                  ...                    ...  ...   \n30031               19:31:30             19:31:00               19:31:00  ...   \n30032               19:47:00             19:45:00               19:47:00  ...   \n30033               17:11:30             17:11:00               17:11:00  ...   \n30034               17:11:30             17:11:00               17:11:00  ...   \n30035               17:16:30             17:16:00               17:16:00  ...   \n\n      platform train_length estimated_time  source actual_time  \\\n0            1          NaN           None    None        None   \n1         None          2.0           None    None        None   \n2            3          4.0           None    None        None   \n3           11          NaN           None    None        None   \n4            1          5.0           None    None        None   \n...        ...          ...            ...     ...         ...   \n30031        2          NaN           None    None        None   \n30032        3          NaN           None    None        None   \n30033        5          NaN           None    None        None   \n30034        1          NaN           None    None        None   \n30035        3          NaN           None    None        None   \n\n      actual_time_class is_delayed_arrival is_delayed_departure  \\\n0                  None              False                False   \n1                  None              False                False   \n2                  None              False                False   \n3                  None              False                False   \n4                  None              False                False   \n...                 ...                ...                  ...   \n30031              None              False                False   \n30032              None              False                False   \n30033              None              False                False   \n30034              None              False                False   \n30035              None              False                False   \n\n       source_instance  estimated_time_minutes  \n0                 None                    None  \n1                 None                    None  \n2                 None                    None  \n3                 None                    None  \n4                 None                    None  \n...                ...                     ...  \n30031             None                    None  \n30032             None                    None  \n30033             None                    None  \n30034             None                    None  \n30035             None                    None  \n\n[30036 rows x 22 columns]",
      "text/html": "<div>\n<style scoped>\n    .dataframe tbody tr th:only-of-type {\n        vertical-align: middle;\n    }\n\n    .dataframe tbody tr th {\n        vertical-align: top;\n    }\n\n    .dataframe thead th {\n        text-align: right;\n    }\n</style>\n<table border=\"1\" class=\"dataframe\">\n  <thead>\n    <tr style=\"text-align: right;\">\n      <th></th>\n      <th>route_id</th>\n      <th>unique_id</th>\n      <th>service_start_date</th>\n      <th>update_origin</th>\n      <th>train_platform</th>\n      <th>working_time_pass</th>\n      <th>working_time_arrival</th>\n      <th>working_time_departure</th>\n      <th>planned_time_arrival</th>\n      <th>planned_time_departure</th>\n      <th>...</th>\n      <th>platform</th>\n      <th>train_length</th>\n      <th>estimated_time</th>\n      <th>source</th>\n      <th>actual_time</th>\n      <th>actual_time_class</th>\n      <th>is_delayed_arrival</th>\n      <th>is_delayed_departure</th>\n      <th>source_instance</th>\n      <th>estimated_time_minutes</th>\n    </tr>\n  </thead>\n  <tbody>\n    <tr>\n      <th>0</th>\n      <td>202308167142004</td>\n      <td>G42004</td>\n      <td>2023-08-16</td>\n      <td>TD</td>\n      <td>WELLING</td>\n      <td>None</td>\n      <td>21:20:30</td>\n      <td>21:21:00</td>\n      <td>21:21:00</td>\n      <td>21:21:00</td>\n      <td>...</td>\n      <td>1</td>\n      <td>NaN</td>\n      <td>None</td>\n      <td>None</td>\n      <td>None</td>\n      <td>None</td>\n      <td>False</td>\n      <td>False</td>\n      <td>None</td>\n      <td>None</td>\n    </tr>\n    <tr>\n      <th>1</th>\n      <td>202308168044880</td>\n      <td>P44880</td>\n      <td>2023-08-16</td>\n      <td>None</td>\n      <td>MANORS</td>\n      <td>None</td>\n      <td>21:20:30</td>\n      <td>21:21:00</td>\n      <td>21:21:00</td>\n      <td>21:21:00</td>\n      <td>...</td>\n      <td>None</td>\n      <td>2.0</td>\n      <td>None</td>\n      <td>None</td>\n      <td>None</td>\n      <td>None</td>\n      <td>False</td>\n      <td>False</td>\n      <td>None</td>\n      <td>None</td>\n    </tr>\n    <tr>\n      <th>2</th>\n      <td>202308167195839</td>\n      <td>G95839</td>\n      <td>2023-08-16</td>\n      <td>TD</td>\n      <td>SVNOAKS</td>\n      <td>None</td>\n      <td>21:31:00</td>\n      <td>21:32:00</td>\n      <td>21:31:00</td>\n      <td>21:32:00</td>\n      <td>...</td>\n      <td>3</td>\n      <td>4.0</td>\n      <td>None</td>\n      <td>None</td>\n      <td>None</td>\n      <td>None</td>\n      <td>False</td>\n      <td>False</td>\n      <td>None</td>\n      <td>None</td>\n    </tr>\n    <tr>\n      <th>3</th>\n      <td>202308167623593</td>\n      <td>L23593</td>\n      <td>2023-08-16</td>\n      <td>TD</td>\n      <td>CLPHMJM</td>\n      <td>None</td>\n      <td>21:20:00</td>\n      <td>21:21:00</td>\n      <td>21:20:00</td>\n      <td>21:21:00</td>\n      <td>...</td>\n      <td>11</td>\n      <td>NaN</td>\n      <td>None</td>\n      <td>None</td>\n      <td>None</td>\n      <td>None</td>\n      <td>False</td>\n      <td>False</td>\n      <td>None</td>\n      <td>None</td>\n    </tr>\n    <tr>\n      <th>4</th>\n      <td>202308168028082</td>\n      <td>P28082</td>\n      <td>2023-08-16</td>\n      <td>TD</td>\n      <td>SURREYQ</td>\n      <td>None</td>\n      <td>21:22:30</td>\n      <td>21:23:30</td>\n      <td>21:23:00</td>\n      <td>21:23:00</td>\n      <td>...</td>\n      <td>1</td>\n      <td>5.0</td>\n      <td>None</td>\n      <td>None</td>\n      <td>None</td>\n      <td>None</td>\n      <td>False</td>\n      <td>False</td>\n      <td>None</td>\n      <td>None</td>\n    </tr>\n    <tr>\n      <th>...</th>\n      <td>...</td>\n      <td>...</td>\n      <td>...</td>\n      <td>...</td>\n      <td>...</td>\n      <td>...</td>\n      <td>...</td>\n      <td>...</td>\n      <td>...</td>\n      <td>...</td>\n      <td>...</td>\n      <td>...</td>\n      <td>...</td>\n      <td>...</td>\n      <td>...</td>\n      <td>...</td>\n      <td>...</td>\n      <td>...</td>\n      <td>...</td>\n      <td>...</td>\n      <td>...</td>\n    </tr>\n    <tr>\n      <th>30031</th>\n      <td>202308218726535</td>\n      <td>W26535</td>\n      <td>2023-08-21</td>\n      <td>TD</td>\n      <td>NWPTRTG</td>\n      <td>None</td>\n      <td>19:29:30</td>\n      <td>19:31:30</td>\n      <td>19:31:00</td>\n      <td>19:31:00</td>\n      <td>...</td>\n      <td>2</td>\n      <td>NaN</td>\n      <td>None</td>\n      <td>None</td>\n      <td>None</td>\n      <td>None</td>\n      <td>False</td>\n      <td>False</td>\n      <td>None</td>\n      <td>None</td>\n    </tr>\n    <tr>\n      <th>30032</th>\n      <td>202308218726535</td>\n      <td>W26535</td>\n      <td>2023-08-21</td>\n      <td>TD</td>\n      <td>CRDFCEN</td>\n      <td>None</td>\n      <td>19:44:00</td>\n      <td>19:47:00</td>\n      <td>19:45:00</td>\n      <td>19:47:00</td>\n      <td>...</td>\n      <td>3</td>\n      <td>NaN</td>\n      <td>None</td>\n      <td>None</td>\n      <td>None</td>\n      <td>None</td>\n      <td>False</td>\n      <td>False</td>\n      <td>None</td>\n      <td>None</td>\n    </tr>\n    <tr>\n      <th>30033</th>\n      <td>202308217635456</td>\n      <td>L35456</td>\n      <td>2023-08-21</td>\n      <td>TD</td>\n      <td>LVRPSPY</td>\n      <td>None</td>\n      <td>17:11:00</td>\n      <td>17:11:30</td>\n      <td>17:11:00</td>\n      <td>17:11:00</td>\n      <td>...</td>\n      <td>5</td>\n      <td>NaN</td>\n      <td>None</td>\n      <td>None</td>\n      <td>None</td>\n      <td>None</td>\n      <td>False</td>\n      <td>False</td>\n      <td>None</td>\n      <td>None</td>\n    </tr>\n    <tr>\n      <th>30034</th>\n      <td>202308218933367</td>\n      <td>Y33367</td>\n      <td>2023-08-21</td>\n      <td>Darwin</td>\n      <td>EDINPRK</td>\n      <td>None</td>\n      <td>17:11:00</td>\n      <td>17:11:30</td>\n      <td>17:11:00</td>\n      <td>17:11:00</td>\n      <td>...</td>\n      <td>1</td>\n      <td>NaN</td>\n      <td>None</td>\n      <td>None</td>\n      <td>None</td>\n      <td>None</td>\n      <td>False</td>\n      <td>False</td>\n      <td>None</td>\n      <td>None</td>\n    </tr>\n    <tr>\n      <th>30035</th>\n      <td>202308218933367</td>\n      <td>Y33367</td>\n      <td>2023-08-21</td>\n      <td>Darwin</td>\n      <td>HAYMRKT</td>\n      <td>None</td>\n      <td>17:15:30</td>\n      <td>17:16:30</td>\n      <td>17:16:00</td>\n      <td>17:16:00</td>\n      <td>...</td>\n      <td>3</td>\n      <td>NaN</td>\n      <td>None</td>\n      <td>None</td>\n      <td>None</td>\n      <td>None</td>\n      <td>False</td>\n      <td>False</td>\n      <td>None</td>\n      <td>None</td>\n    </tr>\n  </tbody>\n</table>\n<p>30036 rows × 22 columns</p>\n</div>"
     },
     "execution_count": 171,
     "metadata": {},
     "output_type": "execute_result"
    }
   ],
   "source": [
    "##########################################################################################\n",
    "#  If reading from parquet get the datatframe kikle this\n",
    "# df = read_parquet()\n",
    "\n",
    "##########################################################################################\n",
    "#  If reading from the the database do this...\n",
    "df = read_PGSQL()\n",
    "\n",
    "##########################################################################################\n",
    "#  Show the result\n",
    "df"
   ],
   "metadata": {
    "collapsed": false,
    "ExecuteTime": {
     "end_time": "2023-08-22T01:41:42.527082Z",
     "start_time": "2023-08-22T01:41:38.130555Z"
    }
   },
   "id": "ed157f1daed8a283"
  },
  {
   "cell_type": "code",
   "execution_count": 177,
   "outputs": [],
   "source": [
    "import pandas as pd\n",
    "import numpy as np\n",
    "import seaborn as sns\n",
    "import matplotlib.pyplot as plt\n",
    "import datetime"
   ],
   "metadata": {
    "collapsed": false,
    "ExecuteTime": {
     "end_time": "2023-08-22T01:49:54.302605Z",
     "start_time": "2023-08-22T01:49:54.299660Z"
    }
   },
   "id": "953efbb1b033579d"
  },
  {
   "cell_type": "code",
   "execution_count": 178,
   "outputs": [
    {
     "ename": "TypeError",
     "evalue": "object of type 'datetime.time' has no len()",
     "output_type": "error",
     "traceback": [
      "\u001B[0;31m---------------------------------------------------------------------------\u001B[0m",
      "\u001B[0;31mTypeError\u001B[0m                                 Traceback (most recent call last)",
      "\u001B[0;32m/var/folders/8g/j0ppbyx94nq_5x025zh9vz9r0000gn/T/ipykernel_31393/2307994908.py\u001B[0m in \u001B[0;36m<module>\u001B[0;34m\u001B[0m\n\u001B[1;32m      1\u001B[0m \u001B[0;31m# Convert the time-related columns to datetime format\u001B[0m\u001B[0;34m\u001B[0m\u001B[0;34m\u001B[0m\u001B[0m\n\u001B[0;32m----> 2\u001B[0;31m \u001B[0mdf\u001B[0m\u001B[0;34m[\u001B[0m\u001B[0;34m'working_time_arrival'\u001B[0m\u001B[0;34m]\u001B[0m \u001B[0;34m=\u001B[0m \u001B[0mdf\u001B[0m\u001B[0;34m[\u001B[0m\u001B[0;34m'working_time_arrival'\u001B[0m\u001B[0;34m]\u001B[0m\u001B[0;34m.\u001B[0m\u001B[0mapply\u001B[0m\u001B[0;34m(\u001B[0m\u001B[0;32mlambda\u001B[0m \u001B[0mx\u001B[0m\u001B[0;34m:\u001B[0m \u001B[0mpd\u001B[0m\u001B[0;34m.\u001B[0m\u001B[0mto_datetime\u001B[0m\u001B[0;34m(\u001B[0m\u001B[0mx\u001B[0m\u001B[0;34m)\u001B[0m \u001B[0;32mif\u001B[0m \u001B[0mlen\u001B[0m\u001B[0;34m(\u001B[0m\u001B[0mx\u001B[0m\u001B[0;34m)\u001B[0m \u001B[0;34m>\u001B[0m \u001B[0;36m8\u001B[0m \u001B[0;32melse\u001B[0m \u001B[0mpd\u001B[0m\u001B[0;34m.\u001B[0m\u001B[0mTimestamp\u001B[0m\u001B[0;34m.\u001B[0m\u001B[0mcombine\u001B[0m\u001B[0;34m(\u001B[0m\u001B[0mpd\u001B[0m\u001B[0;34m.\u001B[0m\u001B[0mTimestamp\u001B[0m\u001B[0;34m.\u001B[0m\u001B[0mmin\u001B[0m\u001B[0;34m,\u001B[0m \u001B[0mx\u001B[0m\u001B[0;34m)\u001B[0m\u001B[0;34m)\u001B[0m\u001B[0;34m\u001B[0m\u001B[0;34m\u001B[0m\u001B[0m\n\u001B[0m",
      "\u001B[0;32m~/opt/anaconda3/lib/python3.9/site-packages/pandas/core/series.py\u001B[0m in \u001B[0;36mapply\u001B[0;34m(self, func, convert_dtype, args, **kwargs)\u001B[0m\n\u001B[1;32m   4431\u001B[0m         \u001B[0mdtype\u001B[0m\u001B[0;34m:\u001B[0m \u001B[0mfloat64\u001B[0m\u001B[0;34m\u001B[0m\u001B[0;34m\u001B[0m\u001B[0m\n\u001B[1;32m   4432\u001B[0m         \"\"\"\n\u001B[0;32m-> 4433\u001B[0;31m         \u001B[0;32mreturn\u001B[0m \u001B[0mSeriesApply\u001B[0m\u001B[0;34m(\u001B[0m\u001B[0mself\u001B[0m\u001B[0;34m,\u001B[0m \u001B[0mfunc\u001B[0m\u001B[0;34m,\u001B[0m \u001B[0mconvert_dtype\u001B[0m\u001B[0;34m,\u001B[0m \u001B[0margs\u001B[0m\u001B[0;34m,\u001B[0m \u001B[0mkwargs\u001B[0m\u001B[0;34m)\u001B[0m\u001B[0;34m.\u001B[0m\u001B[0mapply\u001B[0m\u001B[0;34m(\u001B[0m\u001B[0;34m)\u001B[0m\u001B[0;34m\u001B[0m\u001B[0;34m\u001B[0m\u001B[0m\n\u001B[0m\u001B[1;32m   4434\u001B[0m \u001B[0;34m\u001B[0m\u001B[0m\n\u001B[1;32m   4435\u001B[0m     def _reduce(\n",
      "\u001B[0;32m~/opt/anaconda3/lib/python3.9/site-packages/pandas/core/apply.py\u001B[0m in \u001B[0;36mapply\u001B[0;34m(self)\u001B[0m\n\u001B[1;32m   1080\u001B[0m             \u001B[0;32mreturn\u001B[0m \u001B[0mself\u001B[0m\u001B[0;34m.\u001B[0m\u001B[0mapply_str\u001B[0m\u001B[0;34m(\u001B[0m\u001B[0;34m)\u001B[0m\u001B[0;34m\u001B[0m\u001B[0;34m\u001B[0m\u001B[0m\n\u001B[1;32m   1081\u001B[0m \u001B[0;34m\u001B[0m\u001B[0m\n\u001B[0;32m-> 1082\u001B[0;31m         \u001B[0;32mreturn\u001B[0m \u001B[0mself\u001B[0m\u001B[0;34m.\u001B[0m\u001B[0mapply_standard\u001B[0m\u001B[0;34m(\u001B[0m\u001B[0;34m)\u001B[0m\u001B[0;34m\u001B[0m\u001B[0;34m\u001B[0m\u001B[0m\n\u001B[0m\u001B[1;32m   1083\u001B[0m \u001B[0;34m\u001B[0m\u001B[0m\n\u001B[1;32m   1084\u001B[0m     \u001B[0;32mdef\u001B[0m \u001B[0magg\u001B[0m\u001B[0;34m(\u001B[0m\u001B[0mself\u001B[0m\u001B[0;34m)\u001B[0m\u001B[0;34m:\u001B[0m\u001B[0;34m\u001B[0m\u001B[0;34m\u001B[0m\u001B[0m\n",
      "\u001B[0;32m~/opt/anaconda3/lib/python3.9/site-packages/pandas/core/apply.py\u001B[0m in \u001B[0;36mapply_standard\u001B[0;34m(self)\u001B[0m\n\u001B[1;32m   1135\u001B[0m                 \u001B[0;31m# List[Union[Callable[..., Any], str]]]]]\"; expected\u001B[0m\u001B[0;34m\u001B[0m\u001B[0;34m\u001B[0m\u001B[0m\n\u001B[1;32m   1136\u001B[0m                 \u001B[0;31m# \"Callable[[Any], Any]\"\u001B[0m\u001B[0;34m\u001B[0m\u001B[0;34m\u001B[0m\u001B[0m\n\u001B[0;32m-> 1137\u001B[0;31m                 mapped = lib.map_infer(\n\u001B[0m\u001B[1;32m   1138\u001B[0m                     \u001B[0mvalues\u001B[0m\u001B[0;34m,\u001B[0m\u001B[0;34m\u001B[0m\u001B[0;34m\u001B[0m\u001B[0m\n\u001B[1;32m   1139\u001B[0m                     \u001B[0mf\u001B[0m\u001B[0;34m,\u001B[0m  \u001B[0;31m# type: ignore[arg-type]\u001B[0m\u001B[0;34m\u001B[0m\u001B[0;34m\u001B[0m\u001B[0m\n",
      "\u001B[0;32m~/opt/anaconda3/lib/python3.9/site-packages/pandas/_libs/lib.pyx\u001B[0m in \u001B[0;36mpandas._libs.lib.map_infer\u001B[0;34m()\u001B[0m\n",
      "\u001B[0;32m/var/folders/8g/j0ppbyx94nq_5x025zh9vz9r0000gn/T/ipykernel_31393/2307994908.py\u001B[0m in \u001B[0;36m<lambda>\u001B[0;34m(x)\u001B[0m\n\u001B[1;32m      1\u001B[0m \u001B[0;31m# Convert the time-related columns to datetime format\u001B[0m\u001B[0;34m\u001B[0m\u001B[0;34m\u001B[0m\u001B[0m\n\u001B[0;32m----> 2\u001B[0;31m \u001B[0mdf\u001B[0m\u001B[0;34m[\u001B[0m\u001B[0;34m'working_time_arrival'\u001B[0m\u001B[0;34m]\u001B[0m \u001B[0;34m=\u001B[0m \u001B[0mdf\u001B[0m\u001B[0;34m[\u001B[0m\u001B[0;34m'working_time_arrival'\u001B[0m\u001B[0;34m]\u001B[0m\u001B[0;34m.\u001B[0m\u001B[0mapply\u001B[0m\u001B[0;34m(\u001B[0m\u001B[0;32mlambda\u001B[0m \u001B[0mx\u001B[0m\u001B[0;34m:\u001B[0m \u001B[0mpd\u001B[0m\u001B[0;34m.\u001B[0m\u001B[0mto_datetime\u001B[0m\u001B[0;34m(\u001B[0m\u001B[0mx\u001B[0m\u001B[0;34m)\u001B[0m \u001B[0;32mif\u001B[0m \u001B[0mlen\u001B[0m\u001B[0;34m(\u001B[0m\u001B[0mx\u001B[0m\u001B[0;34m)\u001B[0m \u001B[0;34m>\u001B[0m \u001B[0;36m8\u001B[0m \u001B[0;32melse\u001B[0m \u001B[0mpd\u001B[0m\u001B[0;34m.\u001B[0m\u001B[0mTimestamp\u001B[0m\u001B[0;34m.\u001B[0m\u001B[0mcombine\u001B[0m\u001B[0;34m(\u001B[0m\u001B[0mpd\u001B[0m\u001B[0;34m.\u001B[0m\u001B[0mTimestamp\u001B[0m\u001B[0;34m.\u001B[0m\u001B[0mmin\u001B[0m\u001B[0;34m,\u001B[0m \u001B[0mx\u001B[0m\u001B[0;34m)\u001B[0m\u001B[0;34m)\u001B[0m\u001B[0;34m\u001B[0m\u001B[0;34m\u001B[0m\u001B[0m\n\u001B[0m",
      "\u001B[0;31mTypeError\u001B[0m: object of type 'datetime.time' has no len()"
     ]
    }
   ],
   "source": [
    "# Convert the time-related columns to datetime format\n",
    "df['working_time_arrival'] = df['working_time_arrival'].apply(lambda x: pd.to_datetime(x) if len(x) > 8 else pd.Timestamp.combine(pd.Timestamp.min, x))"
   ],
   "metadata": {
    "collapsed": false,
    "ExecuteTime": {
     "end_time": "2023-08-22T01:49:57.173211Z",
     "start_time": "2023-08-22T01:49:57.124806Z"
    }
   },
   "id": "f38ec3e3b0843c44"
  },
  {
   "cell_type": "code",
   "execution_count": 173,
   "outputs": [
    {
     "name": "stdout",
     "output_type": "stream",
     "text": [
      "<class 'pandas.core.frame.DataFrame'>\n",
      "RangeIndex: 30036 entries, 0 to 30035\n",
      "Data columns (total 22 columns):\n",
      " #   Column                  Non-Null Count  Dtype  \n",
      "---  ------                  --------------  -----  \n",
      " 0   route_id                30036 non-null  object \n",
      " 1   unique_id               30036 non-null  object \n",
      " 2   service_start_date      30036 non-null  object \n",
      " 3   update_origin           29547 non-null  object \n",
      " 4   train_platform          30036 non-null  object \n",
      " 5   working_time_pass       0 non-null      object \n",
      " 6   working_time_arrival    30036 non-null  object \n",
      " 7   working_time_departure  30036 non-null  object \n",
      " 8   planned_time_arrival    26668 non-null  object \n",
      " 9   planned_time_departure  26401 non-null  object \n",
      " 10  actual_arrival_time     24209 non-null  object \n",
      " 11  actual_departure_time   27176 non-null  object \n",
      " 12  platform                28080 non-null  object \n",
      " 13  train_length            10599 non-null  float64\n",
      " 14  estimated_time          0 non-null      object \n",
      " 15  source                  0 non-null      object \n",
      " 16  actual_time             0 non-null      object \n",
      " 17  actual_time_class       0 non-null      object \n",
      " 18  is_delayed_arrival      30036 non-null  bool   \n",
      " 19  is_delayed_departure    30036 non-null  bool   \n",
      " 20  source_instance         0 non-null      object \n",
      " 21  estimated_time_minutes  0 non-null      object \n",
      "dtypes: bool(2), float64(1), object(19)\n",
      "memory usage: 4.6+ MB\n"
     ]
    }
   ],
   "source": [
    "df.info()"
   ],
   "metadata": {
    "collapsed": false,
    "ExecuteTime": {
     "start_time": "2023-08-22T01:41:46.789558Z"
    }
   },
   "id": "18a3c23e6c9175"
  },
  {
   "cell_type": "markdown",
   "source": [
    "## Dropping null columns"
   ],
   "metadata": {
    "collapsed": false
   },
   "id": "53024fdce83e1afa"
  },
  {
   "cell_type": "code",
   "execution_count": 159,
   "outputs": [],
   "source": [
    "dropped = ['working_time_pass', 'estimated_time', 'source', 'actual_time', \n",
    "           'actual_time_class', 'source_instance', 'estimated_time_minutes']\n",
    "df = df.drop(columns=dropped)"
   ],
   "metadata": {
    "collapsed": false,
    "ExecuteTime": {
     "end_time": "2023-08-22T01:36:36.951240Z",
     "start_time": "2023-08-22T01:36:36.928740Z"
    }
   },
   "id": "ea059ba73a04fc6c"
  },
  {
   "cell_type": "markdown",
   "source": [
    "### Merging train station data"
   ],
   "metadata": {
    "collapsed": false
   },
   "id": "88e7a653e2d7f701"
  },
  {
   "cell_type": "code",
   "execution_count": 160,
   "outputs": [
    {
     "data": {
      "text/plain": "          route_id unique_id service_start_date update_origin train_platform  \\\n0  202308167142004    G42004         2023-08-16            TD        WELLING   \n1  202308167442616    J42616         2023-08-16           CIS        WELLING   \n2  202308167442616    J42616         2023-08-16            TD        WELLING   \n3  202308177442621    J42621         2023-08-17           CIS        WELLING   \n4  202308177196414    G96414         2023-08-17            TD        WELLING   \n\n  working_time_arrival working_time_departure planned_time_arrival  \\\n0             21:20:30               21:21:00             21:21:00   \n1             00:29:30               00:30:00             00:30:00   \n2             00:29:30               00:30:00             00:30:00   \n3             01:05:00               01:05:30             01:05:00   \n4             00:40:30               00:41:00             00:41:00   \n\n  planned_time_departure actual_arrival_time actual_departure_time platform  \\\n0               21:21:00                None              21:21:00        1   \n1               00:30:00            00:31:00              00:31:00        2   \n2               00:30:00            00:30:00              00:31:00        2   \n3               01:05:00            01:05:00              01:05:00        2   \n4               00:41:00            00:41:00              00:43:00        2   \n\n   train_length is_delayed_arrival is_delayed_departure TiplocCode CrsCode  \\\n0           NaN              False                False    WELLING     WLI   \n1          10.0              False                False    WELLING     WLI   \n2          10.0              False                False    WELLING     WLI   \n3          10.0              False                False    WELLING     WLI   \n4           8.0              False                False    WELLING     WLI   \n\n            StationName  \n0  Welling Rail Station  \n1  Welling Rail Station  \n2  Welling Rail Station  \n3  Welling Rail Station  \n4  Welling Rail Station  ",
      "text/html": "<div>\n<style scoped>\n    .dataframe tbody tr th:only-of-type {\n        vertical-align: middle;\n    }\n\n    .dataframe tbody tr th {\n        vertical-align: top;\n    }\n\n    .dataframe thead th {\n        text-align: right;\n    }\n</style>\n<table border=\"1\" class=\"dataframe\">\n  <thead>\n    <tr style=\"text-align: right;\">\n      <th></th>\n      <th>route_id</th>\n      <th>unique_id</th>\n      <th>service_start_date</th>\n      <th>update_origin</th>\n      <th>train_platform</th>\n      <th>working_time_arrival</th>\n      <th>working_time_departure</th>\n      <th>planned_time_arrival</th>\n      <th>planned_time_departure</th>\n      <th>actual_arrival_time</th>\n      <th>actual_departure_time</th>\n      <th>platform</th>\n      <th>train_length</th>\n      <th>is_delayed_arrival</th>\n      <th>is_delayed_departure</th>\n      <th>TiplocCode</th>\n      <th>CrsCode</th>\n      <th>StationName</th>\n    </tr>\n  </thead>\n  <tbody>\n    <tr>\n      <th>0</th>\n      <td>202308167142004</td>\n      <td>G42004</td>\n      <td>2023-08-16</td>\n      <td>TD</td>\n      <td>WELLING</td>\n      <td>21:20:30</td>\n      <td>21:21:00</td>\n      <td>21:21:00</td>\n      <td>21:21:00</td>\n      <td>None</td>\n      <td>21:21:00</td>\n      <td>1</td>\n      <td>NaN</td>\n      <td>False</td>\n      <td>False</td>\n      <td>WELLING</td>\n      <td>WLI</td>\n      <td>Welling Rail Station</td>\n    </tr>\n    <tr>\n      <th>1</th>\n      <td>202308167442616</td>\n      <td>J42616</td>\n      <td>2023-08-16</td>\n      <td>CIS</td>\n      <td>WELLING</td>\n      <td>00:29:30</td>\n      <td>00:30:00</td>\n      <td>00:30:00</td>\n      <td>00:30:00</td>\n      <td>00:31:00</td>\n      <td>00:31:00</td>\n      <td>2</td>\n      <td>10.0</td>\n      <td>False</td>\n      <td>False</td>\n      <td>WELLING</td>\n      <td>WLI</td>\n      <td>Welling Rail Station</td>\n    </tr>\n    <tr>\n      <th>2</th>\n      <td>202308167442616</td>\n      <td>J42616</td>\n      <td>2023-08-16</td>\n      <td>TD</td>\n      <td>WELLING</td>\n      <td>00:29:30</td>\n      <td>00:30:00</td>\n      <td>00:30:00</td>\n      <td>00:30:00</td>\n      <td>00:30:00</td>\n      <td>00:31:00</td>\n      <td>2</td>\n      <td>10.0</td>\n      <td>False</td>\n      <td>False</td>\n      <td>WELLING</td>\n      <td>WLI</td>\n      <td>Welling Rail Station</td>\n    </tr>\n    <tr>\n      <th>3</th>\n      <td>202308177442621</td>\n      <td>J42621</td>\n      <td>2023-08-17</td>\n      <td>CIS</td>\n      <td>WELLING</td>\n      <td>01:05:00</td>\n      <td>01:05:30</td>\n      <td>01:05:00</td>\n      <td>01:05:00</td>\n      <td>01:05:00</td>\n      <td>01:05:00</td>\n      <td>2</td>\n      <td>10.0</td>\n      <td>False</td>\n      <td>False</td>\n      <td>WELLING</td>\n      <td>WLI</td>\n      <td>Welling Rail Station</td>\n    </tr>\n    <tr>\n      <th>4</th>\n      <td>202308177196414</td>\n      <td>G96414</td>\n      <td>2023-08-17</td>\n      <td>TD</td>\n      <td>WELLING</td>\n      <td>00:40:30</td>\n      <td>00:41:00</td>\n      <td>00:41:00</td>\n      <td>00:41:00</td>\n      <td>00:41:00</td>\n      <td>00:43:00</td>\n      <td>2</td>\n      <td>8.0</td>\n      <td>False</td>\n      <td>False</td>\n      <td>WELLING</td>\n      <td>WLI</td>\n      <td>Welling Rail Station</td>\n    </tr>\n  </tbody>\n</table>\n</div>"
     },
     "execution_count": 160,
     "metadata": {},
     "output_type": "execute_result"
    }
   ],
   "source": [
    "df2 = pd.read_csv('RailReferences.csv')\n",
    "dropped = ['AtcoCode', 'StationNameLang',\n",
    "           'GridType', 'Easting', 'Northing', 'CreationDateTime',\n",
    "           'ModificationDateTime', 'RevisionNumber', 'Modification']\n",
    "df2 = df2.drop(columns=dropped)\n",
    "merged_df = pd.merge(df, df2, left_on='train_platform', right_on='TiplocCode', how='outer')\n",
    "merged_df.head()"
   ],
   "metadata": {
    "collapsed": false,
    "ExecuteTime": {
     "end_time": "2023-08-22T01:36:37.022139Z",
     "start_time": "2023-08-22T01:36:36.938174Z"
    }
   },
   "id": "a39cd79a288a251a"
  },
  {
   "cell_type": "code",
   "execution_count": 161,
   "outputs": [
    {
     "name": "stdout",
     "output_type": "stream",
     "text": [
      "<class 'pandas.core.frame.DataFrame'>\n",
      "Int64Index: 30492 entries, 0 to 30491\n",
      "Data columns (total 18 columns):\n",
      " #   Column                  Non-Null Count  Dtype  \n",
      "---  ------                  --------------  -----  \n",
      " 0   route_id                30036 non-null  object \n",
      " 1   unique_id               30036 non-null  object \n",
      " 2   service_start_date      30036 non-null  object \n",
      " 3   update_origin           29547 non-null  object \n",
      " 4   train_platform          30036 non-null  object \n",
      " 5   working_time_arrival    30036 non-null  object \n",
      " 6   working_time_departure  30036 non-null  object \n",
      " 7   planned_time_arrival    26668 non-null  object \n",
      " 8   planned_time_departure  26401 non-null  object \n",
      " 9   actual_arrival_time     24209 non-null  object \n",
      " 10  actual_departure_time   27176 non-null  object \n",
      " 11  platform                28080 non-null  object \n",
      " 12  train_length            10599 non-null  float64\n",
      " 13  is_delayed_arrival      30036 non-null  object \n",
      " 14  is_delayed_departure    30036 non-null  object \n",
      " 15  TiplocCode              28270 non-null  object \n",
      " 16  CrsCode                 28270 non-null  object \n",
      " 17  StationName             28270 non-null  object \n",
      "dtypes: float64(1), object(17)\n",
      "memory usage: 4.4+ MB\n"
     ]
    }
   ],
   "source": [
    "merged_df.info()"
   ],
   "metadata": {
    "collapsed": false,
    "ExecuteTime": {
     "end_time": "2023-08-22T01:36:37.088024Z",
     "start_time": "2023-08-22T01:36:37.042181Z"
    }
   },
   "id": "a701e10da77202a0"
  },
  {
   "cell_type": "markdown",
   "source": [
    "#### Re-arrange columns in new database called Rail"
   ],
   "metadata": {
    "collapsed": false
   },
   "id": "e703d0e37c61fd26"
  },
  {
   "cell_type": "code",
   "execution_count": 162,
   "outputs": [],
   "source": [
    "rail = merged_df[['route_id', 'unique_id', 'service_start_date', 'update_origin',\n",
    "                  'train_platform', 'TiplocCode', 'CrsCode',\n",
    "                  'StationName', 'working_time_arrival', 'working_time_departure',\n",
    "                  'planned_time_arrival', 'planned_time_departure', 'platform',\n",
    "                  'train_length', 'actual_arrival_time', 'actual_departure_time',\n",
    "                  'is_delayed_arrival', 'is_delayed_departure',]]"
   ],
   "metadata": {
    "collapsed": false,
    "ExecuteTime": {
     "end_time": "2023-08-22T01:36:37.088770Z",
     "start_time": "2023-08-22T01:36:37.061348Z"
    }
   },
   "id": "184d802feb4154fb"
  },
  {
   "cell_type": "code",
   "execution_count": 163,
   "outputs": [
    {
     "data": {
      "text/plain": "              route_id unique_id service_start_date update_origin  \\\n0      202308167142004    G42004         2023-08-16            TD   \n1      202308167442616    J42616         2023-08-16           CIS   \n2      202308167442616    J42616         2023-08-16            TD   \n3      202308177442621    J42621         2023-08-17           CIS   \n4      202308177196414    G96414         2023-08-17            TD   \n...                ...       ...                ...           ...   \n30487              NaN       NaN                NaN           NaN   \n30488              NaN       NaN                NaN           NaN   \n30489              NaN       NaN                NaN           NaN   \n30490              NaN       NaN                NaN           NaN   \n30491              NaN       NaN                NaN           NaN   \n\n      train_platform TiplocCode CrsCode                  StationName  \\\n0            WELLING    WELLING     WLI         Welling Rail Station   \n1            WELLING    WELLING     WLI         Welling Rail Station   \n2            WELLING    WELLING     WLI         Welling Rail Station   \n3            WELLING    WELLING     WLI         Welling Rail Station   \n4            WELLING    WELLING     WLI         Welling Rail Station   \n...              ...        ...     ...                          ...   \n30487            NaN    BECCLES     BCC         Beccles Rail Station   \n30488            NaN    HADISCO     HAD       Haddiscoe Rail Station   \n30489            NaN    SMRLYTN     SYT     Somerleyton Rail Station   \n30490            NaN     YARMTH     GYM  Great Yarmouth Rail Station   \n30491            NaN    LOWSTFT     LWT       Lowestoft Rail Station   \n\n      working_time_arrival working_time_departure planned_time_arrival  \\\n0                 21:20:30               21:21:00             21:21:00   \n1                 00:29:30               00:30:00             00:30:00   \n2                 00:29:30               00:30:00             00:30:00   \n3                 01:05:00               01:05:30             01:05:00   \n4                 00:40:30               00:41:00             00:41:00   \n...                    ...                    ...                  ...   \n30487                  NaN                    NaN                  NaN   \n30488                  NaN                    NaN                  NaN   \n30489                  NaN                    NaN                  NaN   \n30490                  NaN                    NaN                  NaN   \n30491                  NaN                    NaN                  NaN   \n\n      planned_time_departure platform  train_length actual_arrival_time  \\\n0                   21:21:00        1           NaN                None   \n1                   00:30:00        2          10.0            00:31:00   \n2                   00:30:00        2          10.0            00:30:00   \n3                   01:05:00        2          10.0            01:05:00   \n4                   00:41:00        2           8.0            00:41:00   \n...                      ...      ...           ...                 ...   \n30487                    NaN      NaN           NaN                 NaN   \n30488                    NaN      NaN           NaN                 NaN   \n30489                    NaN      NaN           NaN                 NaN   \n30490                    NaN      NaN           NaN                 NaN   \n30491                    NaN      NaN           NaN                 NaN   \n\n      actual_departure_time is_delayed_arrival is_delayed_departure  \n0                  21:21:00              False                False  \n1                  00:31:00              False                False  \n2                  00:31:00              False                False  \n3                  01:05:00              False                False  \n4                  00:43:00              False                False  \n...                     ...                ...                  ...  \n30487                   NaN                NaN                  NaN  \n30488                   NaN                NaN                  NaN  \n30489                   NaN                NaN                  NaN  \n30490                   NaN                NaN                  NaN  \n30491                   NaN                NaN                  NaN  \n\n[30492 rows x 18 columns]",
      "text/html": "<div>\n<style scoped>\n    .dataframe tbody tr th:only-of-type {\n        vertical-align: middle;\n    }\n\n    .dataframe tbody tr th {\n        vertical-align: top;\n    }\n\n    .dataframe thead th {\n        text-align: right;\n    }\n</style>\n<table border=\"1\" class=\"dataframe\">\n  <thead>\n    <tr style=\"text-align: right;\">\n      <th></th>\n      <th>route_id</th>\n      <th>unique_id</th>\n      <th>service_start_date</th>\n      <th>update_origin</th>\n      <th>train_platform</th>\n      <th>TiplocCode</th>\n      <th>CrsCode</th>\n      <th>StationName</th>\n      <th>working_time_arrival</th>\n      <th>working_time_departure</th>\n      <th>planned_time_arrival</th>\n      <th>planned_time_departure</th>\n      <th>platform</th>\n      <th>train_length</th>\n      <th>actual_arrival_time</th>\n      <th>actual_departure_time</th>\n      <th>is_delayed_arrival</th>\n      <th>is_delayed_departure</th>\n    </tr>\n  </thead>\n  <tbody>\n    <tr>\n      <th>0</th>\n      <td>202308167142004</td>\n      <td>G42004</td>\n      <td>2023-08-16</td>\n      <td>TD</td>\n      <td>WELLING</td>\n      <td>WELLING</td>\n      <td>WLI</td>\n      <td>Welling Rail Station</td>\n      <td>21:20:30</td>\n      <td>21:21:00</td>\n      <td>21:21:00</td>\n      <td>21:21:00</td>\n      <td>1</td>\n      <td>NaN</td>\n      <td>None</td>\n      <td>21:21:00</td>\n      <td>False</td>\n      <td>False</td>\n    </tr>\n    <tr>\n      <th>1</th>\n      <td>202308167442616</td>\n      <td>J42616</td>\n      <td>2023-08-16</td>\n      <td>CIS</td>\n      <td>WELLING</td>\n      <td>WELLING</td>\n      <td>WLI</td>\n      <td>Welling Rail Station</td>\n      <td>00:29:30</td>\n      <td>00:30:00</td>\n      <td>00:30:00</td>\n      <td>00:30:00</td>\n      <td>2</td>\n      <td>10.0</td>\n      <td>00:31:00</td>\n      <td>00:31:00</td>\n      <td>False</td>\n      <td>False</td>\n    </tr>\n    <tr>\n      <th>2</th>\n      <td>202308167442616</td>\n      <td>J42616</td>\n      <td>2023-08-16</td>\n      <td>TD</td>\n      <td>WELLING</td>\n      <td>WELLING</td>\n      <td>WLI</td>\n      <td>Welling Rail Station</td>\n      <td>00:29:30</td>\n      <td>00:30:00</td>\n      <td>00:30:00</td>\n      <td>00:30:00</td>\n      <td>2</td>\n      <td>10.0</td>\n      <td>00:30:00</td>\n      <td>00:31:00</td>\n      <td>False</td>\n      <td>False</td>\n    </tr>\n    <tr>\n      <th>3</th>\n      <td>202308177442621</td>\n      <td>J42621</td>\n      <td>2023-08-17</td>\n      <td>CIS</td>\n      <td>WELLING</td>\n      <td>WELLING</td>\n      <td>WLI</td>\n      <td>Welling Rail Station</td>\n      <td>01:05:00</td>\n      <td>01:05:30</td>\n      <td>01:05:00</td>\n      <td>01:05:00</td>\n      <td>2</td>\n      <td>10.0</td>\n      <td>01:05:00</td>\n      <td>01:05:00</td>\n      <td>False</td>\n      <td>False</td>\n    </tr>\n    <tr>\n      <th>4</th>\n      <td>202308177196414</td>\n      <td>G96414</td>\n      <td>2023-08-17</td>\n      <td>TD</td>\n      <td>WELLING</td>\n      <td>WELLING</td>\n      <td>WLI</td>\n      <td>Welling Rail Station</td>\n      <td>00:40:30</td>\n      <td>00:41:00</td>\n      <td>00:41:00</td>\n      <td>00:41:00</td>\n      <td>2</td>\n      <td>8.0</td>\n      <td>00:41:00</td>\n      <td>00:43:00</td>\n      <td>False</td>\n      <td>False</td>\n    </tr>\n    <tr>\n      <th>...</th>\n      <td>...</td>\n      <td>...</td>\n      <td>...</td>\n      <td>...</td>\n      <td>...</td>\n      <td>...</td>\n      <td>...</td>\n      <td>...</td>\n      <td>...</td>\n      <td>...</td>\n      <td>...</td>\n      <td>...</td>\n      <td>...</td>\n      <td>...</td>\n      <td>...</td>\n      <td>...</td>\n      <td>...</td>\n      <td>...</td>\n    </tr>\n    <tr>\n      <th>30487</th>\n      <td>NaN</td>\n      <td>NaN</td>\n      <td>NaN</td>\n      <td>NaN</td>\n      <td>NaN</td>\n      <td>BECCLES</td>\n      <td>BCC</td>\n      <td>Beccles Rail Station</td>\n      <td>NaN</td>\n      <td>NaN</td>\n      <td>NaN</td>\n      <td>NaN</td>\n      <td>NaN</td>\n      <td>NaN</td>\n      <td>NaN</td>\n      <td>NaN</td>\n      <td>NaN</td>\n      <td>NaN</td>\n    </tr>\n    <tr>\n      <th>30488</th>\n      <td>NaN</td>\n      <td>NaN</td>\n      <td>NaN</td>\n      <td>NaN</td>\n      <td>NaN</td>\n      <td>HADISCO</td>\n      <td>HAD</td>\n      <td>Haddiscoe Rail Station</td>\n      <td>NaN</td>\n      <td>NaN</td>\n      <td>NaN</td>\n      <td>NaN</td>\n      <td>NaN</td>\n      <td>NaN</td>\n      <td>NaN</td>\n      <td>NaN</td>\n      <td>NaN</td>\n      <td>NaN</td>\n    </tr>\n    <tr>\n      <th>30489</th>\n      <td>NaN</td>\n      <td>NaN</td>\n      <td>NaN</td>\n      <td>NaN</td>\n      <td>NaN</td>\n      <td>SMRLYTN</td>\n      <td>SYT</td>\n      <td>Somerleyton Rail Station</td>\n      <td>NaN</td>\n      <td>NaN</td>\n      <td>NaN</td>\n      <td>NaN</td>\n      <td>NaN</td>\n      <td>NaN</td>\n      <td>NaN</td>\n      <td>NaN</td>\n      <td>NaN</td>\n      <td>NaN</td>\n    </tr>\n    <tr>\n      <th>30490</th>\n      <td>NaN</td>\n      <td>NaN</td>\n      <td>NaN</td>\n      <td>NaN</td>\n      <td>NaN</td>\n      <td>YARMTH</td>\n      <td>GYM</td>\n      <td>Great Yarmouth Rail Station</td>\n      <td>NaN</td>\n      <td>NaN</td>\n      <td>NaN</td>\n      <td>NaN</td>\n      <td>NaN</td>\n      <td>NaN</td>\n      <td>NaN</td>\n      <td>NaN</td>\n      <td>NaN</td>\n      <td>NaN</td>\n    </tr>\n    <tr>\n      <th>30491</th>\n      <td>NaN</td>\n      <td>NaN</td>\n      <td>NaN</td>\n      <td>NaN</td>\n      <td>NaN</td>\n      <td>LOWSTFT</td>\n      <td>LWT</td>\n      <td>Lowestoft Rail Station</td>\n      <td>NaN</td>\n      <td>NaN</td>\n      <td>NaN</td>\n      <td>NaN</td>\n      <td>NaN</td>\n      <td>NaN</td>\n      <td>NaN</td>\n      <td>NaN</td>\n      <td>NaN</td>\n      <td>NaN</td>\n    </tr>\n  </tbody>\n</table>\n<p>30492 rows × 18 columns</p>\n</div>"
     },
     "execution_count": 163,
     "metadata": {},
     "output_type": "execute_result"
    }
   ],
   "source": [
    "rail"
   ],
   "metadata": {
    "collapsed": false,
    "ExecuteTime": {
     "end_time": "2023-08-22T01:36:37.110093Z",
     "start_time": "2023-08-22T01:36:37.093465Z"
    }
   },
   "id": "2eb5983d2e65c397"
  },
  {
   "cell_type": "code",
   "execution_count": 164,
   "outputs": [],
   "source": [
    "# Delete extra null rows based on route_id\n",
    "rail = rail.dropna(subset=['route_id'])"
   ],
   "metadata": {
    "collapsed": false,
    "ExecuteTime": {
     "end_time": "2023-08-22T01:36:37.160608Z",
     "start_time": "2023-08-22T01:36:37.107949Z"
    }
   },
   "id": "68d76038e2ae65f7"
  },
  {
   "cell_type": "code",
   "execution_count": 165,
   "outputs": [
    {
     "ename": "TypeError",
     "evalue": "<class 'datetime.time'> is not convertible to datetime",
     "output_type": "error",
     "traceback": [
      "\u001B[0;31m---------------------------------------------------------------------------\u001B[0m",
      "\u001B[0;31mTypeError\u001B[0m                                 Traceback (most recent call last)",
      "\u001B[0;32m/var/folders/8g/j0ppbyx94nq_5x025zh9vz9r0000gn/T/ipykernel_31393/3921467283.py\u001B[0m in \u001B[0;36m<module>\u001B[0;34m\u001B[0m\n\u001B[1;32m      1\u001B[0m \u001B[0;31m# Convert time columns to datetime objects\u001B[0m\u001B[0;34m\u001B[0m\u001B[0;34m\u001B[0m\u001B[0m\n\u001B[1;32m      2\u001B[0m \u001B[0mtime_columns\u001B[0m \u001B[0;34m=\u001B[0m \u001B[0;34m[\u001B[0m\u001B[0;34m'service_start_date'\u001B[0m\u001B[0;34m,\u001B[0m \u001B[0;34m'working_time_arrival'\u001B[0m\u001B[0;34m,\u001B[0m \u001B[0;34m'working_time_departure'\u001B[0m\u001B[0;34m,\u001B[0m \u001B[0;34m'actual_arrival_time'\u001B[0m\u001B[0;34m,\u001B[0m \u001B[0;34m'actual_departure_time'\u001B[0m\u001B[0;34m,\u001B[0m \u001B[0;34m'planned_time_departure'\u001B[0m\u001B[0;34m,\u001B[0m \u001B[0;34m'planned_time_arrival'\u001B[0m\u001B[0;34m]\u001B[0m\u001B[0;34m\u001B[0m\u001B[0;34m\u001B[0m\u001B[0m\n\u001B[0;32m----> 3\u001B[0;31m \u001B[0mrail\u001B[0m\u001B[0;34m[\u001B[0m\u001B[0mtime_columns\u001B[0m\u001B[0;34m]\u001B[0m \u001B[0;34m=\u001B[0m \u001B[0mrail\u001B[0m\u001B[0;34m[\u001B[0m\u001B[0mtime_columns\u001B[0m\u001B[0;34m]\u001B[0m\u001B[0;34m.\u001B[0m\u001B[0mapply\u001B[0m\u001B[0;34m(\u001B[0m\u001B[0mpd\u001B[0m\u001B[0;34m.\u001B[0m\u001B[0mto_datetime\u001B[0m\u001B[0;34m)\u001B[0m\u001B[0;34m\u001B[0m\u001B[0;34m\u001B[0m\u001B[0m\n\u001B[0m",
      "\u001B[0;32m~/opt/anaconda3/lib/python3.9/site-packages/pandas/core/frame.py\u001B[0m in \u001B[0;36mapply\u001B[0;34m(self, func, axis, raw, result_type, args, **kwargs)\u001B[0m\n\u001B[1;32m   8837\u001B[0m             \u001B[0mkwargs\u001B[0m\u001B[0;34m=\u001B[0m\u001B[0mkwargs\u001B[0m\u001B[0;34m,\u001B[0m\u001B[0;34m\u001B[0m\u001B[0;34m\u001B[0m\u001B[0m\n\u001B[1;32m   8838\u001B[0m         )\n\u001B[0;32m-> 8839\u001B[0;31m         \u001B[0;32mreturn\u001B[0m \u001B[0mop\u001B[0m\u001B[0;34m.\u001B[0m\u001B[0mapply\u001B[0m\u001B[0;34m(\u001B[0m\u001B[0;34m)\u001B[0m\u001B[0;34m.\u001B[0m\u001B[0m__finalize__\u001B[0m\u001B[0;34m(\u001B[0m\u001B[0mself\u001B[0m\u001B[0;34m,\u001B[0m \u001B[0mmethod\u001B[0m\u001B[0;34m=\u001B[0m\u001B[0;34m\"apply\"\u001B[0m\u001B[0;34m)\u001B[0m\u001B[0;34m\u001B[0m\u001B[0;34m\u001B[0m\u001B[0m\n\u001B[0m\u001B[1;32m   8840\u001B[0m \u001B[0;34m\u001B[0m\u001B[0m\n\u001B[1;32m   8841\u001B[0m     def applymap(\n",
      "\u001B[0;32m~/opt/anaconda3/lib/python3.9/site-packages/pandas/core/apply.py\u001B[0m in \u001B[0;36mapply\u001B[0;34m(self)\u001B[0m\n\u001B[1;32m    725\u001B[0m             \u001B[0;32mreturn\u001B[0m \u001B[0mself\u001B[0m\u001B[0;34m.\u001B[0m\u001B[0mapply_raw\u001B[0m\u001B[0;34m(\u001B[0m\u001B[0;34m)\u001B[0m\u001B[0;34m\u001B[0m\u001B[0;34m\u001B[0m\u001B[0m\n\u001B[1;32m    726\u001B[0m \u001B[0;34m\u001B[0m\u001B[0m\n\u001B[0;32m--> 727\u001B[0;31m         \u001B[0;32mreturn\u001B[0m \u001B[0mself\u001B[0m\u001B[0;34m.\u001B[0m\u001B[0mapply_standard\u001B[0m\u001B[0;34m(\u001B[0m\u001B[0;34m)\u001B[0m\u001B[0;34m\u001B[0m\u001B[0;34m\u001B[0m\u001B[0m\n\u001B[0m\u001B[1;32m    728\u001B[0m \u001B[0;34m\u001B[0m\u001B[0m\n\u001B[1;32m    729\u001B[0m     \u001B[0;32mdef\u001B[0m \u001B[0magg\u001B[0m\u001B[0;34m(\u001B[0m\u001B[0mself\u001B[0m\u001B[0;34m)\u001B[0m\u001B[0;34m:\u001B[0m\u001B[0;34m\u001B[0m\u001B[0;34m\u001B[0m\u001B[0m\n",
      "\u001B[0;32m~/opt/anaconda3/lib/python3.9/site-packages/pandas/core/apply.py\u001B[0m in \u001B[0;36mapply_standard\u001B[0;34m(self)\u001B[0m\n\u001B[1;32m    849\u001B[0m \u001B[0;34m\u001B[0m\u001B[0m\n\u001B[1;32m    850\u001B[0m     \u001B[0;32mdef\u001B[0m \u001B[0mapply_standard\u001B[0m\u001B[0;34m(\u001B[0m\u001B[0mself\u001B[0m\u001B[0;34m)\u001B[0m\u001B[0;34m:\u001B[0m\u001B[0;34m\u001B[0m\u001B[0;34m\u001B[0m\u001B[0m\n\u001B[0;32m--> 851\u001B[0;31m         \u001B[0mresults\u001B[0m\u001B[0;34m,\u001B[0m \u001B[0mres_index\u001B[0m \u001B[0;34m=\u001B[0m \u001B[0mself\u001B[0m\u001B[0;34m.\u001B[0m\u001B[0mapply_series_generator\u001B[0m\u001B[0;34m(\u001B[0m\u001B[0;34m)\u001B[0m\u001B[0;34m\u001B[0m\u001B[0;34m\u001B[0m\u001B[0m\n\u001B[0m\u001B[1;32m    852\u001B[0m \u001B[0;34m\u001B[0m\u001B[0m\n\u001B[1;32m    853\u001B[0m         \u001B[0;31m# wrap results\u001B[0m\u001B[0;34m\u001B[0m\u001B[0;34m\u001B[0m\u001B[0m\n",
      "\u001B[0;32m~/opt/anaconda3/lib/python3.9/site-packages/pandas/core/apply.py\u001B[0m in \u001B[0;36mapply_series_generator\u001B[0;34m(self)\u001B[0m\n\u001B[1;32m    865\u001B[0m             \u001B[0;32mfor\u001B[0m \u001B[0mi\u001B[0m\u001B[0;34m,\u001B[0m \u001B[0mv\u001B[0m \u001B[0;32min\u001B[0m \u001B[0menumerate\u001B[0m\u001B[0;34m(\u001B[0m\u001B[0mseries_gen\u001B[0m\u001B[0;34m)\u001B[0m\u001B[0;34m:\u001B[0m\u001B[0;34m\u001B[0m\u001B[0;34m\u001B[0m\u001B[0m\n\u001B[1;32m    866\u001B[0m                 \u001B[0;31m# ignore SettingWithCopy here in case the user mutates\u001B[0m\u001B[0;34m\u001B[0m\u001B[0;34m\u001B[0m\u001B[0m\n\u001B[0;32m--> 867\u001B[0;31m                 \u001B[0mresults\u001B[0m\u001B[0;34m[\u001B[0m\u001B[0mi\u001B[0m\u001B[0;34m]\u001B[0m \u001B[0;34m=\u001B[0m \u001B[0mself\u001B[0m\u001B[0;34m.\u001B[0m\u001B[0mf\u001B[0m\u001B[0;34m(\u001B[0m\u001B[0mv\u001B[0m\u001B[0;34m)\u001B[0m\u001B[0;34m\u001B[0m\u001B[0;34m\u001B[0m\u001B[0m\n\u001B[0m\u001B[1;32m    868\u001B[0m                 \u001B[0;32mif\u001B[0m \u001B[0misinstance\u001B[0m\u001B[0;34m(\u001B[0m\u001B[0mresults\u001B[0m\u001B[0;34m[\u001B[0m\u001B[0mi\u001B[0m\u001B[0;34m]\u001B[0m\u001B[0;34m,\u001B[0m \u001B[0mABCSeries\u001B[0m\u001B[0;34m)\u001B[0m\u001B[0;34m:\u001B[0m\u001B[0;34m\u001B[0m\u001B[0;34m\u001B[0m\u001B[0m\n\u001B[1;32m    869\u001B[0m                     \u001B[0;31m# If we have a view on v, we need to make a copy because\u001B[0m\u001B[0;34m\u001B[0m\u001B[0;34m\u001B[0m\u001B[0m\n",
      "\u001B[0;32m~/opt/anaconda3/lib/python3.9/site-packages/pandas/core/tools/datetimes.py\u001B[0m in \u001B[0;36mto_datetime\u001B[0;34m(arg, errors, dayfirst, yearfirst, utc, format, exact, unit, infer_datetime_format, origin, cache)\u001B[0m\n\u001B[1;32m   1045\u001B[0m                 \u001B[0mresult\u001B[0m \u001B[0;34m=\u001B[0m \u001B[0marg\u001B[0m\u001B[0;34m.\u001B[0m\u001B[0mtz_localize\u001B[0m\u001B[0;34m(\u001B[0m\u001B[0mtz\u001B[0m\u001B[0;34m)\u001B[0m\u001B[0;34m\u001B[0m\u001B[0;34m\u001B[0m\u001B[0m\n\u001B[1;32m   1046\u001B[0m     \u001B[0;32melif\u001B[0m \u001B[0misinstance\u001B[0m\u001B[0;34m(\u001B[0m\u001B[0marg\u001B[0m\u001B[0;34m,\u001B[0m \u001B[0mABCSeries\u001B[0m\u001B[0;34m)\u001B[0m\u001B[0;34m:\u001B[0m\u001B[0;34m\u001B[0m\u001B[0;34m\u001B[0m\u001B[0m\n\u001B[0;32m-> 1047\u001B[0;31m         \u001B[0mcache_array\u001B[0m \u001B[0;34m=\u001B[0m \u001B[0m_maybe_cache\u001B[0m\u001B[0;34m(\u001B[0m\u001B[0marg\u001B[0m\u001B[0;34m,\u001B[0m \u001B[0mformat\u001B[0m\u001B[0;34m,\u001B[0m \u001B[0mcache\u001B[0m\u001B[0;34m,\u001B[0m \u001B[0mconvert_listlike\u001B[0m\u001B[0;34m)\u001B[0m\u001B[0;34m\u001B[0m\u001B[0;34m\u001B[0m\u001B[0m\n\u001B[0m\u001B[1;32m   1048\u001B[0m         \u001B[0;32mif\u001B[0m \u001B[0;32mnot\u001B[0m \u001B[0mcache_array\u001B[0m\u001B[0;34m.\u001B[0m\u001B[0mempty\u001B[0m\u001B[0;34m:\u001B[0m\u001B[0;34m\u001B[0m\u001B[0;34m\u001B[0m\u001B[0m\n\u001B[1;32m   1049\u001B[0m             \u001B[0mresult\u001B[0m \u001B[0;34m=\u001B[0m \u001B[0marg\u001B[0m\u001B[0;34m.\u001B[0m\u001B[0mmap\u001B[0m\u001B[0;34m(\u001B[0m\u001B[0mcache_array\u001B[0m\u001B[0;34m)\u001B[0m\u001B[0;34m\u001B[0m\u001B[0;34m\u001B[0m\u001B[0m\n",
      "\u001B[0;32m~/opt/anaconda3/lib/python3.9/site-packages/pandas/core/tools/datetimes.py\u001B[0m in \u001B[0;36m_maybe_cache\u001B[0;34m(arg, format, cache, convert_listlike)\u001B[0m\n\u001B[1;32m    195\u001B[0m         \u001B[0munique_dates\u001B[0m \u001B[0;34m=\u001B[0m \u001B[0munique\u001B[0m\u001B[0;34m(\u001B[0m\u001B[0marg\u001B[0m\u001B[0;34m)\u001B[0m\u001B[0;34m\u001B[0m\u001B[0;34m\u001B[0m\u001B[0m\n\u001B[1;32m    196\u001B[0m         \u001B[0;32mif\u001B[0m \u001B[0mlen\u001B[0m\u001B[0;34m(\u001B[0m\u001B[0munique_dates\u001B[0m\u001B[0;34m)\u001B[0m \u001B[0;34m<\u001B[0m \u001B[0mlen\u001B[0m\u001B[0;34m(\u001B[0m\u001B[0marg\u001B[0m\u001B[0;34m)\u001B[0m\u001B[0;34m:\u001B[0m\u001B[0;34m\u001B[0m\u001B[0;34m\u001B[0m\u001B[0m\n\u001B[0;32m--> 197\u001B[0;31m             \u001B[0mcache_dates\u001B[0m \u001B[0;34m=\u001B[0m \u001B[0mconvert_listlike\u001B[0m\u001B[0;34m(\u001B[0m\u001B[0munique_dates\u001B[0m\u001B[0;34m,\u001B[0m \u001B[0mformat\u001B[0m\u001B[0;34m)\u001B[0m\u001B[0;34m\u001B[0m\u001B[0;34m\u001B[0m\u001B[0m\n\u001B[0m\u001B[1;32m    198\u001B[0m             \u001B[0mcache_array\u001B[0m \u001B[0;34m=\u001B[0m \u001B[0mSeries\u001B[0m\u001B[0;34m(\u001B[0m\u001B[0mcache_dates\u001B[0m\u001B[0;34m,\u001B[0m \u001B[0mindex\u001B[0m\u001B[0;34m=\u001B[0m\u001B[0munique_dates\u001B[0m\u001B[0;34m)\u001B[0m\u001B[0;34m\u001B[0m\u001B[0;34m\u001B[0m\u001B[0m\n\u001B[1;32m    199\u001B[0m             \u001B[0;31m# GH#39882 and GH#35888 in case of None and NaT we get duplicates\u001B[0m\u001B[0;34m\u001B[0m\u001B[0;34m\u001B[0m\u001B[0m\n",
      "\u001B[0;32m~/opt/anaconda3/lib/python3.9/site-packages/pandas/core/tools/datetimes.py\u001B[0m in \u001B[0;36m_convert_listlike_datetimes\u001B[0;34m(arg, format, name, tz, unit, errors, infer_datetime_format, dayfirst, yearfirst, exact)\u001B[0m\n\u001B[1;32m    400\u001B[0m     \u001B[0;32massert\u001B[0m \u001B[0mformat\u001B[0m \u001B[0;32mis\u001B[0m \u001B[0;32mNone\u001B[0m \u001B[0;32mor\u001B[0m \u001B[0minfer_datetime_format\u001B[0m\u001B[0;34m\u001B[0m\u001B[0;34m\u001B[0m\u001B[0m\n\u001B[1;32m    401\u001B[0m     \u001B[0mutc\u001B[0m \u001B[0;34m=\u001B[0m \u001B[0mtz\u001B[0m \u001B[0;34m==\u001B[0m \u001B[0;34m\"utc\"\u001B[0m\u001B[0;34m\u001B[0m\u001B[0;34m\u001B[0m\u001B[0m\n\u001B[0;32m--> 402\u001B[0;31m     result, tz_parsed = objects_to_datetime64ns(\n\u001B[0m\u001B[1;32m    403\u001B[0m         \u001B[0marg\u001B[0m\u001B[0;34m,\u001B[0m\u001B[0;34m\u001B[0m\u001B[0;34m\u001B[0m\u001B[0m\n\u001B[1;32m    404\u001B[0m         \u001B[0mdayfirst\u001B[0m\u001B[0;34m=\u001B[0m\u001B[0mdayfirst\u001B[0m\u001B[0;34m,\u001B[0m\u001B[0;34m\u001B[0m\u001B[0;34m\u001B[0m\u001B[0m\n",
      "\u001B[0;32m~/opt/anaconda3/lib/python3.9/site-packages/pandas/core/arrays/datetimes.py\u001B[0m in \u001B[0;36mobjects_to_datetime64ns\u001B[0;34m(data, dayfirst, yearfirst, utc, errors, require_iso8601, allow_object, allow_mixed)\u001B[0m\n\u001B[1;32m   2197\u001B[0m     \u001B[0morder\u001B[0m\u001B[0;34m:\u001B[0m \u001B[0mLiteral\u001B[0m\u001B[0;34m[\u001B[0m\u001B[0;34m\"F\"\u001B[0m\u001B[0;34m,\u001B[0m \u001B[0;34m\"C\"\u001B[0m\u001B[0;34m]\u001B[0m \u001B[0;34m=\u001B[0m \u001B[0;34m\"F\"\u001B[0m \u001B[0;32mif\u001B[0m \u001B[0mflags\u001B[0m\u001B[0;34m.\u001B[0m\u001B[0mf_contiguous\u001B[0m \u001B[0;32melse\u001B[0m \u001B[0;34m\"C\"\u001B[0m\u001B[0;34m\u001B[0m\u001B[0;34m\u001B[0m\u001B[0m\n\u001B[1;32m   2198\u001B[0m     \u001B[0;32mtry\u001B[0m\u001B[0;34m:\u001B[0m\u001B[0;34m\u001B[0m\u001B[0;34m\u001B[0m\u001B[0m\n\u001B[0;32m-> 2199\u001B[0;31m         result, tz_parsed = tslib.array_to_datetime(\n\u001B[0m\u001B[1;32m   2200\u001B[0m             \u001B[0mdata\u001B[0m\u001B[0;34m.\u001B[0m\u001B[0mravel\u001B[0m\u001B[0;34m(\u001B[0m\u001B[0;34m\"K\"\u001B[0m\u001B[0;34m)\u001B[0m\u001B[0;34m,\u001B[0m\u001B[0;34m\u001B[0m\u001B[0;34m\u001B[0m\u001B[0m\n\u001B[1;32m   2201\u001B[0m             \u001B[0merrors\u001B[0m\u001B[0;34m=\u001B[0m\u001B[0merrors\u001B[0m\u001B[0;34m,\u001B[0m\u001B[0;34m\u001B[0m\u001B[0;34m\u001B[0m\u001B[0m\n",
      "\u001B[0;32m~/opt/anaconda3/lib/python3.9/site-packages/pandas/_libs/tslib.pyx\u001B[0m in \u001B[0;36mpandas._libs.tslib.array_to_datetime\u001B[0;34m()\u001B[0m\n",
      "\u001B[0;32m~/opt/anaconda3/lib/python3.9/site-packages/pandas/_libs/tslib.pyx\u001B[0m in \u001B[0;36mpandas._libs.tslib.array_to_datetime\u001B[0;34m()\u001B[0m\n",
      "\u001B[0;32m~/opt/anaconda3/lib/python3.9/site-packages/pandas/_libs/tslib.pyx\u001B[0m in \u001B[0;36mpandas._libs.tslib._array_to_datetime_object\u001B[0;34m()\u001B[0m\n",
      "\u001B[0;32m~/opt/anaconda3/lib/python3.9/site-packages/pandas/_libs/tslib.pyx\u001B[0m in \u001B[0;36mpandas._libs.tslib.array_to_datetime\u001B[0;34m()\u001B[0m\n",
      "\u001B[0;31mTypeError\u001B[0m: <class 'datetime.time'> is not convertible to datetime"
     ]
    }
   ],
   "source": [
    "# Convert time columns to datetime objects\n",
    "time_columns = ['working_time_arrival', 'working_time_departure', 'actual_arrival_time', 'actual_departure_time', 'planned_time_departure', 'planned_time_arrival']\n",
    "rail[time_columns] = rail[time_columns].apply(pd.to_datetime)"
   ],
   "metadata": {
    "collapsed": false,
    "ExecuteTime": {
     "end_time": "2023-08-22T01:36:37.246166Z",
     "start_time": "2023-08-22T01:36:37.119326Z"
    }
   },
   "id": "6134a3aac445c8c2"
  },
  {
   "cell_type": "code",
   "execution_count": null,
   "outputs": [],
   "source": [
    "rail.info()"
   ],
   "metadata": {
    "collapsed": false,
    "ExecuteTime": {
     "start_time": "2023-08-22T01:36:37.182439Z"
    }
   },
   "id": "ac65b088c3a53d9d"
  },
  {
   "cell_type": "markdown",
   "source": [
    "## Which update origin has the most values - the system pushed the most"
   ],
   "metadata": {
    "collapsed": false
   },
   "id": "6055ed69ce536207"
  },
  {
   "cell_type": "code",
   "execution_count": null,
   "outputs": [],
   "source": [
    "source_count = rail['update_origin'].value_counts()\n",
    "source_perc = (source_count / rail['update_origin'].count()) * 100\n",
    "source_perc"
   ],
   "metadata": {
    "collapsed": false,
    "ExecuteTime": {
     "start_time": "2023-08-22T01:36:37.183765Z"
    }
   },
   "id": "5245eeceb976b5e6"
  },
  {
   "cell_type": "code",
   "execution_count": null,
   "outputs": [],
   "source": [
    "# Set the figure size\n",
    "sns.set(rc={'figure.figsize': (15, 8)})\n",
    "\n",
    "# Create a count plot using seaborn\n",
    "order = rail['update_origin'].value_counts().index  # Sorting the categories by counts\n",
    "sns.countplot(x='update_origin', data=rail, order=order)\n",
    "\n",
    "plt.xlabel('Update Origin')\n",
    "plt.ylabel('Count')\n",
    "plt.title('Count of Update Origins (Most to Least)')\n",
    "plt.xticks(rotation=45)\n",
    "plt.tight_layout()\n",
    "plt.show()"
   ],
   "metadata": {
    "collapsed": false,
    "ExecuteTime": {
     "start_time": "2023-08-22T01:36:37.185264Z"
    }
   },
   "id": "ce3593d33ab27e1a"
  },
  {
   "cell_type": "markdown",
   "source": [
    "### Getting the value counts of update origins with null values in the time columns"
   ],
   "metadata": {
    "collapsed": false
   },
   "id": "727c9f57dee1ed9f"
  },
  {
   "cell_type": "code",
   "execution_count": null,
   "outputs": [],
   "source": [
    "# Selecting the relevant columns\n",
    "time_columns = ['planned_time_arrival', 'planned_time_departure', 'actual_arrival_time', 'actual_departure_time']\n",
    "\n",
    "# Group by update_origin and sum the null values for each time column\n",
    "null_counts_by_origin = df.groupby('update_origin')[time_columns].apply(lambda x: x.isna().sum())\n",
    "\n",
    "# Sum up the counts for each column\n",
    "total_null_counts_by_origin = null_counts_by_origin.sum(axis=1)\n",
    "\n",
    "# Sort the Series in descending order\n",
    "sorted_null_counts_by_origin = total_null_counts_by_origin.sort_values(ascending=False)\n",
    "\n",
    "print(total_null_counts_by_origin)"
   ],
   "metadata": {
    "collapsed": false,
    "ExecuteTime": {
     "start_time": "2023-08-22T01:36:37.186716Z"
    }
   },
   "id": "cef1265adc7d69be"
  },
  {
   "cell_type": "code",
   "execution_count": null,
   "outputs": [],
   "source": [
    "# Set style\n",
    "sns.set(style=\"whitegrid\")\n",
    "\n",
    "# Create a bar chart using seaborn\n",
    "plt.figure(figsize=(10, 6))\n",
    "sns.barplot(x=sorted_null_counts_by_origin.index, y=sorted_null_counts_by_origin)\n",
    "plt.xlabel('Update Origin')\n",
    "plt.ylabel('Total Null Values')\n",
    "plt.title('Total Null Values by Update Origin (Most to Least)')\n",
    "plt.xticks(rotation=45)\n",
    "plt.tight_layout()\n",
    "plt.show()"
   ],
   "metadata": {
    "collapsed": false,
    "ExecuteTime": {
     "start_time": "2023-08-22T01:36:37.188121Z"
    }
   },
   "id": "f0a12d110742a158"
  },
  {
   "cell_type": "code",
   "execution_count": null,
   "outputs": [],
   "source": [
    "total_null_percentage_by_origin = (total_null_counts_by_origin / total_null_counts_by_origin.sum()) * 100\n",
    "total_null_percentage_by_origin"
   ],
   "metadata": {
    "collapsed": false,
    "ExecuteTime": {
     "start_time": "2023-08-22T01:36:37.189592Z"
    }
   },
   "id": "bcdefdbebf28ad8f"
  },
  {
   "cell_type": "markdown",
   "source": [
    "## Evaluating delays against null data"
   ],
   "metadata": {
    "collapsed": false
   },
   "id": "4ce2b533ce71c200"
  },
  {
   "cell_type": "code",
   "execution_count": null,
   "outputs": [],
   "source": [
    "delayed_arrivals = rail['is_delayed_arrival'].value_counts()\n",
    "delayed_departures = rail['is_delayed_departure'].value_counts()"
   ],
   "metadata": {
    "collapsed": false,
    "ExecuteTime": {
     "start_time": "2023-08-22T01:36:37.191336Z"
    }
   },
   "id": "8e41ce1da4ef7ca2"
  },
  {
   "cell_type": "code",
   "execution_count": null,
   "outputs": [],
   "source": [
    "null_counts_planned_arrival = rail['planned_time_arrival'].isnull().value_counts()\n",
    "null_counts_planned_departure = rail['planned_time_departure'].isnull().value_counts()"
   ],
   "metadata": {
    "collapsed": false,
    "ExecuteTime": {
     "start_time": "2023-08-22T01:36:37.192868Z"
    }
   },
   "id": "5bec9be2335bddd5"
  },
  {
   "cell_type": "code",
   "execution_count": null,
   "outputs": [],
   "source": [
    "print('null planned arrivals')\n",
    "print(null_counts_planned_arrival)\n",
    "print('')\n",
    "print('delayed arrivals')\n",
    "print(delayed_arrivals)"
   ],
   "metadata": {
    "collapsed": false,
    "ExecuteTime": {
     "start_time": "2023-08-22T01:36:37.194934Z"
    }
   },
   "id": "6c979232918f8095"
  },
  {
   "cell_type": "code",
   "execution_count": null,
   "outputs": [],
   "source": [
    "print('null planned departures')\n",
    "print(null_counts_planned_departure)\n",
    "print('')\n",
    "print('delayed departures')\n",
    "print(delayed_departures)"
   ],
   "metadata": {
    "collapsed": false,
    "ExecuteTime": {
     "start_time": "2023-08-22T01:36:37.196542Z"
    }
   },
   "id": "1a282adf98d0776c"
  },
  {
   "cell_type": "code",
   "execution_count": null,
   "outputs": [],
   "source": [
    "# Calculate the percentage of true delayed arrivals among true null planned arrivals\n",
    "true_delayed_arrivals = delayed_arrivals[True]\n",
    "true_null_planned_arrivals = null_counts_planned_arrival[True]\n",
    "\n",
    "percentage_arr = (true_null_planned_arrivals / true_delayed_arrivals) * 100\n",
    "print(\"Percentage of true delayed arrivals among true null planned arrivals:\", percentage_arr, \"%\")"
   ],
   "metadata": {
    "collapsed": false,
    "ExecuteTime": {
     "start_time": "2023-08-22T01:36:37.198366Z"
    }
   },
   "id": "d7a72f7213869218"
  },
  {
   "cell_type": "code",
   "execution_count": null,
   "outputs": [],
   "source": [
    "# Calculate the percentage of true delayed arrivals among true null planned arrivals\n",
    "true_delayed_departures = delayed_departures[True]\n",
    "true_null_planned_departures = null_counts_planned_departure[True]\n",
    "\n",
    "percentage_dep = (true_null_planned_departures / true_delayed_departures) * 100\n",
    "print(\"Percentage of true delayed arrivals among true null planned arrivals:\", percentage_dep, \"%\")"
   ],
   "metadata": {
    "collapsed": false,
    "ExecuteTime": {
     "start_time": "2023-08-22T01:36:37.200020Z"
    }
   },
   "id": "edf9028ec9d6af4e"
  },
  {
   "cell_type": "code",
   "execution_count": null,
   "outputs": [],
   "source": [
    "# Calculate the percentage of true delayed arrivals among true null planned arrivals\n",
    "true_delayed_arrivals = delayed_arrivals[True]\n",
    "true_null_planned_arrivals = null_counts_planned_arrival[True]\n",
    "percentage_arr = (true_null_planned_arrivals / true_delayed_arrivals) * 100\n",
    "\n",
    "# Create a pie chart\n",
    "labels = ['Delayed Arrivals', 'Non-Delayed Arrivals']\n",
    "sizes = [percentage_arr, 100 - percentage_arr]  # Complement to 100%\n",
    "colors = ['skyblue', 'lightgray']\n",
    "explode = (0.1, 0)  # explode 1st slice\n",
    "\n",
    "plt.pie(sizes, explode=explode, labels=labels, colors=colors, autopct='%1.1f%%', shadow=True, startangle=140)\n",
    "plt.axis('equal')  # Equal aspect ratio ensures that pie is drawn as a circle.\n",
    "\n",
    "plt.title(\"Percentage of True Delayed Arrivals Among True Null Planned Arrivals\")\n",
    "plt.show()"
   ],
   "metadata": {
    "collapsed": false,
    "ExecuteTime": {
     "start_time": "2023-08-22T01:36:37.201707Z"
    }
   },
   "id": "ccd08da9f20f67ca"
  },
  {
   "cell_type": "code",
   "execution_count": null,
   "outputs": [],
   "source": [
    "true_delayed_departures = delayed_departures[True]\n",
    "true_null_planned_departures = null_counts_planned_departure[True]\n",
    "percentage_dep = (true_null_planned_departures / true_delayed_departures) * 100\n",
    "\n",
    "# Create a pie chart\n",
    "labels = ['Delayed Arrivals', 'Non-Delayed Arrivals']\n",
    "sizes = [percentage_dep, 100 - percentage_dep]  # Complement to 100%\n",
    "colors = ['skyblue', 'lightgray']\n",
    "explode = (0.1, 0)  # explode 1st slice\n",
    "\n",
    "plt.pie(sizes, explode=explode, labels=labels, colors=colors, autopct='%1.1f%%', shadow=True, startangle=140)\n",
    "plt.axis('equal')  # Equal aspect ratio ensures that pie is drawn as a circle.\n",
    "\n",
    "plt.title(\"Percentage of True Delayed Arrivals Among True Null Planned Arrivals\")\n",
    "plt.show()"
   ],
   "metadata": {
    "collapsed": false,
    "ExecuteTime": {
     "start_time": "2023-08-22T01:36:37.203702Z"
    }
   },
   "id": "a61105924cd40513"
  },
  {
   "cell_type": "markdown",
   "source": [
    "### Evaluating on-time routes vs delayed"
   ],
   "metadata": {
    "collapsed": false
   },
   "id": "c46c5b4e61d4b25b"
  },
  {
   "cell_type": "code",
   "execution_count": null,
   "outputs": [],
   "source": [
    "# Data\n",
    "labels = ['On Time', 'Delayed']\n",
    "counts_arrival = delayed_arrivals[0], delayed_arrivals[1]\n",
    "counts_departure = delayed_departures[0], delayed_departures[1]\n",
    "\n",
    "# Create subplots\n",
    "fig, (ax1, ax2) = plt.subplots(1, 2, figsize=(10, 5))\n",
    "\n",
    "# Bar chart for arrival delays\n",
    "ax1.bar(labels, counts_arrival, color=['blue', 'orange'])\n",
    "ax1.set_title('Arrival Delay Counts')\n",
    "ax1.set_ylabel('Counts')\n",
    "\n",
    "# Bar chart for departure delays\n",
    "ax2.bar(labels, counts_departure, color=['blue', 'orange'])\n",
    "ax2.set_title('Departure Delay Counts')\n",
    "ax2.set_ylabel('Counts')\n",
    "\n",
    "# Adjust layout\n",
    "plt.tight_layout()\n",
    "\n",
    "# Show the plot\n",
    "plt.show()"
   ],
   "metadata": {
    "collapsed": false,
    "ExecuteTime": {
     "start_time": "2023-08-22T01:36:37.203845Z"
    }
   },
   "id": "2cb8b7991b7a46e0"
  },
  {
   "cell_type": "markdown",
   "source": [
    "## Creating a database without null values in time columns"
   ],
   "metadata": {
    "collapsed": false
   },
   "id": "d4f86cc1cdab99e8"
  },
  {
   "cell_type": "code",
   "execution_count": null,
   "outputs": [],
   "source": [
    "# Select columns to check for null values\n",
    "columns_to_check = ['planned_time_arrival', 'planned_time_departure', 'actual_arrival_time', 'actual_departure_time']\n",
    "\n",
    "# Create a new DataFrame removing rows with null values in selected columns\n",
    "rail_filtered = rail.dropna(subset=columns_to_check)\n",
    "rail_filtered"
   ],
   "metadata": {
    "collapsed": false,
    "ExecuteTime": {
     "start_time": "2023-08-22T01:36:37.204875Z"
    }
   },
   "id": "485b16500da413e9"
  },
  {
   "cell_type": "code",
   "execution_count": null,
   "outputs": [],
   "source": [
    "rail_filtered.info()"
   ],
   "metadata": {
    "collapsed": false,
    "ExecuteTime": {
     "start_time": "2023-08-22T01:36:37.206499Z"
    }
   },
   "id": "b5bc888c63fcea39"
  },
  {
   "cell_type": "code",
   "execution_count": null,
   "outputs": [],
   "source": [
    "# # Convert time columns to datetime objects\n",
    "# datetime_columns = ['planned_time_arrival', 'actual_arrival_time', 'planned_time_departure', 'actual_departure_time']\n",
    "# for col in datetime_columns:\n",
    "#     rail_filtered[col] = pd.to_datetime(rail_filtered[col], errors='coerce')"
   ],
   "metadata": {
    "collapsed": false,
    "ExecuteTime": {
     "start_time": "2023-08-22T01:36:37.206556Z"
    }
   },
   "id": "a5dba8ba72741bbd"
  },
  {
   "cell_type": "code",
   "execution_count": null,
   "outputs": [],
   "source": [
    "# # Calculate time differences and create new columns\n",
    "# rail_filtered['arrival_time_difference'] = rail_filtered['actual_arrival_time'] - rail_filtered['planned_time_arrival']\n",
    "# rail_filtered['departure_time_difference'] = rail_filtered['actual_departure_time'] - rail_filtered['planned_time_departure']\n",
    "# \n",
    "# rail_filtered"
   ],
   "metadata": {
    "collapsed": false,
    "ExecuteTime": {
     "start_time": "2023-08-22T01:36:37.207619Z"
    }
   },
   "id": "174556f568218dfb"
  },
  {
   "cell_type": "code",
   "execution_count": null,
   "outputs": [],
   "source": [],
   "metadata": {
    "collapsed": false,
    "ExecuteTime": {
     "start_time": "2023-08-22T01:36:37.208602Z"
    }
   },
   "id": "e6618c31e095f5d7"
  }
 ],
 "metadata": {
  "kernelspec": {
   "display_name": "Python 3 (ipykernel)",
   "language": "python",
   "name": "python3"
  },
  "language_info": {
   "codemirror_mode": {
    "name": "ipython",
    "version": 3
   },
   "file_extension": ".py",
   "mimetype": "text/x-python",
   "name": "python",
   "nbconvert_exporter": "python",
   "pygments_lexer": "ipython3",
   "version": "3.9.13"
  }
 },
 "nbformat": 4,
 "nbformat_minor": 5
}
