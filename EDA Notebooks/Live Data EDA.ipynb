{
 "cells": [
  {
   "cell_type": "markdown",
   "source": [
    "### Import required libraries"
   ],
   "metadata": {
    "collapsed": false
   },
   "id": "ce3478f1156447d4"
  },
  {
   "cell_type": "code",
   "execution_count": 3,
   "outputs": [],
   "source": [
    "import pandas as pd\n",
    "import os\n",
    "import psycopg2"
   ],
   "metadata": {
    "collapsed": false,
    "ExecuteTime": {
     "end_time": "2023-08-21T02:59:48.619772Z",
     "start_time": "2023-08-21T02:59:48.582409Z"
    }
   },
   "id": "91c414f8e741ebe0"
  },
  {
   "cell_type": "markdown",
   "source": [
    "### Define a function to test database connectivity against a PostgreSQL database in AWS."
   ],
   "metadata": {
    "collapsed": false
   },
   "id": "cc2c4429b715fece"
  },
  {
   "cell_type": "code",
   "execution_count": 4,
   "outputs": [
    {
     "name": "stdout",
     "output_type": "stream",
     "text": [
      "PostgreSQL database version:\n",
      "('PostgreSQL 15.3 on x86_64-pc-linux-gnu, compiled by gcc (GCC) 7.3.1 20180712 (Red Hat 7.3.1-12), 64-bit',)\n",
      "Database connection closed.\n"
     ]
    }
   ],
   "source": [
    "def connect():\n",
    "    \"\"\" Test Connection to the PostgreSQL database server \"\"\"\n",
    "    conn = None\n",
    "    try:\n",
    "        conn = psycopg2.connect(\n",
    "            host=\"database-1.cqfnswik0i0s.us-east-2.rds.amazonaws.com\",\n",
    "            database=\"DarwinTwo\",\n",
    "            user=\"gcpostgres\",\n",
    "            password=\"yb9GPoXzcdaLPFQO2ULv\")\n",
    "\n",
    "        # create a cursor\n",
    "        cur = conn.cursor()\n",
    "\n",
    "        # execute a statement\n",
    "        print('PostgreSQL database version:')\n",
    "        cur.execute('SELECT version()')\n",
    "\n",
    "        # display the PostgreSQL database server version\n",
    "        db_version = cur.fetchone()\n",
    "        print(db_version)\n",
    "        # close the communication with the PostgreSQL\n",
    "        cur.close()\n",
    "    except (Exception, psycopg2.DatabaseError) as error:\n",
    "        print(error)\n",
    "    finally:\n",
    "        if conn is not None:\n",
    "            conn.close()\n",
    "            print('Database connection closed.')\n",
    "connect()"
   ],
   "metadata": {
    "collapsed": false,
    "ExecuteTime": {
     "end_time": "2023-08-21T02:59:49.091913Z",
     "start_time": "2023-08-21T02:59:48.605406Z"
    }
   },
   "id": "4a0c15d9db3ef7e6"
  },
  {
   "cell_type": "markdown",
   "source": [
    "### Define a function to pull our data from PostgreSQL\n",
    "**Future optimizations***\n",
    "\n",
    "- If we want to filter on a particular update_origin, we can incorporate that in the select statement against the database."
   ],
   "metadata": {
    "collapsed": false
   },
   "id": "e7c08055b547edac"
  },
  {
   "cell_type": "code",
   "execution_count": 5,
   "outputs": [],
   "source": [
    "def read_PGSQL():\n",
    "    \"\"\" Get data from our PostgreSQL database server \"\"\"\n",
    "    conn = None\n",
    "    try:\n",
    "        conn = psycopg2.connect(\n",
    "            host=\"database-1.cqfnswik0i0s.us-east-2.rds.amazonaws.com\",\n",
    "            database=\"DarwinTwo\",\n",
    "            user=\"gcpostgres\",\n",
    "            password=\"yb9GPoXzcdaLPFQO2ULv\")\n",
    "\n",
    "        #  query the database directly using pandas...\n",
    "        df = pd.read_sql(\"SELECT * from darwin;\", conn)\n",
    "\n",
    "        # close the communication with the PostgreSQL\n",
    "        conn.close()\n",
    "    except (Exception, psycopg2.DatabaseError) as error:\n",
    "        print(error)\n",
    "    finally:\n",
    "        if conn is not None:\n",
    "            conn.close()\n",
    "            print('Database connection closed.')\n",
    "\n",
    "    return df"
   ],
   "metadata": {
    "collapsed": false,
    "ExecuteTime": {
     "end_time": "2023-08-21T02:59:49.097250Z",
     "start_time": "2023-08-21T02:59:49.093305Z"
    }
   },
   "id": "f8cf902c0022c66"
  },
  {
   "cell_type": "code",
   "execution_count": 6,
   "outputs": [],
   "source": [
    "### "
   ],
   "metadata": {
    "collapsed": false,
    "ExecuteTime": {
     "end_time": "2023-08-21T02:59:49.101902Z",
     "start_time": "2023-08-21T02:59:49.098010Z"
    }
   },
   "id": "c0645fe2d6390fbd"
  },
  {
   "cell_type": "code",
   "execution_count": 7,
   "outputs": [],
   "source": [
    "# def read_parquet():\n",
    "#     # Get the current working directory\n",
    "#     current_dir = os.getcwd()\n",
    "#     # Construct the local file path\n",
    "#     csv_file_path = os.path.join(current_dir, 'Raildata-psqlcsv.csv')\n",
    "#     print (csv_file_path)\n",
    "#     # Read the CSV file into a DataFrame\n",
    "#     df = pd.read_csv(csv_file_path)\n",
    "\n",
    "#     # Display the DataFrame\n",
    "#     return df"
   ],
   "metadata": {
    "collapsed": false,
    "ExecuteTime": {
     "end_time": "2023-08-21T02:59:49.107728Z",
     "start_time": "2023-08-21T02:59:49.103319Z"
    }
   },
   "id": "3171d9e6ebcbb13a"
  },
  {
   "cell_type": "code",
   "execution_count": 8,
   "outputs": [
    {
     "name": "stderr",
     "output_type": "stream",
     "text": [
      "/Users/diontajones/opt/anaconda3/lib/python3.9/site-packages/pandas/io/sql.py:761: UserWarning: pandas only support SQLAlchemy connectable(engine/connection) ordatabase string URI or sqlite3 DBAPI2 connectionother DBAPI2 objects are not tested, please consider using SQLAlchemy\n",
      "  warnings.warn(\n"
     ]
    },
    {
     "name": "stdout",
     "output_type": "stream",
     "text": [
      "Database connection closed.\n"
     ]
    },
    {
     "data": {
      "text/plain": "              route_id unique_id service_start_date update_origin  \\\n0      202308167142004    G42004         2023-08-16            TD   \n1      202308168044880    P44880         2023-08-16          None   \n2      202308167195839    G95839         2023-08-16            TD   \n3      202308167623593    L23593         2023-08-16            TD   \n4      202308168028082    P28082         2023-08-16            TD   \n...                ...       ...                ...           ...   \n25361  202308207484011    J84011         2023-08-20        Darwin   \n25362  202308208954549    Y54549         2023-08-20        Darwin   \n25363  202308208954549    Y54549         2023-08-20        Darwin   \n25364  202308208954549    Y54549         2023-08-20        Darwin   \n25365  202308207163519    G63519         2023-08-20        Darwin   \n\n      train_platform working_time_pass working_time_arrival  \\\n0            WELLING              None             21:20:30   \n1             MANORS              None             21:20:30   \n2            SVNOAKS              None             21:31:00   \n3            CLPHMJM              None             21:20:00   \n4            SURREYQ              None             21:22:30   \n...              ...               ...                  ...   \n25361        DRBYCHC              None             21:58:30   \n25362         HORLEY              None             23:40:00   \n25363           GTWK              None             23:42:30   \n25364         THBDGS              None             23:49:00   \n25365           DONC              None             22:11:30   \n\n      working_time_departure planned_time_arrival planned_time_departure  ...  \\\n0                   21:21:00             21:21:00               21:21:00  ...   \n1                   21:21:00             21:21:00               21:21:00  ...   \n2                   21:32:00             21:31:00               21:32:00  ...   \n3                   21:21:00             21:20:00               21:21:00  ...   \n4                   21:23:30             21:23:00               21:23:00  ...   \n...                      ...                  ...                    ...  ...   \n25361               21:58:30                 None                   None  ...   \n25362               23:40:30             23:40:00               23:40:00  ...   \n25363               23:44:00             23:43:00               23:44:00  ...   \n25364               23:50:30             23:49:00               23:50:00  ...   \n25365               22:14:00                 None                   None  ...   \n\n      platform train_length estimated_time  source actual_time  \\\n0            1          NaN           None    None        None   \n1         None          2.0           None    None        None   \n2            3          4.0           None    None        None   \n3           11          NaN           None    None        None   \n4            1          5.0           None    None        None   \n...        ...          ...            ...     ...         ...   \n25361        2          NaN           None    None        None   \n25362        2         12.0           None    None        None   \n25363        3         12.0           None    None        None   \n25364        3         12.0           None    None        None   \n25365       3A          NaN           None    None        None   \n\n      actual_time_class is_delayed_arrival is_delayed_departure  \\\n0                  None              False                False   \n1                  None              False                False   \n2                  None              False                False   \n3                  None              False                False   \n4                  None              False                False   \n...                 ...                ...                  ...   \n25361              None               True                 True   \n25362              None              False                False   \n25363              None              False                False   \n25364              None              False                False   \n25365              None              False                 True   \n\n       source_instance  estimated_time_minutes  \n0                 None                    None  \n1                 None                    None  \n2                 None                    None  \n3                 None                    None  \n4                 None                    None  \n...                ...                     ...  \n25361             None                    None  \n25362             None                    None  \n25363             None                    None  \n25364             None                    None  \n25365             None                    None  \n\n[25366 rows x 22 columns]",
      "text/html": "<div>\n<style scoped>\n    .dataframe tbody tr th:only-of-type {\n        vertical-align: middle;\n    }\n\n    .dataframe tbody tr th {\n        vertical-align: top;\n    }\n\n    .dataframe thead th {\n        text-align: right;\n    }\n</style>\n<table border=\"1\" class=\"dataframe\">\n  <thead>\n    <tr style=\"text-align: right;\">\n      <th></th>\n      <th>route_id</th>\n      <th>unique_id</th>\n      <th>service_start_date</th>\n      <th>update_origin</th>\n      <th>train_platform</th>\n      <th>working_time_pass</th>\n      <th>working_time_arrival</th>\n      <th>working_time_departure</th>\n      <th>planned_time_arrival</th>\n      <th>planned_time_departure</th>\n      <th>...</th>\n      <th>platform</th>\n      <th>train_length</th>\n      <th>estimated_time</th>\n      <th>source</th>\n      <th>actual_time</th>\n      <th>actual_time_class</th>\n      <th>is_delayed_arrival</th>\n      <th>is_delayed_departure</th>\n      <th>source_instance</th>\n      <th>estimated_time_minutes</th>\n    </tr>\n  </thead>\n  <tbody>\n    <tr>\n      <th>0</th>\n      <td>202308167142004</td>\n      <td>G42004</td>\n      <td>2023-08-16</td>\n      <td>TD</td>\n      <td>WELLING</td>\n      <td>None</td>\n      <td>21:20:30</td>\n      <td>21:21:00</td>\n      <td>21:21:00</td>\n      <td>21:21:00</td>\n      <td>...</td>\n      <td>1</td>\n      <td>NaN</td>\n      <td>None</td>\n      <td>None</td>\n      <td>None</td>\n      <td>None</td>\n      <td>False</td>\n      <td>False</td>\n      <td>None</td>\n      <td>None</td>\n    </tr>\n    <tr>\n      <th>1</th>\n      <td>202308168044880</td>\n      <td>P44880</td>\n      <td>2023-08-16</td>\n      <td>None</td>\n      <td>MANORS</td>\n      <td>None</td>\n      <td>21:20:30</td>\n      <td>21:21:00</td>\n      <td>21:21:00</td>\n      <td>21:21:00</td>\n      <td>...</td>\n      <td>None</td>\n      <td>2.0</td>\n      <td>None</td>\n      <td>None</td>\n      <td>None</td>\n      <td>None</td>\n      <td>False</td>\n      <td>False</td>\n      <td>None</td>\n      <td>None</td>\n    </tr>\n    <tr>\n      <th>2</th>\n      <td>202308167195839</td>\n      <td>G95839</td>\n      <td>2023-08-16</td>\n      <td>TD</td>\n      <td>SVNOAKS</td>\n      <td>None</td>\n      <td>21:31:00</td>\n      <td>21:32:00</td>\n      <td>21:31:00</td>\n      <td>21:32:00</td>\n      <td>...</td>\n      <td>3</td>\n      <td>4.0</td>\n      <td>None</td>\n      <td>None</td>\n      <td>None</td>\n      <td>None</td>\n      <td>False</td>\n      <td>False</td>\n      <td>None</td>\n      <td>None</td>\n    </tr>\n    <tr>\n      <th>3</th>\n      <td>202308167623593</td>\n      <td>L23593</td>\n      <td>2023-08-16</td>\n      <td>TD</td>\n      <td>CLPHMJM</td>\n      <td>None</td>\n      <td>21:20:00</td>\n      <td>21:21:00</td>\n      <td>21:20:00</td>\n      <td>21:21:00</td>\n      <td>...</td>\n      <td>11</td>\n      <td>NaN</td>\n      <td>None</td>\n      <td>None</td>\n      <td>None</td>\n      <td>None</td>\n      <td>False</td>\n      <td>False</td>\n      <td>None</td>\n      <td>None</td>\n    </tr>\n    <tr>\n      <th>4</th>\n      <td>202308168028082</td>\n      <td>P28082</td>\n      <td>2023-08-16</td>\n      <td>TD</td>\n      <td>SURREYQ</td>\n      <td>None</td>\n      <td>21:22:30</td>\n      <td>21:23:30</td>\n      <td>21:23:00</td>\n      <td>21:23:00</td>\n      <td>...</td>\n      <td>1</td>\n      <td>5.0</td>\n      <td>None</td>\n      <td>None</td>\n      <td>None</td>\n      <td>None</td>\n      <td>False</td>\n      <td>False</td>\n      <td>None</td>\n      <td>None</td>\n    </tr>\n    <tr>\n      <th>...</th>\n      <td>...</td>\n      <td>...</td>\n      <td>...</td>\n      <td>...</td>\n      <td>...</td>\n      <td>...</td>\n      <td>...</td>\n      <td>...</td>\n      <td>...</td>\n      <td>...</td>\n      <td>...</td>\n      <td>...</td>\n      <td>...</td>\n      <td>...</td>\n      <td>...</td>\n      <td>...</td>\n      <td>...</td>\n      <td>...</td>\n      <td>...</td>\n      <td>...</td>\n      <td>...</td>\n    </tr>\n    <tr>\n      <th>25361</th>\n      <td>202308207484011</td>\n      <td>J84011</td>\n      <td>2023-08-20</td>\n      <td>Darwin</td>\n      <td>DRBYCHC</td>\n      <td>None</td>\n      <td>21:58:30</td>\n      <td>21:58:30</td>\n      <td>None</td>\n      <td>None</td>\n      <td>...</td>\n      <td>2</td>\n      <td>NaN</td>\n      <td>None</td>\n      <td>None</td>\n      <td>None</td>\n      <td>None</td>\n      <td>True</td>\n      <td>True</td>\n      <td>None</td>\n      <td>None</td>\n    </tr>\n    <tr>\n      <th>25362</th>\n      <td>202308208954549</td>\n      <td>Y54549</td>\n      <td>2023-08-20</td>\n      <td>Darwin</td>\n      <td>HORLEY</td>\n      <td>None</td>\n      <td>23:40:00</td>\n      <td>23:40:30</td>\n      <td>23:40:00</td>\n      <td>23:40:00</td>\n      <td>...</td>\n      <td>2</td>\n      <td>12.0</td>\n      <td>None</td>\n      <td>None</td>\n      <td>None</td>\n      <td>None</td>\n      <td>False</td>\n      <td>False</td>\n      <td>None</td>\n      <td>None</td>\n    </tr>\n    <tr>\n      <th>25363</th>\n      <td>202308208954549</td>\n      <td>Y54549</td>\n      <td>2023-08-20</td>\n      <td>Darwin</td>\n      <td>GTWK</td>\n      <td>None</td>\n      <td>23:42:30</td>\n      <td>23:44:00</td>\n      <td>23:43:00</td>\n      <td>23:44:00</td>\n      <td>...</td>\n      <td>3</td>\n      <td>12.0</td>\n      <td>None</td>\n      <td>None</td>\n      <td>None</td>\n      <td>None</td>\n      <td>False</td>\n      <td>False</td>\n      <td>None</td>\n      <td>None</td>\n    </tr>\n    <tr>\n      <th>25364</th>\n      <td>202308208954549</td>\n      <td>Y54549</td>\n      <td>2023-08-20</td>\n      <td>Darwin</td>\n      <td>THBDGS</td>\n      <td>None</td>\n      <td>23:49:00</td>\n      <td>23:50:30</td>\n      <td>23:49:00</td>\n      <td>23:50:00</td>\n      <td>...</td>\n      <td>3</td>\n      <td>12.0</td>\n      <td>None</td>\n      <td>None</td>\n      <td>None</td>\n      <td>None</td>\n      <td>False</td>\n      <td>False</td>\n      <td>None</td>\n      <td>None</td>\n    </tr>\n    <tr>\n      <th>25365</th>\n      <td>202308207163519</td>\n      <td>G63519</td>\n      <td>2023-08-20</td>\n      <td>Darwin</td>\n      <td>DONC</td>\n      <td>None</td>\n      <td>22:11:30</td>\n      <td>22:14:00</td>\n      <td>None</td>\n      <td>None</td>\n      <td>...</td>\n      <td>3A</td>\n      <td>NaN</td>\n      <td>None</td>\n      <td>None</td>\n      <td>None</td>\n      <td>None</td>\n      <td>False</td>\n      <td>True</td>\n      <td>None</td>\n      <td>None</td>\n    </tr>\n  </tbody>\n</table>\n<p>25366 rows × 22 columns</p>\n</div>"
     },
     "execution_count": 8,
     "metadata": {},
     "output_type": "execute_result"
    }
   ],
   "source": [
    "##########################################################################################\n",
    "#  If reading from parquet get the datatframe kikle this\n",
    "# df = read_parquet()\n",
    "\n",
    "##########################################################################################\n",
    "#  If reading from the the database do this...\n",
    "df = read_PGSQL()\n",
    "\n",
    "##########################################################################################\n",
    "#  Show the result\n",
    "df"
   ],
   "metadata": {
    "collapsed": false,
    "ExecuteTime": {
     "end_time": "2023-08-21T02:59:52.341950Z",
     "start_time": "2023-08-21T02:59:49.108069Z"
    }
   },
   "id": "ed157f1daed8a283"
  }
 ],
 "metadata": {
  "kernelspec": {
   "display_name": "Python 3 (ipykernel)",
   "language": "python",
   "name": "python3"
  },
  "language_info": {
   "codemirror_mode": {
    "name": "ipython",
    "version": 3
   },
   "file_extension": ".py",
   "mimetype": "text/x-python",
   "name": "python",
   "nbconvert_exporter": "python",
   "pygments_lexer": "ipython3",
   "version": "3.9.13"
  }
 },
 "nbformat": 4,
 "nbformat_minor": 5
}
