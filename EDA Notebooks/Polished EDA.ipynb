{
 "cells": [
  {
   "cell_type": "code",
   "execution_count": 58,
   "id": "a5604521",
   "metadata": {
    "ExecuteTime": {
     "end_time": "2023-08-12T04:59:41.844682Z",
     "start_time": "2023-08-12T04:59:41.799584Z"
    }
   },
   "outputs": [],
   "source": [
    "import pandas as pd\n",
    "import numpy as np"
   ]
  },
  {
   "cell_type": "code",
   "execution_count": 59,
   "id": "05391a86",
   "metadata": {
    "ExecuteTime": {
     "end_time": "2023-08-12T04:59:41.854384Z",
     "start_time": "2023-08-12T04:59:41.812676Z"
    }
   },
   "outputs": [],
   "source": [
    "df = pd.read_parquet('rail_data_cleaned_20230728132300.parquet')"
   ]
  },
  {
   "cell_type": "code",
   "execution_count": 60,
   "id": "c66ef4d6",
   "metadata": {
    "ExecuteTime": {
     "end_time": "2023-08-12T04:59:41.872554Z",
     "start_time": "2023-08-12T04:59:41.860910Z"
    }
   },
   "outputs": [],
   "source": [
    "df2 = pd.read_csv('RailReferences.csv')"
   ]
  },
  {
   "cell_type": "markdown",
   "source": [
    "### Database 1 Info"
   ],
   "metadata": {
    "collapsed": false
   },
   "id": "70227556691faf95"
  },
  {
   "cell_type": "code",
   "execution_count": 61,
   "outputs": [
    {
     "data": {
      "text/plain": "              route_id unique_id service_start_date update_origin  \\\n8      202307277679020    L79020         2023-07-27        Darwin   \n10     202307277679020    L79020         2023-07-27        Darwin   \n16     202307277679020    L79020         2023-07-27        Darwin   \n17     202307277679020    L79020         2023-07-27        Darwin   \n22     202307277674553    L74553         2023-07-27            TD   \n...                ...       ...                ...           ...   \n94233  202307278055183    P55183         2023-07-27        Darwin   \n94235  202307278055183    P55183         2023-07-27        Darwin   \n94238  202307278055183    P55183         2023-07-27        Darwin   \n94240  202307278055183    P55183         2023-07-27        Darwin   \n94243  202307278055183    P55183         2023-07-27        Darwin   \n\n      train_platform working_time_pass working_time_arrival  \\\n8               STFD               NaT  2023-07-27 00:03:00   \n10           SPNY205               NaT  2023-07-27 00:07:00   \n16            PADTLL               NaT  2023-07-27 00:30:30   \n17           WBRNPKS               NaT  2023-07-27 00:33:00   \n22           SVNOAKS               NaT  2023-07-27 21:53:00   \n...              ...               ...                  ...   \n94233         BRADIN               NaT  2023-07-27 17:30:30   \n94235           HLFX               NaT  2023-07-27 17:44:00   \n94238        HBDNBDG               NaT  2023-07-27 17:58:30   \n94240        TODMRDN               NaT  2023-07-27 18:08:30   \n94243        RCHDALE               NaT  2023-07-27 18:18:30   \n\n      working_time_departure planned_time_arrival planned_time_departure  \\\n8        2023-07-27 00:03:30                  NaT                    NaT   \n10       2023-07-27 00:13:30                  NaT                    NaT   \n16       2023-07-27 00:31:00                  NaT                    NaT   \n17       2023-07-27 00:35:00                  NaT                    NaT   \n22       2023-07-27 21:54:30  2023-07-27 21:53:00    2023-07-27 21:54:00   \n...                      ...                  ...                    ...   \n94233    2023-07-27 17:33:30  2023-07-27 17:31:00    2023-07-27 17:33:00   \n94235    2023-07-27 17:45:00  2023-07-27 17:44:00    2023-07-27 17:45:00   \n94238    2023-07-27 18:01:30  2023-07-27 17:59:00    2023-07-27 18:01:00   \n94240    2023-07-27 18:09:30  2023-07-27 18:09:00    2023-07-27 18:09:00   \n94243    2023-07-27 18:19:30  2023-07-27 18:19:00    2023-07-27 18:19:00   \n\n       pass platform train_length actual_arrival_time actual_departure_time  \\\n8       NaN        5         None 2023-07-27 00:53:00   2023-07-27 00:53:00   \n10      NaN     None         None 2023-07-27 00:57:00   2023-07-27 00:58:00   \n16      NaN        B         None 2023-07-27 01:07:00   2023-07-27 01:07:00   \n17      NaN        A         None 2023-07-27 01:09:00   2023-07-27 01:10:00   \n22      NaN        1            8                 NaT                   NaT   \n...     ...      ...          ...                 ...                   ...   \n94233   NaN        4         None 2023-07-27 18:07:00   2023-07-27 18:08:00   \n94235   NaN        1         None 2023-07-27 18:18:00   2023-07-27 18:19:00   \n94238   NaN        1         None 2023-07-27 18:29:00   2023-07-27 18:30:00   \n94240   NaN        1         None 2023-07-27 18:35:00   2023-07-27 18:35:00   \n94243   NaN        3         None 2023-07-27 18:44:00   2023-07-27 18:45:00   \n\n       is_delayed_arrival  is_delayed_departure  \n8                    True                  True  \n10                   True                  True  \n16                   True                  True  \n17                   True                  True  \n22                  False                 False  \n...                   ...                   ...  \n94233                True                  True  \n94235                True                  True  \n94238                True                  True  \n94240                True                  True  \n94243                True                  True  \n\n[37100 rows x 17 columns]",
      "text/html": "<div>\n<style scoped>\n    .dataframe tbody tr th:only-of-type {\n        vertical-align: middle;\n    }\n\n    .dataframe tbody tr th {\n        vertical-align: top;\n    }\n\n    .dataframe thead th {\n        text-align: right;\n    }\n</style>\n<table border=\"1\" class=\"dataframe\">\n  <thead>\n    <tr style=\"text-align: right;\">\n      <th></th>\n      <th>route_id</th>\n      <th>unique_id</th>\n      <th>service_start_date</th>\n      <th>update_origin</th>\n      <th>train_platform</th>\n      <th>working_time_pass</th>\n      <th>working_time_arrival</th>\n      <th>working_time_departure</th>\n      <th>planned_time_arrival</th>\n      <th>planned_time_departure</th>\n      <th>pass</th>\n      <th>platform</th>\n      <th>train_length</th>\n      <th>actual_arrival_time</th>\n      <th>actual_departure_time</th>\n      <th>is_delayed_arrival</th>\n      <th>is_delayed_departure</th>\n    </tr>\n  </thead>\n  <tbody>\n    <tr>\n      <th>8</th>\n      <td>202307277679020</td>\n      <td>L79020</td>\n      <td>2023-07-27</td>\n      <td>Darwin</td>\n      <td>STFD</td>\n      <td>NaT</td>\n      <td>2023-07-27 00:03:00</td>\n      <td>2023-07-27 00:03:30</td>\n      <td>NaT</td>\n      <td>NaT</td>\n      <td>NaN</td>\n      <td>5</td>\n      <td>None</td>\n      <td>2023-07-27 00:53:00</td>\n      <td>2023-07-27 00:53:00</td>\n      <td>True</td>\n      <td>True</td>\n    </tr>\n    <tr>\n      <th>10</th>\n      <td>202307277679020</td>\n      <td>L79020</td>\n      <td>2023-07-27</td>\n      <td>Darwin</td>\n      <td>SPNY205</td>\n      <td>NaT</td>\n      <td>2023-07-27 00:07:00</td>\n      <td>2023-07-27 00:13:30</td>\n      <td>NaT</td>\n      <td>NaT</td>\n      <td>NaN</td>\n      <td>None</td>\n      <td>None</td>\n      <td>2023-07-27 00:57:00</td>\n      <td>2023-07-27 00:58:00</td>\n      <td>True</td>\n      <td>True</td>\n    </tr>\n    <tr>\n      <th>16</th>\n      <td>202307277679020</td>\n      <td>L79020</td>\n      <td>2023-07-27</td>\n      <td>Darwin</td>\n      <td>PADTLL</td>\n      <td>NaT</td>\n      <td>2023-07-27 00:30:30</td>\n      <td>2023-07-27 00:31:00</td>\n      <td>NaT</td>\n      <td>NaT</td>\n      <td>NaN</td>\n      <td>B</td>\n      <td>None</td>\n      <td>2023-07-27 01:07:00</td>\n      <td>2023-07-27 01:07:00</td>\n      <td>True</td>\n      <td>True</td>\n    </tr>\n    <tr>\n      <th>17</th>\n      <td>202307277679020</td>\n      <td>L79020</td>\n      <td>2023-07-27</td>\n      <td>Darwin</td>\n      <td>WBRNPKS</td>\n      <td>NaT</td>\n      <td>2023-07-27 00:33:00</td>\n      <td>2023-07-27 00:35:00</td>\n      <td>NaT</td>\n      <td>NaT</td>\n      <td>NaN</td>\n      <td>A</td>\n      <td>None</td>\n      <td>2023-07-27 01:09:00</td>\n      <td>2023-07-27 01:10:00</td>\n      <td>True</td>\n      <td>True</td>\n    </tr>\n    <tr>\n      <th>22</th>\n      <td>202307277674553</td>\n      <td>L74553</td>\n      <td>2023-07-27</td>\n      <td>TD</td>\n      <td>SVNOAKS</td>\n      <td>NaT</td>\n      <td>2023-07-27 21:53:00</td>\n      <td>2023-07-27 21:54:30</td>\n      <td>2023-07-27 21:53:00</td>\n      <td>2023-07-27 21:54:00</td>\n      <td>NaN</td>\n      <td>1</td>\n      <td>8</td>\n      <td>NaT</td>\n      <td>NaT</td>\n      <td>False</td>\n      <td>False</td>\n    </tr>\n    <tr>\n      <th>...</th>\n      <td>...</td>\n      <td>...</td>\n      <td>...</td>\n      <td>...</td>\n      <td>...</td>\n      <td>...</td>\n      <td>...</td>\n      <td>...</td>\n      <td>...</td>\n      <td>...</td>\n      <td>...</td>\n      <td>...</td>\n      <td>...</td>\n      <td>...</td>\n      <td>...</td>\n      <td>...</td>\n      <td>...</td>\n    </tr>\n    <tr>\n      <th>94233</th>\n      <td>202307278055183</td>\n      <td>P55183</td>\n      <td>2023-07-27</td>\n      <td>Darwin</td>\n      <td>BRADIN</td>\n      <td>NaT</td>\n      <td>2023-07-27 17:30:30</td>\n      <td>2023-07-27 17:33:30</td>\n      <td>2023-07-27 17:31:00</td>\n      <td>2023-07-27 17:33:00</td>\n      <td>NaN</td>\n      <td>4</td>\n      <td>None</td>\n      <td>2023-07-27 18:07:00</td>\n      <td>2023-07-27 18:08:00</td>\n      <td>True</td>\n      <td>True</td>\n    </tr>\n    <tr>\n      <th>94235</th>\n      <td>202307278055183</td>\n      <td>P55183</td>\n      <td>2023-07-27</td>\n      <td>Darwin</td>\n      <td>HLFX</td>\n      <td>NaT</td>\n      <td>2023-07-27 17:44:00</td>\n      <td>2023-07-27 17:45:00</td>\n      <td>2023-07-27 17:44:00</td>\n      <td>2023-07-27 17:45:00</td>\n      <td>NaN</td>\n      <td>1</td>\n      <td>None</td>\n      <td>2023-07-27 18:18:00</td>\n      <td>2023-07-27 18:19:00</td>\n      <td>True</td>\n      <td>True</td>\n    </tr>\n    <tr>\n      <th>94238</th>\n      <td>202307278055183</td>\n      <td>P55183</td>\n      <td>2023-07-27</td>\n      <td>Darwin</td>\n      <td>HBDNBDG</td>\n      <td>NaT</td>\n      <td>2023-07-27 17:58:30</td>\n      <td>2023-07-27 18:01:30</td>\n      <td>2023-07-27 17:59:00</td>\n      <td>2023-07-27 18:01:00</td>\n      <td>NaN</td>\n      <td>1</td>\n      <td>None</td>\n      <td>2023-07-27 18:29:00</td>\n      <td>2023-07-27 18:30:00</td>\n      <td>True</td>\n      <td>True</td>\n    </tr>\n    <tr>\n      <th>94240</th>\n      <td>202307278055183</td>\n      <td>P55183</td>\n      <td>2023-07-27</td>\n      <td>Darwin</td>\n      <td>TODMRDN</td>\n      <td>NaT</td>\n      <td>2023-07-27 18:08:30</td>\n      <td>2023-07-27 18:09:30</td>\n      <td>2023-07-27 18:09:00</td>\n      <td>2023-07-27 18:09:00</td>\n      <td>NaN</td>\n      <td>1</td>\n      <td>None</td>\n      <td>2023-07-27 18:35:00</td>\n      <td>2023-07-27 18:35:00</td>\n      <td>True</td>\n      <td>True</td>\n    </tr>\n    <tr>\n      <th>94243</th>\n      <td>202307278055183</td>\n      <td>P55183</td>\n      <td>2023-07-27</td>\n      <td>Darwin</td>\n      <td>RCHDALE</td>\n      <td>NaT</td>\n      <td>2023-07-27 18:18:30</td>\n      <td>2023-07-27 18:19:30</td>\n      <td>2023-07-27 18:19:00</td>\n      <td>2023-07-27 18:19:00</td>\n      <td>NaN</td>\n      <td>3</td>\n      <td>None</td>\n      <td>2023-07-27 18:44:00</td>\n      <td>2023-07-27 18:45:00</td>\n      <td>True</td>\n      <td>True</td>\n    </tr>\n  </tbody>\n</table>\n<p>37100 rows × 17 columns</p>\n</div>"
     },
     "execution_count": 61,
     "metadata": {},
     "output_type": "execute_result"
    }
   ],
   "source": [
    "df"
   ],
   "metadata": {
    "collapsed": false,
    "ExecuteTime": {
     "end_time": "2023-08-12T04:59:41.888273Z",
     "start_time": "2023-08-12T04:59:41.874176Z"
    }
   },
   "id": "8f616da93fa72e6c"
  },
  {
   "cell_type": "code",
   "execution_count": 62,
   "outputs": [
    {
     "name": "stdout",
     "output_type": "stream",
     "text": [
      "<class 'pandas.core.frame.DataFrame'>\n",
      "Int64Index: 37100 entries, 8 to 94243\n",
      "Data columns (total 17 columns):\n",
      " #   Column                  Non-Null Count  Dtype         \n",
      "---  ------                  --------------  -----         \n",
      " 0   route_id                37100 non-null  object        \n",
      " 1   unique_id               37100 non-null  object        \n",
      " 2   service_start_date      37100 non-null  object        \n",
      " 3   update_origin           36515 non-null  object        \n",
      " 4   train_platform          37100 non-null  object        \n",
      " 5   working_time_pass       0 non-null      datetime64[ns]\n",
      " 6   working_time_arrival    37100 non-null  datetime64[ns]\n",
      " 7   working_time_departure  37100 non-null  datetime64[ns]\n",
      " 8   planned_time_arrival    33855 non-null  datetime64[ns]\n",
      " 9   planned_time_departure  33580 non-null  datetime64[ns]\n",
      " 10  pass                    0 non-null      float64       \n",
      " 11  platform                34114 non-null  object        \n",
      " 12  train_length            10595 non-null  object        \n",
      " 13  actual_arrival_time     31769 non-null  datetime64[ns]\n",
      " 14  actual_departure_time   34384 non-null  datetime64[ns]\n",
      " 15  is_delayed_arrival      37100 non-null  bool          \n",
      " 16  is_delayed_departure    37100 non-null  bool          \n",
      "dtypes: bool(2), datetime64[ns](7), float64(1), object(7)\n",
      "memory usage: 4.6+ MB\n"
     ]
    }
   ],
   "source": [
    "df.info()"
   ],
   "metadata": {
    "collapsed": false,
    "ExecuteTime": {
     "end_time": "2023-08-12T04:59:41.948416Z",
     "start_time": "2023-08-12T04:59:41.890064Z"
    }
   },
   "id": "796ef027f153a804"
  },
  {
   "cell_type": "code",
   "execution_count": 63,
   "outputs": [
    {
     "data": {
      "text/plain": "(37100, 17)"
     },
     "execution_count": 63,
     "metadata": {},
     "output_type": "execute_result"
    }
   ],
   "source": [
    "df.shape"
   ],
   "metadata": {
    "collapsed": false,
    "ExecuteTime": {
     "end_time": "2023-08-12T04:59:41.948630Z",
     "start_time": "2023-08-12T04:59:41.930063Z"
    }
   },
   "id": "c1260f065a7858e7"
  },
  {
   "cell_type": "code",
   "execution_count": 64,
   "outputs": [
    {
     "data": {
      "text/plain": "                      pass  is_delayed_arrival  is_delayed_departure\npass                   NaN                 NaN                   NaN\nis_delayed_arrival     NaN            1.000000              0.954546\nis_delayed_departure   NaN            0.954546              1.000000",
      "text/html": "<div>\n<style scoped>\n    .dataframe tbody tr th:only-of-type {\n        vertical-align: middle;\n    }\n\n    .dataframe tbody tr th {\n        vertical-align: top;\n    }\n\n    .dataframe thead th {\n        text-align: right;\n    }\n</style>\n<table border=\"1\" class=\"dataframe\">\n  <thead>\n    <tr style=\"text-align: right;\">\n      <th></th>\n      <th>pass</th>\n      <th>is_delayed_arrival</th>\n      <th>is_delayed_departure</th>\n    </tr>\n  </thead>\n  <tbody>\n    <tr>\n      <th>pass</th>\n      <td>NaN</td>\n      <td>NaN</td>\n      <td>NaN</td>\n    </tr>\n    <tr>\n      <th>is_delayed_arrival</th>\n      <td>NaN</td>\n      <td>1.000000</td>\n      <td>0.954546</td>\n    </tr>\n    <tr>\n      <th>is_delayed_departure</th>\n      <td>NaN</td>\n      <td>0.954546</td>\n      <td>1.000000</td>\n    </tr>\n  </tbody>\n</table>\n</div>"
     },
     "execution_count": 64,
     "metadata": {},
     "output_type": "execute_result"
    }
   ],
   "source": [
    "df.corr()"
   ],
   "metadata": {
    "collapsed": false,
    "ExecuteTime": {
     "end_time": "2023-08-12T04:59:41.949059Z",
     "start_time": "2023-08-12T04:59:41.937006Z"
    }
   },
   "id": "7fb9586d6e18309"
  },
  {
   "cell_type": "code",
   "execution_count": 65,
   "outputs": [
    {
     "data": {
      "text/plain": "route_id                      0\nunique_id                     0\nservice_start_date            0\nupdate_origin               585\ntrain_platform                0\nworking_time_pass         37100\nworking_time_arrival          0\nworking_time_departure        0\nplanned_time_arrival       3245\nplanned_time_departure     3520\npass                      37100\nplatform                   2986\ntrain_length              26505\nactual_arrival_time        5331\nactual_departure_time      2716\nis_delayed_arrival            0\nis_delayed_departure          0\ndtype: int64"
     },
     "execution_count": 65,
     "metadata": {},
     "output_type": "execute_result"
    }
   ],
   "source": [
    "df.isnull().sum()"
   ],
   "metadata": {
    "collapsed": false,
    "ExecuteTime": {
     "end_time": "2023-08-12T04:59:42.018021Z",
     "start_time": "2023-08-12T04:59:41.946239Z"
    }
   },
   "id": "dee807bee62ee58a"
  },
  {
   "cell_type": "markdown",
   "source": [
    "#### There is no data for pass and working_time_pass columns. They can be deleted.\n",
    "#### train_length has a lot of missing values but doesn't seem to be important"
   ],
   "metadata": {
    "collapsed": false
   },
   "id": "afbbaaebf05f0670"
  },
  {
   "cell_type": "code",
   "execution_count": 66,
   "outputs": [],
   "source": [
    "dropped = ['working_time_pass', 'pass', 'train_length']"
   ],
   "metadata": {
    "collapsed": false,
    "ExecuteTime": {
     "end_time": "2023-08-12T04:59:42.018160Z",
     "start_time": "2023-08-12T04:59:41.978012Z"
    }
   },
   "id": "3c3c0e64089c34e0"
  },
  {
   "cell_type": "code",
   "execution_count": 67,
   "outputs": [],
   "source": [
    "df = df.drop(columns=dropped)"
   ],
   "metadata": {
    "collapsed": false,
    "ExecuteTime": {
     "end_time": "2023-08-12T04:59:42.018209Z",
     "start_time": "2023-08-12T04:59:41.984874Z"
    }
   },
   "id": "5dfb7c49eaf85321"
  },
  {
   "cell_type": "code",
   "execution_count": 68,
   "outputs": [
    {
     "data": {
      "text/plain": "(37100, 14)"
     },
     "execution_count": 68,
     "metadata": {},
     "output_type": "execute_result"
    }
   ],
   "source": [
    "df.shape"
   ],
   "metadata": {
    "collapsed": false,
    "ExecuteTime": {
     "end_time": "2023-08-12T04:59:42.018313Z",
     "start_time": "2023-08-12T04:59:41.990111Z"
    }
   },
   "id": "56e9e5fd3aae3747"
  },
  {
   "cell_type": "code",
   "execution_count": 69,
   "outputs": [
    {
     "data": {
      "text/plain": "              route_id unique_id service_start_date update_origin  \\\n8      202307277679020    L79020         2023-07-27        Darwin   \n10     202307277679020    L79020         2023-07-27        Darwin   \n16     202307277679020    L79020         2023-07-27        Darwin   \n17     202307277679020    L79020         2023-07-27        Darwin   \n22     202307277674553    L74553         2023-07-27            TD   \n...                ...       ...                ...           ...   \n94233  202307278055183    P55183         2023-07-27        Darwin   \n94235  202307278055183    P55183         2023-07-27        Darwin   \n94238  202307278055183    P55183         2023-07-27        Darwin   \n94240  202307278055183    P55183         2023-07-27        Darwin   \n94243  202307278055183    P55183         2023-07-27        Darwin   \n\n      train_platform working_time_arrival working_time_departure  \\\n8               STFD  2023-07-27 00:03:00    2023-07-27 00:03:30   \n10           SPNY205  2023-07-27 00:07:00    2023-07-27 00:13:30   \n16            PADTLL  2023-07-27 00:30:30    2023-07-27 00:31:00   \n17           WBRNPKS  2023-07-27 00:33:00    2023-07-27 00:35:00   \n22           SVNOAKS  2023-07-27 21:53:00    2023-07-27 21:54:30   \n...              ...                  ...                    ...   \n94233         BRADIN  2023-07-27 17:30:30    2023-07-27 17:33:30   \n94235           HLFX  2023-07-27 17:44:00    2023-07-27 17:45:00   \n94238        HBDNBDG  2023-07-27 17:58:30    2023-07-27 18:01:30   \n94240        TODMRDN  2023-07-27 18:08:30    2023-07-27 18:09:30   \n94243        RCHDALE  2023-07-27 18:18:30    2023-07-27 18:19:30   \n\n      planned_time_arrival planned_time_departure platform  \\\n8                      NaT                    NaT        5   \n10                     NaT                    NaT     None   \n16                     NaT                    NaT        B   \n17                     NaT                    NaT        A   \n22     2023-07-27 21:53:00    2023-07-27 21:54:00        1   \n...                    ...                    ...      ...   \n94233  2023-07-27 17:31:00    2023-07-27 17:33:00        4   \n94235  2023-07-27 17:44:00    2023-07-27 17:45:00        1   \n94238  2023-07-27 17:59:00    2023-07-27 18:01:00        1   \n94240  2023-07-27 18:09:00    2023-07-27 18:09:00        1   \n94243  2023-07-27 18:19:00    2023-07-27 18:19:00        3   \n\n      actual_arrival_time actual_departure_time  is_delayed_arrival  \\\n8     2023-07-27 00:53:00   2023-07-27 00:53:00                True   \n10    2023-07-27 00:57:00   2023-07-27 00:58:00                True   \n16    2023-07-27 01:07:00   2023-07-27 01:07:00                True   \n17    2023-07-27 01:09:00   2023-07-27 01:10:00                True   \n22                    NaT                   NaT               False   \n...                   ...                   ...                 ...   \n94233 2023-07-27 18:07:00   2023-07-27 18:08:00                True   \n94235 2023-07-27 18:18:00   2023-07-27 18:19:00                True   \n94238 2023-07-27 18:29:00   2023-07-27 18:30:00                True   \n94240 2023-07-27 18:35:00   2023-07-27 18:35:00                True   \n94243 2023-07-27 18:44:00   2023-07-27 18:45:00                True   \n\n       is_delayed_departure  \n8                      True  \n10                     True  \n16                     True  \n17                     True  \n22                    False  \n...                     ...  \n94233                  True  \n94235                  True  \n94238                  True  \n94240                  True  \n94243                  True  \n\n[37100 rows x 14 columns]",
      "text/html": "<div>\n<style scoped>\n    .dataframe tbody tr th:only-of-type {\n        vertical-align: middle;\n    }\n\n    .dataframe tbody tr th {\n        vertical-align: top;\n    }\n\n    .dataframe thead th {\n        text-align: right;\n    }\n</style>\n<table border=\"1\" class=\"dataframe\">\n  <thead>\n    <tr style=\"text-align: right;\">\n      <th></th>\n      <th>route_id</th>\n      <th>unique_id</th>\n      <th>service_start_date</th>\n      <th>update_origin</th>\n      <th>train_platform</th>\n      <th>working_time_arrival</th>\n      <th>working_time_departure</th>\n      <th>planned_time_arrival</th>\n      <th>planned_time_departure</th>\n      <th>platform</th>\n      <th>actual_arrival_time</th>\n      <th>actual_departure_time</th>\n      <th>is_delayed_arrival</th>\n      <th>is_delayed_departure</th>\n    </tr>\n  </thead>\n  <tbody>\n    <tr>\n      <th>8</th>\n      <td>202307277679020</td>\n      <td>L79020</td>\n      <td>2023-07-27</td>\n      <td>Darwin</td>\n      <td>STFD</td>\n      <td>2023-07-27 00:03:00</td>\n      <td>2023-07-27 00:03:30</td>\n      <td>NaT</td>\n      <td>NaT</td>\n      <td>5</td>\n      <td>2023-07-27 00:53:00</td>\n      <td>2023-07-27 00:53:00</td>\n      <td>True</td>\n      <td>True</td>\n    </tr>\n    <tr>\n      <th>10</th>\n      <td>202307277679020</td>\n      <td>L79020</td>\n      <td>2023-07-27</td>\n      <td>Darwin</td>\n      <td>SPNY205</td>\n      <td>2023-07-27 00:07:00</td>\n      <td>2023-07-27 00:13:30</td>\n      <td>NaT</td>\n      <td>NaT</td>\n      <td>None</td>\n      <td>2023-07-27 00:57:00</td>\n      <td>2023-07-27 00:58:00</td>\n      <td>True</td>\n      <td>True</td>\n    </tr>\n    <tr>\n      <th>16</th>\n      <td>202307277679020</td>\n      <td>L79020</td>\n      <td>2023-07-27</td>\n      <td>Darwin</td>\n      <td>PADTLL</td>\n      <td>2023-07-27 00:30:30</td>\n      <td>2023-07-27 00:31:00</td>\n      <td>NaT</td>\n      <td>NaT</td>\n      <td>B</td>\n      <td>2023-07-27 01:07:00</td>\n      <td>2023-07-27 01:07:00</td>\n      <td>True</td>\n      <td>True</td>\n    </tr>\n    <tr>\n      <th>17</th>\n      <td>202307277679020</td>\n      <td>L79020</td>\n      <td>2023-07-27</td>\n      <td>Darwin</td>\n      <td>WBRNPKS</td>\n      <td>2023-07-27 00:33:00</td>\n      <td>2023-07-27 00:35:00</td>\n      <td>NaT</td>\n      <td>NaT</td>\n      <td>A</td>\n      <td>2023-07-27 01:09:00</td>\n      <td>2023-07-27 01:10:00</td>\n      <td>True</td>\n      <td>True</td>\n    </tr>\n    <tr>\n      <th>22</th>\n      <td>202307277674553</td>\n      <td>L74553</td>\n      <td>2023-07-27</td>\n      <td>TD</td>\n      <td>SVNOAKS</td>\n      <td>2023-07-27 21:53:00</td>\n      <td>2023-07-27 21:54:30</td>\n      <td>2023-07-27 21:53:00</td>\n      <td>2023-07-27 21:54:00</td>\n      <td>1</td>\n      <td>NaT</td>\n      <td>NaT</td>\n      <td>False</td>\n      <td>False</td>\n    </tr>\n    <tr>\n      <th>...</th>\n      <td>...</td>\n      <td>...</td>\n      <td>...</td>\n      <td>...</td>\n      <td>...</td>\n      <td>...</td>\n      <td>...</td>\n      <td>...</td>\n      <td>...</td>\n      <td>...</td>\n      <td>...</td>\n      <td>...</td>\n      <td>...</td>\n      <td>...</td>\n    </tr>\n    <tr>\n      <th>94233</th>\n      <td>202307278055183</td>\n      <td>P55183</td>\n      <td>2023-07-27</td>\n      <td>Darwin</td>\n      <td>BRADIN</td>\n      <td>2023-07-27 17:30:30</td>\n      <td>2023-07-27 17:33:30</td>\n      <td>2023-07-27 17:31:00</td>\n      <td>2023-07-27 17:33:00</td>\n      <td>4</td>\n      <td>2023-07-27 18:07:00</td>\n      <td>2023-07-27 18:08:00</td>\n      <td>True</td>\n      <td>True</td>\n    </tr>\n    <tr>\n      <th>94235</th>\n      <td>202307278055183</td>\n      <td>P55183</td>\n      <td>2023-07-27</td>\n      <td>Darwin</td>\n      <td>HLFX</td>\n      <td>2023-07-27 17:44:00</td>\n      <td>2023-07-27 17:45:00</td>\n      <td>2023-07-27 17:44:00</td>\n      <td>2023-07-27 17:45:00</td>\n      <td>1</td>\n      <td>2023-07-27 18:18:00</td>\n      <td>2023-07-27 18:19:00</td>\n      <td>True</td>\n      <td>True</td>\n    </tr>\n    <tr>\n      <th>94238</th>\n      <td>202307278055183</td>\n      <td>P55183</td>\n      <td>2023-07-27</td>\n      <td>Darwin</td>\n      <td>HBDNBDG</td>\n      <td>2023-07-27 17:58:30</td>\n      <td>2023-07-27 18:01:30</td>\n      <td>2023-07-27 17:59:00</td>\n      <td>2023-07-27 18:01:00</td>\n      <td>1</td>\n      <td>2023-07-27 18:29:00</td>\n      <td>2023-07-27 18:30:00</td>\n      <td>True</td>\n      <td>True</td>\n    </tr>\n    <tr>\n      <th>94240</th>\n      <td>202307278055183</td>\n      <td>P55183</td>\n      <td>2023-07-27</td>\n      <td>Darwin</td>\n      <td>TODMRDN</td>\n      <td>2023-07-27 18:08:30</td>\n      <td>2023-07-27 18:09:30</td>\n      <td>2023-07-27 18:09:00</td>\n      <td>2023-07-27 18:09:00</td>\n      <td>1</td>\n      <td>2023-07-27 18:35:00</td>\n      <td>2023-07-27 18:35:00</td>\n      <td>True</td>\n      <td>True</td>\n    </tr>\n    <tr>\n      <th>94243</th>\n      <td>202307278055183</td>\n      <td>P55183</td>\n      <td>2023-07-27</td>\n      <td>Darwin</td>\n      <td>RCHDALE</td>\n      <td>2023-07-27 18:18:30</td>\n      <td>2023-07-27 18:19:30</td>\n      <td>2023-07-27 18:19:00</td>\n      <td>2023-07-27 18:19:00</td>\n      <td>3</td>\n      <td>2023-07-27 18:44:00</td>\n      <td>2023-07-27 18:45:00</td>\n      <td>True</td>\n      <td>True</td>\n    </tr>\n  </tbody>\n</table>\n<p>37100 rows × 14 columns</p>\n</div>"
     },
     "execution_count": 69,
     "metadata": {},
     "output_type": "execute_result"
    }
   ],
   "source": [
    "df"
   ],
   "metadata": {
    "collapsed": false,
    "ExecuteTime": {
     "end_time": "2023-08-12T04:59:42.019310Z",
     "start_time": "2023-08-12T04:59:41.993487Z"
    }
   },
   "id": "4fe6c0292ec29ace"
  },
  {
   "cell_type": "markdown",
   "source": [
    "#### Because there are multiple update origins, we need to elimate rows where both actual arrival and depature have null values"
   ],
   "metadata": {
    "collapsed": false
   },
   "id": "6b445f5a894452f5"
  },
  {
   "cell_type": "code",
   "execution_count": 70,
   "outputs": [
    {
     "data": {
      "text/plain": "Index(['route_id', 'unique_id', 'service_start_date', 'update_origin',\n       'train_platform', 'working_time_arrival', 'working_time_departure',\n       'planned_time_arrival', 'planned_time_departure', 'platform',\n       'actual_arrival_time', 'actual_departure_time', 'is_delayed_arrival',\n       'is_delayed_departure'],\n      dtype='object')"
     },
     "execution_count": 70,
     "metadata": {},
     "output_type": "execute_result"
    }
   ],
   "source": [
    "df.columns"
   ],
   "metadata": {
    "collapsed": false,
    "ExecuteTime": {
     "end_time": "2023-08-12T04:59:42.019624Z",
     "start_time": "2023-08-12T04:59:42.007784Z"
    }
   },
   "id": "a3b5154fc8a13004"
  },
  {
   "cell_type": "code",
   "execution_count": 71,
   "outputs": [],
   "source": [
    "df.dropna(subset=['actual_departure_time', 'actual_arrival_time'], how='all', inplace=True)"
   ],
   "metadata": {
    "collapsed": false,
    "ExecuteTime": {
     "end_time": "2023-08-12T04:59:42.036200Z",
     "start_time": "2023-08-12T04:59:42.014351Z"
    }
   },
   "id": "814a057395f6efde"
  },
  {
   "cell_type": "code",
   "execution_count": 72,
   "outputs": [
    {
     "data": {
      "text/plain": "              route_id unique_id service_start_date update_origin  \\\n8      202307277679020    L79020         2023-07-27        Darwin   \n10     202307277679020    L79020         2023-07-27        Darwin   \n16     202307277679020    L79020         2023-07-27        Darwin   \n17     202307277679020    L79020         2023-07-27        Darwin   \n25     202307277679633    L79633         2023-07-27            TD   \n...                ...       ...                ...           ...   \n94233  202307278055183    P55183         2023-07-27        Darwin   \n94235  202307278055183    P55183         2023-07-27        Darwin   \n94238  202307278055183    P55183         2023-07-27        Darwin   \n94240  202307278055183    P55183         2023-07-27        Darwin   \n94243  202307278055183    P55183         2023-07-27        Darwin   \n\n      train_platform working_time_arrival working_time_departure  \\\n8               STFD  2023-07-27 00:03:00    2023-07-27 00:03:30   \n10           SPNY205  2023-07-27 00:07:00    2023-07-27 00:13:30   \n16            PADTLL  2023-07-27 00:30:30    2023-07-27 00:31:00   \n17           WBRNPKS  2023-07-27 00:33:00    2023-07-27 00:35:00   \n25              STFD  2023-07-27 19:42:30    2023-07-27 19:43:30   \n...              ...                  ...                    ...   \n94233         BRADIN  2023-07-27 17:30:30    2023-07-27 17:33:30   \n94235           HLFX  2023-07-27 17:44:00    2023-07-27 17:45:00   \n94238        HBDNBDG  2023-07-27 17:58:30    2023-07-27 18:01:30   \n94240        TODMRDN  2023-07-27 18:08:30    2023-07-27 18:09:30   \n94243        RCHDALE  2023-07-27 18:18:30    2023-07-27 18:19:30   \n\n      planned_time_arrival planned_time_departure platform  \\\n8                      NaT                    NaT        5   \n10                     NaT                    NaT     None   \n16                     NaT                    NaT        B   \n17                     NaT                    NaT        A   \n25     2023-07-27 19:43:00    2023-07-27 19:43:00        8   \n...                    ...                    ...      ...   \n94233  2023-07-27 17:31:00    2023-07-27 17:33:00        4   \n94235  2023-07-27 17:44:00    2023-07-27 17:45:00        1   \n94238  2023-07-27 17:59:00    2023-07-27 18:01:00        1   \n94240  2023-07-27 18:09:00    2023-07-27 18:09:00        1   \n94243  2023-07-27 18:19:00    2023-07-27 18:19:00        3   \n\n      actual_arrival_time actual_departure_time  is_delayed_arrival  \\\n8     2023-07-27 00:53:00   2023-07-27 00:53:00                True   \n10    2023-07-27 00:57:00   2023-07-27 00:58:00                True   \n16    2023-07-27 01:07:00   2023-07-27 01:07:00                True   \n17    2023-07-27 01:09:00   2023-07-27 01:10:00                True   \n25    2023-07-27 19:43:00   2023-07-27 19:44:00               False   \n...                   ...                   ...                 ...   \n94233 2023-07-27 18:07:00   2023-07-27 18:08:00                True   \n94235 2023-07-27 18:18:00   2023-07-27 18:19:00                True   \n94238 2023-07-27 18:29:00   2023-07-27 18:30:00                True   \n94240 2023-07-27 18:35:00   2023-07-27 18:35:00                True   \n94243 2023-07-27 18:44:00   2023-07-27 18:45:00                True   \n\n       is_delayed_departure  \n8                      True  \n10                     True  \n16                     True  \n17                     True  \n25                    False  \n...                     ...  \n94233                  True  \n94235                  True  \n94238                  True  \n94240                  True  \n94243                  True  \n\n[34726 rows x 14 columns]",
      "text/html": "<div>\n<style scoped>\n    .dataframe tbody tr th:only-of-type {\n        vertical-align: middle;\n    }\n\n    .dataframe tbody tr th {\n        vertical-align: top;\n    }\n\n    .dataframe thead th {\n        text-align: right;\n    }\n</style>\n<table border=\"1\" class=\"dataframe\">\n  <thead>\n    <tr style=\"text-align: right;\">\n      <th></th>\n      <th>route_id</th>\n      <th>unique_id</th>\n      <th>service_start_date</th>\n      <th>update_origin</th>\n      <th>train_platform</th>\n      <th>working_time_arrival</th>\n      <th>working_time_departure</th>\n      <th>planned_time_arrival</th>\n      <th>planned_time_departure</th>\n      <th>platform</th>\n      <th>actual_arrival_time</th>\n      <th>actual_departure_time</th>\n      <th>is_delayed_arrival</th>\n      <th>is_delayed_departure</th>\n    </tr>\n  </thead>\n  <tbody>\n    <tr>\n      <th>8</th>\n      <td>202307277679020</td>\n      <td>L79020</td>\n      <td>2023-07-27</td>\n      <td>Darwin</td>\n      <td>STFD</td>\n      <td>2023-07-27 00:03:00</td>\n      <td>2023-07-27 00:03:30</td>\n      <td>NaT</td>\n      <td>NaT</td>\n      <td>5</td>\n      <td>2023-07-27 00:53:00</td>\n      <td>2023-07-27 00:53:00</td>\n      <td>True</td>\n      <td>True</td>\n    </tr>\n    <tr>\n      <th>10</th>\n      <td>202307277679020</td>\n      <td>L79020</td>\n      <td>2023-07-27</td>\n      <td>Darwin</td>\n      <td>SPNY205</td>\n      <td>2023-07-27 00:07:00</td>\n      <td>2023-07-27 00:13:30</td>\n      <td>NaT</td>\n      <td>NaT</td>\n      <td>None</td>\n      <td>2023-07-27 00:57:00</td>\n      <td>2023-07-27 00:58:00</td>\n      <td>True</td>\n      <td>True</td>\n    </tr>\n    <tr>\n      <th>16</th>\n      <td>202307277679020</td>\n      <td>L79020</td>\n      <td>2023-07-27</td>\n      <td>Darwin</td>\n      <td>PADTLL</td>\n      <td>2023-07-27 00:30:30</td>\n      <td>2023-07-27 00:31:00</td>\n      <td>NaT</td>\n      <td>NaT</td>\n      <td>B</td>\n      <td>2023-07-27 01:07:00</td>\n      <td>2023-07-27 01:07:00</td>\n      <td>True</td>\n      <td>True</td>\n    </tr>\n    <tr>\n      <th>17</th>\n      <td>202307277679020</td>\n      <td>L79020</td>\n      <td>2023-07-27</td>\n      <td>Darwin</td>\n      <td>WBRNPKS</td>\n      <td>2023-07-27 00:33:00</td>\n      <td>2023-07-27 00:35:00</td>\n      <td>NaT</td>\n      <td>NaT</td>\n      <td>A</td>\n      <td>2023-07-27 01:09:00</td>\n      <td>2023-07-27 01:10:00</td>\n      <td>True</td>\n      <td>True</td>\n    </tr>\n    <tr>\n      <th>25</th>\n      <td>202307277679633</td>\n      <td>L79633</td>\n      <td>2023-07-27</td>\n      <td>TD</td>\n      <td>STFD</td>\n      <td>2023-07-27 19:42:30</td>\n      <td>2023-07-27 19:43:30</td>\n      <td>2023-07-27 19:43:00</td>\n      <td>2023-07-27 19:43:00</td>\n      <td>8</td>\n      <td>2023-07-27 19:43:00</td>\n      <td>2023-07-27 19:44:00</td>\n      <td>False</td>\n      <td>False</td>\n    </tr>\n    <tr>\n      <th>...</th>\n      <td>...</td>\n      <td>...</td>\n      <td>...</td>\n      <td>...</td>\n      <td>...</td>\n      <td>...</td>\n      <td>...</td>\n      <td>...</td>\n      <td>...</td>\n      <td>...</td>\n      <td>...</td>\n      <td>...</td>\n      <td>...</td>\n      <td>...</td>\n    </tr>\n    <tr>\n      <th>94233</th>\n      <td>202307278055183</td>\n      <td>P55183</td>\n      <td>2023-07-27</td>\n      <td>Darwin</td>\n      <td>BRADIN</td>\n      <td>2023-07-27 17:30:30</td>\n      <td>2023-07-27 17:33:30</td>\n      <td>2023-07-27 17:31:00</td>\n      <td>2023-07-27 17:33:00</td>\n      <td>4</td>\n      <td>2023-07-27 18:07:00</td>\n      <td>2023-07-27 18:08:00</td>\n      <td>True</td>\n      <td>True</td>\n    </tr>\n    <tr>\n      <th>94235</th>\n      <td>202307278055183</td>\n      <td>P55183</td>\n      <td>2023-07-27</td>\n      <td>Darwin</td>\n      <td>HLFX</td>\n      <td>2023-07-27 17:44:00</td>\n      <td>2023-07-27 17:45:00</td>\n      <td>2023-07-27 17:44:00</td>\n      <td>2023-07-27 17:45:00</td>\n      <td>1</td>\n      <td>2023-07-27 18:18:00</td>\n      <td>2023-07-27 18:19:00</td>\n      <td>True</td>\n      <td>True</td>\n    </tr>\n    <tr>\n      <th>94238</th>\n      <td>202307278055183</td>\n      <td>P55183</td>\n      <td>2023-07-27</td>\n      <td>Darwin</td>\n      <td>HBDNBDG</td>\n      <td>2023-07-27 17:58:30</td>\n      <td>2023-07-27 18:01:30</td>\n      <td>2023-07-27 17:59:00</td>\n      <td>2023-07-27 18:01:00</td>\n      <td>1</td>\n      <td>2023-07-27 18:29:00</td>\n      <td>2023-07-27 18:30:00</td>\n      <td>True</td>\n      <td>True</td>\n    </tr>\n    <tr>\n      <th>94240</th>\n      <td>202307278055183</td>\n      <td>P55183</td>\n      <td>2023-07-27</td>\n      <td>Darwin</td>\n      <td>TODMRDN</td>\n      <td>2023-07-27 18:08:30</td>\n      <td>2023-07-27 18:09:30</td>\n      <td>2023-07-27 18:09:00</td>\n      <td>2023-07-27 18:09:00</td>\n      <td>1</td>\n      <td>2023-07-27 18:35:00</td>\n      <td>2023-07-27 18:35:00</td>\n      <td>True</td>\n      <td>True</td>\n    </tr>\n    <tr>\n      <th>94243</th>\n      <td>202307278055183</td>\n      <td>P55183</td>\n      <td>2023-07-27</td>\n      <td>Darwin</td>\n      <td>RCHDALE</td>\n      <td>2023-07-27 18:18:30</td>\n      <td>2023-07-27 18:19:30</td>\n      <td>2023-07-27 18:19:00</td>\n      <td>2023-07-27 18:19:00</td>\n      <td>3</td>\n      <td>2023-07-27 18:44:00</td>\n      <td>2023-07-27 18:45:00</td>\n      <td>True</td>\n      <td>True</td>\n    </tr>\n  </tbody>\n</table>\n<p>34726 rows × 14 columns</p>\n</div>"
     },
     "execution_count": 72,
     "metadata": {},
     "output_type": "execute_result"
    }
   ],
   "source": [
    "df"
   ],
   "metadata": {
    "collapsed": false,
    "ExecuteTime": {
     "end_time": "2023-08-12T04:59:42.057513Z",
     "start_time": "2023-08-12T04:59:42.022536Z"
    }
   },
   "id": "92e389d6539d30f4"
  },
  {
   "cell_type": "code",
   "execution_count": 72,
   "outputs": [],
   "source": [],
   "metadata": {
    "collapsed": false,
    "ExecuteTime": {
     "end_time": "2023-08-12T04:59:42.057652Z",
     "start_time": "2023-08-12T04:59:42.034694Z"
    }
   },
   "id": "4ea0cd593648449d"
  }
 ],
 "metadata": {
  "kernelspec": {
   "display_name": "Python 3 (ipykernel)",
   "language": "python",
   "name": "python3"
  },
  "language_info": {
   "codemirror_mode": {
    "name": "ipython",
    "version": 3
   },
   "file_extension": ".py",
   "mimetype": "text/x-python",
   "name": "python",
   "nbconvert_exporter": "python",
   "pygments_lexer": "ipython3",
   "version": "3.9.13"
  }
 },
 "nbformat": 4,
 "nbformat_minor": 5
}
