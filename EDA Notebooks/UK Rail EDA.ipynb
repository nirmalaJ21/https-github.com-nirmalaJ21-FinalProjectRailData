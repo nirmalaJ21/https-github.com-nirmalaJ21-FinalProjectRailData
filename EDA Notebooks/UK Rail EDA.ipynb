{
 "cells": [
  {
   "cell_type": "code",
   "execution_count": 42,
   "id": "3743ab35",
   "metadata": {
    "ExecuteTime": {
     "end_time": "2023-08-13T01:53:49.234406Z",
     "start_time": "2023-08-13T01:53:49.001339Z"
    }
   },
   "outputs": [],
   "source": [
    "import pandas as pd\n",
    "import numpy as np"
   ]
  },
  {
   "cell_type": "code",
   "execution_count": 43,
   "id": "912d3cbf",
   "metadata": {
    "ExecuteTime": {
     "end_time": "2023-08-13T01:53:49.290790Z",
     "start_time": "2023-08-13T01:53:49.006394Z"
    }
   },
   "outputs": [],
   "source": [
    "df = pd.read_parquet('rail_data_cleaned_20230728132300.parquet')"
   ]
  },
  {
   "cell_type": "code",
   "execution_count": 44,
   "id": "5c26a6cd",
   "metadata": {
    "ExecuteTime": {
     "end_time": "2023-08-13T01:53:49.291080Z",
     "start_time": "2023-08-13T01:53:49.085293Z"
    }
   },
   "outputs": [],
   "source": [
    "df2 = pd.read_csv('RailReferences.csv')"
   ]
  },
  {
   "cell_type": "markdown",
   "source": [
    "# Initial EDA"
   ],
   "metadata": {
    "collapsed": false
   },
   "id": "632c8555fb7fd630"
  },
  {
   "cell_type": "code",
   "execution_count": 45,
   "outputs": [
    {
     "name": "stdout",
     "output_type": "stream",
     "text": [
      "<class 'pandas.core.frame.DataFrame'>\n",
      "RangeIndex: 2628 entries, 0 to 2627\n",
      "Data columns (total 12 columns):\n",
      " #   Column                Non-Null Count  Dtype  \n",
      "---  ------                --------------  -----  \n",
      " 0   AtcoCode              2628 non-null   object \n",
      " 1   TiplocCode            2628 non-null   object \n",
      " 2   CrsCode               2628 non-null   object \n",
      " 3   StationName           2628 non-null   object \n",
      " 4   StationNameLang       0 non-null      float64\n",
      " 5   GridType              2627 non-null   object \n",
      " 6   Easting               2628 non-null   int64  \n",
      " 7   Northing              2628 non-null   int64  \n",
      " 8   CreationDateTime      2628 non-null   object \n",
      " 9   ModificationDateTime  2628 non-null   object \n",
      " 10  RevisionNumber        2628 non-null   int64  \n",
      " 11  Modification          2628 non-null   object \n",
      "dtypes: float64(1), int64(3), object(8)\n",
      "memory usage: 246.5+ KB\n"
     ]
    }
   ],
   "source": [
    "df2.info()"
   ],
   "metadata": {
    "collapsed": false,
    "ExecuteTime": {
     "end_time": "2023-08-13T01:53:49.291298Z",
     "start_time": "2023-08-13T01:53:49.099103Z"
    }
   },
   "id": "7ce752b562c344cd"
  },
  {
   "cell_type": "code",
   "execution_count": 46,
   "outputs": [
    {
     "data": {
      "text/plain": "         AtcoCode TiplocCode CrsCode                      StationName  \\\n0     9100PENZNCE    PENZNCE     PNZ            Penzance Rail Station   \n1      9100STIVES     STIVES     SIV  St Ives (Cornwall) Rail Station   \n2     9100CARBISB    CARBISB     CBB          Carbis Bay Rail Station   \n3      9100STERTH     STERTH     SER             St Erth Rail Station   \n4     9100LELANTS    LELANTS     LTS     Lelant Saltings Rail Station   \n...           ...        ...     ...                              ...   \n2623  9100SMRLYTN    SMRLYTN     SYT         Somerleyton Rail Station   \n2624  9100OULTNBS    OULTNBS     OUS  Oulton Broad South Rail Station   \n2625   9100YARMTH     YARMTH     GYM      Great Yarmouth Rail Station   \n2626  9100OULTNBN    OULTNBN     OUN  Oulton Broad North Rail Station   \n2627  9100LOWSTFT    LOWSTFT     LWT           Lowestoft Rail Station   \n\n      StationNameLang GridType  Easting  Northing     CreationDateTime  \\\n0                 NaN        U   147588     30599  2003-11-04T00:00:00   \n1                 NaN        U   151947     40127  2005-04-04T00:00:00   \n2                 NaN        U   152930     38745  2003-11-04T00:00:00   \n3                 NaN        U   154150     35730  2003-11-04T00:00:00   \n4                 NaN        U   154430     36640  2003-11-04T00:00:00   \n...               ...      ...      ...       ...                  ...   \n2623              NaN        U   647930    296530  2003-11-04T00:00:00   \n2624              NaN        U   651920    292205  2005-04-04T00:00:00   \n2625              NaN        U   652000    308100  2003-11-04T00:00:00   \n2626              NaN        U   652420    293140  2005-03-17T00:00:00   \n2627              NaN        U   654747    292890  2003-11-04T00:00:00   \n\n     ModificationDateTime  RevisionNumber Modification  \n0     2011-09-30T14:47:28               2          rev  \n1     2011-09-30T14:47:28               4          rev  \n2     2011-09-30T14:47:28               5          rev  \n3     2007-02-13T17:06:21               3          rev  \n4     2011-09-30T14:47:28               2          rev  \n...                   ...             ...          ...  \n2623  2006-09-18T18:24:34               1          rev  \n2624  2011-08-22T17:03:04               4          rev  \n2625  2007-02-13T17:06:21               4          rev  \n2626  2007-02-13T17:06:21               3          rev  \n2627  2007-02-13T17:06:21               4          rev  \n\n[2628 rows x 12 columns]",
      "text/html": "<div>\n<style scoped>\n    .dataframe tbody tr th:only-of-type {\n        vertical-align: middle;\n    }\n\n    .dataframe tbody tr th {\n        vertical-align: top;\n    }\n\n    .dataframe thead th {\n        text-align: right;\n    }\n</style>\n<table border=\"1\" class=\"dataframe\">\n  <thead>\n    <tr style=\"text-align: right;\">\n      <th></th>\n      <th>AtcoCode</th>\n      <th>TiplocCode</th>\n      <th>CrsCode</th>\n      <th>StationName</th>\n      <th>StationNameLang</th>\n      <th>GridType</th>\n      <th>Easting</th>\n      <th>Northing</th>\n      <th>CreationDateTime</th>\n      <th>ModificationDateTime</th>\n      <th>RevisionNumber</th>\n      <th>Modification</th>\n    </tr>\n  </thead>\n  <tbody>\n    <tr>\n      <th>0</th>\n      <td>9100PENZNCE</td>\n      <td>PENZNCE</td>\n      <td>PNZ</td>\n      <td>Penzance Rail Station</td>\n      <td>NaN</td>\n      <td>U</td>\n      <td>147588</td>\n      <td>30599</td>\n      <td>2003-11-04T00:00:00</td>\n      <td>2011-09-30T14:47:28</td>\n      <td>2</td>\n      <td>rev</td>\n    </tr>\n    <tr>\n      <th>1</th>\n      <td>9100STIVES</td>\n      <td>STIVES</td>\n      <td>SIV</td>\n      <td>St Ives (Cornwall) Rail Station</td>\n      <td>NaN</td>\n      <td>U</td>\n      <td>151947</td>\n      <td>40127</td>\n      <td>2005-04-04T00:00:00</td>\n      <td>2011-09-30T14:47:28</td>\n      <td>4</td>\n      <td>rev</td>\n    </tr>\n    <tr>\n      <th>2</th>\n      <td>9100CARBISB</td>\n      <td>CARBISB</td>\n      <td>CBB</td>\n      <td>Carbis Bay Rail Station</td>\n      <td>NaN</td>\n      <td>U</td>\n      <td>152930</td>\n      <td>38745</td>\n      <td>2003-11-04T00:00:00</td>\n      <td>2011-09-30T14:47:28</td>\n      <td>5</td>\n      <td>rev</td>\n    </tr>\n    <tr>\n      <th>3</th>\n      <td>9100STERTH</td>\n      <td>STERTH</td>\n      <td>SER</td>\n      <td>St Erth Rail Station</td>\n      <td>NaN</td>\n      <td>U</td>\n      <td>154150</td>\n      <td>35730</td>\n      <td>2003-11-04T00:00:00</td>\n      <td>2007-02-13T17:06:21</td>\n      <td>3</td>\n      <td>rev</td>\n    </tr>\n    <tr>\n      <th>4</th>\n      <td>9100LELANTS</td>\n      <td>LELANTS</td>\n      <td>LTS</td>\n      <td>Lelant Saltings Rail Station</td>\n      <td>NaN</td>\n      <td>U</td>\n      <td>154430</td>\n      <td>36640</td>\n      <td>2003-11-04T00:00:00</td>\n      <td>2011-09-30T14:47:28</td>\n      <td>2</td>\n      <td>rev</td>\n    </tr>\n    <tr>\n      <th>...</th>\n      <td>...</td>\n      <td>...</td>\n      <td>...</td>\n      <td>...</td>\n      <td>...</td>\n      <td>...</td>\n      <td>...</td>\n      <td>...</td>\n      <td>...</td>\n      <td>...</td>\n      <td>...</td>\n      <td>...</td>\n    </tr>\n    <tr>\n      <th>2623</th>\n      <td>9100SMRLYTN</td>\n      <td>SMRLYTN</td>\n      <td>SYT</td>\n      <td>Somerleyton Rail Station</td>\n      <td>NaN</td>\n      <td>U</td>\n      <td>647930</td>\n      <td>296530</td>\n      <td>2003-11-04T00:00:00</td>\n      <td>2006-09-18T18:24:34</td>\n      <td>1</td>\n      <td>rev</td>\n    </tr>\n    <tr>\n      <th>2624</th>\n      <td>9100OULTNBS</td>\n      <td>OULTNBS</td>\n      <td>OUS</td>\n      <td>Oulton Broad South Rail Station</td>\n      <td>NaN</td>\n      <td>U</td>\n      <td>651920</td>\n      <td>292205</td>\n      <td>2005-04-04T00:00:00</td>\n      <td>2011-08-22T17:03:04</td>\n      <td>4</td>\n      <td>rev</td>\n    </tr>\n    <tr>\n      <th>2625</th>\n      <td>9100YARMTH</td>\n      <td>YARMTH</td>\n      <td>GYM</td>\n      <td>Great Yarmouth Rail Station</td>\n      <td>NaN</td>\n      <td>U</td>\n      <td>652000</td>\n      <td>308100</td>\n      <td>2003-11-04T00:00:00</td>\n      <td>2007-02-13T17:06:21</td>\n      <td>4</td>\n      <td>rev</td>\n    </tr>\n    <tr>\n      <th>2626</th>\n      <td>9100OULTNBN</td>\n      <td>OULTNBN</td>\n      <td>OUN</td>\n      <td>Oulton Broad North Rail Station</td>\n      <td>NaN</td>\n      <td>U</td>\n      <td>652420</td>\n      <td>293140</td>\n      <td>2005-03-17T00:00:00</td>\n      <td>2007-02-13T17:06:21</td>\n      <td>3</td>\n      <td>rev</td>\n    </tr>\n    <tr>\n      <th>2627</th>\n      <td>9100LOWSTFT</td>\n      <td>LOWSTFT</td>\n      <td>LWT</td>\n      <td>Lowestoft Rail Station</td>\n      <td>NaN</td>\n      <td>U</td>\n      <td>654747</td>\n      <td>292890</td>\n      <td>2003-11-04T00:00:00</td>\n      <td>2007-02-13T17:06:21</td>\n      <td>4</td>\n      <td>rev</td>\n    </tr>\n  </tbody>\n</table>\n<p>2628 rows × 12 columns</p>\n</div>"
     },
     "execution_count": 46,
     "metadata": {},
     "output_type": "execute_result"
    }
   ],
   "source": [
    "df2"
   ],
   "metadata": {
    "collapsed": false,
    "ExecuteTime": {
     "end_time": "2023-08-13T01:53:49.291870Z",
     "start_time": "2023-08-13T01:53:49.122554Z"
    }
   },
   "id": "9ad72140cb236b80"
  },
  {
   "cell_type": "code",
   "execution_count": 47,
   "id": "a3063d8f",
   "metadata": {
    "ExecuteTime": {
     "end_time": "2023-08-13T01:53:49.292467Z",
     "start_time": "2023-08-13T01:53:49.177814Z"
    }
   },
   "outputs": [
    {
     "name": "stdout",
     "output_type": "stream",
     "text": [
      "<class 'pandas.core.frame.DataFrame'>\n",
      "Int64Index: 37100 entries, 8 to 94243\n",
      "Data columns (total 17 columns):\n",
      " #   Column                  Non-Null Count  Dtype         \n",
      "---  ------                  --------------  -----         \n",
      " 0   route_id                37100 non-null  object        \n",
      " 1   unique_id               37100 non-null  object        \n",
      " 2   service_start_date      37100 non-null  object        \n",
      " 3   update_origin           36515 non-null  object        \n",
      " 4   train_platform          37100 non-null  object        \n",
      " 5   working_time_pass       0 non-null      datetime64[ns]\n",
      " 6   working_time_arrival    37100 non-null  datetime64[ns]\n",
      " 7   working_time_departure  37100 non-null  datetime64[ns]\n",
      " 8   planned_time_arrival    33855 non-null  datetime64[ns]\n",
      " 9   planned_time_departure  33580 non-null  datetime64[ns]\n",
      " 10  pass                    0 non-null      float64       \n",
      " 11  platform                34114 non-null  object        \n",
      " 12  train_length            10595 non-null  object        \n",
      " 13  actual_arrival_time     31769 non-null  datetime64[ns]\n",
      " 14  actual_departure_time   34384 non-null  datetime64[ns]\n",
      " 15  is_delayed_arrival      37100 non-null  bool          \n",
      " 16  is_delayed_departure    37100 non-null  bool          \n",
      "dtypes: bool(2), datetime64[ns](7), float64(1), object(7)\n",
      "memory usage: 4.6+ MB\n"
     ]
    }
   ],
   "source": [
    "df.info()"
   ]
  },
  {
   "cell_type": "code",
   "execution_count": 48,
   "outputs": [
    {
     "data": {
      "text/plain": "(37100, 17)"
     },
     "execution_count": 48,
     "metadata": {},
     "output_type": "execute_result"
    }
   ],
   "source": [
    "df.shape"
   ],
   "metadata": {
    "collapsed": false,
    "ExecuteTime": {
     "end_time": "2023-08-13T01:53:49.292643Z",
     "start_time": "2023-08-13T01:53:49.185650Z"
    }
   },
   "id": "6f269ffbba910c25"
  },
  {
   "cell_type": "code",
   "execution_count": 49,
   "id": "5ff17000",
   "metadata": {
    "ExecuteTime": {
     "end_time": "2023-08-13T01:53:49.293179Z",
     "start_time": "2023-08-13T01:53:49.200632Z"
    }
   },
   "outputs": [
    {
     "data": {
      "text/plain": "           route_id unique_id service_start_date update_origin train_platform  \\\n8   202307277679020    L79020         2023-07-27        Darwin           STFD   \n10  202307277679020    L79020         2023-07-27        Darwin        SPNY205   \n16  202307277679020    L79020         2023-07-27        Darwin         PADTLL   \n17  202307277679020    L79020         2023-07-27        Darwin        WBRNPKS   \n22  202307277674553    L74553         2023-07-27            TD        SVNOAKS   \n25  202307277679633    L79633         2023-07-27            TD           STFD   \n26  202307277679633    L79633         2023-07-27            TD        MRYLAND   \n27  202307277679633    L79633         2023-07-27            TD         FRSTGT   \n29  202307277679633    L79633         2023-07-27            TD         MANRPK   \n30  202307277679633    L79633         2023-07-27            TD         ILFORD   \n31  202307277679633    L79633         2023-07-27            TD        SVNKNGS   \n32  202307277679633    L79633         2023-07-27            TD        GODMAYS   \n33  202307277679633    L79633         2023-07-27            TD        CHDWLHT   \n34  202307277679633    L79633         2023-07-27            TD        ROMFORD   \n35  202307277679633    L79633         2023-07-27            TD        GIDEAPK   \n\n   working_time_pass working_time_arrival working_time_departure  \\\n8                NaT  2023-07-27 00:03:00    2023-07-27 00:03:30   \n10               NaT  2023-07-27 00:07:00    2023-07-27 00:13:30   \n16               NaT  2023-07-27 00:30:30    2023-07-27 00:31:00   \n17               NaT  2023-07-27 00:33:00    2023-07-27 00:35:00   \n22               NaT  2023-07-27 21:53:00    2023-07-27 21:54:30   \n25               NaT  2023-07-27 19:42:30    2023-07-27 19:43:30   \n26               NaT  2023-07-27 19:45:00    2023-07-27 19:45:30   \n27               NaT  2023-07-27 19:47:00    2023-07-27 19:47:30   \n29               NaT  2023-07-27 19:49:30    2023-07-27 19:50:00   \n30               NaT  2023-07-27 19:52:00    2023-07-27 19:53:00   \n31               NaT  2023-07-27 19:55:00    2023-07-27 19:55:30   \n32               NaT  2023-07-27 19:57:00    2023-07-27 19:57:30   \n33               NaT  2023-07-27 19:59:00    2023-07-27 19:59:30   \n34               NaT  2023-07-27 20:02:30    2023-07-27 20:03:30   \n35               NaT  2023-07-27 20:05:30    2023-07-27 20:06:00   \n\n   planned_time_arrival planned_time_departure  pass platform train_length  \\\n8                   NaT                    NaT   NaN        5         None   \n10                  NaT                    NaT   NaN     None         None   \n16                  NaT                    NaT   NaN        B         None   \n17                  NaT                    NaT   NaN        A         None   \n22  2023-07-27 21:53:00    2023-07-27 21:54:00   NaN        1            8   \n25  2023-07-27 19:43:00    2023-07-27 19:43:00   NaN        8         None   \n26  2023-07-27 19:45:00    2023-07-27 19:45:00   NaN        2         None   \n27  2023-07-27 19:47:00    2023-07-27 19:47:00   NaN        2         None   \n29  2023-07-27 19:50:00    2023-07-27 19:50:00   NaN        2         None   \n30  2023-07-27 19:52:00    2023-07-27 19:53:00   NaN        4         None   \n31  2023-07-27 19:55:00    2023-07-27 19:55:00   NaN        4         None   \n32  2023-07-27 19:57:00    2023-07-27 19:57:00   NaN        4         None   \n33  2023-07-27 19:59:00    2023-07-27 19:59:00   NaN        4         None   \n34  2023-07-27 20:03:00    2023-07-27 20:03:00   NaN        5         None   \n35  2023-07-27 20:06:00    2023-07-27 20:06:00   NaN        4         None   \n\n   actual_arrival_time actual_departure_time  is_delayed_arrival  \\\n8  2023-07-27 00:53:00   2023-07-27 00:53:00                True   \n10 2023-07-27 00:57:00   2023-07-27 00:58:00                True   \n16 2023-07-27 01:07:00   2023-07-27 01:07:00                True   \n17 2023-07-27 01:09:00   2023-07-27 01:10:00                True   \n22                 NaT                   NaT               False   \n25 2023-07-27 19:43:00   2023-07-27 19:44:00               False   \n26 2023-07-27 19:45:00   2023-07-27 19:46:00               False   \n27 2023-07-27 19:47:00   2023-07-27 19:48:00               False   \n29 2023-07-27 19:50:00   2023-07-27 19:50:00               False   \n30 2023-07-27 19:52:00   2023-07-27 19:53:00               False   \n31 2023-07-27 19:55:00   2023-07-27 19:55:00               False   \n32 2023-07-27 19:57:00   2023-07-27 19:57:00               False   \n33 2023-07-27 19:59:00   2023-07-27 19:59:00               False   \n34 2023-07-27 20:03:00   2023-07-27 20:03:00               False   \n35 2023-07-27 20:06:00   2023-07-27 20:06:00               False   \n\n    is_delayed_departure  \n8                   True  \n10                  True  \n16                  True  \n17                  True  \n22                 False  \n25                 False  \n26                 False  \n27                 False  \n29                 False  \n30                 False  \n31                 False  \n32                 False  \n33                 False  \n34                 False  \n35                 False  ",
      "text/html": "<div>\n<style scoped>\n    .dataframe tbody tr th:only-of-type {\n        vertical-align: middle;\n    }\n\n    .dataframe tbody tr th {\n        vertical-align: top;\n    }\n\n    .dataframe thead th {\n        text-align: right;\n    }\n</style>\n<table border=\"1\" class=\"dataframe\">\n  <thead>\n    <tr style=\"text-align: right;\">\n      <th></th>\n      <th>route_id</th>\n      <th>unique_id</th>\n      <th>service_start_date</th>\n      <th>update_origin</th>\n      <th>train_platform</th>\n      <th>working_time_pass</th>\n      <th>working_time_arrival</th>\n      <th>working_time_departure</th>\n      <th>planned_time_arrival</th>\n      <th>planned_time_departure</th>\n      <th>pass</th>\n      <th>platform</th>\n      <th>train_length</th>\n      <th>actual_arrival_time</th>\n      <th>actual_departure_time</th>\n      <th>is_delayed_arrival</th>\n      <th>is_delayed_departure</th>\n    </tr>\n  </thead>\n  <tbody>\n    <tr>\n      <th>8</th>\n      <td>202307277679020</td>\n      <td>L79020</td>\n      <td>2023-07-27</td>\n      <td>Darwin</td>\n      <td>STFD</td>\n      <td>NaT</td>\n      <td>2023-07-27 00:03:00</td>\n      <td>2023-07-27 00:03:30</td>\n      <td>NaT</td>\n      <td>NaT</td>\n      <td>NaN</td>\n      <td>5</td>\n      <td>None</td>\n      <td>2023-07-27 00:53:00</td>\n      <td>2023-07-27 00:53:00</td>\n      <td>True</td>\n      <td>True</td>\n    </tr>\n    <tr>\n      <th>10</th>\n      <td>202307277679020</td>\n      <td>L79020</td>\n      <td>2023-07-27</td>\n      <td>Darwin</td>\n      <td>SPNY205</td>\n      <td>NaT</td>\n      <td>2023-07-27 00:07:00</td>\n      <td>2023-07-27 00:13:30</td>\n      <td>NaT</td>\n      <td>NaT</td>\n      <td>NaN</td>\n      <td>None</td>\n      <td>None</td>\n      <td>2023-07-27 00:57:00</td>\n      <td>2023-07-27 00:58:00</td>\n      <td>True</td>\n      <td>True</td>\n    </tr>\n    <tr>\n      <th>16</th>\n      <td>202307277679020</td>\n      <td>L79020</td>\n      <td>2023-07-27</td>\n      <td>Darwin</td>\n      <td>PADTLL</td>\n      <td>NaT</td>\n      <td>2023-07-27 00:30:30</td>\n      <td>2023-07-27 00:31:00</td>\n      <td>NaT</td>\n      <td>NaT</td>\n      <td>NaN</td>\n      <td>B</td>\n      <td>None</td>\n      <td>2023-07-27 01:07:00</td>\n      <td>2023-07-27 01:07:00</td>\n      <td>True</td>\n      <td>True</td>\n    </tr>\n    <tr>\n      <th>17</th>\n      <td>202307277679020</td>\n      <td>L79020</td>\n      <td>2023-07-27</td>\n      <td>Darwin</td>\n      <td>WBRNPKS</td>\n      <td>NaT</td>\n      <td>2023-07-27 00:33:00</td>\n      <td>2023-07-27 00:35:00</td>\n      <td>NaT</td>\n      <td>NaT</td>\n      <td>NaN</td>\n      <td>A</td>\n      <td>None</td>\n      <td>2023-07-27 01:09:00</td>\n      <td>2023-07-27 01:10:00</td>\n      <td>True</td>\n      <td>True</td>\n    </tr>\n    <tr>\n      <th>22</th>\n      <td>202307277674553</td>\n      <td>L74553</td>\n      <td>2023-07-27</td>\n      <td>TD</td>\n      <td>SVNOAKS</td>\n      <td>NaT</td>\n      <td>2023-07-27 21:53:00</td>\n      <td>2023-07-27 21:54:30</td>\n      <td>2023-07-27 21:53:00</td>\n      <td>2023-07-27 21:54:00</td>\n      <td>NaN</td>\n      <td>1</td>\n      <td>8</td>\n      <td>NaT</td>\n      <td>NaT</td>\n      <td>False</td>\n      <td>False</td>\n    </tr>\n    <tr>\n      <th>25</th>\n      <td>202307277679633</td>\n      <td>L79633</td>\n      <td>2023-07-27</td>\n      <td>TD</td>\n      <td>STFD</td>\n      <td>NaT</td>\n      <td>2023-07-27 19:42:30</td>\n      <td>2023-07-27 19:43:30</td>\n      <td>2023-07-27 19:43:00</td>\n      <td>2023-07-27 19:43:00</td>\n      <td>NaN</td>\n      <td>8</td>\n      <td>None</td>\n      <td>2023-07-27 19:43:00</td>\n      <td>2023-07-27 19:44:00</td>\n      <td>False</td>\n      <td>False</td>\n    </tr>\n    <tr>\n      <th>26</th>\n      <td>202307277679633</td>\n      <td>L79633</td>\n      <td>2023-07-27</td>\n      <td>TD</td>\n      <td>MRYLAND</td>\n      <td>NaT</td>\n      <td>2023-07-27 19:45:00</td>\n      <td>2023-07-27 19:45:30</td>\n      <td>2023-07-27 19:45:00</td>\n      <td>2023-07-27 19:45:00</td>\n      <td>NaN</td>\n      <td>2</td>\n      <td>None</td>\n      <td>2023-07-27 19:45:00</td>\n      <td>2023-07-27 19:46:00</td>\n      <td>False</td>\n      <td>False</td>\n    </tr>\n    <tr>\n      <th>27</th>\n      <td>202307277679633</td>\n      <td>L79633</td>\n      <td>2023-07-27</td>\n      <td>TD</td>\n      <td>FRSTGT</td>\n      <td>NaT</td>\n      <td>2023-07-27 19:47:00</td>\n      <td>2023-07-27 19:47:30</td>\n      <td>2023-07-27 19:47:00</td>\n      <td>2023-07-27 19:47:00</td>\n      <td>NaN</td>\n      <td>2</td>\n      <td>None</td>\n      <td>2023-07-27 19:47:00</td>\n      <td>2023-07-27 19:48:00</td>\n      <td>False</td>\n      <td>False</td>\n    </tr>\n    <tr>\n      <th>29</th>\n      <td>202307277679633</td>\n      <td>L79633</td>\n      <td>2023-07-27</td>\n      <td>TD</td>\n      <td>MANRPK</td>\n      <td>NaT</td>\n      <td>2023-07-27 19:49:30</td>\n      <td>2023-07-27 19:50:00</td>\n      <td>2023-07-27 19:50:00</td>\n      <td>2023-07-27 19:50:00</td>\n      <td>NaN</td>\n      <td>2</td>\n      <td>None</td>\n      <td>2023-07-27 19:50:00</td>\n      <td>2023-07-27 19:50:00</td>\n      <td>False</td>\n      <td>False</td>\n    </tr>\n    <tr>\n      <th>30</th>\n      <td>202307277679633</td>\n      <td>L79633</td>\n      <td>2023-07-27</td>\n      <td>TD</td>\n      <td>ILFORD</td>\n      <td>NaT</td>\n      <td>2023-07-27 19:52:00</td>\n      <td>2023-07-27 19:53:00</td>\n      <td>2023-07-27 19:52:00</td>\n      <td>2023-07-27 19:53:00</td>\n      <td>NaN</td>\n      <td>4</td>\n      <td>None</td>\n      <td>2023-07-27 19:52:00</td>\n      <td>2023-07-27 19:53:00</td>\n      <td>False</td>\n      <td>False</td>\n    </tr>\n    <tr>\n      <th>31</th>\n      <td>202307277679633</td>\n      <td>L79633</td>\n      <td>2023-07-27</td>\n      <td>TD</td>\n      <td>SVNKNGS</td>\n      <td>NaT</td>\n      <td>2023-07-27 19:55:00</td>\n      <td>2023-07-27 19:55:30</td>\n      <td>2023-07-27 19:55:00</td>\n      <td>2023-07-27 19:55:00</td>\n      <td>NaN</td>\n      <td>4</td>\n      <td>None</td>\n      <td>2023-07-27 19:55:00</td>\n      <td>2023-07-27 19:55:00</td>\n      <td>False</td>\n      <td>False</td>\n    </tr>\n    <tr>\n      <th>32</th>\n      <td>202307277679633</td>\n      <td>L79633</td>\n      <td>2023-07-27</td>\n      <td>TD</td>\n      <td>GODMAYS</td>\n      <td>NaT</td>\n      <td>2023-07-27 19:57:00</td>\n      <td>2023-07-27 19:57:30</td>\n      <td>2023-07-27 19:57:00</td>\n      <td>2023-07-27 19:57:00</td>\n      <td>NaN</td>\n      <td>4</td>\n      <td>None</td>\n      <td>2023-07-27 19:57:00</td>\n      <td>2023-07-27 19:57:00</td>\n      <td>False</td>\n      <td>False</td>\n    </tr>\n    <tr>\n      <th>33</th>\n      <td>202307277679633</td>\n      <td>L79633</td>\n      <td>2023-07-27</td>\n      <td>TD</td>\n      <td>CHDWLHT</td>\n      <td>NaT</td>\n      <td>2023-07-27 19:59:00</td>\n      <td>2023-07-27 19:59:30</td>\n      <td>2023-07-27 19:59:00</td>\n      <td>2023-07-27 19:59:00</td>\n      <td>NaN</td>\n      <td>4</td>\n      <td>None</td>\n      <td>2023-07-27 19:59:00</td>\n      <td>2023-07-27 19:59:00</td>\n      <td>False</td>\n      <td>False</td>\n    </tr>\n    <tr>\n      <th>34</th>\n      <td>202307277679633</td>\n      <td>L79633</td>\n      <td>2023-07-27</td>\n      <td>TD</td>\n      <td>ROMFORD</td>\n      <td>NaT</td>\n      <td>2023-07-27 20:02:30</td>\n      <td>2023-07-27 20:03:30</td>\n      <td>2023-07-27 20:03:00</td>\n      <td>2023-07-27 20:03:00</td>\n      <td>NaN</td>\n      <td>5</td>\n      <td>None</td>\n      <td>2023-07-27 20:03:00</td>\n      <td>2023-07-27 20:03:00</td>\n      <td>False</td>\n      <td>False</td>\n    </tr>\n    <tr>\n      <th>35</th>\n      <td>202307277679633</td>\n      <td>L79633</td>\n      <td>2023-07-27</td>\n      <td>TD</td>\n      <td>GIDEAPK</td>\n      <td>NaT</td>\n      <td>2023-07-27 20:05:30</td>\n      <td>2023-07-27 20:06:00</td>\n      <td>2023-07-27 20:06:00</td>\n      <td>2023-07-27 20:06:00</td>\n      <td>NaN</td>\n      <td>4</td>\n      <td>None</td>\n      <td>2023-07-27 20:06:00</td>\n      <td>2023-07-27 20:06:00</td>\n      <td>False</td>\n      <td>False</td>\n    </tr>\n  </tbody>\n</table>\n</div>"
     },
     "execution_count": 49,
     "metadata": {},
     "output_type": "execute_result"
    }
   ],
   "source": [
    "df.head(15)"
   ]
  },
  {
   "cell_type": "code",
   "execution_count": 50,
   "id": "51bc9c69",
   "metadata": {
    "ExecuteTime": {
     "end_time": "2023-08-13T01:53:49.293866Z",
     "start_time": "2023-08-13T01:53:49.207651Z"
    }
   },
   "outputs": [],
   "source": [
    "unique_platform = df['train_platform'].nunique()"
   ]
  },
  {
   "cell_type": "code",
   "execution_count": 51,
   "id": "f2068f46",
   "metadata": {
    "ExecuteTime": {
     "end_time": "2023-08-13T01:53:49.294064Z",
     "start_time": "2023-08-13T01:53:49.211979Z"
    }
   },
   "outputs": [
    {
     "data": {
      "text/plain": "2603"
     },
     "execution_count": 51,
     "metadata": {},
     "output_type": "execute_result"
    }
   ],
   "source": [
    "unique_platform"
   ]
  },
  {
   "cell_type": "code",
   "execution_count": 52,
   "id": "623bfd7f",
   "metadata": {
    "ExecuteTime": {
     "end_time": "2023-08-13T01:53:49.294127Z",
     "start_time": "2023-08-13T01:53:49.216598Z"
    }
   },
   "outputs": [],
   "source": [
    "dropped = ['AtcoCode', 'StationNameLang',\n",
    "       'GridType', 'Easting', 'Northing', 'CreationDateTime',\n",
    "       'ModificationDateTime', 'RevisionNumber', 'Modification']"
   ]
  },
  {
   "cell_type": "code",
   "execution_count": 53,
   "id": "52294507",
   "metadata": {
    "ExecuteTime": {
     "end_time": "2023-08-13T01:53:49.294183Z",
     "start_time": "2023-08-13T01:53:49.220953Z"
    }
   },
   "outputs": [],
   "source": [
    "df2 = df2.drop(columns=dropped)"
   ]
  },
  {
   "cell_type": "code",
   "execution_count": 54,
   "id": "c1bfb49c",
   "metadata": {
    "ExecuteTime": {
     "end_time": "2023-08-13T01:53:49.294249Z",
     "start_time": "2023-08-13T01:53:49.223693Z"
    }
   },
   "outputs": [],
   "source": [
    "dropped = ['working_time_pass', 'pass']"
   ]
  },
  {
   "cell_type": "code",
   "execution_count": 55,
   "id": "2007fbc4",
   "metadata": {
    "ExecuteTime": {
     "end_time": "2023-08-13T01:53:49.295067Z",
     "start_time": "2023-08-13T01:53:49.231042Z"
    }
   },
   "outputs": [],
   "source": [
    "df = df.drop(columns=dropped)"
   ]
  },
  {
   "cell_type": "code",
   "execution_count": 56,
   "id": "ee7d74f0",
   "metadata": {
    "ExecuteTime": {
     "end_time": "2023-08-13T01:53:49.341682Z",
     "start_time": "2023-08-13T01:53:49.241091Z"
    }
   },
   "outputs": [],
   "source": [
    "merged_df = pd.merge(df, df2, left_on='train_platform', right_on='TiplocCode', how='outer')"
   ]
  },
  {
   "cell_type": "code",
   "execution_count": 57,
   "id": "23a80bd5",
   "metadata": {
    "ExecuteTime": {
     "end_time": "2023-08-13T01:53:49.342453Z",
     "start_time": "2023-08-13T01:53:49.267874Z"
    }
   },
   "outputs": [
    {
     "data": {
      "text/plain": "          route_id unique_id service_start_date update_origin train_platform  \\\n0  202307277679020    L79020         2023-07-27        Darwin           STFD   \n1  202307277679633    L79633         2023-07-27            TD           STFD   \n2  202307277679712    L79712         2023-07-27            TD           STFD   \n3  202307277679608    L79608         2023-07-27        Darwin           STFD   \n4  202307278001611    P01611         2023-07-27           CIS           STFD   \n\n  working_time_arrival working_time_departure planned_time_arrival  \\\n0  2023-07-27 00:03:00    2023-07-27 00:03:30                  NaT   \n1  2023-07-27 19:42:30    2023-07-27 19:43:30  2023-07-27 19:43:00   \n2  2023-07-27 17:53:30    2023-07-27 17:54:30  2023-07-27 17:54:00   \n3  2023-07-27 19:06:30    2023-07-27 19:07:30  2023-07-27 19:07:00   \n4  2023-07-27 21:44:30    2023-07-27 21:45:00  2023-07-27 21:45:00   \n\n  planned_time_departure platform train_length actual_arrival_time  \\\n0                    NaT        5         None 2023-07-27 00:53:00   \n1    2023-07-27 19:43:00        8         None 2023-07-27 19:43:00   \n2    2023-07-27 17:54:00        8         None 2023-07-27 17:54:00   \n3    2023-07-27 19:07:00        8         None 2023-07-27 20:46:00   \n4    2023-07-27 21:45:00       10            5 2023-07-27 21:45:00   \n\n  actual_departure_time is_delayed_arrival is_delayed_departure TiplocCode  \\\n0   2023-07-27 00:53:00               True                 True       STFD   \n1   2023-07-27 19:44:00              False                False       STFD   \n2   2023-07-27 17:54:00              False                False       STFD   \n3   2023-07-27 20:47:00               True                 True       STFD   \n4   2023-07-27 21:45:00              False                False       STFD   \n\n  CrsCode                      StationName  \n0     SRA  Stratford (London) Rail Station  \n1     SRA  Stratford (London) Rail Station  \n2     SRA  Stratford (London) Rail Station  \n3     SRA  Stratford (London) Rail Station  \n4     SRA  Stratford (London) Rail Station  ",
      "text/html": "<div>\n<style scoped>\n    .dataframe tbody tr th:only-of-type {\n        vertical-align: middle;\n    }\n\n    .dataframe tbody tr th {\n        vertical-align: top;\n    }\n\n    .dataframe thead th {\n        text-align: right;\n    }\n</style>\n<table border=\"1\" class=\"dataframe\">\n  <thead>\n    <tr style=\"text-align: right;\">\n      <th></th>\n      <th>route_id</th>\n      <th>unique_id</th>\n      <th>service_start_date</th>\n      <th>update_origin</th>\n      <th>train_platform</th>\n      <th>working_time_arrival</th>\n      <th>working_time_departure</th>\n      <th>planned_time_arrival</th>\n      <th>planned_time_departure</th>\n      <th>platform</th>\n      <th>train_length</th>\n      <th>actual_arrival_time</th>\n      <th>actual_departure_time</th>\n      <th>is_delayed_arrival</th>\n      <th>is_delayed_departure</th>\n      <th>TiplocCode</th>\n      <th>CrsCode</th>\n      <th>StationName</th>\n    </tr>\n  </thead>\n  <tbody>\n    <tr>\n      <th>0</th>\n      <td>202307277679020</td>\n      <td>L79020</td>\n      <td>2023-07-27</td>\n      <td>Darwin</td>\n      <td>STFD</td>\n      <td>2023-07-27 00:03:00</td>\n      <td>2023-07-27 00:03:30</td>\n      <td>NaT</td>\n      <td>NaT</td>\n      <td>5</td>\n      <td>None</td>\n      <td>2023-07-27 00:53:00</td>\n      <td>2023-07-27 00:53:00</td>\n      <td>True</td>\n      <td>True</td>\n      <td>STFD</td>\n      <td>SRA</td>\n      <td>Stratford (London) Rail Station</td>\n    </tr>\n    <tr>\n      <th>1</th>\n      <td>202307277679633</td>\n      <td>L79633</td>\n      <td>2023-07-27</td>\n      <td>TD</td>\n      <td>STFD</td>\n      <td>2023-07-27 19:42:30</td>\n      <td>2023-07-27 19:43:30</td>\n      <td>2023-07-27 19:43:00</td>\n      <td>2023-07-27 19:43:00</td>\n      <td>8</td>\n      <td>None</td>\n      <td>2023-07-27 19:43:00</td>\n      <td>2023-07-27 19:44:00</td>\n      <td>False</td>\n      <td>False</td>\n      <td>STFD</td>\n      <td>SRA</td>\n      <td>Stratford (London) Rail Station</td>\n    </tr>\n    <tr>\n      <th>2</th>\n      <td>202307277679712</td>\n      <td>L79712</td>\n      <td>2023-07-27</td>\n      <td>TD</td>\n      <td>STFD</td>\n      <td>2023-07-27 17:53:30</td>\n      <td>2023-07-27 17:54:30</td>\n      <td>2023-07-27 17:54:00</td>\n      <td>2023-07-27 17:54:00</td>\n      <td>8</td>\n      <td>None</td>\n      <td>2023-07-27 17:54:00</td>\n      <td>2023-07-27 17:54:00</td>\n      <td>False</td>\n      <td>False</td>\n      <td>STFD</td>\n      <td>SRA</td>\n      <td>Stratford (London) Rail Station</td>\n    </tr>\n    <tr>\n      <th>3</th>\n      <td>202307277679608</td>\n      <td>L79608</td>\n      <td>2023-07-27</td>\n      <td>Darwin</td>\n      <td>STFD</td>\n      <td>2023-07-27 19:06:30</td>\n      <td>2023-07-27 19:07:30</td>\n      <td>2023-07-27 19:07:00</td>\n      <td>2023-07-27 19:07:00</td>\n      <td>8</td>\n      <td>None</td>\n      <td>2023-07-27 20:46:00</td>\n      <td>2023-07-27 20:47:00</td>\n      <td>True</td>\n      <td>True</td>\n      <td>STFD</td>\n      <td>SRA</td>\n      <td>Stratford (London) Rail Station</td>\n    </tr>\n    <tr>\n      <th>4</th>\n      <td>202307278001611</td>\n      <td>P01611</td>\n      <td>2023-07-27</td>\n      <td>CIS</td>\n      <td>STFD</td>\n      <td>2023-07-27 21:44:30</td>\n      <td>2023-07-27 21:45:00</td>\n      <td>2023-07-27 21:45:00</td>\n      <td>2023-07-27 21:45:00</td>\n      <td>10</td>\n      <td>5</td>\n      <td>2023-07-27 21:45:00</td>\n      <td>2023-07-27 21:45:00</td>\n      <td>False</td>\n      <td>False</td>\n      <td>STFD</td>\n      <td>SRA</td>\n      <td>Stratford (London) Rail Station</td>\n    </tr>\n  </tbody>\n</table>\n</div>"
     },
     "execution_count": 57,
     "metadata": {},
     "output_type": "execute_result"
    }
   ],
   "source": [
    "merged_df.head()"
   ]
  },
  {
   "cell_type": "code",
   "execution_count": 58,
   "id": "368b66fc",
   "metadata": {
    "ExecuteTime": {
     "end_time": "2023-08-13T01:53:49.342652Z",
     "start_time": "2023-08-13T01:53:49.272819Z"
    }
   },
   "outputs": [
    {
     "data": {
      "text/plain": "Index(['route_id', 'unique_id', 'service_start_date', 'update_origin',\n       'train_platform', 'working_time_arrival', 'working_time_departure',\n       'planned_time_arrival', 'planned_time_departure', 'platform',\n       'train_length', 'actual_arrival_time', 'actual_departure_time',\n       'is_delayed_arrival', 'is_delayed_departure', 'TiplocCode', 'CrsCode',\n       'StationName'],\n      dtype='object')"
     },
     "execution_count": 58,
     "metadata": {},
     "output_type": "execute_result"
    }
   ],
   "source": [
    "merged_df.columns"
   ]
  },
  {
   "cell_type": "code",
   "execution_count": 59,
   "id": "98dc9da9",
   "metadata": {
    "ExecuteTime": {
     "end_time": "2023-08-13T01:53:49.361394Z",
     "start_time": "2023-08-13T01:53:49.278454Z"
    }
   },
   "outputs": [],
   "source": [
    "rail = merged_df[['route_id', 'unique_id', 'service_start_date', 'update_origin',\n",
    "       'train_platform', 'TiplocCode', 'CrsCode',\n",
    "       'StationName', 'working_time_arrival', 'working_time_departure',\n",
    "       'planned_time_arrival', 'planned_time_departure', 'platform',\n",
    "       'train_length', 'actual_arrival_time', 'actual_departure_time',\n",
    "       'is_delayed_arrival', 'is_delayed_departure',]]"
   ]
  },
  {
   "cell_type": "code",
   "execution_count": 60,
   "id": "4a501c60",
   "metadata": {
    "ExecuteTime": {
     "end_time": "2023-08-13T01:53:49.374107Z",
     "start_time": "2023-08-13T01:53:49.300038Z"
    }
   },
   "outputs": [
    {
     "data": {
      "text/plain": "          route_id unique_id service_start_date update_origin train_platform  \\\n0  202307277679020    L79020         2023-07-27        Darwin           STFD   \n1  202307277679633    L79633         2023-07-27            TD           STFD   \n2  202307277679712    L79712         2023-07-27            TD           STFD   \n3  202307277679608    L79608         2023-07-27        Darwin           STFD   \n4  202307278001611    P01611         2023-07-27           CIS           STFD   \n\n  TiplocCode CrsCode                      StationName working_time_arrival  \\\n0       STFD     SRA  Stratford (London) Rail Station  2023-07-27 00:03:00   \n1       STFD     SRA  Stratford (London) Rail Station  2023-07-27 19:42:30   \n2       STFD     SRA  Stratford (London) Rail Station  2023-07-27 17:53:30   \n3       STFD     SRA  Stratford (London) Rail Station  2023-07-27 19:06:30   \n4       STFD     SRA  Stratford (London) Rail Station  2023-07-27 21:44:30   \n\n  working_time_departure planned_time_arrival planned_time_departure platform  \\\n0    2023-07-27 00:03:30                  NaT                    NaT        5   \n1    2023-07-27 19:43:30  2023-07-27 19:43:00    2023-07-27 19:43:00        8   \n2    2023-07-27 17:54:30  2023-07-27 17:54:00    2023-07-27 17:54:00        8   \n3    2023-07-27 19:07:30  2023-07-27 19:07:00    2023-07-27 19:07:00        8   \n4    2023-07-27 21:45:00  2023-07-27 21:45:00    2023-07-27 21:45:00       10   \n\n  train_length actual_arrival_time actual_departure_time is_delayed_arrival  \\\n0         None 2023-07-27 00:53:00   2023-07-27 00:53:00               True   \n1         None 2023-07-27 19:43:00   2023-07-27 19:44:00              False   \n2         None 2023-07-27 17:54:00   2023-07-27 17:54:00              False   \n3         None 2023-07-27 20:46:00   2023-07-27 20:47:00               True   \n4            5 2023-07-27 21:45:00   2023-07-27 21:45:00              False   \n\n  is_delayed_departure  \n0                 True  \n1                False  \n2                False  \n3                 True  \n4                False  ",
      "text/html": "<div>\n<style scoped>\n    .dataframe tbody tr th:only-of-type {\n        vertical-align: middle;\n    }\n\n    .dataframe tbody tr th {\n        vertical-align: top;\n    }\n\n    .dataframe thead th {\n        text-align: right;\n    }\n</style>\n<table border=\"1\" class=\"dataframe\">\n  <thead>\n    <tr style=\"text-align: right;\">\n      <th></th>\n      <th>route_id</th>\n      <th>unique_id</th>\n      <th>service_start_date</th>\n      <th>update_origin</th>\n      <th>train_platform</th>\n      <th>TiplocCode</th>\n      <th>CrsCode</th>\n      <th>StationName</th>\n      <th>working_time_arrival</th>\n      <th>working_time_departure</th>\n      <th>planned_time_arrival</th>\n      <th>planned_time_departure</th>\n      <th>platform</th>\n      <th>train_length</th>\n      <th>actual_arrival_time</th>\n      <th>actual_departure_time</th>\n      <th>is_delayed_arrival</th>\n      <th>is_delayed_departure</th>\n    </tr>\n  </thead>\n  <tbody>\n    <tr>\n      <th>0</th>\n      <td>202307277679020</td>\n      <td>L79020</td>\n      <td>2023-07-27</td>\n      <td>Darwin</td>\n      <td>STFD</td>\n      <td>STFD</td>\n      <td>SRA</td>\n      <td>Stratford (London) Rail Station</td>\n      <td>2023-07-27 00:03:00</td>\n      <td>2023-07-27 00:03:30</td>\n      <td>NaT</td>\n      <td>NaT</td>\n      <td>5</td>\n      <td>None</td>\n      <td>2023-07-27 00:53:00</td>\n      <td>2023-07-27 00:53:00</td>\n      <td>True</td>\n      <td>True</td>\n    </tr>\n    <tr>\n      <th>1</th>\n      <td>202307277679633</td>\n      <td>L79633</td>\n      <td>2023-07-27</td>\n      <td>TD</td>\n      <td>STFD</td>\n      <td>STFD</td>\n      <td>SRA</td>\n      <td>Stratford (London) Rail Station</td>\n      <td>2023-07-27 19:42:30</td>\n      <td>2023-07-27 19:43:30</td>\n      <td>2023-07-27 19:43:00</td>\n      <td>2023-07-27 19:43:00</td>\n      <td>8</td>\n      <td>None</td>\n      <td>2023-07-27 19:43:00</td>\n      <td>2023-07-27 19:44:00</td>\n      <td>False</td>\n      <td>False</td>\n    </tr>\n    <tr>\n      <th>2</th>\n      <td>202307277679712</td>\n      <td>L79712</td>\n      <td>2023-07-27</td>\n      <td>TD</td>\n      <td>STFD</td>\n      <td>STFD</td>\n      <td>SRA</td>\n      <td>Stratford (London) Rail Station</td>\n      <td>2023-07-27 17:53:30</td>\n      <td>2023-07-27 17:54:30</td>\n      <td>2023-07-27 17:54:00</td>\n      <td>2023-07-27 17:54:00</td>\n      <td>8</td>\n      <td>None</td>\n      <td>2023-07-27 17:54:00</td>\n      <td>2023-07-27 17:54:00</td>\n      <td>False</td>\n      <td>False</td>\n    </tr>\n    <tr>\n      <th>3</th>\n      <td>202307277679608</td>\n      <td>L79608</td>\n      <td>2023-07-27</td>\n      <td>Darwin</td>\n      <td>STFD</td>\n      <td>STFD</td>\n      <td>SRA</td>\n      <td>Stratford (London) Rail Station</td>\n      <td>2023-07-27 19:06:30</td>\n      <td>2023-07-27 19:07:30</td>\n      <td>2023-07-27 19:07:00</td>\n      <td>2023-07-27 19:07:00</td>\n      <td>8</td>\n      <td>None</td>\n      <td>2023-07-27 20:46:00</td>\n      <td>2023-07-27 20:47:00</td>\n      <td>True</td>\n      <td>True</td>\n    </tr>\n    <tr>\n      <th>4</th>\n      <td>202307278001611</td>\n      <td>P01611</td>\n      <td>2023-07-27</td>\n      <td>CIS</td>\n      <td>STFD</td>\n      <td>STFD</td>\n      <td>SRA</td>\n      <td>Stratford (London) Rail Station</td>\n      <td>2023-07-27 21:44:30</td>\n      <td>2023-07-27 21:45:00</td>\n      <td>2023-07-27 21:45:00</td>\n      <td>2023-07-27 21:45:00</td>\n      <td>10</td>\n      <td>5</td>\n      <td>2023-07-27 21:45:00</td>\n      <td>2023-07-27 21:45:00</td>\n      <td>False</td>\n      <td>False</td>\n    </tr>\n  </tbody>\n</table>\n</div>"
     },
     "execution_count": 60,
     "metadata": {},
     "output_type": "execute_result"
    }
   ],
   "source": [
    "rail.head()"
   ]
  },
  {
   "cell_type": "code",
   "execution_count": 61,
   "id": "49f2201f",
   "metadata": {
    "ExecuteTime": {
     "end_time": "2023-08-13T01:53:49.411207Z",
     "start_time": "2023-08-13T01:53:49.305705Z"
    }
   },
   "outputs": [],
   "source": [
    "rail = rail.sort_values(by='unique_id')"
   ]
  },
  {
   "cell_type": "markdown",
   "source": [
    "# Main Dataframe"
   ],
   "metadata": {
    "collapsed": false
   },
   "id": "175e0dee12d2bc52"
  },
  {
   "cell_type": "code",
   "execution_count": 62,
   "id": "a40915b6",
   "metadata": {
    "ExecuteTime": {
     "end_time": "2023-08-13T01:53:49.416062Z",
     "start_time": "2023-08-13T01:53:49.344934Z"
    }
   },
   "outputs": [
    {
     "data": {
      "text/plain": "              route_id unique_id service_start_date update_origin  \\\n27531  202307286700066    C00066         2023-07-28        Darwin   \n4645   202307286700066    C00066         2023-07-28        Darwin   \n24334  202307286700066    C00066         2023-07-28        Darwin   \n35606  202307276700069    C00069         2023-07-27            TD   \n29324  202307276700071    C00071         2023-07-27         Trust   \n...                ...       ...                ...           ...   \n37474              NaN       NaN                NaN           NaN   \n37475              NaN       NaN                NaN           NaN   \n37476              NaN       NaN                NaN           NaN   \n37477              NaN       NaN                NaN           NaN   \n37478              NaN       NaN                NaN           NaN   \n\n      train_platform TiplocCode CrsCode                      StationName  \\\n27531        LINCLNC    LINCLNC     LCN     Lincoln Central Rail Station   \n4645         LOWDHAM    LOWDHAM     LOW             Lowdham Rail Station   \n24334        NWRKCAS    NWRKCAS     NCT       Newark Castle Rail Station   \n35606         SILEBY     SILEBY     SIL              Sileby Rail Station   \n29324        HYKEHAM    HYKEHAM     HKM             Hykeham Rail Station   \n...              ...        ...     ...                              ...   \n37474            NaN    DARSHAM     DSM             Darsham Rail Station   \n37475            NaN    BRAMPTN     BRP  Brampton (Suffolk) Rail Station   \n37476            NaN    BRNYARM     BYA         Berney Arms Rail Station   \n37477            NaN     YARMTH     GYM      Great Yarmouth Rail Station   \n37478            NaN    LOWSTFT     LWT           Lowestoft Rail Station   \n\n      working_time_arrival working_time_departure planned_time_arrival  \\\n27531  2023-07-28 05:46:30    2023-07-28 05:48:30  2023-07-28 05:47:00   \n4645   2023-07-28 05:11:00    2023-07-28 05:12:00  2023-07-28 05:11:00   \n24334  2023-07-28 05:23:30    2023-07-28 05:24:30  2023-07-28 05:24:00   \n35606  2023-07-27 18:01:30    2023-07-27 18:02:30  2023-07-27 18:02:00   \n29324  2023-07-27 20:25:00    2023-07-27 20:25:30  2023-07-27 20:25:00   \n...                    ...                    ...                  ...   \n37474                  NaT                    NaT                  NaT   \n37475                  NaT                    NaT                  NaT   \n37476                  NaT                    NaT                  NaT   \n37477                  NaT                    NaT                  NaT   \n37478                  NaT                    NaT                  NaT   \n\n      planned_time_departure platform train_length actual_arrival_time  \\\n27531    2023-07-28 05:48:00       3A         None 2023-07-28 05:47:00   \n4645     2023-07-28 05:12:00     None         None 2023-07-28 05:11:00   \n24334    2023-07-28 05:24:00     None         None 2023-07-28 05:24:00   \n35606    2023-07-27 18:02:00        1         None                 NaT   \n29324    2023-07-27 20:25:00        2         None 2023-07-27 20:25:00   \n...                      ...      ...          ...                 ...   \n37474                    NaT      NaN          NaN                 NaT   \n37475                    NaT      NaN          NaN                 NaT   \n37476                    NaT      NaN          NaN                 NaT   \n37477                    NaT      NaN          NaN                 NaT   \n37478                    NaT      NaN          NaN                 NaT   \n\n      actual_departure_time is_delayed_arrival is_delayed_departure  \n27531   2023-07-28 05:48:00              False                False  \n4645    2023-07-28 05:12:00              False                False  \n24334   2023-07-28 05:24:00              False                False  \n35606   2023-07-27 18:07:00              False                False  \n29324   2023-07-27 20:26:00              False                False  \n...                     ...                ...                  ...  \n37474                   NaT                NaN                  NaN  \n37475                   NaT                NaN                  NaN  \n37476                   NaT                NaN                  NaN  \n37477                   NaT                NaN                  NaN  \n37478                   NaT                NaN                  NaN  \n\n[37479 rows x 18 columns]",
      "text/html": "<div>\n<style scoped>\n    .dataframe tbody tr th:only-of-type {\n        vertical-align: middle;\n    }\n\n    .dataframe tbody tr th {\n        vertical-align: top;\n    }\n\n    .dataframe thead th {\n        text-align: right;\n    }\n</style>\n<table border=\"1\" class=\"dataframe\">\n  <thead>\n    <tr style=\"text-align: right;\">\n      <th></th>\n      <th>route_id</th>\n      <th>unique_id</th>\n      <th>service_start_date</th>\n      <th>update_origin</th>\n      <th>train_platform</th>\n      <th>TiplocCode</th>\n      <th>CrsCode</th>\n      <th>StationName</th>\n      <th>working_time_arrival</th>\n      <th>working_time_departure</th>\n      <th>planned_time_arrival</th>\n      <th>planned_time_departure</th>\n      <th>platform</th>\n      <th>train_length</th>\n      <th>actual_arrival_time</th>\n      <th>actual_departure_time</th>\n      <th>is_delayed_arrival</th>\n      <th>is_delayed_departure</th>\n    </tr>\n  </thead>\n  <tbody>\n    <tr>\n      <th>27531</th>\n      <td>202307286700066</td>\n      <td>C00066</td>\n      <td>2023-07-28</td>\n      <td>Darwin</td>\n      <td>LINCLNC</td>\n      <td>LINCLNC</td>\n      <td>LCN</td>\n      <td>Lincoln Central Rail Station</td>\n      <td>2023-07-28 05:46:30</td>\n      <td>2023-07-28 05:48:30</td>\n      <td>2023-07-28 05:47:00</td>\n      <td>2023-07-28 05:48:00</td>\n      <td>3A</td>\n      <td>None</td>\n      <td>2023-07-28 05:47:00</td>\n      <td>2023-07-28 05:48:00</td>\n      <td>False</td>\n      <td>False</td>\n    </tr>\n    <tr>\n      <th>4645</th>\n      <td>202307286700066</td>\n      <td>C00066</td>\n      <td>2023-07-28</td>\n      <td>Darwin</td>\n      <td>LOWDHAM</td>\n      <td>LOWDHAM</td>\n      <td>LOW</td>\n      <td>Lowdham Rail Station</td>\n      <td>2023-07-28 05:11:00</td>\n      <td>2023-07-28 05:12:00</td>\n      <td>2023-07-28 05:11:00</td>\n      <td>2023-07-28 05:12:00</td>\n      <td>None</td>\n      <td>None</td>\n      <td>2023-07-28 05:11:00</td>\n      <td>2023-07-28 05:12:00</td>\n      <td>False</td>\n      <td>False</td>\n    </tr>\n    <tr>\n      <th>24334</th>\n      <td>202307286700066</td>\n      <td>C00066</td>\n      <td>2023-07-28</td>\n      <td>Darwin</td>\n      <td>NWRKCAS</td>\n      <td>NWRKCAS</td>\n      <td>NCT</td>\n      <td>Newark Castle Rail Station</td>\n      <td>2023-07-28 05:23:30</td>\n      <td>2023-07-28 05:24:30</td>\n      <td>2023-07-28 05:24:00</td>\n      <td>2023-07-28 05:24:00</td>\n      <td>None</td>\n      <td>None</td>\n      <td>2023-07-28 05:24:00</td>\n      <td>2023-07-28 05:24:00</td>\n      <td>False</td>\n      <td>False</td>\n    </tr>\n    <tr>\n      <th>35606</th>\n      <td>202307276700069</td>\n      <td>C00069</td>\n      <td>2023-07-27</td>\n      <td>TD</td>\n      <td>SILEBY</td>\n      <td>SILEBY</td>\n      <td>SIL</td>\n      <td>Sileby Rail Station</td>\n      <td>2023-07-27 18:01:30</td>\n      <td>2023-07-27 18:02:30</td>\n      <td>2023-07-27 18:02:00</td>\n      <td>2023-07-27 18:02:00</td>\n      <td>1</td>\n      <td>None</td>\n      <td>NaT</td>\n      <td>2023-07-27 18:07:00</td>\n      <td>False</td>\n      <td>False</td>\n    </tr>\n    <tr>\n      <th>29324</th>\n      <td>202307276700071</td>\n      <td>C00071</td>\n      <td>2023-07-27</td>\n      <td>Trust</td>\n      <td>HYKEHAM</td>\n      <td>HYKEHAM</td>\n      <td>HKM</td>\n      <td>Hykeham Rail Station</td>\n      <td>2023-07-27 20:25:00</td>\n      <td>2023-07-27 20:25:30</td>\n      <td>2023-07-27 20:25:00</td>\n      <td>2023-07-27 20:25:00</td>\n      <td>2</td>\n      <td>None</td>\n      <td>2023-07-27 20:25:00</td>\n      <td>2023-07-27 20:26:00</td>\n      <td>False</td>\n      <td>False</td>\n    </tr>\n    <tr>\n      <th>...</th>\n      <td>...</td>\n      <td>...</td>\n      <td>...</td>\n      <td>...</td>\n      <td>...</td>\n      <td>...</td>\n      <td>...</td>\n      <td>...</td>\n      <td>...</td>\n      <td>...</td>\n      <td>...</td>\n      <td>...</td>\n      <td>...</td>\n      <td>...</td>\n      <td>...</td>\n      <td>...</td>\n      <td>...</td>\n      <td>...</td>\n    </tr>\n    <tr>\n      <th>37474</th>\n      <td>NaN</td>\n      <td>NaN</td>\n      <td>NaN</td>\n      <td>NaN</td>\n      <td>NaN</td>\n      <td>DARSHAM</td>\n      <td>DSM</td>\n      <td>Darsham Rail Station</td>\n      <td>NaT</td>\n      <td>NaT</td>\n      <td>NaT</td>\n      <td>NaT</td>\n      <td>NaN</td>\n      <td>NaN</td>\n      <td>NaT</td>\n      <td>NaT</td>\n      <td>NaN</td>\n      <td>NaN</td>\n    </tr>\n    <tr>\n      <th>37475</th>\n      <td>NaN</td>\n      <td>NaN</td>\n      <td>NaN</td>\n      <td>NaN</td>\n      <td>NaN</td>\n      <td>BRAMPTN</td>\n      <td>BRP</td>\n      <td>Brampton (Suffolk) Rail Station</td>\n      <td>NaT</td>\n      <td>NaT</td>\n      <td>NaT</td>\n      <td>NaT</td>\n      <td>NaN</td>\n      <td>NaN</td>\n      <td>NaT</td>\n      <td>NaT</td>\n      <td>NaN</td>\n      <td>NaN</td>\n    </tr>\n    <tr>\n      <th>37476</th>\n      <td>NaN</td>\n      <td>NaN</td>\n      <td>NaN</td>\n      <td>NaN</td>\n      <td>NaN</td>\n      <td>BRNYARM</td>\n      <td>BYA</td>\n      <td>Berney Arms Rail Station</td>\n      <td>NaT</td>\n      <td>NaT</td>\n      <td>NaT</td>\n      <td>NaT</td>\n      <td>NaN</td>\n      <td>NaN</td>\n      <td>NaT</td>\n      <td>NaT</td>\n      <td>NaN</td>\n      <td>NaN</td>\n    </tr>\n    <tr>\n      <th>37477</th>\n      <td>NaN</td>\n      <td>NaN</td>\n      <td>NaN</td>\n      <td>NaN</td>\n      <td>NaN</td>\n      <td>YARMTH</td>\n      <td>GYM</td>\n      <td>Great Yarmouth Rail Station</td>\n      <td>NaT</td>\n      <td>NaT</td>\n      <td>NaT</td>\n      <td>NaT</td>\n      <td>NaN</td>\n      <td>NaN</td>\n      <td>NaT</td>\n      <td>NaT</td>\n      <td>NaN</td>\n      <td>NaN</td>\n    </tr>\n    <tr>\n      <th>37478</th>\n      <td>NaN</td>\n      <td>NaN</td>\n      <td>NaN</td>\n      <td>NaN</td>\n      <td>NaN</td>\n      <td>LOWSTFT</td>\n      <td>LWT</td>\n      <td>Lowestoft Rail Station</td>\n      <td>NaT</td>\n      <td>NaT</td>\n      <td>NaT</td>\n      <td>NaT</td>\n      <td>NaN</td>\n      <td>NaN</td>\n      <td>NaT</td>\n      <td>NaT</td>\n      <td>NaN</td>\n      <td>NaN</td>\n    </tr>\n  </tbody>\n</table>\n<p>37479 rows × 18 columns</p>\n</div>"
     },
     "execution_count": 62,
     "metadata": {},
     "output_type": "execute_result"
    }
   ],
   "source": [
    "rail"
   ]
  },
  {
   "cell_type": "code",
   "execution_count": 63,
   "outputs": [
    {
     "data": {
      "text/plain": "674622"
     },
     "execution_count": 63,
     "metadata": {},
     "output_type": "execute_result"
    }
   ],
   "source": [
    "rail.size"
   ],
   "metadata": {
    "collapsed": false,
    "ExecuteTime": {
     "end_time": "2023-08-13T01:53:49.422530Z",
     "start_time": "2023-08-13T01:53:49.350180Z"
    }
   },
   "id": "9681b832ab3b9204"
  },
  {
   "cell_type": "code",
   "execution_count": 64,
   "outputs": [
    {
     "data": {
      "text/plain": "(37479, 18)"
     },
     "execution_count": 64,
     "metadata": {},
     "output_type": "execute_result"
    }
   ],
   "source": [
    "rail.shape"
   ],
   "metadata": {
    "collapsed": false,
    "ExecuteTime": {
     "end_time": "2023-08-13T01:53:49.423037Z",
     "start_time": "2023-08-13T01:53:49.354897Z"
    }
   },
   "id": "70476d891454e240"
  },
  {
   "cell_type": "code",
   "execution_count": 65,
   "outputs": [
    {
     "name": "stdout",
     "output_type": "stream",
     "text": [
      "<class 'pandas.core.frame.DataFrame'>\n",
      "Int64Index: 37479 entries, 27531 to 37478\n",
      "Data columns (total 18 columns):\n",
      " #   Column                  Non-Null Count  Dtype         \n",
      "---  ------                  --------------  -----         \n",
      " 0   route_id                37100 non-null  object        \n",
      " 1   unique_id               37100 non-null  object        \n",
      " 2   service_start_date      37100 non-null  object        \n",
      " 3   update_origin           36515 non-null  object        \n",
      " 4   train_platform          37100 non-null  object        \n",
      " 5   TiplocCode              34857 non-null  object        \n",
      " 6   CrsCode                 34857 non-null  object        \n",
      " 7   StationName             34857 non-null  object        \n",
      " 8   working_time_arrival    37100 non-null  datetime64[ns]\n",
      " 9   working_time_departure  37100 non-null  datetime64[ns]\n",
      " 10  planned_time_arrival    33855 non-null  datetime64[ns]\n",
      " 11  planned_time_departure  33580 non-null  datetime64[ns]\n",
      " 12  platform                34114 non-null  object        \n",
      " 13  train_length            10595 non-null  object        \n",
      " 14  actual_arrival_time     31769 non-null  datetime64[ns]\n",
      " 15  actual_departure_time   34384 non-null  datetime64[ns]\n",
      " 16  is_delayed_arrival      37100 non-null  object        \n",
      " 17  is_delayed_departure    37100 non-null  object        \n",
      "dtypes: datetime64[ns](6), object(12)\n",
      "memory usage: 5.4+ MB\n"
     ]
    }
   ],
   "source": [
    "rail.info()"
   ],
   "metadata": {
    "collapsed": false,
    "ExecuteTime": {
     "end_time": "2023-08-13T01:53:49.510508Z",
     "start_time": "2023-08-13T01:53:49.360048Z"
    }
   },
   "id": "2a7c320f486e9dd9"
  },
  {
   "cell_type": "code",
   "execution_count": 66,
   "id": "a87a492c",
   "metadata": {
    "ExecuteTime": {
     "end_time": "2023-08-13T01:53:49.512155Z",
     "start_time": "2023-08-13T01:53:49.415441Z"
    }
   },
   "outputs": [
    {
     "data": {
      "text/plain": "array(['Darwin', 'TD', 'Trust', 'CIS', 'Tyrell', 'Workstation', None, nan],\n      dtype=object)"
     },
     "execution_count": 66,
     "metadata": {},
     "output_type": "execute_result"
    }
   ],
   "source": [
    "rail.update_origin.unique()"
   ]
  },
  {
   "cell_type": "code",
   "execution_count": 67,
   "outputs": [
    {
     "data": {
      "text/plain": "CIS            14433\nTD             10576\nDarwin          8983\nTrust           2203\nTyrell           292\nWorkstation       28\nName: update_origin, dtype: int64"
     },
     "execution_count": 67,
     "metadata": {},
     "output_type": "execute_result"
    }
   ],
   "source": [
    "rail.update_origin.value_counts()"
   ],
   "metadata": {
    "collapsed": false,
    "ExecuteTime": {
     "end_time": "2023-08-13T01:53:49.549610Z",
     "start_time": "2023-08-13T01:53:49.423741Z"
    }
   },
   "id": "11b3abb70c8a2261"
  },
  {
   "cell_type": "code",
   "execution_count": 68,
   "outputs": [
    {
     "data": {
      "text/plain": "array(['2023-07-28', '2023-07-27', '2023-07-29', nan], dtype=object)"
     },
     "execution_count": 68,
     "metadata": {},
     "output_type": "execute_result"
    }
   ],
   "source": [
    "rail.service_start_date.unique()\n",
    "# 7/27 is a thursday\n",
    "# 7/28 is a friday\n",
    "# 7/29 is a saturday"
   ],
   "metadata": {
    "collapsed": false,
    "ExecuteTime": {
     "end_time": "2023-08-13T01:53:49.566766Z",
     "start_time": "2023-08-13T01:53:49.431146Z"
    }
   },
   "id": "286beb78a562615c"
  },
  {
   "cell_type": "code",
   "execution_count": 69,
   "outputs": [
    {
     "data": {
      "text/plain": "LNDNBDE    317\nWLOE       166\nCRKLWD     147\nSTKP       147\nECROYDN    147\n          ... \nLLDYBIE      1\nFFAIRFC      1\nGARTH        1\nAMMANFD      1\nCOOMJGF      1\nName: train_platform, Length: 2603, dtype: int64"
     },
     "execution_count": 69,
     "metadata": {},
     "output_type": "execute_result"
    }
   ],
   "source": [
    "rail.train_platform.value_counts()"
   ],
   "metadata": {
    "collapsed": false,
    "ExecuteTime": {
     "end_time": "2023-08-13T01:53:49.597452Z",
     "start_time": "2023-08-13T01:53:49.438927Z"
    }
   },
   "id": "ad2c55292891d676"
  },
  {
   "cell_type": "markdown",
   "source": [
    "## Look for platforms with null tiplocs"
   ],
   "metadata": {
    "collapsed": false
   },
   "id": "6f1d18546b20829e"
  },
  {
   "cell_type": "code",
   "execution_count": 70,
   "outputs": [],
   "source": [
    "null_tiploc_rows = rail[rail['TiplocCode'].isnull()]"
   ],
   "metadata": {
    "collapsed": false,
    "ExecuteTime": {
     "end_time": "2023-08-13T01:53:49.597821Z",
     "start_time": "2023-08-13T01:53:49.444189Z"
    }
   },
   "id": "7a8414e87a4d62ad"
  },
  {
   "cell_type": "code",
   "execution_count": 71,
   "outputs": [
    {
     "data": {
      "text/plain": "              route_id unique_id service_start_date update_origin  \\\n35824  202307286700140    C00140         2023-07-28           CIS   \n34920  202307276701994    C01994         2023-07-27        Darwin   \n24685  202307286702157    C02157         2023-07-28        Darwin   \n37079  202307276702336    C02336         2023-07-27           CIS   \n32570  202307276703196    C03196         2023-07-27            TD   \n...                ...       ...                ...           ...   \n34209  202307288955149    Y55149         2023-07-28           CIS   \n34205  202307288955150    Y55150         2023-07-28           CIS   \n34211  202307278955154    Y55154         2023-07-27         Trust   \n34198  202307278955160    Y55160         2023-07-27            TD   \n34221  202307278955160    Y55160         2023-07-27            TD   \n\n      train_platform TiplocCode CrsCode StationName working_time_arrival  \\\n35824         TRENTL        NaN     NaN         NaN  2023-07-28 15:03:00   \n34920        GOOLLOP        NaN     NaN         NaN  2023-07-27 21:38:00   \n24685        HENWICK        NaN     NaN         NaN  2023-07-28 14:29:00   \n37079        GRVPUHS        NaN     NaN         NaN  2023-07-27 23:13:00   \n32570        CRGNTYJ        NaN     NaN         NaN  2023-07-27 23:42:30   \n...              ...        ...     ...         ...                  ...   \n34209         BRENTX        NaN     NaN         NaN  2023-07-28 05:27:00   \n34205         BRENTX        NaN     NaN         NaN  2023-07-28 04:36:30   \n34211         BRENTX        NaN     NaN         NaN  2023-07-27 00:42:00   \n34198         BRENTX        NaN     NaN         NaN  2023-07-27 01:12:00   \n34221         BRENTX        NaN     NaN         NaN  2023-07-27 01:12:00   \n\n      working_time_departure planned_time_arrival planned_time_departure  \\\n35824    2023-07-28 15:04:00                  NaT                    NaT   \n34920    2023-07-27 21:47:00                  NaT                    NaT   \n24685    2023-07-28 14:44:00                  NaT                    NaT   \n37079    2023-07-27 23:20:00                  NaT                    NaT   \n32570    2023-07-27 23:43:00                  NaT                    NaT   \n...                      ...                  ...                    ...   \n34209    2023-07-28 05:27:30                  NaT                    NaT   \n34205    2023-07-28 04:37:00                  NaT                    NaT   \n34211    2023-07-27 00:43:00                  NaT                    NaT   \n34198    2023-07-27 01:12:30                  NaT                    NaT   \n34221    2023-07-27 01:12:30                  NaT                    NaT   \n\n      platform train_length actual_arrival_time actual_departure_time  \\\n35824     None         None 2023-07-28 15:03:00   2023-07-28 15:04:00   \n34920     None         None 2023-07-27 21:38:00   2023-07-27 21:39:00   \n24685      URS         None 2023-07-28 14:29:00   2023-07-28 14:30:00   \n37079     None           10 2023-07-27 23:01:00   2023-07-27 23:02:00   \n32570     None         None 2023-07-27 23:35:00   2023-07-27 23:36:00   \n...        ...          ...                 ...                   ...   \n34209        2         None 2023-07-28 05:26:00   2023-07-28 05:27:00   \n34205        1         None 2023-07-28 04:36:00   2023-07-28 04:36:00   \n34211        2           12                 NaT                   NaT   \n34198        2            8 2023-07-27 01:12:00   2023-07-27 01:12:00   \n34221        2            8 2023-07-27 01:12:00   2023-07-27 01:13:00   \n\n      is_delayed_arrival is_delayed_departure  \n35824              False                False  \n34920              False                False  \n24685              False                False  \n37079              False                False  \n32570              False                False  \n...                  ...                  ...  \n34209              False                False  \n34205              False                False  \n34211              False                False  \n34198              False                False  \n34221              False                False  \n\n[2622 rows x 18 columns]",
      "text/html": "<div>\n<style scoped>\n    .dataframe tbody tr th:only-of-type {\n        vertical-align: middle;\n    }\n\n    .dataframe tbody tr th {\n        vertical-align: top;\n    }\n\n    .dataframe thead th {\n        text-align: right;\n    }\n</style>\n<table border=\"1\" class=\"dataframe\">\n  <thead>\n    <tr style=\"text-align: right;\">\n      <th></th>\n      <th>route_id</th>\n      <th>unique_id</th>\n      <th>service_start_date</th>\n      <th>update_origin</th>\n      <th>train_platform</th>\n      <th>TiplocCode</th>\n      <th>CrsCode</th>\n      <th>StationName</th>\n      <th>working_time_arrival</th>\n      <th>working_time_departure</th>\n      <th>planned_time_arrival</th>\n      <th>planned_time_departure</th>\n      <th>platform</th>\n      <th>train_length</th>\n      <th>actual_arrival_time</th>\n      <th>actual_departure_time</th>\n      <th>is_delayed_arrival</th>\n      <th>is_delayed_departure</th>\n    </tr>\n  </thead>\n  <tbody>\n    <tr>\n      <th>35824</th>\n      <td>202307286700140</td>\n      <td>C00140</td>\n      <td>2023-07-28</td>\n      <td>CIS</td>\n      <td>TRENTL</td>\n      <td>NaN</td>\n      <td>NaN</td>\n      <td>NaN</td>\n      <td>2023-07-28 15:03:00</td>\n      <td>2023-07-28 15:04:00</td>\n      <td>NaT</td>\n      <td>NaT</td>\n      <td>None</td>\n      <td>None</td>\n      <td>2023-07-28 15:03:00</td>\n      <td>2023-07-28 15:04:00</td>\n      <td>False</td>\n      <td>False</td>\n    </tr>\n    <tr>\n      <th>34920</th>\n      <td>202307276701994</td>\n      <td>C01994</td>\n      <td>2023-07-27</td>\n      <td>Darwin</td>\n      <td>GOOLLOP</td>\n      <td>NaN</td>\n      <td>NaN</td>\n      <td>NaN</td>\n      <td>2023-07-27 21:38:00</td>\n      <td>2023-07-27 21:47:00</td>\n      <td>NaT</td>\n      <td>NaT</td>\n      <td>None</td>\n      <td>None</td>\n      <td>2023-07-27 21:38:00</td>\n      <td>2023-07-27 21:39:00</td>\n      <td>False</td>\n      <td>False</td>\n    </tr>\n    <tr>\n      <th>24685</th>\n      <td>202307286702157</td>\n      <td>C02157</td>\n      <td>2023-07-28</td>\n      <td>Darwin</td>\n      <td>HENWICK</td>\n      <td>NaN</td>\n      <td>NaN</td>\n      <td>NaN</td>\n      <td>2023-07-28 14:29:00</td>\n      <td>2023-07-28 14:44:00</td>\n      <td>NaT</td>\n      <td>NaT</td>\n      <td>URS</td>\n      <td>None</td>\n      <td>2023-07-28 14:29:00</td>\n      <td>2023-07-28 14:30:00</td>\n      <td>False</td>\n      <td>False</td>\n    </tr>\n    <tr>\n      <th>37079</th>\n      <td>202307276702336</td>\n      <td>C02336</td>\n      <td>2023-07-27</td>\n      <td>CIS</td>\n      <td>GRVPUHS</td>\n      <td>NaN</td>\n      <td>NaN</td>\n      <td>NaN</td>\n      <td>2023-07-27 23:13:00</td>\n      <td>2023-07-27 23:20:00</td>\n      <td>NaT</td>\n      <td>NaT</td>\n      <td>None</td>\n      <td>10</td>\n      <td>2023-07-27 23:01:00</td>\n      <td>2023-07-27 23:02:00</td>\n      <td>False</td>\n      <td>False</td>\n    </tr>\n    <tr>\n      <th>32570</th>\n      <td>202307276703196</td>\n      <td>C03196</td>\n      <td>2023-07-27</td>\n      <td>TD</td>\n      <td>CRGNTYJ</td>\n      <td>NaN</td>\n      <td>NaN</td>\n      <td>NaN</td>\n      <td>2023-07-27 23:42:30</td>\n      <td>2023-07-27 23:43:00</td>\n      <td>NaT</td>\n      <td>NaT</td>\n      <td>None</td>\n      <td>None</td>\n      <td>2023-07-27 23:35:00</td>\n      <td>2023-07-27 23:36:00</td>\n      <td>False</td>\n      <td>False</td>\n    </tr>\n    <tr>\n      <th>...</th>\n      <td>...</td>\n      <td>...</td>\n      <td>...</td>\n      <td>...</td>\n      <td>...</td>\n      <td>...</td>\n      <td>...</td>\n      <td>...</td>\n      <td>...</td>\n      <td>...</td>\n      <td>...</td>\n      <td>...</td>\n      <td>...</td>\n      <td>...</td>\n      <td>...</td>\n      <td>...</td>\n      <td>...</td>\n      <td>...</td>\n    </tr>\n    <tr>\n      <th>34209</th>\n      <td>202307288955149</td>\n      <td>Y55149</td>\n      <td>2023-07-28</td>\n      <td>CIS</td>\n      <td>BRENTX</td>\n      <td>NaN</td>\n      <td>NaN</td>\n      <td>NaN</td>\n      <td>2023-07-28 05:27:00</td>\n      <td>2023-07-28 05:27:30</td>\n      <td>NaT</td>\n      <td>NaT</td>\n      <td>2</td>\n      <td>None</td>\n      <td>2023-07-28 05:26:00</td>\n      <td>2023-07-28 05:27:00</td>\n      <td>False</td>\n      <td>False</td>\n    </tr>\n    <tr>\n      <th>34205</th>\n      <td>202307288955150</td>\n      <td>Y55150</td>\n      <td>2023-07-28</td>\n      <td>CIS</td>\n      <td>BRENTX</td>\n      <td>NaN</td>\n      <td>NaN</td>\n      <td>NaN</td>\n      <td>2023-07-28 04:36:30</td>\n      <td>2023-07-28 04:37:00</td>\n      <td>NaT</td>\n      <td>NaT</td>\n      <td>1</td>\n      <td>None</td>\n      <td>2023-07-28 04:36:00</td>\n      <td>2023-07-28 04:36:00</td>\n      <td>False</td>\n      <td>False</td>\n    </tr>\n    <tr>\n      <th>34211</th>\n      <td>202307278955154</td>\n      <td>Y55154</td>\n      <td>2023-07-27</td>\n      <td>Trust</td>\n      <td>BRENTX</td>\n      <td>NaN</td>\n      <td>NaN</td>\n      <td>NaN</td>\n      <td>2023-07-27 00:42:00</td>\n      <td>2023-07-27 00:43:00</td>\n      <td>NaT</td>\n      <td>NaT</td>\n      <td>2</td>\n      <td>12</td>\n      <td>NaT</td>\n      <td>NaT</td>\n      <td>False</td>\n      <td>False</td>\n    </tr>\n    <tr>\n      <th>34198</th>\n      <td>202307278955160</td>\n      <td>Y55160</td>\n      <td>2023-07-27</td>\n      <td>TD</td>\n      <td>BRENTX</td>\n      <td>NaN</td>\n      <td>NaN</td>\n      <td>NaN</td>\n      <td>2023-07-27 01:12:00</td>\n      <td>2023-07-27 01:12:30</td>\n      <td>NaT</td>\n      <td>NaT</td>\n      <td>2</td>\n      <td>8</td>\n      <td>2023-07-27 01:12:00</td>\n      <td>2023-07-27 01:12:00</td>\n      <td>False</td>\n      <td>False</td>\n    </tr>\n    <tr>\n      <th>34221</th>\n      <td>202307278955160</td>\n      <td>Y55160</td>\n      <td>2023-07-27</td>\n      <td>TD</td>\n      <td>BRENTX</td>\n      <td>NaN</td>\n      <td>NaN</td>\n      <td>NaN</td>\n      <td>2023-07-27 01:12:00</td>\n      <td>2023-07-27 01:12:30</td>\n      <td>NaT</td>\n      <td>NaT</td>\n      <td>2</td>\n      <td>8</td>\n      <td>2023-07-27 01:12:00</td>\n      <td>2023-07-27 01:13:00</td>\n      <td>False</td>\n      <td>False</td>\n    </tr>\n  </tbody>\n</table>\n<p>2622 rows × 18 columns</p>\n</div>"
     },
     "execution_count": 71,
     "metadata": {},
     "output_type": "execute_result"
    }
   ],
   "source": [
    "null_tiploc_rows"
   ],
   "metadata": {
    "collapsed": false,
    "ExecuteTime": {
     "end_time": "2023-08-13T01:53:49.598648Z",
     "start_time": "2023-08-13T01:53:49.461798Z"
    }
   },
   "id": "4601d2508f9bef17"
  },
  {
   "cell_type": "markdown",
   "source": [
    " #### Of the null value tiplocs, lets look at ABRD27 platform"
   ],
   "metadata": {
    "collapsed": false
   },
   "id": "d9edbc46e38fec7"
  },
  {
   "cell_type": "code",
   "execution_count": 72,
   "outputs": [],
   "source": [
    "platform_a27_rows = rail[rail['platform'] == 'A27']"
   ],
   "metadata": {
    "collapsed": false,
    "ExecuteTime": {
     "end_time": "2023-08-13T01:53:49.598747Z",
     "start_time": "2023-08-13T01:53:49.469343Z"
    }
   },
   "id": "766591b022826bb7"
  },
  {
   "cell_type": "code",
   "execution_count": 73,
   "outputs": [
    {
     "data": {
      "text/plain": "Empty DataFrame\nColumns: [route_id, unique_id, service_start_date, update_origin, train_platform, TiplocCode, CrsCode, StationName, working_time_arrival, working_time_departure, planned_time_arrival, planned_time_departure, platform, train_length, actual_arrival_time, actual_departure_time, is_delayed_arrival, is_delayed_departure]\nIndex: []",
      "text/html": "<div>\n<style scoped>\n    .dataframe tbody tr th:only-of-type {\n        vertical-align: middle;\n    }\n\n    .dataframe tbody tr th {\n        vertical-align: top;\n    }\n\n    .dataframe thead th {\n        text-align: right;\n    }\n</style>\n<table border=\"1\" class=\"dataframe\">\n  <thead>\n    <tr style=\"text-align: right;\">\n      <th></th>\n      <th>route_id</th>\n      <th>unique_id</th>\n      <th>service_start_date</th>\n      <th>update_origin</th>\n      <th>train_platform</th>\n      <th>TiplocCode</th>\n      <th>CrsCode</th>\n      <th>StationName</th>\n      <th>working_time_arrival</th>\n      <th>working_time_departure</th>\n      <th>planned_time_arrival</th>\n      <th>planned_time_departure</th>\n      <th>platform</th>\n      <th>train_length</th>\n      <th>actual_arrival_time</th>\n      <th>actual_departure_time</th>\n      <th>is_delayed_arrival</th>\n      <th>is_delayed_departure</th>\n    </tr>\n  </thead>\n  <tbody>\n  </tbody>\n</table>\n</div>"
     },
     "execution_count": 73,
     "metadata": {},
     "output_type": "execute_result"
    }
   ],
   "source": [
    "platform_a27_rows"
   ],
   "metadata": {
    "collapsed": false,
    "ExecuteTime": {
     "end_time": "2023-08-13T01:53:49.598978Z",
     "start_time": "2023-08-13T01:53:49.475362Z"
    }
   },
   "id": "d2b54280c4340992"
  },
  {
   "cell_type": "code",
   "execution_count": 74,
   "outputs": [],
   "source": [
    "aberdeen = rail[rail['platform'] == 'A27']"
   ],
   "metadata": {
    "collapsed": false,
    "ExecuteTime": {
     "end_time": "2023-08-13T01:53:49.604736Z",
     "start_time": "2023-08-13T01:53:49.482277Z"
    }
   },
   "id": "cf8444abe212a3e1"
  },
  {
   "cell_type": "markdown",
   "source": [
    "### We should keep the data that doesn't have corresponding tiplocs but they should be kept for time and delay data"
   ],
   "metadata": {
    "collapsed": false
   },
   "id": "fd816f0a8082e273"
  },
  {
   "cell_type": "markdown",
   "source": [
    "## Most frequent rail id"
   ],
   "metadata": {
    "collapsed": false,
    "ExecuteTime": {
     "end_time": "2023-08-11T01:05:15.189663Z",
     "start_time": "2023-08-11T01:05:15.179025Z"
    }
   },
   "id": "1a8c8937cec5dd00"
  },
  {
   "cell_type": "code",
   "execution_count": 75,
   "outputs": [
    {
     "data": {
      "text/plain": "Y55129    120\nY54552     92\nY53932     75\nW26895     74\nY54816     66\n         ... \nL25009      1\nL25004      1\nL24981      1\nP71818      1\nL22719      1\nName: unique_id, Length: 6364, dtype: int64"
     },
     "execution_count": 75,
     "metadata": {},
     "output_type": "execute_result"
    }
   ],
   "source": [
    "rail.unique_id.value_counts()"
   ],
   "metadata": {
    "collapsed": false,
    "ExecuteTime": {
     "end_time": "2023-08-13T01:53:49.605392Z",
     "start_time": "2023-08-13T01:53:49.491866Z"
    }
   },
   "id": "674e637bfe9e363d"
  },
  {
   "cell_type": "code",
   "execution_count": 76,
   "outputs": [],
   "source": [
    "popular_id = rail[rail['unique_id'] == 'Y55129']"
   ],
   "metadata": {
    "collapsed": false,
    "ExecuteTime": {
     "end_time": "2023-08-13T01:53:49.605548Z",
     "start_time": "2023-08-13T01:53:49.500070Z"
    }
   },
   "id": "32ccd1908ae5e1bc"
  },
  {
   "cell_type": "code",
   "execution_count": 77,
   "outputs": [
    {
     "data": {
      "text/plain": "              route_id unique_id service_start_date update_origin  \\\n21526  202307288955129    Y55129         2023-07-28        Darwin   \n11047  202307288955129    Y55129         2023-07-28           CIS   \n20419  202307288955129    Y55129         2023-07-28            TD   \n32921  202307288955129    Y55129         2023-07-28            TD   \n11376  202307288955129    Y55129         2023-07-28         Trust   \n...                ...       ...                ...           ...   \n11909  202307288955129    Y55129         2023-07-28        Darwin   \n11193  202307288955129    Y55129         2023-07-28        Darwin   \n16905  202307288955129    Y55129         2023-07-28        Darwin   \n16783  202307288955129    Y55129         2023-07-28            TD   \n18724  202307288955129    Y55129         2023-07-28            TD   \n\n      train_platform TiplocCode CrsCode  \\\n21526         CRKLWD     CRKLWD     CRI   \n11047        SELHRST    SELHRST     SRS   \n20419           ELTR       ELTR     ELS   \n32921           HDON       HDON     HEN   \n11376        ECROYDN    ECROYDN     ECR   \n...              ...        ...     ...   \n11909           BLFR       BLFR     BFR   \n11193         HORLEY     HORLEY     HOR   \n16905           GTWK       GTWK     GTW   \n16783        WHMPSTM    WHMPSTM     WHP   \n18724         PURLEY     PURLEY     PUR   \n\n                                  StationName working_time_arrival  \\\n21526                Cricklewood Rail Station  2023-07-28 01:15:30   \n11047                   Selhurst Rail Station  2023-07-28 02:02:30   \n20419      Elstree & Borehamwood Rail Station  2023-07-28 01:04:00   \n32921                     Hendon Rail Station  2023-07-28 01:11:30   \n11376               East Croydon Rail Station  2023-07-28 02:06:00   \n...                                       ...                  ...   \n11909         London Blackfriars Rail Station  2023-07-28 01:39:00   \n11193                     Horley Rail Station  2023-07-28 02:25:30   \n16905            Gatwick Airport Rail Station  2023-07-28 02:29:30   \n16783  West Hampstead Thameslink Rail Station  2023-07-28 01:20:00   \n18724                     Purley Rail Station  2023-07-28 02:12:00   \n\n      working_time_departure planned_time_arrival planned_time_departure  \\\n21526    2023-07-28 01:17:00  2023-07-28 01:16:00    2023-07-28 01:17:00   \n11047    2023-07-28 02:03:00                  NaT                    NaT   \n20419    2023-07-28 01:04:30  2023-07-28 01:04:00    2023-07-28 01:04:00   \n32921    2023-07-28 01:12:00  2023-07-28 01:12:00    2023-07-28 01:12:00   \n11376    2023-07-28 02:07:00  2023-07-28 02:06:00    2023-07-28 02:07:00   \n...                      ...                  ...                    ...   \n11909    2023-07-28 01:40:00  2023-07-28 01:39:00    2023-07-28 01:40:00   \n11193    2023-07-28 02:26:00  2023-07-28 02:26:00    2023-07-28 02:26:00   \n16905    2023-07-28 02:31:30  2023-07-28 02:30:00    2023-07-28 02:31:00   \n16783    2023-07-28 01:20:30  2023-07-28 01:20:00    2023-07-28 01:20:00   \n18724    2023-07-28 02:13:00  2023-07-28 02:12:00    2023-07-28 02:13:00   \n\n      platform train_length actual_arrival_time actual_departure_time  \\\n21526        1           12 2023-07-28 01:16:00   2023-07-28 01:17:00   \n11047        1           12                 NaT                   NaT   \n20419        1           12 2023-07-28 01:06:00   2023-07-28 01:06:00   \n32921        1           12 2023-07-28 01:12:00   2023-07-28 01:12:00   \n11376        5           12 2023-07-28 02:08:00   2023-07-28 02:09:00   \n...        ...          ...                 ...                   ...   \n11909        1           12 2023-07-28 01:39:00   2023-07-28 01:40:00   \n11193        2           12 2023-07-28 02:29:00   2023-07-28 02:29:00   \n16905        2           12 2023-07-28 02:30:00   2023-07-28 02:31:00   \n16783        1           12 2023-07-28 01:22:00   2023-07-28 01:23:00   \n18724        2           12 2023-07-28 02:12:00   2023-07-28 02:13:00   \n\n      is_delayed_arrival is_delayed_departure  \n21526              False                False  \n11047              False                False  \n20419              False                False  \n32921              False                False  \n11376              False                False  \n...                  ...                  ...  \n11909              False                False  \n11193              False                False  \n16905              False                False  \n16783              False                False  \n18724              False                False  \n\n[120 rows x 18 columns]",
      "text/html": "<div>\n<style scoped>\n    .dataframe tbody tr th:only-of-type {\n        vertical-align: middle;\n    }\n\n    .dataframe tbody tr th {\n        vertical-align: top;\n    }\n\n    .dataframe thead th {\n        text-align: right;\n    }\n</style>\n<table border=\"1\" class=\"dataframe\">\n  <thead>\n    <tr style=\"text-align: right;\">\n      <th></th>\n      <th>route_id</th>\n      <th>unique_id</th>\n      <th>service_start_date</th>\n      <th>update_origin</th>\n      <th>train_platform</th>\n      <th>TiplocCode</th>\n      <th>CrsCode</th>\n      <th>StationName</th>\n      <th>working_time_arrival</th>\n      <th>working_time_departure</th>\n      <th>planned_time_arrival</th>\n      <th>planned_time_departure</th>\n      <th>platform</th>\n      <th>train_length</th>\n      <th>actual_arrival_time</th>\n      <th>actual_departure_time</th>\n      <th>is_delayed_arrival</th>\n      <th>is_delayed_departure</th>\n    </tr>\n  </thead>\n  <tbody>\n    <tr>\n      <th>21526</th>\n      <td>202307288955129</td>\n      <td>Y55129</td>\n      <td>2023-07-28</td>\n      <td>Darwin</td>\n      <td>CRKLWD</td>\n      <td>CRKLWD</td>\n      <td>CRI</td>\n      <td>Cricklewood Rail Station</td>\n      <td>2023-07-28 01:15:30</td>\n      <td>2023-07-28 01:17:00</td>\n      <td>2023-07-28 01:16:00</td>\n      <td>2023-07-28 01:17:00</td>\n      <td>1</td>\n      <td>12</td>\n      <td>2023-07-28 01:16:00</td>\n      <td>2023-07-28 01:17:00</td>\n      <td>False</td>\n      <td>False</td>\n    </tr>\n    <tr>\n      <th>11047</th>\n      <td>202307288955129</td>\n      <td>Y55129</td>\n      <td>2023-07-28</td>\n      <td>CIS</td>\n      <td>SELHRST</td>\n      <td>SELHRST</td>\n      <td>SRS</td>\n      <td>Selhurst Rail Station</td>\n      <td>2023-07-28 02:02:30</td>\n      <td>2023-07-28 02:03:00</td>\n      <td>NaT</td>\n      <td>NaT</td>\n      <td>1</td>\n      <td>12</td>\n      <td>NaT</td>\n      <td>NaT</td>\n      <td>False</td>\n      <td>False</td>\n    </tr>\n    <tr>\n      <th>20419</th>\n      <td>202307288955129</td>\n      <td>Y55129</td>\n      <td>2023-07-28</td>\n      <td>TD</td>\n      <td>ELTR</td>\n      <td>ELTR</td>\n      <td>ELS</td>\n      <td>Elstree &amp; Borehamwood Rail Station</td>\n      <td>2023-07-28 01:04:00</td>\n      <td>2023-07-28 01:04:30</td>\n      <td>2023-07-28 01:04:00</td>\n      <td>2023-07-28 01:04:00</td>\n      <td>1</td>\n      <td>12</td>\n      <td>2023-07-28 01:06:00</td>\n      <td>2023-07-28 01:06:00</td>\n      <td>False</td>\n      <td>False</td>\n    </tr>\n    <tr>\n      <th>32921</th>\n      <td>202307288955129</td>\n      <td>Y55129</td>\n      <td>2023-07-28</td>\n      <td>TD</td>\n      <td>HDON</td>\n      <td>HDON</td>\n      <td>HEN</td>\n      <td>Hendon Rail Station</td>\n      <td>2023-07-28 01:11:30</td>\n      <td>2023-07-28 01:12:00</td>\n      <td>2023-07-28 01:12:00</td>\n      <td>2023-07-28 01:12:00</td>\n      <td>1</td>\n      <td>12</td>\n      <td>2023-07-28 01:12:00</td>\n      <td>2023-07-28 01:12:00</td>\n      <td>False</td>\n      <td>False</td>\n    </tr>\n    <tr>\n      <th>11376</th>\n      <td>202307288955129</td>\n      <td>Y55129</td>\n      <td>2023-07-28</td>\n      <td>Trust</td>\n      <td>ECROYDN</td>\n      <td>ECROYDN</td>\n      <td>ECR</td>\n      <td>East Croydon Rail Station</td>\n      <td>2023-07-28 02:06:00</td>\n      <td>2023-07-28 02:07:00</td>\n      <td>2023-07-28 02:06:00</td>\n      <td>2023-07-28 02:07:00</td>\n      <td>5</td>\n      <td>12</td>\n      <td>2023-07-28 02:08:00</td>\n      <td>2023-07-28 02:09:00</td>\n      <td>False</td>\n      <td>False</td>\n    </tr>\n    <tr>\n      <th>...</th>\n      <td>...</td>\n      <td>...</td>\n      <td>...</td>\n      <td>...</td>\n      <td>...</td>\n      <td>...</td>\n      <td>...</td>\n      <td>...</td>\n      <td>...</td>\n      <td>...</td>\n      <td>...</td>\n      <td>...</td>\n      <td>...</td>\n      <td>...</td>\n      <td>...</td>\n      <td>...</td>\n      <td>...</td>\n      <td>...</td>\n    </tr>\n    <tr>\n      <th>11909</th>\n      <td>202307288955129</td>\n      <td>Y55129</td>\n      <td>2023-07-28</td>\n      <td>Darwin</td>\n      <td>BLFR</td>\n      <td>BLFR</td>\n      <td>BFR</td>\n      <td>London Blackfriars Rail Station</td>\n      <td>2023-07-28 01:39:00</td>\n      <td>2023-07-28 01:40:00</td>\n      <td>2023-07-28 01:39:00</td>\n      <td>2023-07-28 01:40:00</td>\n      <td>1</td>\n      <td>12</td>\n      <td>2023-07-28 01:39:00</td>\n      <td>2023-07-28 01:40:00</td>\n      <td>False</td>\n      <td>False</td>\n    </tr>\n    <tr>\n      <th>11193</th>\n      <td>202307288955129</td>\n      <td>Y55129</td>\n      <td>2023-07-28</td>\n      <td>Darwin</td>\n      <td>HORLEY</td>\n      <td>HORLEY</td>\n      <td>HOR</td>\n      <td>Horley Rail Station</td>\n      <td>2023-07-28 02:25:30</td>\n      <td>2023-07-28 02:26:00</td>\n      <td>2023-07-28 02:26:00</td>\n      <td>2023-07-28 02:26:00</td>\n      <td>2</td>\n      <td>12</td>\n      <td>2023-07-28 02:29:00</td>\n      <td>2023-07-28 02:29:00</td>\n      <td>False</td>\n      <td>False</td>\n    </tr>\n    <tr>\n      <th>16905</th>\n      <td>202307288955129</td>\n      <td>Y55129</td>\n      <td>2023-07-28</td>\n      <td>Darwin</td>\n      <td>GTWK</td>\n      <td>GTWK</td>\n      <td>GTW</td>\n      <td>Gatwick Airport Rail Station</td>\n      <td>2023-07-28 02:29:30</td>\n      <td>2023-07-28 02:31:30</td>\n      <td>2023-07-28 02:30:00</td>\n      <td>2023-07-28 02:31:00</td>\n      <td>2</td>\n      <td>12</td>\n      <td>2023-07-28 02:30:00</td>\n      <td>2023-07-28 02:31:00</td>\n      <td>False</td>\n      <td>False</td>\n    </tr>\n    <tr>\n      <th>16783</th>\n      <td>202307288955129</td>\n      <td>Y55129</td>\n      <td>2023-07-28</td>\n      <td>TD</td>\n      <td>WHMPSTM</td>\n      <td>WHMPSTM</td>\n      <td>WHP</td>\n      <td>West Hampstead Thameslink Rail Station</td>\n      <td>2023-07-28 01:20:00</td>\n      <td>2023-07-28 01:20:30</td>\n      <td>2023-07-28 01:20:00</td>\n      <td>2023-07-28 01:20:00</td>\n      <td>1</td>\n      <td>12</td>\n      <td>2023-07-28 01:22:00</td>\n      <td>2023-07-28 01:23:00</td>\n      <td>False</td>\n      <td>False</td>\n    </tr>\n    <tr>\n      <th>18724</th>\n      <td>202307288955129</td>\n      <td>Y55129</td>\n      <td>2023-07-28</td>\n      <td>TD</td>\n      <td>PURLEY</td>\n      <td>PURLEY</td>\n      <td>PUR</td>\n      <td>Purley Rail Station</td>\n      <td>2023-07-28 02:12:00</td>\n      <td>2023-07-28 02:13:00</td>\n      <td>2023-07-28 02:12:00</td>\n      <td>2023-07-28 02:13:00</td>\n      <td>2</td>\n      <td>12</td>\n      <td>2023-07-28 02:12:00</td>\n      <td>2023-07-28 02:13:00</td>\n      <td>False</td>\n      <td>False</td>\n    </tr>\n  </tbody>\n</table>\n<p>120 rows × 18 columns</p>\n</div>"
     },
     "execution_count": 77,
     "metadata": {},
     "output_type": "execute_result"
    }
   ],
   "source": [
    "popular_id"
   ],
   "metadata": {
    "collapsed": false,
    "ExecuteTime": {
     "end_time": "2023-08-13T01:53:49.608597Z",
     "start_time": "2023-08-13T01:53:49.515651Z"
    }
   },
   "id": "3605b6567dc488db"
  },
  {
   "cell_type": "code",
   "execution_count": 78,
   "outputs": [],
   "source": [
    "lea = popular_id[popular_id['TiplocCode'] == 'LEAGRVE']"
   ],
   "metadata": {
    "collapsed": false,
    "ExecuteTime": {
     "end_time": "2023-08-13T01:53:49.608685Z",
     "start_time": "2023-08-13T01:53:49.521249Z"
    }
   },
   "id": "a66de71ce0c2f180"
  },
  {
   "cell_type": "code",
   "execution_count": 79,
   "outputs": [
    {
     "data": {
      "text/plain": "              route_id unique_id service_start_date update_origin  \\\n16479  202307288955129    Y55129         2023-07-28            TD   \n16478  202307288955129    Y55129         2023-07-28        Darwin   \n16482  202307288955129    Y55129         2023-07-28           CIS   \n16490  202307288955129    Y55129         2023-07-28            TD   \n\n      train_platform TiplocCode CrsCode            StationName  \\\n16479        LEAGRVE    LEAGRVE     LEA  Leagrave Rail Station   \n16478        LEAGRVE    LEAGRVE     LEA  Leagrave Rail Station   \n16482        LEAGRVE    LEAGRVE     LEA  Leagrave Rail Station   \n16490        LEAGRVE    LEAGRVE     LEA  Leagrave Rail Station   \n\n      working_time_arrival working_time_departure planned_time_arrival  \\\n16479  2023-07-28 00:35:30    2023-07-28 00:36:00  2023-07-28 00:36:00   \n16478  2023-07-28 00:35:30    2023-07-28 00:36:00  2023-07-28 00:36:00   \n16482  2023-07-28 00:35:30    2023-07-28 00:36:00  2023-07-28 00:36:00   \n16490  2023-07-28 00:35:30    2023-07-28 00:36:00  2023-07-28 00:36:00   \n\n      planned_time_departure platform train_length actual_arrival_time  \\\n16479    2023-07-28 00:36:00        1           12 2023-07-28 00:37:00   \n16478    2023-07-28 00:36:00        1           12                 NaT   \n16482    2023-07-28 00:36:00        1           12                 NaT   \n16490    2023-07-28 00:36:00        1           12                 NaT   \n\n      actual_departure_time is_delayed_arrival is_delayed_departure  \n16479   2023-07-28 00:37:00              False                False  \n16478   2023-07-28 00:41:00              False                False  \n16482                   NaT              False                False  \n16490                   NaT              False                False  ",
      "text/html": "<div>\n<style scoped>\n    .dataframe tbody tr th:only-of-type {\n        vertical-align: middle;\n    }\n\n    .dataframe tbody tr th {\n        vertical-align: top;\n    }\n\n    .dataframe thead th {\n        text-align: right;\n    }\n</style>\n<table border=\"1\" class=\"dataframe\">\n  <thead>\n    <tr style=\"text-align: right;\">\n      <th></th>\n      <th>route_id</th>\n      <th>unique_id</th>\n      <th>service_start_date</th>\n      <th>update_origin</th>\n      <th>train_platform</th>\n      <th>TiplocCode</th>\n      <th>CrsCode</th>\n      <th>StationName</th>\n      <th>working_time_arrival</th>\n      <th>working_time_departure</th>\n      <th>planned_time_arrival</th>\n      <th>planned_time_departure</th>\n      <th>platform</th>\n      <th>train_length</th>\n      <th>actual_arrival_time</th>\n      <th>actual_departure_time</th>\n      <th>is_delayed_arrival</th>\n      <th>is_delayed_departure</th>\n    </tr>\n  </thead>\n  <tbody>\n    <tr>\n      <th>16479</th>\n      <td>202307288955129</td>\n      <td>Y55129</td>\n      <td>2023-07-28</td>\n      <td>TD</td>\n      <td>LEAGRVE</td>\n      <td>LEAGRVE</td>\n      <td>LEA</td>\n      <td>Leagrave Rail Station</td>\n      <td>2023-07-28 00:35:30</td>\n      <td>2023-07-28 00:36:00</td>\n      <td>2023-07-28 00:36:00</td>\n      <td>2023-07-28 00:36:00</td>\n      <td>1</td>\n      <td>12</td>\n      <td>2023-07-28 00:37:00</td>\n      <td>2023-07-28 00:37:00</td>\n      <td>False</td>\n      <td>False</td>\n    </tr>\n    <tr>\n      <th>16478</th>\n      <td>202307288955129</td>\n      <td>Y55129</td>\n      <td>2023-07-28</td>\n      <td>Darwin</td>\n      <td>LEAGRVE</td>\n      <td>LEAGRVE</td>\n      <td>LEA</td>\n      <td>Leagrave Rail Station</td>\n      <td>2023-07-28 00:35:30</td>\n      <td>2023-07-28 00:36:00</td>\n      <td>2023-07-28 00:36:00</td>\n      <td>2023-07-28 00:36:00</td>\n      <td>1</td>\n      <td>12</td>\n      <td>NaT</td>\n      <td>2023-07-28 00:41:00</td>\n      <td>False</td>\n      <td>False</td>\n    </tr>\n    <tr>\n      <th>16482</th>\n      <td>202307288955129</td>\n      <td>Y55129</td>\n      <td>2023-07-28</td>\n      <td>CIS</td>\n      <td>LEAGRVE</td>\n      <td>LEAGRVE</td>\n      <td>LEA</td>\n      <td>Leagrave Rail Station</td>\n      <td>2023-07-28 00:35:30</td>\n      <td>2023-07-28 00:36:00</td>\n      <td>2023-07-28 00:36:00</td>\n      <td>2023-07-28 00:36:00</td>\n      <td>1</td>\n      <td>12</td>\n      <td>NaT</td>\n      <td>NaT</td>\n      <td>False</td>\n      <td>False</td>\n    </tr>\n    <tr>\n      <th>16490</th>\n      <td>202307288955129</td>\n      <td>Y55129</td>\n      <td>2023-07-28</td>\n      <td>TD</td>\n      <td>LEAGRVE</td>\n      <td>LEAGRVE</td>\n      <td>LEA</td>\n      <td>Leagrave Rail Station</td>\n      <td>2023-07-28 00:35:30</td>\n      <td>2023-07-28 00:36:00</td>\n      <td>2023-07-28 00:36:00</td>\n      <td>2023-07-28 00:36:00</td>\n      <td>1</td>\n      <td>12</td>\n      <td>NaT</td>\n      <td>NaT</td>\n      <td>False</td>\n      <td>False</td>\n    </tr>\n  </tbody>\n</table>\n</div>"
     },
     "execution_count": 79,
     "metadata": {},
     "output_type": "execute_result"
    }
   ],
   "source": [
    "lea"
   ],
   "metadata": {
    "collapsed": false,
    "ExecuteTime": {
     "end_time": "2023-08-13T01:53:49.663045Z",
     "start_time": "2023-08-13T01:53:49.535409Z"
    }
   },
   "id": "7f099f400dd1432f"
  },
  {
   "cell_type": "markdown",
   "source": [
    "## LNDNBDE platform EDA"
   ],
   "metadata": {
    "collapsed": false,
    "ExecuteTime": {
     "end_time": "2023-08-11T01:04:14.691635Z",
     "start_time": "2023-08-11T01:04:11.679796Z"
    }
   },
   "id": "e1552a12bdfae5c3"
  },
  {
   "cell_type": "code",
   "execution_count": 80,
   "outputs": [],
   "source": [
    "first_platform = rail[rail['train_platform'] == 'LNDNBDE']"
   ],
   "metadata": {
    "collapsed": false,
    "ExecuteTime": {
     "end_time": "2023-08-13T01:53:49.668050Z",
     "start_time": "2023-08-13T01:53:49.542233Z"
    }
   },
   "id": "8b66d5c53d07cfd5"
  },
  {
   "cell_type": "code",
   "execution_count": 81,
   "outputs": [
    {
     "data": {
      "text/plain": "              route_id unique_id service_start_date update_origin  \\\n11522  202307286702202    C02202         2023-07-28            TD   \n11560  202307286704629    C04629         2023-07-28           CIS   \n11762  202307286714526    C14526         2023-07-28        Darwin   \n11763  202307286714526    C14526         2023-07-28        Darwin   \n11505  202307276714526    C14526         2023-07-27        Darwin   \n...                ...       ...                ...           ...   \n11772  202307288954816    Y54816         2023-07-28           CIS   \n11573  202307288954816    Y54816         2023-07-28           CIS   \n11506  202307278954886    Y54886         2023-07-27           CIS   \n11733  202307278954904    Y54904         2023-07-27            TD   \n11608  202307278954910    Y54910         2023-07-27            TD   \n\n      train_platform TiplocCode CrsCode                 StationName  \\\n11522        LNDNBDE    LNDNBDE     LBG  London Bridge Rail Station   \n11560        LNDNBDE    LNDNBDE     LBG  London Bridge Rail Station   \n11762        LNDNBDE    LNDNBDE     LBG  London Bridge Rail Station   \n11763        LNDNBDE    LNDNBDE     LBG  London Bridge Rail Station   \n11505        LNDNBDE    LNDNBDE     LBG  London Bridge Rail Station   \n...              ...        ...     ...                         ...   \n11772        LNDNBDE    LNDNBDE     LBG  London Bridge Rail Station   \n11573        LNDNBDE    LNDNBDE     LBG  London Bridge Rail Station   \n11506        LNDNBDE    LNDNBDE     LBG  London Bridge Rail Station   \n11733        LNDNBDE    LNDNBDE     LBG  London Bridge Rail Station   \n11608        LNDNBDE    LNDNBDE     LBG  London Bridge Rail Station   \n\n      working_time_arrival working_time_departure planned_time_arrival  \\\n11522  2023-07-28 04:39:00    2023-07-28 04:46:00                  NaT   \n11560  2023-07-28 08:42:30    2023-07-28 08:45:00  2023-07-28 08:43:00   \n11762  2023-07-28 17:04:00    2023-07-28 17:05:30  2023-07-28 17:04:00   \n11763  2023-07-28 18:22:00    2023-07-28 18:23:30  2023-07-28 18:22:00   \n11505  2023-07-27 18:22:00    2023-07-27 18:23:30  2023-07-27 18:22:00   \n...                    ...                    ...                  ...   \n11772  2023-07-28 14:34:00    2023-07-28 14:35:30  2023-07-28 14:34:00   \n11573  2023-07-28 14:34:00    2023-07-28 14:35:30  2023-07-28 14:34:00   \n11506  2023-07-27 21:34:30    2023-07-27 21:36:00  2023-07-27 21:35:00   \n11733  2023-07-27 23:04:30    2023-07-27 23:06:00  2023-07-27 23:05:00   \n11608  2023-07-27 23:34:30    2023-07-27 23:36:00  2023-07-27 23:35:00   \n\n      planned_time_departure platform train_length actual_arrival_time  \\\n11522                    NaT        6           10 2023-07-28 04:28:00   \n11560    2023-07-28 08:45:00        2         None 2023-07-28 08:43:00   \n11762    2023-07-28 17:05:00        1         None 2023-07-28 17:04:00   \n11763    2023-07-28 18:23:00        3         None 2023-07-28 18:22:00   \n11505    2023-07-27 18:23:00        3            8 2023-07-27 18:22:00   \n...                      ...      ...          ...                 ...   \n11772    2023-07-28 14:35:00        4         None 2023-07-28 14:34:00   \n11573    2023-07-28 14:35:00        4         None 2023-07-28 14:34:00   \n11506    2023-07-27 21:36:00        5           12 2023-07-27 21:35:00   \n11733    2023-07-27 23:06:00        5            8                 NaT   \n11608    2023-07-27 23:36:00        5            8 2023-07-27 23:37:00   \n\n      actual_departure_time is_delayed_arrival is_delayed_departure  \n11522   2023-07-28 04:29:00              False                False  \n11560   2023-07-28 08:45:00              False                False  \n11762   2023-07-28 17:05:00              False                False  \n11763   2023-07-28 18:23:00              False                False  \n11505   2023-07-27 18:23:00              False                False  \n...                     ...                ...                  ...  \n11772   2023-07-28 14:35:00              False                False  \n11573   2023-07-28 14:35:00              False                False  \n11506   2023-07-27 21:36:00              False                False  \n11733   2023-07-27 23:07:00              False                False  \n11608   2023-07-27 23:38:00              False                False  \n\n[317 rows x 18 columns]",
      "text/html": "<div>\n<style scoped>\n    .dataframe tbody tr th:only-of-type {\n        vertical-align: middle;\n    }\n\n    .dataframe tbody tr th {\n        vertical-align: top;\n    }\n\n    .dataframe thead th {\n        text-align: right;\n    }\n</style>\n<table border=\"1\" class=\"dataframe\">\n  <thead>\n    <tr style=\"text-align: right;\">\n      <th></th>\n      <th>route_id</th>\n      <th>unique_id</th>\n      <th>service_start_date</th>\n      <th>update_origin</th>\n      <th>train_platform</th>\n      <th>TiplocCode</th>\n      <th>CrsCode</th>\n      <th>StationName</th>\n      <th>working_time_arrival</th>\n      <th>working_time_departure</th>\n      <th>planned_time_arrival</th>\n      <th>planned_time_departure</th>\n      <th>platform</th>\n      <th>train_length</th>\n      <th>actual_arrival_time</th>\n      <th>actual_departure_time</th>\n      <th>is_delayed_arrival</th>\n      <th>is_delayed_departure</th>\n    </tr>\n  </thead>\n  <tbody>\n    <tr>\n      <th>11522</th>\n      <td>202307286702202</td>\n      <td>C02202</td>\n      <td>2023-07-28</td>\n      <td>TD</td>\n      <td>LNDNBDE</td>\n      <td>LNDNBDE</td>\n      <td>LBG</td>\n      <td>London Bridge Rail Station</td>\n      <td>2023-07-28 04:39:00</td>\n      <td>2023-07-28 04:46:00</td>\n      <td>NaT</td>\n      <td>NaT</td>\n      <td>6</td>\n      <td>10</td>\n      <td>2023-07-28 04:28:00</td>\n      <td>2023-07-28 04:29:00</td>\n      <td>False</td>\n      <td>False</td>\n    </tr>\n    <tr>\n      <th>11560</th>\n      <td>202307286704629</td>\n      <td>C04629</td>\n      <td>2023-07-28</td>\n      <td>CIS</td>\n      <td>LNDNBDE</td>\n      <td>LNDNBDE</td>\n      <td>LBG</td>\n      <td>London Bridge Rail Station</td>\n      <td>2023-07-28 08:42:30</td>\n      <td>2023-07-28 08:45:00</td>\n      <td>2023-07-28 08:43:00</td>\n      <td>2023-07-28 08:45:00</td>\n      <td>2</td>\n      <td>None</td>\n      <td>2023-07-28 08:43:00</td>\n      <td>2023-07-28 08:45:00</td>\n      <td>False</td>\n      <td>False</td>\n    </tr>\n    <tr>\n      <th>11762</th>\n      <td>202307286714526</td>\n      <td>C14526</td>\n      <td>2023-07-28</td>\n      <td>Darwin</td>\n      <td>LNDNBDE</td>\n      <td>LNDNBDE</td>\n      <td>LBG</td>\n      <td>London Bridge Rail Station</td>\n      <td>2023-07-28 17:04:00</td>\n      <td>2023-07-28 17:05:30</td>\n      <td>2023-07-28 17:04:00</td>\n      <td>2023-07-28 17:05:00</td>\n      <td>1</td>\n      <td>None</td>\n      <td>2023-07-28 17:04:00</td>\n      <td>2023-07-28 17:05:00</td>\n      <td>False</td>\n      <td>False</td>\n    </tr>\n    <tr>\n      <th>11763</th>\n      <td>202307286714526</td>\n      <td>C14526</td>\n      <td>2023-07-28</td>\n      <td>Darwin</td>\n      <td>LNDNBDE</td>\n      <td>LNDNBDE</td>\n      <td>LBG</td>\n      <td>London Bridge Rail Station</td>\n      <td>2023-07-28 18:22:00</td>\n      <td>2023-07-28 18:23:30</td>\n      <td>2023-07-28 18:22:00</td>\n      <td>2023-07-28 18:23:00</td>\n      <td>3</td>\n      <td>None</td>\n      <td>2023-07-28 18:22:00</td>\n      <td>2023-07-28 18:23:00</td>\n      <td>False</td>\n      <td>False</td>\n    </tr>\n    <tr>\n      <th>11505</th>\n      <td>202307276714526</td>\n      <td>C14526</td>\n      <td>2023-07-27</td>\n      <td>Darwin</td>\n      <td>LNDNBDE</td>\n      <td>LNDNBDE</td>\n      <td>LBG</td>\n      <td>London Bridge Rail Station</td>\n      <td>2023-07-27 18:22:00</td>\n      <td>2023-07-27 18:23:30</td>\n      <td>2023-07-27 18:22:00</td>\n      <td>2023-07-27 18:23:00</td>\n      <td>3</td>\n      <td>8</td>\n      <td>2023-07-27 18:22:00</td>\n      <td>2023-07-27 18:23:00</td>\n      <td>False</td>\n      <td>False</td>\n    </tr>\n    <tr>\n      <th>...</th>\n      <td>...</td>\n      <td>...</td>\n      <td>...</td>\n      <td>...</td>\n      <td>...</td>\n      <td>...</td>\n      <td>...</td>\n      <td>...</td>\n      <td>...</td>\n      <td>...</td>\n      <td>...</td>\n      <td>...</td>\n      <td>...</td>\n      <td>...</td>\n      <td>...</td>\n      <td>...</td>\n      <td>...</td>\n      <td>...</td>\n    </tr>\n    <tr>\n      <th>11772</th>\n      <td>202307288954816</td>\n      <td>Y54816</td>\n      <td>2023-07-28</td>\n      <td>CIS</td>\n      <td>LNDNBDE</td>\n      <td>LNDNBDE</td>\n      <td>LBG</td>\n      <td>London Bridge Rail Station</td>\n      <td>2023-07-28 14:34:00</td>\n      <td>2023-07-28 14:35:30</td>\n      <td>2023-07-28 14:34:00</td>\n      <td>2023-07-28 14:35:00</td>\n      <td>4</td>\n      <td>None</td>\n      <td>2023-07-28 14:34:00</td>\n      <td>2023-07-28 14:35:00</td>\n      <td>False</td>\n      <td>False</td>\n    </tr>\n    <tr>\n      <th>11573</th>\n      <td>202307288954816</td>\n      <td>Y54816</td>\n      <td>2023-07-28</td>\n      <td>CIS</td>\n      <td>LNDNBDE</td>\n      <td>LNDNBDE</td>\n      <td>LBG</td>\n      <td>London Bridge Rail Station</td>\n      <td>2023-07-28 14:34:00</td>\n      <td>2023-07-28 14:35:30</td>\n      <td>2023-07-28 14:34:00</td>\n      <td>2023-07-28 14:35:00</td>\n      <td>4</td>\n      <td>None</td>\n      <td>2023-07-28 14:34:00</td>\n      <td>2023-07-28 14:35:00</td>\n      <td>False</td>\n      <td>False</td>\n    </tr>\n    <tr>\n      <th>11506</th>\n      <td>202307278954886</td>\n      <td>Y54886</td>\n      <td>2023-07-27</td>\n      <td>CIS</td>\n      <td>LNDNBDE</td>\n      <td>LNDNBDE</td>\n      <td>LBG</td>\n      <td>London Bridge Rail Station</td>\n      <td>2023-07-27 21:34:30</td>\n      <td>2023-07-27 21:36:00</td>\n      <td>2023-07-27 21:35:00</td>\n      <td>2023-07-27 21:36:00</td>\n      <td>5</td>\n      <td>12</td>\n      <td>2023-07-27 21:35:00</td>\n      <td>2023-07-27 21:36:00</td>\n      <td>False</td>\n      <td>False</td>\n    </tr>\n    <tr>\n      <th>11733</th>\n      <td>202307278954904</td>\n      <td>Y54904</td>\n      <td>2023-07-27</td>\n      <td>TD</td>\n      <td>LNDNBDE</td>\n      <td>LNDNBDE</td>\n      <td>LBG</td>\n      <td>London Bridge Rail Station</td>\n      <td>2023-07-27 23:04:30</td>\n      <td>2023-07-27 23:06:00</td>\n      <td>2023-07-27 23:05:00</td>\n      <td>2023-07-27 23:06:00</td>\n      <td>5</td>\n      <td>8</td>\n      <td>NaT</td>\n      <td>2023-07-27 23:07:00</td>\n      <td>False</td>\n      <td>False</td>\n    </tr>\n    <tr>\n      <th>11608</th>\n      <td>202307278954910</td>\n      <td>Y54910</td>\n      <td>2023-07-27</td>\n      <td>TD</td>\n      <td>LNDNBDE</td>\n      <td>LNDNBDE</td>\n      <td>LBG</td>\n      <td>London Bridge Rail Station</td>\n      <td>2023-07-27 23:34:30</td>\n      <td>2023-07-27 23:36:00</td>\n      <td>2023-07-27 23:35:00</td>\n      <td>2023-07-27 23:36:00</td>\n      <td>5</td>\n      <td>8</td>\n      <td>2023-07-27 23:37:00</td>\n      <td>2023-07-27 23:38:00</td>\n      <td>False</td>\n      <td>False</td>\n    </tr>\n  </tbody>\n</table>\n<p>317 rows × 18 columns</p>\n</div>"
     },
     "execution_count": 81,
     "metadata": {},
     "output_type": "execute_result"
    }
   ],
   "source": [
    "first_platform"
   ],
   "metadata": {
    "collapsed": false,
    "ExecuteTime": {
     "end_time": "2023-08-13T01:53:49.671743Z",
     "start_time": "2023-08-13T01:53:49.556324Z"
    }
   },
   "id": "5be6a72dcc5d5c8a"
  },
  {
   "cell_type": "code",
   "execution_count": 82,
   "outputs": [
    {
     "data": {
      "text/plain": "9    65\n8    45\n5    37\n6    33\n3    32\n7    32\n1    28\n4    23\n2    22\nName: platform, dtype: int64"
     },
     "execution_count": 82,
     "metadata": {},
     "output_type": "execute_result"
    }
   ],
   "source": [
    "first_platform['platform'].value_counts()"
   ],
   "metadata": {
    "collapsed": false,
    "ExecuteTime": {
     "end_time": "2023-08-13T01:53:49.690314Z",
     "start_time": "2023-08-13T01:53:49.569295Z"
    }
   },
   "id": "ec9c99f69788f45c"
  },
  {
   "cell_type": "code",
   "execution_count": 82,
   "outputs": [],
   "source": [],
   "metadata": {
    "collapsed": false,
    "ExecuteTime": {
     "end_time": "2023-08-13T01:53:49.690541Z",
     "start_time": "2023-08-13T01:53:49.572507Z"
    }
   },
   "id": "8f3b4ab2a593b69c"
  }
 ],
 "metadata": {
  "kernelspec": {
   "display_name": "Python 3 (ipykernel)",
   "language": "python",
   "name": "python3"
  },
  "language_info": {
   "codemirror_mode": {
    "name": "ipython",
    "version": 3
   },
   "file_extension": ".py",
   "mimetype": "text/x-python",
   "name": "python",
   "nbconvert_exporter": "python",
   "pygments_lexer": "ipython3",
   "version": "3.9.13"
  }
 },
 "nbformat": 4,
 "nbformat_minor": 5
}
