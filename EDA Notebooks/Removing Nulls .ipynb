{
 "cells": [
  {
   "cell_type": "code",
   "execution_count": 211,
   "id": "549bc021",
   "metadata": {
    "ExecuteTime": {
     "end_time": "2023-08-13T05:26:12.404356Z",
     "start_time": "2023-08-13T05:26:12.261471Z"
    }
   },
   "outputs": [],
   "source": [
    "import pandas as pd\n",
    "import numpy as np"
   ]
  },
  {
   "cell_type": "code",
   "execution_count": 212,
   "id": "9a50cb00",
   "metadata": {
    "ExecuteTime": {
     "end_time": "2023-08-13T05:26:12.463284Z",
     "start_time": "2023-08-13T05:26:12.266498Z"
    }
   },
   "outputs": [],
   "source": [
    "df = pd.read_parquet('rail_data_cleaned_20230728132300.parquet')"
   ]
  },
  {
   "cell_type": "markdown",
   "source": [
    "### Dropping columns we don't need"
   ],
   "metadata": {
    "collapsed": false
   },
   "id": "6d9bc3d2bd81b433"
  },
  {
   "cell_type": "code",
   "execution_count": 213,
   "outputs": [],
   "source": [
    "dropped = ['working_time_pass', 'pass', 'train_length']"
   ],
   "metadata": {
    "collapsed": false,
    "ExecuteTime": {
     "end_time": "2023-08-13T05:26:12.463439Z",
     "start_time": "2023-08-13T05:26:12.343415Z"
    }
   },
   "id": "19aa99ad09566cec"
  },
  {
   "cell_type": "code",
   "execution_count": 214,
   "outputs": [],
   "source": [
    "df = df.drop(columns=dropped)"
   ],
   "metadata": {
    "collapsed": false,
    "ExecuteTime": {
     "end_time": "2023-08-13T05:26:12.463563Z",
     "start_time": "2023-08-13T05:26:12.350363Z"
    }
   },
   "id": "b342704eb6b3b0f0"
  },
  {
   "cell_type": "markdown",
   "source": [
    "## Round 1\n",
    "#### Eliminating rows with duplicate id and train platforms in conjunction with null actuals"
   ],
   "metadata": {
    "collapsed": false
   },
   "id": "880e9c1e662914da"
  },
  {
   "cell_type": "code",
   "execution_count": 215,
   "id": "b428345e",
   "metadata": {
    "ExecuteTime": {
     "end_time": "2023-08-13T05:26:12.464301Z",
     "start_time": "2023-08-13T05:26:12.361095Z"
    }
   },
   "outputs": [],
   "source": [
    "# Subset of columns to consider for duplicates\n",
    "subset_columns = ['unique_id', 'train_platform']\n",
    "\n",
    "# Find rows with duplicated unique_id and train_platform\n",
    "duplicates = df.duplicated(subset=subset_columns, keep=False)\n",
    "\n",
    "# Find rows with null values in actual_arrival_time and actual_departure_time\n",
    "null_rows = (df['actual_arrival_time'].isnull()) & (df['actual_departure_time'].isnull())\n",
    "\n",
    "# Combine the conditions to get the rows to be removed\n",
    "rows_to_remove = duplicates & null_rows\n",
    "\n",
    "# Keep the rows that are not in rows_to_remove\n",
    "df_cleaned = df[~rows_to_remove]\n"
   ]
  },
  {
   "cell_type": "markdown",
   "source": [
    "#### Looking at a busy route to evaluate cleaning"
   ],
   "metadata": {
    "collapsed": false
   },
   "id": "faaf3bd54dee375f"
  },
  {
   "cell_type": "code",
   "execution_count": 216,
   "id": "6ebe8fad",
   "metadata": {
    "ExecuteTime": {
     "end_time": "2023-08-13T05:26:12.464349Z",
     "start_time": "2023-08-13T05:26:12.389119Z"
    }
   },
   "outputs": [],
   "source": [
    "popular_id = df_cleaned[df_cleaned['unique_id'] == 'Y55129']"
   ]
  },
  {
   "cell_type": "code",
   "execution_count": 217,
   "id": "53611a73",
   "metadata": {
    "ExecuteTime": {
     "end_time": "2023-08-13T05:26:12.472925Z",
     "start_time": "2023-08-13T05:26:12.393992Z"
    }
   },
   "outputs": [
    {
     "data": {
      "text/plain": "              route_id unique_id service_start_date update_origin  \\\n24918  202307288955129    Y55129         2023-07-28         Trust   \n24919  202307288955129    Y55129         2023-07-28         Trust   \n24920  202307288955129    Y55129         2023-07-28         Trust   \n24922  202307288955129    Y55129         2023-07-28         Trust   \n24924  202307288955129    Y55129         2023-07-28         Trust   \n...                ...       ...                ...           ...   \n92756  202307288955129    Y55129         2023-07-28        Darwin   \n92758  202307288955129    Y55129         2023-07-28        Darwin   \n92761  202307288955129    Y55129         2023-07-28        Darwin   \n92768  202307288955129    Y55129         2023-07-28        Darwin   \n92769  202307288955129    Y55129         2023-07-28        Darwin   \n\n      train_platform working_time_arrival working_time_departure  \\\n24918         BRENTX  2023-07-28 01:13:30    2023-07-28 01:14:00   \n24919         CRKLWD  2023-07-28 01:15:30    2023-07-28 01:17:00   \n24920        WHMPSTM  2023-07-28 01:20:00    2023-07-28 01:20:30   \n24922        KNTSHTN  2023-07-28 01:24:00    2023-07-28 01:24:30   \n24924        STPXBOX  2023-07-28 01:30:00    2023-07-28 01:32:00   \n...              ...                  ...                    ...   \n92756        SELHRST  2023-07-28 02:02:30    2023-07-28 02:03:00   \n92758        ECROYDN  2023-07-28 02:06:00    2023-07-28 02:07:00   \n92761         PURLEY  2023-07-28 02:12:00    2023-07-28 02:13:00   \n92768         HORLEY  2023-07-28 02:25:30    2023-07-28 02:26:00   \n92769           GTWK  2023-07-28 02:29:30    2023-07-28 02:31:30   \n\n      planned_time_arrival planned_time_departure platform  \\\n24918                  NaT                    NaT        1   \n24919  2023-07-28 01:16:00    2023-07-28 01:17:00        1   \n24920  2023-07-28 01:20:00    2023-07-28 01:20:00        1   \n24922  2023-07-28 01:24:00    2023-07-28 01:24:00        1   \n24924  2023-07-28 01:30:00    2023-07-28 01:32:00        A   \n...                    ...                    ...      ...   \n92756                  NaT                    NaT        1   \n92758  2023-07-28 02:06:00    2023-07-28 02:07:00        5   \n92761  2023-07-28 02:12:00    2023-07-28 02:13:00        2   \n92768  2023-07-28 02:26:00    2023-07-28 02:26:00        2   \n92769  2023-07-28 02:30:00    2023-07-28 02:31:00        2   \n\n      actual_arrival_time actual_departure_time  is_delayed_arrival  \\\n24918 2023-07-28 01:19:00   2023-07-28 01:20:00               False   \n24919 2023-07-28 01:21:00   2023-07-28 01:22:00               False   \n24920 2023-07-28 01:24:00   2023-07-28 01:25:00               False   \n24922 2023-07-28 01:28:00   2023-07-28 01:29:00               False   \n24924 2023-07-28 01:33:00   2023-07-28 01:34:00               False   \n...                   ...                   ...                 ...   \n92756 2023-07-28 02:04:00   2023-07-28 02:04:00               False   \n92758 2023-07-28 02:06:00   2023-07-28 02:07:00               False   \n92761 2023-07-28 02:12:00   2023-07-28 02:13:00               False   \n92768 2023-07-28 02:26:00   2023-07-28 02:26:00               False   \n92769 2023-07-28 02:30:00   2023-07-28 02:31:00               False   \n\n       is_delayed_departure  \n24918                 False  \n24919                 False  \n24920                 False  \n24922                 False  \n24924                 False  \n...                     ...  \n92756                 False  \n92758                 False  \n92761                 False  \n92768                 False  \n92769                 False  \n\n[98 rows x 14 columns]",
      "text/html": "<div>\n<style scoped>\n    .dataframe tbody tr th:only-of-type {\n        vertical-align: middle;\n    }\n\n    .dataframe tbody tr th {\n        vertical-align: top;\n    }\n\n    .dataframe thead th {\n        text-align: right;\n    }\n</style>\n<table border=\"1\" class=\"dataframe\">\n  <thead>\n    <tr style=\"text-align: right;\">\n      <th></th>\n      <th>route_id</th>\n      <th>unique_id</th>\n      <th>service_start_date</th>\n      <th>update_origin</th>\n      <th>train_platform</th>\n      <th>working_time_arrival</th>\n      <th>working_time_departure</th>\n      <th>planned_time_arrival</th>\n      <th>planned_time_departure</th>\n      <th>platform</th>\n      <th>actual_arrival_time</th>\n      <th>actual_departure_time</th>\n      <th>is_delayed_arrival</th>\n      <th>is_delayed_departure</th>\n    </tr>\n  </thead>\n  <tbody>\n    <tr>\n      <th>24918</th>\n      <td>202307288955129</td>\n      <td>Y55129</td>\n      <td>2023-07-28</td>\n      <td>Trust</td>\n      <td>BRENTX</td>\n      <td>2023-07-28 01:13:30</td>\n      <td>2023-07-28 01:14:00</td>\n      <td>NaT</td>\n      <td>NaT</td>\n      <td>1</td>\n      <td>2023-07-28 01:19:00</td>\n      <td>2023-07-28 01:20:00</td>\n      <td>False</td>\n      <td>False</td>\n    </tr>\n    <tr>\n      <th>24919</th>\n      <td>202307288955129</td>\n      <td>Y55129</td>\n      <td>2023-07-28</td>\n      <td>Trust</td>\n      <td>CRKLWD</td>\n      <td>2023-07-28 01:15:30</td>\n      <td>2023-07-28 01:17:00</td>\n      <td>2023-07-28 01:16:00</td>\n      <td>2023-07-28 01:17:00</td>\n      <td>1</td>\n      <td>2023-07-28 01:21:00</td>\n      <td>2023-07-28 01:22:00</td>\n      <td>False</td>\n      <td>False</td>\n    </tr>\n    <tr>\n      <th>24920</th>\n      <td>202307288955129</td>\n      <td>Y55129</td>\n      <td>2023-07-28</td>\n      <td>Trust</td>\n      <td>WHMPSTM</td>\n      <td>2023-07-28 01:20:00</td>\n      <td>2023-07-28 01:20:30</td>\n      <td>2023-07-28 01:20:00</td>\n      <td>2023-07-28 01:20:00</td>\n      <td>1</td>\n      <td>2023-07-28 01:24:00</td>\n      <td>2023-07-28 01:25:00</td>\n      <td>False</td>\n      <td>False</td>\n    </tr>\n    <tr>\n      <th>24922</th>\n      <td>202307288955129</td>\n      <td>Y55129</td>\n      <td>2023-07-28</td>\n      <td>Trust</td>\n      <td>KNTSHTN</td>\n      <td>2023-07-28 01:24:00</td>\n      <td>2023-07-28 01:24:30</td>\n      <td>2023-07-28 01:24:00</td>\n      <td>2023-07-28 01:24:00</td>\n      <td>1</td>\n      <td>2023-07-28 01:28:00</td>\n      <td>2023-07-28 01:29:00</td>\n      <td>False</td>\n      <td>False</td>\n    </tr>\n    <tr>\n      <th>24924</th>\n      <td>202307288955129</td>\n      <td>Y55129</td>\n      <td>2023-07-28</td>\n      <td>Trust</td>\n      <td>STPXBOX</td>\n      <td>2023-07-28 01:30:00</td>\n      <td>2023-07-28 01:32:00</td>\n      <td>2023-07-28 01:30:00</td>\n      <td>2023-07-28 01:32:00</td>\n      <td>A</td>\n      <td>2023-07-28 01:33:00</td>\n      <td>2023-07-28 01:34:00</td>\n      <td>False</td>\n      <td>False</td>\n    </tr>\n    <tr>\n      <th>...</th>\n      <td>...</td>\n      <td>...</td>\n      <td>...</td>\n      <td>...</td>\n      <td>...</td>\n      <td>...</td>\n      <td>...</td>\n      <td>...</td>\n      <td>...</td>\n      <td>...</td>\n      <td>...</td>\n      <td>...</td>\n      <td>...</td>\n      <td>...</td>\n    </tr>\n    <tr>\n      <th>92756</th>\n      <td>202307288955129</td>\n      <td>Y55129</td>\n      <td>2023-07-28</td>\n      <td>Darwin</td>\n      <td>SELHRST</td>\n      <td>2023-07-28 02:02:30</td>\n      <td>2023-07-28 02:03:00</td>\n      <td>NaT</td>\n      <td>NaT</td>\n      <td>1</td>\n      <td>2023-07-28 02:04:00</td>\n      <td>2023-07-28 02:04:00</td>\n      <td>False</td>\n      <td>False</td>\n    </tr>\n    <tr>\n      <th>92758</th>\n      <td>202307288955129</td>\n      <td>Y55129</td>\n      <td>2023-07-28</td>\n      <td>Darwin</td>\n      <td>ECROYDN</td>\n      <td>2023-07-28 02:06:00</td>\n      <td>2023-07-28 02:07:00</td>\n      <td>2023-07-28 02:06:00</td>\n      <td>2023-07-28 02:07:00</td>\n      <td>5</td>\n      <td>2023-07-28 02:06:00</td>\n      <td>2023-07-28 02:07:00</td>\n      <td>False</td>\n      <td>False</td>\n    </tr>\n    <tr>\n      <th>92761</th>\n      <td>202307288955129</td>\n      <td>Y55129</td>\n      <td>2023-07-28</td>\n      <td>Darwin</td>\n      <td>PURLEY</td>\n      <td>2023-07-28 02:12:00</td>\n      <td>2023-07-28 02:13:00</td>\n      <td>2023-07-28 02:12:00</td>\n      <td>2023-07-28 02:13:00</td>\n      <td>2</td>\n      <td>2023-07-28 02:12:00</td>\n      <td>2023-07-28 02:13:00</td>\n      <td>False</td>\n      <td>False</td>\n    </tr>\n    <tr>\n      <th>92768</th>\n      <td>202307288955129</td>\n      <td>Y55129</td>\n      <td>2023-07-28</td>\n      <td>Darwin</td>\n      <td>HORLEY</td>\n      <td>2023-07-28 02:25:30</td>\n      <td>2023-07-28 02:26:00</td>\n      <td>2023-07-28 02:26:00</td>\n      <td>2023-07-28 02:26:00</td>\n      <td>2</td>\n      <td>2023-07-28 02:26:00</td>\n      <td>2023-07-28 02:26:00</td>\n      <td>False</td>\n      <td>False</td>\n    </tr>\n    <tr>\n      <th>92769</th>\n      <td>202307288955129</td>\n      <td>Y55129</td>\n      <td>2023-07-28</td>\n      <td>Darwin</td>\n      <td>GTWK</td>\n      <td>2023-07-28 02:29:30</td>\n      <td>2023-07-28 02:31:30</td>\n      <td>2023-07-28 02:30:00</td>\n      <td>2023-07-28 02:31:00</td>\n      <td>2</td>\n      <td>2023-07-28 02:30:00</td>\n      <td>2023-07-28 02:31:00</td>\n      <td>False</td>\n      <td>False</td>\n    </tr>\n  </tbody>\n</table>\n<p>98 rows × 14 columns</p>\n</div>"
     },
     "execution_count": 217,
     "metadata": {},
     "output_type": "execute_result"
    }
   ],
   "source": [
    "popular_id"
   ]
  },
  {
   "cell_type": "code",
   "execution_count": 218,
   "outputs": [
    {
     "data": {
      "text/plain": "array(['BRENTX', 'CRKLWD', 'WHMPSTM', 'KNTSHTN', 'STPXBOX', 'FRNDNLT',\n       'BLFR', 'SELHRST', 'ECROYDN', 'PURLEY', 'HORLEY', 'GTWK',\n       'LEAGRVE', 'LUTON', 'LUTOAPY', 'HRPNDN', 'STALBCY', 'RADLETT',\n       'ELTR', 'MLHB', 'HDON', 'FLITWCK', 'HRLG'], dtype=object)"
     },
     "execution_count": 218,
     "metadata": {},
     "output_type": "execute_result"
    }
   ],
   "source": [
    "# Looking at the number of unique train platforms\n",
    "\n",
    "popular_id['train_platform'].unique()"
   ],
   "metadata": {
    "collapsed": false,
    "ExecuteTime": {
     "end_time": "2023-08-13T05:26:12.473157Z",
     "start_time": "2023-08-13T05:26:12.406894Z"
    }
   },
   "id": "95a0b1cce7eb1bd1"
  },
  {
   "cell_type": "code",
   "execution_count": 219,
   "outputs": [
    {
     "data": {
      "text/plain": "23"
     },
     "execution_count": 219,
     "metadata": {},
     "output_type": "execute_result"
    }
   ],
   "source": [
    "popular_id['train_platform'].nunique()"
   ],
   "metadata": {
    "collapsed": false,
    "ExecuteTime": {
     "end_time": "2023-08-13T05:26:12.473248Z",
     "start_time": "2023-08-13T05:26:12.416860Z"
    }
   },
   "id": "ec2d39aba17c6cd6"
  },
  {
   "cell_type": "markdown",
   "source": [
    "## Round 2\n",
    "### Keeping rows with Darwin and Trust"
   ],
   "metadata": {
    "collapsed": false
   },
   "id": "6dfce2e767713956"
  },
  {
   "cell_type": "code",
   "execution_count": 220,
   "outputs": [],
   "source": [
    "# Find duplicate rows with specific update_origin values\n",
    "duplicates_to_remove = df_cleaned[(df_cleaned.duplicated(['unique_id', 'train_platform'], keep=False))\n",
    "                          & (df_cleaned['update_origin'].isin(['TD', 'Trust', 'Darwin']))]\n",
    "\n",
    "# Drop rows with update_origin as 'TD'\n",
    "df_filtered = df_cleaned.drop(duplicates_to_remove[duplicates_to_remove['update_origin'] == 'TD'].index)\n"
   ],
   "metadata": {
    "collapsed": false,
    "ExecuteTime": {
     "end_time": "2023-08-13T05:26:12.505388Z",
     "start_time": "2023-08-13T05:26:12.423833Z"
    }
   },
   "id": "96e557947982515e"
  },
  {
   "cell_type": "markdown",
   "source": [
    "#### Looking at a busy route to evaluate cleaning"
   ],
   "metadata": {
    "collapsed": false
   },
   "id": "24e25a4ccb5109cb"
  },
  {
   "cell_type": "code",
   "execution_count": 221,
   "outputs": [],
   "source": [
    "popular_id = df_filtered[df_filtered['unique_id'] == 'Y55129']"
   ],
   "metadata": {
    "collapsed": false,
    "ExecuteTime": {
     "end_time": "2023-08-13T05:26:12.505616Z",
     "start_time": "2023-08-13T05:26:12.447101Z"
    }
   },
   "id": "482565e2a07bafee"
  },
  {
   "cell_type": "code",
   "execution_count": 222,
   "outputs": [
    {
     "data": {
      "text/plain": "              route_id unique_id service_start_date update_origin  \\\n24918  202307288955129    Y55129         2023-07-28         Trust   \n24919  202307288955129    Y55129         2023-07-28         Trust   \n24920  202307288955129    Y55129         2023-07-28         Trust   \n24922  202307288955129    Y55129         2023-07-28         Trust   \n24924  202307288955129    Y55129         2023-07-28         Trust   \n...                ...       ...                ...           ...   \n92756  202307288955129    Y55129         2023-07-28        Darwin   \n92758  202307288955129    Y55129         2023-07-28        Darwin   \n92761  202307288955129    Y55129         2023-07-28        Darwin   \n92768  202307288955129    Y55129         2023-07-28        Darwin   \n92769  202307288955129    Y55129         2023-07-28        Darwin   \n\n      train_platform working_time_arrival working_time_departure  \\\n24918         BRENTX  2023-07-28 01:13:30    2023-07-28 01:14:00   \n24919         CRKLWD  2023-07-28 01:15:30    2023-07-28 01:17:00   \n24920        WHMPSTM  2023-07-28 01:20:00    2023-07-28 01:20:30   \n24922        KNTSHTN  2023-07-28 01:24:00    2023-07-28 01:24:30   \n24924        STPXBOX  2023-07-28 01:30:00    2023-07-28 01:32:00   \n...              ...                  ...                    ...   \n92756        SELHRST  2023-07-28 02:02:30    2023-07-28 02:03:00   \n92758        ECROYDN  2023-07-28 02:06:00    2023-07-28 02:07:00   \n92761         PURLEY  2023-07-28 02:12:00    2023-07-28 02:13:00   \n92768         HORLEY  2023-07-28 02:25:30    2023-07-28 02:26:00   \n92769           GTWK  2023-07-28 02:29:30    2023-07-28 02:31:30   \n\n      planned_time_arrival planned_time_departure platform  \\\n24918                  NaT                    NaT        1   \n24919  2023-07-28 01:16:00    2023-07-28 01:17:00        1   \n24920  2023-07-28 01:20:00    2023-07-28 01:20:00        1   \n24922  2023-07-28 01:24:00    2023-07-28 01:24:00        1   \n24924  2023-07-28 01:30:00    2023-07-28 01:32:00        A   \n...                    ...                    ...      ...   \n92756                  NaT                    NaT        1   \n92758  2023-07-28 02:06:00    2023-07-28 02:07:00        5   \n92761  2023-07-28 02:12:00    2023-07-28 02:13:00        2   \n92768  2023-07-28 02:26:00    2023-07-28 02:26:00        2   \n92769  2023-07-28 02:30:00    2023-07-28 02:31:00        2   \n\n      actual_arrival_time actual_departure_time  is_delayed_arrival  \\\n24918 2023-07-28 01:19:00   2023-07-28 01:20:00               False   \n24919 2023-07-28 01:21:00   2023-07-28 01:22:00               False   \n24920 2023-07-28 01:24:00   2023-07-28 01:25:00               False   \n24922 2023-07-28 01:28:00   2023-07-28 01:29:00               False   \n24924 2023-07-28 01:33:00   2023-07-28 01:34:00               False   \n...                   ...                   ...                 ...   \n92756 2023-07-28 02:04:00   2023-07-28 02:04:00               False   \n92758 2023-07-28 02:06:00   2023-07-28 02:07:00               False   \n92761 2023-07-28 02:12:00   2023-07-28 02:13:00               False   \n92768 2023-07-28 02:26:00   2023-07-28 02:26:00               False   \n92769 2023-07-28 02:30:00   2023-07-28 02:31:00               False   \n\n       is_delayed_departure  \n24918                 False  \n24919                 False  \n24920                 False  \n24922                 False  \n24924                 False  \n...                     ...  \n92756                 False  \n92758                 False  \n92761                 False  \n92768                 False  \n92769                 False  \n\n[62 rows x 14 columns]",
      "text/html": "<div>\n<style scoped>\n    .dataframe tbody tr th:only-of-type {\n        vertical-align: middle;\n    }\n\n    .dataframe tbody tr th {\n        vertical-align: top;\n    }\n\n    .dataframe thead th {\n        text-align: right;\n    }\n</style>\n<table border=\"1\" class=\"dataframe\">\n  <thead>\n    <tr style=\"text-align: right;\">\n      <th></th>\n      <th>route_id</th>\n      <th>unique_id</th>\n      <th>service_start_date</th>\n      <th>update_origin</th>\n      <th>train_platform</th>\n      <th>working_time_arrival</th>\n      <th>working_time_departure</th>\n      <th>planned_time_arrival</th>\n      <th>planned_time_departure</th>\n      <th>platform</th>\n      <th>actual_arrival_time</th>\n      <th>actual_departure_time</th>\n      <th>is_delayed_arrival</th>\n      <th>is_delayed_departure</th>\n    </tr>\n  </thead>\n  <tbody>\n    <tr>\n      <th>24918</th>\n      <td>202307288955129</td>\n      <td>Y55129</td>\n      <td>2023-07-28</td>\n      <td>Trust</td>\n      <td>BRENTX</td>\n      <td>2023-07-28 01:13:30</td>\n      <td>2023-07-28 01:14:00</td>\n      <td>NaT</td>\n      <td>NaT</td>\n      <td>1</td>\n      <td>2023-07-28 01:19:00</td>\n      <td>2023-07-28 01:20:00</td>\n      <td>False</td>\n      <td>False</td>\n    </tr>\n    <tr>\n      <th>24919</th>\n      <td>202307288955129</td>\n      <td>Y55129</td>\n      <td>2023-07-28</td>\n      <td>Trust</td>\n      <td>CRKLWD</td>\n      <td>2023-07-28 01:15:30</td>\n      <td>2023-07-28 01:17:00</td>\n      <td>2023-07-28 01:16:00</td>\n      <td>2023-07-28 01:17:00</td>\n      <td>1</td>\n      <td>2023-07-28 01:21:00</td>\n      <td>2023-07-28 01:22:00</td>\n      <td>False</td>\n      <td>False</td>\n    </tr>\n    <tr>\n      <th>24920</th>\n      <td>202307288955129</td>\n      <td>Y55129</td>\n      <td>2023-07-28</td>\n      <td>Trust</td>\n      <td>WHMPSTM</td>\n      <td>2023-07-28 01:20:00</td>\n      <td>2023-07-28 01:20:30</td>\n      <td>2023-07-28 01:20:00</td>\n      <td>2023-07-28 01:20:00</td>\n      <td>1</td>\n      <td>2023-07-28 01:24:00</td>\n      <td>2023-07-28 01:25:00</td>\n      <td>False</td>\n      <td>False</td>\n    </tr>\n    <tr>\n      <th>24922</th>\n      <td>202307288955129</td>\n      <td>Y55129</td>\n      <td>2023-07-28</td>\n      <td>Trust</td>\n      <td>KNTSHTN</td>\n      <td>2023-07-28 01:24:00</td>\n      <td>2023-07-28 01:24:30</td>\n      <td>2023-07-28 01:24:00</td>\n      <td>2023-07-28 01:24:00</td>\n      <td>1</td>\n      <td>2023-07-28 01:28:00</td>\n      <td>2023-07-28 01:29:00</td>\n      <td>False</td>\n      <td>False</td>\n    </tr>\n    <tr>\n      <th>24924</th>\n      <td>202307288955129</td>\n      <td>Y55129</td>\n      <td>2023-07-28</td>\n      <td>Trust</td>\n      <td>STPXBOX</td>\n      <td>2023-07-28 01:30:00</td>\n      <td>2023-07-28 01:32:00</td>\n      <td>2023-07-28 01:30:00</td>\n      <td>2023-07-28 01:32:00</td>\n      <td>A</td>\n      <td>2023-07-28 01:33:00</td>\n      <td>2023-07-28 01:34:00</td>\n      <td>False</td>\n      <td>False</td>\n    </tr>\n    <tr>\n      <th>...</th>\n      <td>...</td>\n      <td>...</td>\n      <td>...</td>\n      <td>...</td>\n      <td>...</td>\n      <td>...</td>\n      <td>...</td>\n      <td>...</td>\n      <td>...</td>\n      <td>...</td>\n      <td>...</td>\n      <td>...</td>\n      <td>...</td>\n      <td>...</td>\n    </tr>\n    <tr>\n      <th>92756</th>\n      <td>202307288955129</td>\n      <td>Y55129</td>\n      <td>2023-07-28</td>\n      <td>Darwin</td>\n      <td>SELHRST</td>\n      <td>2023-07-28 02:02:30</td>\n      <td>2023-07-28 02:03:00</td>\n      <td>NaT</td>\n      <td>NaT</td>\n      <td>1</td>\n      <td>2023-07-28 02:04:00</td>\n      <td>2023-07-28 02:04:00</td>\n      <td>False</td>\n      <td>False</td>\n    </tr>\n    <tr>\n      <th>92758</th>\n      <td>202307288955129</td>\n      <td>Y55129</td>\n      <td>2023-07-28</td>\n      <td>Darwin</td>\n      <td>ECROYDN</td>\n      <td>2023-07-28 02:06:00</td>\n      <td>2023-07-28 02:07:00</td>\n      <td>2023-07-28 02:06:00</td>\n      <td>2023-07-28 02:07:00</td>\n      <td>5</td>\n      <td>2023-07-28 02:06:00</td>\n      <td>2023-07-28 02:07:00</td>\n      <td>False</td>\n      <td>False</td>\n    </tr>\n    <tr>\n      <th>92761</th>\n      <td>202307288955129</td>\n      <td>Y55129</td>\n      <td>2023-07-28</td>\n      <td>Darwin</td>\n      <td>PURLEY</td>\n      <td>2023-07-28 02:12:00</td>\n      <td>2023-07-28 02:13:00</td>\n      <td>2023-07-28 02:12:00</td>\n      <td>2023-07-28 02:13:00</td>\n      <td>2</td>\n      <td>2023-07-28 02:12:00</td>\n      <td>2023-07-28 02:13:00</td>\n      <td>False</td>\n      <td>False</td>\n    </tr>\n    <tr>\n      <th>92768</th>\n      <td>202307288955129</td>\n      <td>Y55129</td>\n      <td>2023-07-28</td>\n      <td>Darwin</td>\n      <td>HORLEY</td>\n      <td>2023-07-28 02:25:30</td>\n      <td>2023-07-28 02:26:00</td>\n      <td>2023-07-28 02:26:00</td>\n      <td>2023-07-28 02:26:00</td>\n      <td>2</td>\n      <td>2023-07-28 02:26:00</td>\n      <td>2023-07-28 02:26:00</td>\n      <td>False</td>\n      <td>False</td>\n    </tr>\n    <tr>\n      <th>92769</th>\n      <td>202307288955129</td>\n      <td>Y55129</td>\n      <td>2023-07-28</td>\n      <td>Darwin</td>\n      <td>GTWK</td>\n      <td>2023-07-28 02:29:30</td>\n      <td>2023-07-28 02:31:30</td>\n      <td>2023-07-28 02:30:00</td>\n      <td>2023-07-28 02:31:00</td>\n      <td>2</td>\n      <td>2023-07-28 02:30:00</td>\n      <td>2023-07-28 02:31:00</td>\n      <td>False</td>\n      <td>False</td>\n    </tr>\n  </tbody>\n</table>\n<p>62 rows × 14 columns</p>\n</div>"
     },
     "execution_count": 222,
     "metadata": {},
     "output_type": "execute_result"
    }
   ],
   "source": [
    "popular_id"
   ],
   "metadata": {
    "collapsed": false,
    "ExecuteTime": {
     "end_time": "2023-08-13T05:26:12.506318Z",
     "start_time": "2023-08-13T05:26:12.458609Z"
    }
   },
   "id": "da815a08f14fa1f8"
  },
  {
   "cell_type": "code",
   "execution_count": 223,
   "outputs": [
    {
     "data": {
      "text/plain": "array(['BRENTX', 'CRKLWD', 'WHMPSTM', 'KNTSHTN', 'STPXBOX', 'FRNDNLT',\n       'BLFR', 'SELHRST', 'ECROYDN', 'PURLEY', 'HORLEY', 'GTWK',\n       'LEAGRVE', 'LUTON', 'LUTOAPY', 'HRPNDN', 'STALBCY', 'RADLETT',\n       'ELTR', 'MLHB', 'HDON', 'FLITWCK', 'HRLG'], dtype=object)"
     },
     "execution_count": 223,
     "metadata": {},
     "output_type": "execute_result"
    }
   ],
   "source": [
    "# Looking at the number of unique train platforms\n",
    "\n",
    "popular_id['train_platform'].unique()"
   ],
   "metadata": {
    "collapsed": false,
    "ExecuteTime": {
     "end_time": "2023-08-13T05:26:12.509040Z",
     "start_time": "2023-08-13T05:26:12.464757Z"
    }
   },
   "id": "4e916f8a1eb8feec"
  },
  {
   "cell_type": "code",
   "execution_count": 224,
   "outputs": [
    {
     "data": {
      "text/plain": "23"
     },
     "execution_count": 224,
     "metadata": {},
     "output_type": "execute_result"
    }
   ],
   "source": [
    "popular_id['train_platform'].nunique()"
   ],
   "metadata": {
    "collapsed": false,
    "ExecuteTime": {
     "end_time": "2023-08-13T05:26:12.516225Z",
     "start_time": "2023-08-13T05:26:12.471769Z"
    }
   },
   "id": "c2243ede1263de38"
  },
  {
   "cell_type": "markdown",
   "source": [
    "## Round 3\n",
    "### Keeping rows with Darwin and Trust"
   ],
   "metadata": {
    "collapsed": false
   },
   "id": "a608940964c1b772"
  },
  {
   "cell_type": "code",
   "execution_count": 225,
   "outputs": [],
   "source": [
    "# Find duplicate rows with specific update_origin values\n",
    "duplicates_to_remove = df_filtered[(df_filtered.duplicated(['unique_id', 'train_platform'], keep=False))\n",
    "                                  & (df_filtered['update_origin'].isin(['CIS', 'Trust', 'Darwin']))]\n",
    "\n",
    "# Drop rows with update_origin as 'TD'\n",
    "new_df = df_filtered.drop(duplicates_to_remove[duplicates_to_remove['update_origin'] == 'Trust'].index)"
   ],
   "metadata": {
    "collapsed": false,
    "ExecuteTime": {
     "end_time": "2023-08-13T05:26:12.540604Z",
     "start_time": "2023-08-13T05:26:12.481549Z"
    }
   },
   "id": "55289a53783fd1da"
  },
  {
   "cell_type": "code",
   "execution_count": 226,
   "outputs": [],
   "source": [
    "popular_id = new_df[new_df['unique_id'] == 'Y55129']"
   ],
   "metadata": {
    "collapsed": false,
    "ExecuteTime": {
     "end_time": "2023-08-13T05:26:12.564382Z",
     "start_time": "2023-08-13T05:26:12.505286Z"
    }
   },
   "id": "59b3e491bbcbc337"
  },
  {
   "cell_type": "code",
   "execution_count": 227,
   "outputs": [
    {
     "data": {
      "text/plain": "              route_id unique_id service_start_date update_origin  \\\n34022  202307288955129    Y55129         2023-07-28        Darwin   \n34023  202307288955129    Y55129         2023-07-28        Darwin   \n34024  202307288955129    Y55129         2023-07-28        Darwin   \n34025  202307288955129    Y55129         2023-07-28        Darwin   \n34027  202307288955129    Y55129         2023-07-28        Darwin   \n34028  202307288955129    Y55129         2023-07-28        Darwin   \n34030  202307288955129    Y55129         2023-07-28        Darwin   \n34031  202307288955129    Y55129         2023-07-28        Darwin   \n34033  202307288955129    Y55129         2023-07-28        Darwin   \n34034  202307288955129    Y55129         2023-07-28        Darwin   \n34035  202307288955129    Y55129         2023-07-28        Darwin   \n34036  202307288955129    Y55129         2023-07-28        Darwin   \n34038  202307288955129    Y55129         2023-07-28        Darwin   \n34040  202307288955129    Y55129         2023-07-28        Darwin   \n34905  202307288955129    Y55129         2023-07-28            TD   \n34906  202307288955129    Y55129         2023-07-28            TD   \n39937  202307288955129    Y55129         2023-07-28           CIS   \n39940  202307288955129    Y55129         2023-07-28           CIS   \n39947  202307288955129    Y55129         2023-07-28           CIS   \n39948  202307288955129    Y55129         2023-07-28           CIS   \n63235  202307288955129    Y55129         2023-07-28        Darwin   \n63236  202307288955129    Y55129         2023-07-28        Darwin   \n63237  202307288955129    Y55129         2023-07-28        Darwin   \n63238  202307288955129    Y55129         2023-07-28        Darwin   \n63240  202307288955129    Y55129         2023-07-28        Darwin   \n63242  202307288955129    Y55129         2023-07-28        Darwin   \n63243  202307288955129    Y55129         2023-07-28        Darwin   \n63245  202307288955129    Y55129         2023-07-28        Darwin   \n63256  202307288955129    Y55129         2023-07-28        Darwin   \n63258  202307288955129    Y55129         2023-07-28        Darwin   \n63261  202307288955129    Y55129         2023-07-28        Darwin   \n63268  202307288955129    Y55129         2023-07-28        Darwin   \n63269  202307288955129    Y55129         2023-07-28        Darwin   \n92729  202307288955129    Y55129         2023-07-28        Darwin   \n92730  202307288955129    Y55129         2023-07-28        Darwin   \n92732  202307288955129    Y55129         2023-07-28        Darwin   \n92733  202307288955129    Y55129         2023-07-28        Darwin   \n92735  202307288955129    Y55129         2023-07-28        Darwin   \n92736  202307288955129    Y55129         2023-07-28        Darwin   \n92737  202307288955129    Y55129         2023-07-28        Darwin   \n92738  202307288955129    Y55129         2023-07-28        Darwin   \n92740  202307288955129    Y55129         2023-07-28        Darwin   \n92742  202307288955129    Y55129         2023-07-28        Darwin   \n92743  202307288955129    Y55129         2023-07-28        Darwin   \n92745  202307288955129    Y55129         2023-07-28        Darwin   \n92756  202307288955129    Y55129         2023-07-28        Darwin   \n92758  202307288955129    Y55129         2023-07-28        Darwin   \n92761  202307288955129    Y55129         2023-07-28        Darwin   \n92768  202307288955129    Y55129         2023-07-28        Darwin   \n92769  202307288955129    Y55129         2023-07-28        Darwin   \n\n      train_platform working_time_arrival working_time_departure  \\\n34022        LEAGRVE  2023-07-28 00:35:30    2023-07-28 00:36:00   \n34023          LUTON  2023-07-28 00:39:00    2023-07-28 00:40:30   \n34024        LUTOAPY  2023-07-28 00:42:30    2023-07-28 00:43:30   \n34025         HRPNDN  2023-07-28 00:48:30    2023-07-28 00:49:00   \n34027        STALBCY  2023-07-28 00:54:30    2023-07-28 00:55:30   \n34028        RADLETT  2023-07-28 01:00:30    2023-07-28 01:01:00   \n34030           ELTR  2023-07-28 01:04:00    2023-07-28 01:04:30   \n34031           MLHB  2023-07-28 01:07:30    2023-07-28 01:08:30   \n34033           HDON  2023-07-28 01:11:30    2023-07-28 01:12:00   \n34034         BRENTX  2023-07-28 01:13:30    2023-07-28 01:14:00   \n34035         CRKLWD  2023-07-28 01:15:30    2023-07-28 01:17:00   \n34036        WHMPSTM  2023-07-28 01:20:00    2023-07-28 01:20:30   \n34038        KNTSHTN  2023-07-28 01:24:00    2023-07-28 01:24:30   \n34040        STPXBOX  2023-07-28 01:30:00    2023-07-28 01:32:00   \n34905        FLITWCK  2023-07-28 00:25:30    2023-07-28 00:26:00   \n34906           HRLG  2023-07-28 00:29:30    2023-07-28 00:30:00   \n39937        ECROYDN  2023-07-28 02:06:00    2023-07-28 02:07:00   \n39940         PURLEY  2023-07-28 02:12:00    2023-07-28 02:13:00   \n39947         HORLEY  2023-07-28 02:25:30    2023-07-28 02:26:00   \n39948           GTWK  2023-07-28 02:29:30    2023-07-28 02:31:30   \n63235           HDON  2023-07-28 01:11:30    2023-07-28 01:12:00   \n63236         BRENTX  2023-07-28 01:13:30    2023-07-28 01:14:00   \n63237         CRKLWD  2023-07-28 01:15:30    2023-07-28 01:17:00   \n63238        WHMPSTM  2023-07-28 01:20:00    2023-07-28 01:20:30   \n63240        KNTSHTN  2023-07-28 01:24:00    2023-07-28 01:24:30   \n63242        STPXBOX  2023-07-28 01:30:00    2023-07-28 01:32:00   \n63243        FRNDNLT  2023-07-28 01:35:30    2023-07-28 01:36:30   \n63245           BLFR  2023-07-28 01:39:00    2023-07-28 01:40:00   \n63256        SELHRST  2023-07-28 02:02:30    2023-07-28 02:03:00   \n63258        ECROYDN  2023-07-28 02:06:00    2023-07-28 02:07:00   \n63261         PURLEY  2023-07-28 02:12:00    2023-07-28 02:13:00   \n63268         HORLEY  2023-07-28 02:25:30    2023-07-28 02:26:00   \n63269           GTWK  2023-07-28 02:29:30    2023-07-28 02:31:30   \n92729        STALBCY  2023-07-28 00:54:30    2023-07-28 00:55:30   \n92730        RADLETT  2023-07-28 01:00:30    2023-07-28 01:01:00   \n92732           ELTR  2023-07-28 01:04:00    2023-07-28 01:04:30   \n92733           MLHB  2023-07-28 01:07:30    2023-07-28 01:08:30   \n92735           HDON  2023-07-28 01:11:30    2023-07-28 01:12:00   \n92736         BRENTX  2023-07-28 01:13:30    2023-07-28 01:14:00   \n92737         CRKLWD  2023-07-28 01:15:30    2023-07-28 01:17:00   \n92738        WHMPSTM  2023-07-28 01:20:00    2023-07-28 01:20:30   \n92740        KNTSHTN  2023-07-28 01:24:00    2023-07-28 01:24:30   \n92742        STPXBOX  2023-07-28 01:30:00    2023-07-28 01:32:00   \n92743        FRNDNLT  2023-07-28 01:35:30    2023-07-28 01:36:30   \n92745           BLFR  2023-07-28 01:39:00    2023-07-28 01:40:00   \n92756        SELHRST  2023-07-28 02:02:30    2023-07-28 02:03:00   \n92758        ECROYDN  2023-07-28 02:06:00    2023-07-28 02:07:00   \n92761         PURLEY  2023-07-28 02:12:00    2023-07-28 02:13:00   \n92768         HORLEY  2023-07-28 02:25:30    2023-07-28 02:26:00   \n92769           GTWK  2023-07-28 02:29:30    2023-07-28 02:31:30   \n\n      planned_time_arrival planned_time_departure platform  \\\n34022  2023-07-28 00:36:00    2023-07-28 00:36:00        1   \n34023  2023-07-28 00:39:00    2023-07-28 00:40:00        1   \n34024  2023-07-28 00:43:00    2023-07-28 00:43:00        1   \n34025  2023-07-28 00:49:00    2023-07-28 00:49:00        1   \n34027  2023-07-28 00:55:00    2023-07-28 00:55:00        1   \n34028  2023-07-28 01:01:00    2023-07-28 01:01:00        1   \n34030  2023-07-28 01:04:00    2023-07-28 01:04:00        1   \n34031  2023-07-28 01:08:00    2023-07-28 01:08:00        1   \n34033  2023-07-28 01:12:00    2023-07-28 01:12:00        1   \n34034                  NaT                    NaT        1   \n34035  2023-07-28 01:16:00    2023-07-28 01:17:00        1   \n34036  2023-07-28 01:20:00    2023-07-28 01:20:00        1   \n34038  2023-07-28 01:24:00    2023-07-28 01:24:00        1   \n34040  2023-07-28 01:30:00    2023-07-28 01:32:00        A   \n34905  2023-07-28 00:26:00    2023-07-28 00:26:00        3   \n34906  2023-07-28 00:30:00    2023-07-28 00:30:00        3   \n39937  2023-07-28 02:06:00    2023-07-28 02:07:00        5   \n39940  2023-07-28 02:12:00    2023-07-28 02:13:00        4   \n39947  2023-07-28 02:26:00    2023-07-28 02:26:00        2   \n39948  2023-07-28 02:30:00    2023-07-28 02:31:00        2   \n63235  2023-07-28 01:12:00    2023-07-28 01:12:00        1   \n63236                  NaT                    NaT        1   \n63237  2023-07-28 01:16:00    2023-07-28 01:17:00        1   \n63238  2023-07-28 01:20:00    2023-07-28 01:20:00        1   \n63240  2023-07-28 01:24:00    2023-07-28 01:24:00        1   \n63242  2023-07-28 01:30:00    2023-07-28 01:32:00        A   \n63243                  NaT                    NaT        3   \n63245  2023-07-28 01:39:00    2023-07-28 01:40:00        1   \n63256                  NaT                    NaT        1   \n63258  2023-07-28 02:06:00    2023-07-28 02:07:00        5   \n63261  2023-07-28 02:12:00    2023-07-28 02:13:00        4   \n63268  2023-07-28 02:26:00    2023-07-28 02:26:00        2   \n63269  2023-07-28 02:30:00    2023-07-28 02:31:00        2   \n92729  2023-07-28 00:55:00    2023-07-28 00:55:00        1   \n92730  2023-07-28 01:01:00    2023-07-28 01:01:00        1   \n92732  2023-07-28 01:04:00    2023-07-28 01:04:00        1   \n92733  2023-07-28 01:08:00    2023-07-28 01:08:00        1   \n92735  2023-07-28 01:12:00    2023-07-28 01:12:00        1   \n92736                  NaT                    NaT        1   \n92737  2023-07-28 01:16:00    2023-07-28 01:17:00        1   \n92738  2023-07-28 01:20:00    2023-07-28 01:20:00        1   \n92740  2023-07-28 01:24:00    2023-07-28 01:24:00        1   \n92742  2023-07-28 01:30:00    2023-07-28 01:32:00        A   \n92743                  NaT                    NaT        3   \n92745  2023-07-28 01:39:00    2023-07-28 01:40:00        1   \n92756                  NaT                    NaT        1   \n92758  2023-07-28 02:06:00    2023-07-28 02:07:00        5   \n92761  2023-07-28 02:12:00    2023-07-28 02:13:00        2   \n92768  2023-07-28 02:26:00    2023-07-28 02:26:00        2   \n92769  2023-07-28 02:30:00    2023-07-28 02:31:00        2   \n\n      actual_arrival_time actual_departure_time  is_delayed_arrival  \\\n34022                 NaT   2023-07-28 00:41:00               False   \n34023 2023-07-28 00:44:00   2023-07-28 00:45:00               False   \n34024 2023-07-28 00:47:00   2023-07-28 00:47:00               False   \n34025 2023-07-28 00:52:00   2023-07-28 00:53:00               False   \n34027 2023-07-28 00:57:00   2023-07-28 00:58:00               False   \n34028 2023-07-28 01:03:00   2023-07-28 01:03:00               False   \n34030 2023-07-28 01:06:00   2023-07-28 01:07:00               False   \n34031 2023-07-28 01:10:00   2023-07-28 01:10:00               False   \n34033 2023-07-28 01:12:00   2023-07-28 01:14:00               False   \n34034 2023-07-28 01:15:00   2023-07-28 01:16:00               False   \n34035 2023-07-28 01:16:00   2023-07-28 01:17:00               False   \n34036 2023-07-28 01:20:00   2023-07-28 01:20:00               False   \n34038 2023-07-28 01:24:00   2023-07-28 01:24:00               False   \n34040 2023-07-28 01:30:00   2023-07-28 01:32:00               False   \n34905 2023-07-28 00:27:00   2023-07-28 00:27:00               False   \n34906 2023-07-28 00:31:00   2023-07-28 00:31:00               False   \n39937 2023-07-28 02:13:00   2023-07-28 02:14:00               False   \n39940 2023-07-28 02:19:00   2023-07-28 02:20:00               False   \n39947 2023-07-28 02:33:00   2023-07-28 02:33:00               False   \n39948 2023-07-28 02:37:00   2023-07-28 02:38:00               False   \n63235                 NaT   2023-07-28 01:19:00               False   \n63236 2023-07-28 01:20:00   2023-07-28 01:21:00               False   \n63237 2023-07-28 01:22:00   2023-07-28 01:23:00               False   \n63238 2023-07-28 01:25:00   2023-07-28 01:26:00               False   \n63240 2023-07-28 01:29:00   2023-07-28 01:30:00               False   \n63242 2023-07-28 01:34:00   2023-07-28 01:35:00               False   \n63243 2023-07-28 01:39:00   2023-07-28 01:40:00               False   \n63245 2023-07-28 01:42:00   2023-07-28 01:43:00               False   \n63256 2023-07-28 02:06:00   2023-07-28 02:06:00               False   \n63258 2023-07-28 02:09:00   2023-07-28 02:10:00               False   \n63261 2023-07-28 02:15:00   2023-07-28 02:16:00               False   \n63268 2023-07-28 02:29:00   2023-07-28 02:29:00               False   \n63269 2023-07-28 02:33:00   2023-07-28 02:34:00               False   \n92729                 NaT   2023-07-28 01:01:00               False   \n92730 2023-07-28 01:06:00   2023-07-28 01:06:00               False   \n92732 2023-07-28 01:09:00   2023-07-28 01:10:00               False   \n92733 2023-07-28 01:13:00   2023-07-28 01:13:00               False   \n92735 2023-07-28 01:16:00   2023-07-28 01:17:00               False   \n92736 2023-07-28 01:18:00   2023-07-28 01:19:00               False   \n92737 2023-07-28 01:20:00   2023-07-28 01:21:00               False   \n92738 2023-07-28 01:23:00   2023-07-28 01:24:00               False   \n92740 2023-07-28 01:27:00   2023-07-28 01:28:00               False   \n92742 2023-07-28 01:32:00   2023-07-28 01:32:00               False   \n92743 2023-07-28 01:37:00   2023-07-28 01:38:00               False   \n92745 2023-07-28 01:39:00   2023-07-28 01:40:00               False   \n92756 2023-07-28 02:04:00   2023-07-28 02:04:00               False   \n92758 2023-07-28 02:06:00   2023-07-28 02:07:00               False   \n92761 2023-07-28 02:12:00   2023-07-28 02:13:00               False   \n92768 2023-07-28 02:26:00   2023-07-28 02:26:00               False   \n92769 2023-07-28 02:30:00   2023-07-28 02:31:00               False   \n\n       is_delayed_departure  \n34022                 False  \n34023                 False  \n34024                 False  \n34025                 False  \n34027                 False  \n34028                 False  \n34030                 False  \n34031                 False  \n34033                 False  \n34034                 False  \n34035                 False  \n34036                 False  \n34038                 False  \n34040                 False  \n34905                 False  \n34906                 False  \n39937                 False  \n39940                 False  \n39947                 False  \n39948                 False  \n63235                 False  \n63236                 False  \n63237                 False  \n63238                 False  \n63240                 False  \n63242                 False  \n63243                 False  \n63245                 False  \n63256                 False  \n63258                 False  \n63261                 False  \n63268                 False  \n63269                 False  \n92729                 False  \n92730                 False  \n92732                 False  \n92733                 False  \n92735                 False  \n92736                 False  \n92737                 False  \n92738                 False  \n92740                 False  \n92742                 False  \n92743                 False  \n92745                 False  \n92756                 False  \n92758                 False  \n92761                 False  \n92768                 False  \n92769                 False  ",
      "text/html": "<div>\n<style scoped>\n    .dataframe tbody tr th:only-of-type {\n        vertical-align: middle;\n    }\n\n    .dataframe tbody tr th {\n        vertical-align: top;\n    }\n\n    .dataframe thead th {\n        text-align: right;\n    }\n</style>\n<table border=\"1\" class=\"dataframe\">\n  <thead>\n    <tr style=\"text-align: right;\">\n      <th></th>\n      <th>route_id</th>\n      <th>unique_id</th>\n      <th>service_start_date</th>\n      <th>update_origin</th>\n      <th>train_platform</th>\n      <th>working_time_arrival</th>\n      <th>working_time_departure</th>\n      <th>planned_time_arrival</th>\n      <th>planned_time_departure</th>\n      <th>platform</th>\n      <th>actual_arrival_time</th>\n      <th>actual_departure_time</th>\n      <th>is_delayed_arrival</th>\n      <th>is_delayed_departure</th>\n    </tr>\n  </thead>\n  <tbody>\n    <tr>\n      <th>34022</th>\n      <td>202307288955129</td>\n      <td>Y55129</td>\n      <td>2023-07-28</td>\n      <td>Darwin</td>\n      <td>LEAGRVE</td>\n      <td>2023-07-28 00:35:30</td>\n      <td>2023-07-28 00:36:00</td>\n      <td>2023-07-28 00:36:00</td>\n      <td>2023-07-28 00:36:00</td>\n      <td>1</td>\n      <td>NaT</td>\n      <td>2023-07-28 00:41:00</td>\n      <td>False</td>\n      <td>False</td>\n    </tr>\n    <tr>\n      <th>34023</th>\n      <td>202307288955129</td>\n      <td>Y55129</td>\n      <td>2023-07-28</td>\n      <td>Darwin</td>\n      <td>LUTON</td>\n      <td>2023-07-28 00:39:00</td>\n      <td>2023-07-28 00:40:30</td>\n      <td>2023-07-28 00:39:00</td>\n      <td>2023-07-28 00:40:00</td>\n      <td>1</td>\n      <td>2023-07-28 00:44:00</td>\n      <td>2023-07-28 00:45:00</td>\n      <td>False</td>\n      <td>False</td>\n    </tr>\n    <tr>\n      <th>34024</th>\n      <td>202307288955129</td>\n      <td>Y55129</td>\n      <td>2023-07-28</td>\n      <td>Darwin</td>\n      <td>LUTOAPY</td>\n      <td>2023-07-28 00:42:30</td>\n      <td>2023-07-28 00:43:30</td>\n      <td>2023-07-28 00:43:00</td>\n      <td>2023-07-28 00:43:00</td>\n      <td>1</td>\n      <td>2023-07-28 00:47:00</td>\n      <td>2023-07-28 00:47:00</td>\n      <td>False</td>\n      <td>False</td>\n    </tr>\n    <tr>\n      <th>34025</th>\n      <td>202307288955129</td>\n      <td>Y55129</td>\n      <td>2023-07-28</td>\n      <td>Darwin</td>\n      <td>HRPNDN</td>\n      <td>2023-07-28 00:48:30</td>\n      <td>2023-07-28 00:49:00</td>\n      <td>2023-07-28 00:49:00</td>\n      <td>2023-07-28 00:49:00</td>\n      <td>1</td>\n      <td>2023-07-28 00:52:00</td>\n      <td>2023-07-28 00:53:00</td>\n      <td>False</td>\n      <td>False</td>\n    </tr>\n    <tr>\n      <th>34027</th>\n      <td>202307288955129</td>\n      <td>Y55129</td>\n      <td>2023-07-28</td>\n      <td>Darwin</td>\n      <td>STALBCY</td>\n      <td>2023-07-28 00:54:30</td>\n      <td>2023-07-28 00:55:30</td>\n      <td>2023-07-28 00:55:00</td>\n      <td>2023-07-28 00:55:00</td>\n      <td>1</td>\n      <td>2023-07-28 00:57:00</td>\n      <td>2023-07-28 00:58:00</td>\n      <td>False</td>\n      <td>False</td>\n    </tr>\n    <tr>\n      <th>34028</th>\n      <td>202307288955129</td>\n      <td>Y55129</td>\n      <td>2023-07-28</td>\n      <td>Darwin</td>\n      <td>RADLETT</td>\n      <td>2023-07-28 01:00:30</td>\n      <td>2023-07-28 01:01:00</td>\n      <td>2023-07-28 01:01:00</td>\n      <td>2023-07-28 01:01:00</td>\n      <td>1</td>\n      <td>2023-07-28 01:03:00</td>\n      <td>2023-07-28 01:03:00</td>\n      <td>False</td>\n      <td>False</td>\n    </tr>\n    <tr>\n      <th>34030</th>\n      <td>202307288955129</td>\n      <td>Y55129</td>\n      <td>2023-07-28</td>\n      <td>Darwin</td>\n      <td>ELTR</td>\n      <td>2023-07-28 01:04:00</td>\n      <td>2023-07-28 01:04:30</td>\n      <td>2023-07-28 01:04:00</td>\n      <td>2023-07-28 01:04:00</td>\n      <td>1</td>\n      <td>2023-07-28 01:06:00</td>\n      <td>2023-07-28 01:07:00</td>\n      <td>False</td>\n      <td>False</td>\n    </tr>\n    <tr>\n      <th>34031</th>\n      <td>202307288955129</td>\n      <td>Y55129</td>\n      <td>2023-07-28</td>\n      <td>Darwin</td>\n      <td>MLHB</td>\n      <td>2023-07-28 01:07:30</td>\n      <td>2023-07-28 01:08:30</td>\n      <td>2023-07-28 01:08:00</td>\n      <td>2023-07-28 01:08:00</td>\n      <td>1</td>\n      <td>2023-07-28 01:10:00</td>\n      <td>2023-07-28 01:10:00</td>\n      <td>False</td>\n      <td>False</td>\n    </tr>\n    <tr>\n      <th>34033</th>\n      <td>202307288955129</td>\n      <td>Y55129</td>\n      <td>2023-07-28</td>\n      <td>Darwin</td>\n      <td>HDON</td>\n      <td>2023-07-28 01:11:30</td>\n      <td>2023-07-28 01:12:00</td>\n      <td>2023-07-28 01:12:00</td>\n      <td>2023-07-28 01:12:00</td>\n      <td>1</td>\n      <td>2023-07-28 01:12:00</td>\n      <td>2023-07-28 01:14:00</td>\n      <td>False</td>\n      <td>False</td>\n    </tr>\n    <tr>\n      <th>34034</th>\n      <td>202307288955129</td>\n      <td>Y55129</td>\n      <td>2023-07-28</td>\n      <td>Darwin</td>\n      <td>BRENTX</td>\n      <td>2023-07-28 01:13:30</td>\n      <td>2023-07-28 01:14:00</td>\n      <td>NaT</td>\n      <td>NaT</td>\n      <td>1</td>\n      <td>2023-07-28 01:15:00</td>\n      <td>2023-07-28 01:16:00</td>\n      <td>False</td>\n      <td>False</td>\n    </tr>\n    <tr>\n      <th>34035</th>\n      <td>202307288955129</td>\n      <td>Y55129</td>\n      <td>2023-07-28</td>\n      <td>Darwin</td>\n      <td>CRKLWD</td>\n      <td>2023-07-28 01:15:30</td>\n      <td>2023-07-28 01:17:00</td>\n      <td>2023-07-28 01:16:00</td>\n      <td>2023-07-28 01:17:00</td>\n      <td>1</td>\n      <td>2023-07-28 01:16:00</td>\n      <td>2023-07-28 01:17:00</td>\n      <td>False</td>\n      <td>False</td>\n    </tr>\n    <tr>\n      <th>34036</th>\n      <td>202307288955129</td>\n      <td>Y55129</td>\n      <td>2023-07-28</td>\n      <td>Darwin</td>\n      <td>WHMPSTM</td>\n      <td>2023-07-28 01:20:00</td>\n      <td>2023-07-28 01:20:30</td>\n      <td>2023-07-28 01:20:00</td>\n      <td>2023-07-28 01:20:00</td>\n      <td>1</td>\n      <td>2023-07-28 01:20:00</td>\n      <td>2023-07-28 01:20:00</td>\n      <td>False</td>\n      <td>False</td>\n    </tr>\n    <tr>\n      <th>34038</th>\n      <td>202307288955129</td>\n      <td>Y55129</td>\n      <td>2023-07-28</td>\n      <td>Darwin</td>\n      <td>KNTSHTN</td>\n      <td>2023-07-28 01:24:00</td>\n      <td>2023-07-28 01:24:30</td>\n      <td>2023-07-28 01:24:00</td>\n      <td>2023-07-28 01:24:00</td>\n      <td>1</td>\n      <td>2023-07-28 01:24:00</td>\n      <td>2023-07-28 01:24:00</td>\n      <td>False</td>\n      <td>False</td>\n    </tr>\n    <tr>\n      <th>34040</th>\n      <td>202307288955129</td>\n      <td>Y55129</td>\n      <td>2023-07-28</td>\n      <td>Darwin</td>\n      <td>STPXBOX</td>\n      <td>2023-07-28 01:30:00</td>\n      <td>2023-07-28 01:32:00</td>\n      <td>2023-07-28 01:30:00</td>\n      <td>2023-07-28 01:32:00</td>\n      <td>A</td>\n      <td>2023-07-28 01:30:00</td>\n      <td>2023-07-28 01:32:00</td>\n      <td>False</td>\n      <td>False</td>\n    </tr>\n    <tr>\n      <th>34905</th>\n      <td>202307288955129</td>\n      <td>Y55129</td>\n      <td>2023-07-28</td>\n      <td>TD</td>\n      <td>FLITWCK</td>\n      <td>2023-07-28 00:25:30</td>\n      <td>2023-07-28 00:26:00</td>\n      <td>2023-07-28 00:26:00</td>\n      <td>2023-07-28 00:26:00</td>\n      <td>3</td>\n      <td>2023-07-28 00:27:00</td>\n      <td>2023-07-28 00:27:00</td>\n      <td>False</td>\n      <td>False</td>\n    </tr>\n    <tr>\n      <th>34906</th>\n      <td>202307288955129</td>\n      <td>Y55129</td>\n      <td>2023-07-28</td>\n      <td>TD</td>\n      <td>HRLG</td>\n      <td>2023-07-28 00:29:30</td>\n      <td>2023-07-28 00:30:00</td>\n      <td>2023-07-28 00:30:00</td>\n      <td>2023-07-28 00:30:00</td>\n      <td>3</td>\n      <td>2023-07-28 00:31:00</td>\n      <td>2023-07-28 00:31:00</td>\n      <td>False</td>\n      <td>False</td>\n    </tr>\n    <tr>\n      <th>39937</th>\n      <td>202307288955129</td>\n      <td>Y55129</td>\n      <td>2023-07-28</td>\n      <td>CIS</td>\n      <td>ECROYDN</td>\n      <td>2023-07-28 02:06:00</td>\n      <td>2023-07-28 02:07:00</td>\n      <td>2023-07-28 02:06:00</td>\n      <td>2023-07-28 02:07:00</td>\n      <td>5</td>\n      <td>2023-07-28 02:13:00</td>\n      <td>2023-07-28 02:14:00</td>\n      <td>False</td>\n      <td>False</td>\n    </tr>\n    <tr>\n      <th>39940</th>\n      <td>202307288955129</td>\n      <td>Y55129</td>\n      <td>2023-07-28</td>\n      <td>CIS</td>\n      <td>PURLEY</td>\n      <td>2023-07-28 02:12:00</td>\n      <td>2023-07-28 02:13:00</td>\n      <td>2023-07-28 02:12:00</td>\n      <td>2023-07-28 02:13:00</td>\n      <td>4</td>\n      <td>2023-07-28 02:19:00</td>\n      <td>2023-07-28 02:20:00</td>\n      <td>False</td>\n      <td>False</td>\n    </tr>\n    <tr>\n      <th>39947</th>\n      <td>202307288955129</td>\n      <td>Y55129</td>\n      <td>2023-07-28</td>\n      <td>CIS</td>\n      <td>HORLEY</td>\n      <td>2023-07-28 02:25:30</td>\n      <td>2023-07-28 02:26:00</td>\n      <td>2023-07-28 02:26:00</td>\n      <td>2023-07-28 02:26:00</td>\n      <td>2</td>\n      <td>2023-07-28 02:33:00</td>\n      <td>2023-07-28 02:33:00</td>\n      <td>False</td>\n      <td>False</td>\n    </tr>\n    <tr>\n      <th>39948</th>\n      <td>202307288955129</td>\n      <td>Y55129</td>\n      <td>2023-07-28</td>\n      <td>CIS</td>\n      <td>GTWK</td>\n      <td>2023-07-28 02:29:30</td>\n      <td>2023-07-28 02:31:30</td>\n      <td>2023-07-28 02:30:00</td>\n      <td>2023-07-28 02:31:00</td>\n      <td>2</td>\n      <td>2023-07-28 02:37:00</td>\n      <td>2023-07-28 02:38:00</td>\n      <td>False</td>\n      <td>False</td>\n    </tr>\n    <tr>\n      <th>63235</th>\n      <td>202307288955129</td>\n      <td>Y55129</td>\n      <td>2023-07-28</td>\n      <td>Darwin</td>\n      <td>HDON</td>\n      <td>2023-07-28 01:11:30</td>\n      <td>2023-07-28 01:12:00</td>\n      <td>2023-07-28 01:12:00</td>\n      <td>2023-07-28 01:12:00</td>\n      <td>1</td>\n      <td>NaT</td>\n      <td>2023-07-28 01:19:00</td>\n      <td>False</td>\n      <td>False</td>\n    </tr>\n    <tr>\n      <th>63236</th>\n      <td>202307288955129</td>\n      <td>Y55129</td>\n      <td>2023-07-28</td>\n      <td>Darwin</td>\n      <td>BRENTX</td>\n      <td>2023-07-28 01:13:30</td>\n      <td>2023-07-28 01:14:00</td>\n      <td>NaT</td>\n      <td>NaT</td>\n      <td>1</td>\n      <td>2023-07-28 01:20:00</td>\n      <td>2023-07-28 01:21:00</td>\n      <td>False</td>\n      <td>False</td>\n    </tr>\n    <tr>\n      <th>63237</th>\n      <td>202307288955129</td>\n      <td>Y55129</td>\n      <td>2023-07-28</td>\n      <td>Darwin</td>\n      <td>CRKLWD</td>\n      <td>2023-07-28 01:15:30</td>\n      <td>2023-07-28 01:17:00</td>\n      <td>2023-07-28 01:16:00</td>\n      <td>2023-07-28 01:17:00</td>\n      <td>1</td>\n      <td>2023-07-28 01:22:00</td>\n      <td>2023-07-28 01:23:00</td>\n      <td>False</td>\n      <td>False</td>\n    </tr>\n    <tr>\n      <th>63238</th>\n      <td>202307288955129</td>\n      <td>Y55129</td>\n      <td>2023-07-28</td>\n      <td>Darwin</td>\n      <td>WHMPSTM</td>\n      <td>2023-07-28 01:20:00</td>\n      <td>2023-07-28 01:20:30</td>\n      <td>2023-07-28 01:20:00</td>\n      <td>2023-07-28 01:20:00</td>\n      <td>1</td>\n      <td>2023-07-28 01:25:00</td>\n      <td>2023-07-28 01:26:00</td>\n      <td>False</td>\n      <td>False</td>\n    </tr>\n    <tr>\n      <th>63240</th>\n      <td>202307288955129</td>\n      <td>Y55129</td>\n      <td>2023-07-28</td>\n      <td>Darwin</td>\n      <td>KNTSHTN</td>\n      <td>2023-07-28 01:24:00</td>\n      <td>2023-07-28 01:24:30</td>\n      <td>2023-07-28 01:24:00</td>\n      <td>2023-07-28 01:24:00</td>\n      <td>1</td>\n      <td>2023-07-28 01:29:00</td>\n      <td>2023-07-28 01:30:00</td>\n      <td>False</td>\n      <td>False</td>\n    </tr>\n    <tr>\n      <th>63242</th>\n      <td>202307288955129</td>\n      <td>Y55129</td>\n      <td>2023-07-28</td>\n      <td>Darwin</td>\n      <td>STPXBOX</td>\n      <td>2023-07-28 01:30:00</td>\n      <td>2023-07-28 01:32:00</td>\n      <td>2023-07-28 01:30:00</td>\n      <td>2023-07-28 01:32:00</td>\n      <td>A</td>\n      <td>2023-07-28 01:34:00</td>\n      <td>2023-07-28 01:35:00</td>\n      <td>False</td>\n      <td>False</td>\n    </tr>\n    <tr>\n      <th>63243</th>\n      <td>202307288955129</td>\n      <td>Y55129</td>\n      <td>2023-07-28</td>\n      <td>Darwin</td>\n      <td>FRNDNLT</td>\n      <td>2023-07-28 01:35:30</td>\n      <td>2023-07-28 01:36:30</td>\n      <td>NaT</td>\n      <td>NaT</td>\n      <td>3</td>\n      <td>2023-07-28 01:39:00</td>\n      <td>2023-07-28 01:40:00</td>\n      <td>False</td>\n      <td>False</td>\n    </tr>\n    <tr>\n      <th>63245</th>\n      <td>202307288955129</td>\n      <td>Y55129</td>\n      <td>2023-07-28</td>\n      <td>Darwin</td>\n      <td>BLFR</td>\n      <td>2023-07-28 01:39:00</td>\n      <td>2023-07-28 01:40:00</td>\n      <td>2023-07-28 01:39:00</td>\n      <td>2023-07-28 01:40:00</td>\n      <td>1</td>\n      <td>2023-07-28 01:42:00</td>\n      <td>2023-07-28 01:43:00</td>\n      <td>False</td>\n      <td>False</td>\n    </tr>\n    <tr>\n      <th>63256</th>\n      <td>202307288955129</td>\n      <td>Y55129</td>\n      <td>2023-07-28</td>\n      <td>Darwin</td>\n      <td>SELHRST</td>\n      <td>2023-07-28 02:02:30</td>\n      <td>2023-07-28 02:03:00</td>\n      <td>NaT</td>\n      <td>NaT</td>\n      <td>1</td>\n      <td>2023-07-28 02:06:00</td>\n      <td>2023-07-28 02:06:00</td>\n      <td>False</td>\n      <td>False</td>\n    </tr>\n    <tr>\n      <th>63258</th>\n      <td>202307288955129</td>\n      <td>Y55129</td>\n      <td>2023-07-28</td>\n      <td>Darwin</td>\n      <td>ECROYDN</td>\n      <td>2023-07-28 02:06:00</td>\n      <td>2023-07-28 02:07:00</td>\n      <td>2023-07-28 02:06:00</td>\n      <td>2023-07-28 02:07:00</td>\n      <td>5</td>\n      <td>2023-07-28 02:09:00</td>\n      <td>2023-07-28 02:10:00</td>\n      <td>False</td>\n      <td>False</td>\n    </tr>\n    <tr>\n      <th>63261</th>\n      <td>202307288955129</td>\n      <td>Y55129</td>\n      <td>2023-07-28</td>\n      <td>Darwin</td>\n      <td>PURLEY</td>\n      <td>2023-07-28 02:12:00</td>\n      <td>2023-07-28 02:13:00</td>\n      <td>2023-07-28 02:12:00</td>\n      <td>2023-07-28 02:13:00</td>\n      <td>4</td>\n      <td>2023-07-28 02:15:00</td>\n      <td>2023-07-28 02:16:00</td>\n      <td>False</td>\n      <td>False</td>\n    </tr>\n    <tr>\n      <th>63268</th>\n      <td>202307288955129</td>\n      <td>Y55129</td>\n      <td>2023-07-28</td>\n      <td>Darwin</td>\n      <td>HORLEY</td>\n      <td>2023-07-28 02:25:30</td>\n      <td>2023-07-28 02:26:00</td>\n      <td>2023-07-28 02:26:00</td>\n      <td>2023-07-28 02:26:00</td>\n      <td>2</td>\n      <td>2023-07-28 02:29:00</td>\n      <td>2023-07-28 02:29:00</td>\n      <td>False</td>\n      <td>False</td>\n    </tr>\n    <tr>\n      <th>63269</th>\n      <td>202307288955129</td>\n      <td>Y55129</td>\n      <td>2023-07-28</td>\n      <td>Darwin</td>\n      <td>GTWK</td>\n      <td>2023-07-28 02:29:30</td>\n      <td>2023-07-28 02:31:30</td>\n      <td>2023-07-28 02:30:00</td>\n      <td>2023-07-28 02:31:00</td>\n      <td>2</td>\n      <td>2023-07-28 02:33:00</td>\n      <td>2023-07-28 02:34:00</td>\n      <td>False</td>\n      <td>False</td>\n    </tr>\n    <tr>\n      <th>92729</th>\n      <td>202307288955129</td>\n      <td>Y55129</td>\n      <td>2023-07-28</td>\n      <td>Darwin</td>\n      <td>STALBCY</td>\n      <td>2023-07-28 00:54:30</td>\n      <td>2023-07-28 00:55:30</td>\n      <td>2023-07-28 00:55:00</td>\n      <td>2023-07-28 00:55:00</td>\n      <td>1</td>\n      <td>NaT</td>\n      <td>2023-07-28 01:01:00</td>\n      <td>False</td>\n      <td>False</td>\n    </tr>\n    <tr>\n      <th>92730</th>\n      <td>202307288955129</td>\n      <td>Y55129</td>\n      <td>2023-07-28</td>\n      <td>Darwin</td>\n      <td>RADLETT</td>\n      <td>2023-07-28 01:00:30</td>\n      <td>2023-07-28 01:01:00</td>\n      <td>2023-07-28 01:01:00</td>\n      <td>2023-07-28 01:01:00</td>\n      <td>1</td>\n      <td>2023-07-28 01:06:00</td>\n      <td>2023-07-28 01:06:00</td>\n      <td>False</td>\n      <td>False</td>\n    </tr>\n    <tr>\n      <th>92732</th>\n      <td>202307288955129</td>\n      <td>Y55129</td>\n      <td>2023-07-28</td>\n      <td>Darwin</td>\n      <td>ELTR</td>\n      <td>2023-07-28 01:04:00</td>\n      <td>2023-07-28 01:04:30</td>\n      <td>2023-07-28 01:04:00</td>\n      <td>2023-07-28 01:04:00</td>\n      <td>1</td>\n      <td>2023-07-28 01:09:00</td>\n      <td>2023-07-28 01:10:00</td>\n      <td>False</td>\n      <td>False</td>\n    </tr>\n    <tr>\n      <th>92733</th>\n      <td>202307288955129</td>\n      <td>Y55129</td>\n      <td>2023-07-28</td>\n      <td>Darwin</td>\n      <td>MLHB</td>\n      <td>2023-07-28 01:07:30</td>\n      <td>2023-07-28 01:08:30</td>\n      <td>2023-07-28 01:08:00</td>\n      <td>2023-07-28 01:08:00</td>\n      <td>1</td>\n      <td>2023-07-28 01:13:00</td>\n      <td>2023-07-28 01:13:00</td>\n      <td>False</td>\n      <td>False</td>\n    </tr>\n    <tr>\n      <th>92735</th>\n      <td>202307288955129</td>\n      <td>Y55129</td>\n      <td>2023-07-28</td>\n      <td>Darwin</td>\n      <td>HDON</td>\n      <td>2023-07-28 01:11:30</td>\n      <td>2023-07-28 01:12:00</td>\n      <td>2023-07-28 01:12:00</td>\n      <td>2023-07-28 01:12:00</td>\n      <td>1</td>\n      <td>2023-07-28 01:16:00</td>\n      <td>2023-07-28 01:17:00</td>\n      <td>False</td>\n      <td>False</td>\n    </tr>\n    <tr>\n      <th>92736</th>\n      <td>202307288955129</td>\n      <td>Y55129</td>\n      <td>2023-07-28</td>\n      <td>Darwin</td>\n      <td>BRENTX</td>\n      <td>2023-07-28 01:13:30</td>\n      <td>2023-07-28 01:14:00</td>\n      <td>NaT</td>\n      <td>NaT</td>\n      <td>1</td>\n      <td>2023-07-28 01:18:00</td>\n      <td>2023-07-28 01:19:00</td>\n      <td>False</td>\n      <td>False</td>\n    </tr>\n    <tr>\n      <th>92737</th>\n      <td>202307288955129</td>\n      <td>Y55129</td>\n      <td>2023-07-28</td>\n      <td>Darwin</td>\n      <td>CRKLWD</td>\n      <td>2023-07-28 01:15:30</td>\n      <td>2023-07-28 01:17:00</td>\n      <td>2023-07-28 01:16:00</td>\n      <td>2023-07-28 01:17:00</td>\n      <td>1</td>\n      <td>2023-07-28 01:20:00</td>\n      <td>2023-07-28 01:21:00</td>\n      <td>False</td>\n      <td>False</td>\n    </tr>\n    <tr>\n      <th>92738</th>\n      <td>202307288955129</td>\n      <td>Y55129</td>\n      <td>2023-07-28</td>\n      <td>Darwin</td>\n      <td>WHMPSTM</td>\n      <td>2023-07-28 01:20:00</td>\n      <td>2023-07-28 01:20:30</td>\n      <td>2023-07-28 01:20:00</td>\n      <td>2023-07-28 01:20:00</td>\n      <td>1</td>\n      <td>2023-07-28 01:23:00</td>\n      <td>2023-07-28 01:24:00</td>\n      <td>False</td>\n      <td>False</td>\n    </tr>\n    <tr>\n      <th>92740</th>\n      <td>202307288955129</td>\n      <td>Y55129</td>\n      <td>2023-07-28</td>\n      <td>Darwin</td>\n      <td>KNTSHTN</td>\n      <td>2023-07-28 01:24:00</td>\n      <td>2023-07-28 01:24:30</td>\n      <td>2023-07-28 01:24:00</td>\n      <td>2023-07-28 01:24:00</td>\n      <td>1</td>\n      <td>2023-07-28 01:27:00</td>\n      <td>2023-07-28 01:28:00</td>\n      <td>False</td>\n      <td>False</td>\n    </tr>\n    <tr>\n      <th>92742</th>\n      <td>202307288955129</td>\n      <td>Y55129</td>\n      <td>2023-07-28</td>\n      <td>Darwin</td>\n      <td>STPXBOX</td>\n      <td>2023-07-28 01:30:00</td>\n      <td>2023-07-28 01:32:00</td>\n      <td>2023-07-28 01:30:00</td>\n      <td>2023-07-28 01:32:00</td>\n      <td>A</td>\n      <td>2023-07-28 01:32:00</td>\n      <td>2023-07-28 01:32:00</td>\n      <td>False</td>\n      <td>False</td>\n    </tr>\n    <tr>\n      <th>92743</th>\n      <td>202307288955129</td>\n      <td>Y55129</td>\n      <td>2023-07-28</td>\n      <td>Darwin</td>\n      <td>FRNDNLT</td>\n      <td>2023-07-28 01:35:30</td>\n      <td>2023-07-28 01:36:30</td>\n      <td>NaT</td>\n      <td>NaT</td>\n      <td>3</td>\n      <td>2023-07-28 01:37:00</td>\n      <td>2023-07-28 01:38:00</td>\n      <td>False</td>\n      <td>False</td>\n    </tr>\n    <tr>\n      <th>92745</th>\n      <td>202307288955129</td>\n      <td>Y55129</td>\n      <td>2023-07-28</td>\n      <td>Darwin</td>\n      <td>BLFR</td>\n      <td>2023-07-28 01:39:00</td>\n      <td>2023-07-28 01:40:00</td>\n      <td>2023-07-28 01:39:00</td>\n      <td>2023-07-28 01:40:00</td>\n      <td>1</td>\n      <td>2023-07-28 01:39:00</td>\n      <td>2023-07-28 01:40:00</td>\n      <td>False</td>\n      <td>False</td>\n    </tr>\n    <tr>\n      <th>92756</th>\n      <td>202307288955129</td>\n      <td>Y55129</td>\n      <td>2023-07-28</td>\n      <td>Darwin</td>\n      <td>SELHRST</td>\n      <td>2023-07-28 02:02:30</td>\n      <td>2023-07-28 02:03:00</td>\n      <td>NaT</td>\n      <td>NaT</td>\n      <td>1</td>\n      <td>2023-07-28 02:04:00</td>\n      <td>2023-07-28 02:04:00</td>\n      <td>False</td>\n      <td>False</td>\n    </tr>\n    <tr>\n      <th>92758</th>\n      <td>202307288955129</td>\n      <td>Y55129</td>\n      <td>2023-07-28</td>\n      <td>Darwin</td>\n      <td>ECROYDN</td>\n      <td>2023-07-28 02:06:00</td>\n      <td>2023-07-28 02:07:00</td>\n      <td>2023-07-28 02:06:00</td>\n      <td>2023-07-28 02:07:00</td>\n      <td>5</td>\n      <td>2023-07-28 02:06:00</td>\n      <td>2023-07-28 02:07:00</td>\n      <td>False</td>\n      <td>False</td>\n    </tr>\n    <tr>\n      <th>92761</th>\n      <td>202307288955129</td>\n      <td>Y55129</td>\n      <td>2023-07-28</td>\n      <td>Darwin</td>\n      <td>PURLEY</td>\n      <td>2023-07-28 02:12:00</td>\n      <td>2023-07-28 02:13:00</td>\n      <td>2023-07-28 02:12:00</td>\n      <td>2023-07-28 02:13:00</td>\n      <td>2</td>\n      <td>2023-07-28 02:12:00</td>\n      <td>2023-07-28 02:13:00</td>\n      <td>False</td>\n      <td>False</td>\n    </tr>\n    <tr>\n      <th>92768</th>\n      <td>202307288955129</td>\n      <td>Y55129</td>\n      <td>2023-07-28</td>\n      <td>Darwin</td>\n      <td>HORLEY</td>\n      <td>2023-07-28 02:25:30</td>\n      <td>2023-07-28 02:26:00</td>\n      <td>2023-07-28 02:26:00</td>\n      <td>2023-07-28 02:26:00</td>\n      <td>2</td>\n      <td>2023-07-28 02:26:00</td>\n      <td>2023-07-28 02:26:00</td>\n      <td>False</td>\n      <td>False</td>\n    </tr>\n    <tr>\n      <th>92769</th>\n      <td>202307288955129</td>\n      <td>Y55129</td>\n      <td>2023-07-28</td>\n      <td>Darwin</td>\n      <td>GTWK</td>\n      <td>2023-07-28 02:29:30</td>\n      <td>2023-07-28 02:31:30</td>\n      <td>2023-07-28 02:30:00</td>\n      <td>2023-07-28 02:31:00</td>\n      <td>2</td>\n      <td>2023-07-28 02:30:00</td>\n      <td>2023-07-28 02:31:00</td>\n      <td>False</td>\n      <td>False</td>\n    </tr>\n  </tbody>\n</table>\n</div>"
     },
     "execution_count": 227,
     "metadata": {},
     "output_type": "execute_result"
    }
   ],
   "source": [
    "popular_id"
   ],
   "metadata": {
    "collapsed": false,
    "ExecuteTime": {
     "end_time": "2023-08-13T05:26:12.597552Z",
     "start_time": "2023-08-13T05:26:12.521215Z"
    }
   },
   "id": "78c4879987a7dfe2"
  },
  {
   "cell_type": "code",
   "execution_count": 228,
   "outputs": [
    {
     "data": {
      "text/plain": "array(['LEAGRVE', 'LUTON', 'LUTOAPY', 'HRPNDN', 'STALBCY', 'RADLETT',\n       'ELTR', 'MLHB', 'HDON', 'BRENTX', 'CRKLWD', 'WHMPSTM', 'KNTSHTN',\n       'STPXBOX', 'FLITWCK', 'HRLG', 'ECROYDN', 'PURLEY', 'HORLEY',\n       'GTWK', 'FRNDNLT', 'BLFR', 'SELHRST'], dtype=object)"
     },
     "execution_count": 228,
     "metadata": {},
     "output_type": "execute_result"
    }
   ],
   "source": [
    "popular_id['train_platform'].unique()"
   ],
   "metadata": {
    "collapsed": false,
    "ExecuteTime": {
     "end_time": "2023-08-13T05:26:12.597662Z",
     "start_time": "2023-08-13T05:26:12.527891Z"
    }
   },
   "id": "d8cb50ee18754583"
  },
  {
   "cell_type": "markdown",
   "source": [
    "## Round 4\n",
    "### Keeping rows with Darwin"
   ],
   "metadata": {
    "collapsed": false
   },
   "id": "c43110a0578384cc"
  },
  {
   "cell_type": "code",
   "execution_count": 229,
   "outputs": [],
   "source": [
    "# Find duplicate rows with specific update_origin values\n",
    "duplicates_to_remove = new_df[(new_df.duplicated(['unique_id', 'train_platform'], keep=False))\n",
    "                                   & (new_df['update_origin'].isin(['CIS', 'Darwin']))]\n",
    "\n",
    "# Drop rows with update_origin as 'TD'\n",
    "df4 = new_df.drop(duplicates_to_remove[duplicates_to_remove['update_origin'] == 'CIS'].index)"
   ],
   "metadata": {
    "collapsed": false,
    "ExecuteTime": {
     "end_time": "2023-08-13T05:26:12.612861Z",
     "start_time": "2023-08-13T05:26:12.532017Z"
    }
   },
   "id": "738ce7cb92437675"
  },
  {
   "cell_type": "code",
   "execution_count": 230,
   "outputs": [],
   "source": [
    "popular_id = df4[df4['unique_id'] == 'Y55129']"
   ],
   "metadata": {
    "collapsed": false,
    "ExecuteTime": {
     "end_time": "2023-08-13T05:26:12.612996Z",
     "start_time": "2023-08-13T05:26:12.552094Z"
    }
   },
   "id": "2575c768e0dc23ed"
  },
  {
   "cell_type": "code",
   "execution_count": 231,
   "outputs": [
    {
     "data": {
      "text/plain": "              route_id unique_id service_start_date update_origin  \\\n34022  202307288955129    Y55129         2023-07-28        Darwin   \n34023  202307288955129    Y55129         2023-07-28        Darwin   \n34024  202307288955129    Y55129         2023-07-28        Darwin   \n34025  202307288955129    Y55129         2023-07-28        Darwin   \n34027  202307288955129    Y55129         2023-07-28        Darwin   \n34028  202307288955129    Y55129         2023-07-28        Darwin   \n34030  202307288955129    Y55129         2023-07-28        Darwin   \n34031  202307288955129    Y55129         2023-07-28        Darwin   \n34033  202307288955129    Y55129         2023-07-28        Darwin   \n34034  202307288955129    Y55129         2023-07-28        Darwin   \n34035  202307288955129    Y55129         2023-07-28        Darwin   \n34036  202307288955129    Y55129         2023-07-28        Darwin   \n34038  202307288955129    Y55129         2023-07-28        Darwin   \n34040  202307288955129    Y55129         2023-07-28        Darwin   \n34905  202307288955129    Y55129         2023-07-28            TD   \n34906  202307288955129    Y55129         2023-07-28            TD   \n63235  202307288955129    Y55129         2023-07-28        Darwin   \n63236  202307288955129    Y55129         2023-07-28        Darwin   \n63237  202307288955129    Y55129         2023-07-28        Darwin   \n63238  202307288955129    Y55129         2023-07-28        Darwin   \n63240  202307288955129    Y55129         2023-07-28        Darwin   \n63242  202307288955129    Y55129         2023-07-28        Darwin   \n63243  202307288955129    Y55129         2023-07-28        Darwin   \n63245  202307288955129    Y55129         2023-07-28        Darwin   \n63256  202307288955129    Y55129         2023-07-28        Darwin   \n63258  202307288955129    Y55129         2023-07-28        Darwin   \n63261  202307288955129    Y55129         2023-07-28        Darwin   \n63268  202307288955129    Y55129         2023-07-28        Darwin   \n63269  202307288955129    Y55129         2023-07-28        Darwin   \n92729  202307288955129    Y55129         2023-07-28        Darwin   \n92730  202307288955129    Y55129         2023-07-28        Darwin   \n92732  202307288955129    Y55129         2023-07-28        Darwin   \n92733  202307288955129    Y55129         2023-07-28        Darwin   \n92735  202307288955129    Y55129         2023-07-28        Darwin   \n92736  202307288955129    Y55129         2023-07-28        Darwin   \n92737  202307288955129    Y55129         2023-07-28        Darwin   \n92738  202307288955129    Y55129         2023-07-28        Darwin   \n92740  202307288955129    Y55129         2023-07-28        Darwin   \n92742  202307288955129    Y55129         2023-07-28        Darwin   \n92743  202307288955129    Y55129         2023-07-28        Darwin   \n92745  202307288955129    Y55129         2023-07-28        Darwin   \n92756  202307288955129    Y55129         2023-07-28        Darwin   \n92758  202307288955129    Y55129         2023-07-28        Darwin   \n92761  202307288955129    Y55129         2023-07-28        Darwin   \n92768  202307288955129    Y55129         2023-07-28        Darwin   \n92769  202307288955129    Y55129         2023-07-28        Darwin   \n\n      train_platform working_time_arrival working_time_departure  \\\n34022        LEAGRVE  2023-07-28 00:35:30    2023-07-28 00:36:00   \n34023          LUTON  2023-07-28 00:39:00    2023-07-28 00:40:30   \n34024        LUTOAPY  2023-07-28 00:42:30    2023-07-28 00:43:30   \n34025         HRPNDN  2023-07-28 00:48:30    2023-07-28 00:49:00   \n34027        STALBCY  2023-07-28 00:54:30    2023-07-28 00:55:30   \n34028        RADLETT  2023-07-28 01:00:30    2023-07-28 01:01:00   \n34030           ELTR  2023-07-28 01:04:00    2023-07-28 01:04:30   \n34031           MLHB  2023-07-28 01:07:30    2023-07-28 01:08:30   \n34033           HDON  2023-07-28 01:11:30    2023-07-28 01:12:00   \n34034         BRENTX  2023-07-28 01:13:30    2023-07-28 01:14:00   \n34035         CRKLWD  2023-07-28 01:15:30    2023-07-28 01:17:00   \n34036        WHMPSTM  2023-07-28 01:20:00    2023-07-28 01:20:30   \n34038        KNTSHTN  2023-07-28 01:24:00    2023-07-28 01:24:30   \n34040        STPXBOX  2023-07-28 01:30:00    2023-07-28 01:32:00   \n34905        FLITWCK  2023-07-28 00:25:30    2023-07-28 00:26:00   \n34906           HRLG  2023-07-28 00:29:30    2023-07-28 00:30:00   \n63235           HDON  2023-07-28 01:11:30    2023-07-28 01:12:00   \n63236         BRENTX  2023-07-28 01:13:30    2023-07-28 01:14:00   \n63237         CRKLWD  2023-07-28 01:15:30    2023-07-28 01:17:00   \n63238        WHMPSTM  2023-07-28 01:20:00    2023-07-28 01:20:30   \n63240        KNTSHTN  2023-07-28 01:24:00    2023-07-28 01:24:30   \n63242        STPXBOX  2023-07-28 01:30:00    2023-07-28 01:32:00   \n63243        FRNDNLT  2023-07-28 01:35:30    2023-07-28 01:36:30   \n63245           BLFR  2023-07-28 01:39:00    2023-07-28 01:40:00   \n63256        SELHRST  2023-07-28 02:02:30    2023-07-28 02:03:00   \n63258        ECROYDN  2023-07-28 02:06:00    2023-07-28 02:07:00   \n63261         PURLEY  2023-07-28 02:12:00    2023-07-28 02:13:00   \n63268         HORLEY  2023-07-28 02:25:30    2023-07-28 02:26:00   \n63269           GTWK  2023-07-28 02:29:30    2023-07-28 02:31:30   \n92729        STALBCY  2023-07-28 00:54:30    2023-07-28 00:55:30   \n92730        RADLETT  2023-07-28 01:00:30    2023-07-28 01:01:00   \n92732           ELTR  2023-07-28 01:04:00    2023-07-28 01:04:30   \n92733           MLHB  2023-07-28 01:07:30    2023-07-28 01:08:30   \n92735           HDON  2023-07-28 01:11:30    2023-07-28 01:12:00   \n92736         BRENTX  2023-07-28 01:13:30    2023-07-28 01:14:00   \n92737         CRKLWD  2023-07-28 01:15:30    2023-07-28 01:17:00   \n92738        WHMPSTM  2023-07-28 01:20:00    2023-07-28 01:20:30   \n92740        KNTSHTN  2023-07-28 01:24:00    2023-07-28 01:24:30   \n92742        STPXBOX  2023-07-28 01:30:00    2023-07-28 01:32:00   \n92743        FRNDNLT  2023-07-28 01:35:30    2023-07-28 01:36:30   \n92745           BLFR  2023-07-28 01:39:00    2023-07-28 01:40:00   \n92756        SELHRST  2023-07-28 02:02:30    2023-07-28 02:03:00   \n92758        ECROYDN  2023-07-28 02:06:00    2023-07-28 02:07:00   \n92761         PURLEY  2023-07-28 02:12:00    2023-07-28 02:13:00   \n92768         HORLEY  2023-07-28 02:25:30    2023-07-28 02:26:00   \n92769           GTWK  2023-07-28 02:29:30    2023-07-28 02:31:30   \n\n      planned_time_arrival planned_time_departure platform  \\\n34022  2023-07-28 00:36:00    2023-07-28 00:36:00        1   \n34023  2023-07-28 00:39:00    2023-07-28 00:40:00        1   \n34024  2023-07-28 00:43:00    2023-07-28 00:43:00        1   \n34025  2023-07-28 00:49:00    2023-07-28 00:49:00        1   \n34027  2023-07-28 00:55:00    2023-07-28 00:55:00        1   \n34028  2023-07-28 01:01:00    2023-07-28 01:01:00        1   \n34030  2023-07-28 01:04:00    2023-07-28 01:04:00        1   \n34031  2023-07-28 01:08:00    2023-07-28 01:08:00        1   \n34033  2023-07-28 01:12:00    2023-07-28 01:12:00        1   \n34034                  NaT                    NaT        1   \n34035  2023-07-28 01:16:00    2023-07-28 01:17:00        1   \n34036  2023-07-28 01:20:00    2023-07-28 01:20:00        1   \n34038  2023-07-28 01:24:00    2023-07-28 01:24:00        1   \n34040  2023-07-28 01:30:00    2023-07-28 01:32:00        A   \n34905  2023-07-28 00:26:00    2023-07-28 00:26:00        3   \n34906  2023-07-28 00:30:00    2023-07-28 00:30:00        3   \n63235  2023-07-28 01:12:00    2023-07-28 01:12:00        1   \n63236                  NaT                    NaT        1   \n63237  2023-07-28 01:16:00    2023-07-28 01:17:00        1   \n63238  2023-07-28 01:20:00    2023-07-28 01:20:00        1   \n63240  2023-07-28 01:24:00    2023-07-28 01:24:00        1   \n63242  2023-07-28 01:30:00    2023-07-28 01:32:00        A   \n63243                  NaT                    NaT        3   \n63245  2023-07-28 01:39:00    2023-07-28 01:40:00        1   \n63256                  NaT                    NaT        1   \n63258  2023-07-28 02:06:00    2023-07-28 02:07:00        5   \n63261  2023-07-28 02:12:00    2023-07-28 02:13:00        4   \n63268  2023-07-28 02:26:00    2023-07-28 02:26:00        2   \n63269  2023-07-28 02:30:00    2023-07-28 02:31:00        2   \n92729  2023-07-28 00:55:00    2023-07-28 00:55:00        1   \n92730  2023-07-28 01:01:00    2023-07-28 01:01:00        1   \n92732  2023-07-28 01:04:00    2023-07-28 01:04:00        1   \n92733  2023-07-28 01:08:00    2023-07-28 01:08:00        1   \n92735  2023-07-28 01:12:00    2023-07-28 01:12:00        1   \n92736                  NaT                    NaT        1   \n92737  2023-07-28 01:16:00    2023-07-28 01:17:00        1   \n92738  2023-07-28 01:20:00    2023-07-28 01:20:00        1   \n92740  2023-07-28 01:24:00    2023-07-28 01:24:00        1   \n92742  2023-07-28 01:30:00    2023-07-28 01:32:00        A   \n92743                  NaT                    NaT        3   \n92745  2023-07-28 01:39:00    2023-07-28 01:40:00        1   \n92756                  NaT                    NaT        1   \n92758  2023-07-28 02:06:00    2023-07-28 02:07:00        5   \n92761  2023-07-28 02:12:00    2023-07-28 02:13:00        2   \n92768  2023-07-28 02:26:00    2023-07-28 02:26:00        2   \n92769  2023-07-28 02:30:00    2023-07-28 02:31:00        2   \n\n      actual_arrival_time actual_departure_time  is_delayed_arrival  \\\n34022                 NaT   2023-07-28 00:41:00               False   \n34023 2023-07-28 00:44:00   2023-07-28 00:45:00               False   \n34024 2023-07-28 00:47:00   2023-07-28 00:47:00               False   \n34025 2023-07-28 00:52:00   2023-07-28 00:53:00               False   \n34027 2023-07-28 00:57:00   2023-07-28 00:58:00               False   \n34028 2023-07-28 01:03:00   2023-07-28 01:03:00               False   \n34030 2023-07-28 01:06:00   2023-07-28 01:07:00               False   \n34031 2023-07-28 01:10:00   2023-07-28 01:10:00               False   \n34033 2023-07-28 01:12:00   2023-07-28 01:14:00               False   \n34034 2023-07-28 01:15:00   2023-07-28 01:16:00               False   \n34035 2023-07-28 01:16:00   2023-07-28 01:17:00               False   \n34036 2023-07-28 01:20:00   2023-07-28 01:20:00               False   \n34038 2023-07-28 01:24:00   2023-07-28 01:24:00               False   \n34040 2023-07-28 01:30:00   2023-07-28 01:32:00               False   \n34905 2023-07-28 00:27:00   2023-07-28 00:27:00               False   \n34906 2023-07-28 00:31:00   2023-07-28 00:31:00               False   \n63235                 NaT   2023-07-28 01:19:00               False   \n63236 2023-07-28 01:20:00   2023-07-28 01:21:00               False   \n63237 2023-07-28 01:22:00   2023-07-28 01:23:00               False   \n63238 2023-07-28 01:25:00   2023-07-28 01:26:00               False   \n63240 2023-07-28 01:29:00   2023-07-28 01:30:00               False   \n63242 2023-07-28 01:34:00   2023-07-28 01:35:00               False   \n63243 2023-07-28 01:39:00   2023-07-28 01:40:00               False   \n63245 2023-07-28 01:42:00   2023-07-28 01:43:00               False   \n63256 2023-07-28 02:06:00   2023-07-28 02:06:00               False   \n63258 2023-07-28 02:09:00   2023-07-28 02:10:00               False   \n63261 2023-07-28 02:15:00   2023-07-28 02:16:00               False   \n63268 2023-07-28 02:29:00   2023-07-28 02:29:00               False   \n63269 2023-07-28 02:33:00   2023-07-28 02:34:00               False   \n92729                 NaT   2023-07-28 01:01:00               False   \n92730 2023-07-28 01:06:00   2023-07-28 01:06:00               False   \n92732 2023-07-28 01:09:00   2023-07-28 01:10:00               False   \n92733 2023-07-28 01:13:00   2023-07-28 01:13:00               False   \n92735 2023-07-28 01:16:00   2023-07-28 01:17:00               False   \n92736 2023-07-28 01:18:00   2023-07-28 01:19:00               False   \n92737 2023-07-28 01:20:00   2023-07-28 01:21:00               False   \n92738 2023-07-28 01:23:00   2023-07-28 01:24:00               False   \n92740 2023-07-28 01:27:00   2023-07-28 01:28:00               False   \n92742 2023-07-28 01:32:00   2023-07-28 01:32:00               False   \n92743 2023-07-28 01:37:00   2023-07-28 01:38:00               False   \n92745 2023-07-28 01:39:00   2023-07-28 01:40:00               False   \n92756 2023-07-28 02:04:00   2023-07-28 02:04:00               False   \n92758 2023-07-28 02:06:00   2023-07-28 02:07:00               False   \n92761 2023-07-28 02:12:00   2023-07-28 02:13:00               False   \n92768 2023-07-28 02:26:00   2023-07-28 02:26:00               False   \n92769 2023-07-28 02:30:00   2023-07-28 02:31:00               False   \n\n       is_delayed_departure  \n34022                 False  \n34023                 False  \n34024                 False  \n34025                 False  \n34027                 False  \n34028                 False  \n34030                 False  \n34031                 False  \n34033                 False  \n34034                 False  \n34035                 False  \n34036                 False  \n34038                 False  \n34040                 False  \n34905                 False  \n34906                 False  \n63235                 False  \n63236                 False  \n63237                 False  \n63238                 False  \n63240                 False  \n63242                 False  \n63243                 False  \n63245                 False  \n63256                 False  \n63258                 False  \n63261                 False  \n63268                 False  \n63269                 False  \n92729                 False  \n92730                 False  \n92732                 False  \n92733                 False  \n92735                 False  \n92736                 False  \n92737                 False  \n92738                 False  \n92740                 False  \n92742                 False  \n92743                 False  \n92745                 False  \n92756                 False  \n92758                 False  \n92761                 False  \n92768                 False  \n92769                 False  ",
      "text/html": "<div>\n<style scoped>\n    .dataframe tbody tr th:only-of-type {\n        vertical-align: middle;\n    }\n\n    .dataframe tbody tr th {\n        vertical-align: top;\n    }\n\n    .dataframe thead th {\n        text-align: right;\n    }\n</style>\n<table border=\"1\" class=\"dataframe\">\n  <thead>\n    <tr style=\"text-align: right;\">\n      <th></th>\n      <th>route_id</th>\n      <th>unique_id</th>\n      <th>service_start_date</th>\n      <th>update_origin</th>\n      <th>train_platform</th>\n      <th>working_time_arrival</th>\n      <th>working_time_departure</th>\n      <th>planned_time_arrival</th>\n      <th>planned_time_departure</th>\n      <th>platform</th>\n      <th>actual_arrival_time</th>\n      <th>actual_departure_time</th>\n      <th>is_delayed_arrival</th>\n      <th>is_delayed_departure</th>\n    </tr>\n  </thead>\n  <tbody>\n    <tr>\n      <th>34022</th>\n      <td>202307288955129</td>\n      <td>Y55129</td>\n      <td>2023-07-28</td>\n      <td>Darwin</td>\n      <td>LEAGRVE</td>\n      <td>2023-07-28 00:35:30</td>\n      <td>2023-07-28 00:36:00</td>\n      <td>2023-07-28 00:36:00</td>\n      <td>2023-07-28 00:36:00</td>\n      <td>1</td>\n      <td>NaT</td>\n      <td>2023-07-28 00:41:00</td>\n      <td>False</td>\n      <td>False</td>\n    </tr>\n    <tr>\n      <th>34023</th>\n      <td>202307288955129</td>\n      <td>Y55129</td>\n      <td>2023-07-28</td>\n      <td>Darwin</td>\n      <td>LUTON</td>\n      <td>2023-07-28 00:39:00</td>\n      <td>2023-07-28 00:40:30</td>\n      <td>2023-07-28 00:39:00</td>\n      <td>2023-07-28 00:40:00</td>\n      <td>1</td>\n      <td>2023-07-28 00:44:00</td>\n      <td>2023-07-28 00:45:00</td>\n      <td>False</td>\n      <td>False</td>\n    </tr>\n    <tr>\n      <th>34024</th>\n      <td>202307288955129</td>\n      <td>Y55129</td>\n      <td>2023-07-28</td>\n      <td>Darwin</td>\n      <td>LUTOAPY</td>\n      <td>2023-07-28 00:42:30</td>\n      <td>2023-07-28 00:43:30</td>\n      <td>2023-07-28 00:43:00</td>\n      <td>2023-07-28 00:43:00</td>\n      <td>1</td>\n      <td>2023-07-28 00:47:00</td>\n      <td>2023-07-28 00:47:00</td>\n      <td>False</td>\n      <td>False</td>\n    </tr>\n    <tr>\n      <th>34025</th>\n      <td>202307288955129</td>\n      <td>Y55129</td>\n      <td>2023-07-28</td>\n      <td>Darwin</td>\n      <td>HRPNDN</td>\n      <td>2023-07-28 00:48:30</td>\n      <td>2023-07-28 00:49:00</td>\n      <td>2023-07-28 00:49:00</td>\n      <td>2023-07-28 00:49:00</td>\n      <td>1</td>\n      <td>2023-07-28 00:52:00</td>\n      <td>2023-07-28 00:53:00</td>\n      <td>False</td>\n      <td>False</td>\n    </tr>\n    <tr>\n      <th>34027</th>\n      <td>202307288955129</td>\n      <td>Y55129</td>\n      <td>2023-07-28</td>\n      <td>Darwin</td>\n      <td>STALBCY</td>\n      <td>2023-07-28 00:54:30</td>\n      <td>2023-07-28 00:55:30</td>\n      <td>2023-07-28 00:55:00</td>\n      <td>2023-07-28 00:55:00</td>\n      <td>1</td>\n      <td>2023-07-28 00:57:00</td>\n      <td>2023-07-28 00:58:00</td>\n      <td>False</td>\n      <td>False</td>\n    </tr>\n    <tr>\n      <th>34028</th>\n      <td>202307288955129</td>\n      <td>Y55129</td>\n      <td>2023-07-28</td>\n      <td>Darwin</td>\n      <td>RADLETT</td>\n      <td>2023-07-28 01:00:30</td>\n      <td>2023-07-28 01:01:00</td>\n      <td>2023-07-28 01:01:00</td>\n      <td>2023-07-28 01:01:00</td>\n      <td>1</td>\n      <td>2023-07-28 01:03:00</td>\n      <td>2023-07-28 01:03:00</td>\n      <td>False</td>\n      <td>False</td>\n    </tr>\n    <tr>\n      <th>34030</th>\n      <td>202307288955129</td>\n      <td>Y55129</td>\n      <td>2023-07-28</td>\n      <td>Darwin</td>\n      <td>ELTR</td>\n      <td>2023-07-28 01:04:00</td>\n      <td>2023-07-28 01:04:30</td>\n      <td>2023-07-28 01:04:00</td>\n      <td>2023-07-28 01:04:00</td>\n      <td>1</td>\n      <td>2023-07-28 01:06:00</td>\n      <td>2023-07-28 01:07:00</td>\n      <td>False</td>\n      <td>False</td>\n    </tr>\n    <tr>\n      <th>34031</th>\n      <td>202307288955129</td>\n      <td>Y55129</td>\n      <td>2023-07-28</td>\n      <td>Darwin</td>\n      <td>MLHB</td>\n      <td>2023-07-28 01:07:30</td>\n      <td>2023-07-28 01:08:30</td>\n      <td>2023-07-28 01:08:00</td>\n      <td>2023-07-28 01:08:00</td>\n      <td>1</td>\n      <td>2023-07-28 01:10:00</td>\n      <td>2023-07-28 01:10:00</td>\n      <td>False</td>\n      <td>False</td>\n    </tr>\n    <tr>\n      <th>34033</th>\n      <td>202307288955129</td>\n      <td>Y55129</td>\n      <td>2023-07-28</td>\n      <td>Darwin</td>\n      <td>HDON</td>\n      <td>2023-07-28 01:11:30</td>\n      <td>2023-07-28 01:12:00</td>\n      <td>2023-07-28 01:12:00</td>\n      <td>2023-07-28 01:12:00</td>\n      <td>1</td>\n      <td>2023-07-28 01:12:00</td>\n      <td>2023-07-28 01:14:00</td>\n      <td>False</td>\n      <td>False</td>\n    </tr>\n    <tr>\n      <th>34034</th>\n      <td>202307288955129</td>\n      <td>Y55129</td>\n      <td>2023-07-28</td>\n      <td>Darwin</td>\n      <td>BRENTX</td>\n      <td>2023-07-28 01:13:30</td>\n      <td>2023-07-28 01:14:00</td>\n      <td>NaT</td>\n      <td>NaT</td>\n      <td>1</td>\n      <td>2023-07-28 01:15:00</td>\n      <td>2023-07-28 01:16:00</td>\n      <td>False</td>\n      <td>False</td>\n    </tr>\n    <tr>\n      <th>34035</th>\n      <td>202307288955129</td>\n      <td>Y55129</td>\n      <td>2023-07-28</td>\n      <td>Darwin</td>\n      <td>CRKLWD</td>\n      <td>2023-07-28 01:15:30</td>\n      <td>2023-07-28 01:17:00</td>\n      <td>2023-07-28 01:16:00</td>\n      <td>2023-07-28 01:17:00</td>\n      <td>1</td>\n      <td>2023-07-28 01:16:00</td>\n      <td>2023-07-28 01:17:00</td>\n      <td>False</td>\n      <td>False</td>\n    </tr>\n    <tr>\n      <th>34036</th>\n      <td>202307288955129</td>\n      <td>Y55129</td>\n      <td>2023-07-28</td>\n      <td>Darwin</td>\n      <td>WHMPSTM</td>\n      <td>2023-07-28 01:20:00</td>\n      <td>2023-07-28 01:20:30</td>\n      <td>2023-07-28 01:20:00</td>\n      <td>2023-07-28 01:20:00</td>\n      <td>1</td>\n      <td>2023-07-28 01:20:00</td>\n      <td>2023-07-28 01:20:00</td>\n      <td>False</td>\n      <td>False</td>\n    </tr>\n    <tr>\n      <th>34038</th>\n      <td>202307288955129</td>\n      <td>Y55129</td>\n      <td>2023-07-28</td>\n      <td>Darwin</td>\n      <td>KNTSHTN</td>\n      <td>2023-07-28 01:24:00</td>\n      <td>2023-07-28 01:24:30</td>\n      <td>2023-07-28 01:24:00</td>\n      <td>2023-07-28 01:24:00</td>\n      <td>1</td>\n      <td>2023-07-28 01:24:00</td>\n      <td>2023-07-28 01:24:00</td>\n      <td>False</td>\n      <td>False</td>\n    </tr>\n    <tr>\n      <th>34040</th>\n      <td>202307288955129</td>\n      <td>Y55129</td>\n      <td>2023-07-28</td>\n      <td>Darwin</td>\n      <td>STPXBOX</td>\n      <td>2023-07-28 01:30:00</td>\n      <td>2023-07-28 01:32:00</td>\n      <td>2023-07-28 01:30:00</td>\n      <td>2023-07-28 01:32:00</td>\n      <td>A</td>\n      <td>2023-07-28 01:30:00</td>\n      <td>2023-07-28 01:32:00</td>\n      <td>False</td>\n      <td>False</td>\n    </tr>\n    <tr>\n      <th>34905</th>\n      <td>202307288955129</td>\n      <td>Y55129</td>\n      <td>2023-07-28</td>\n      <td>TD</td>\n      <td>FLITWCK</td>\n      <td>2023-07-28 00:25:30</td>\n      <td>2023-07-28 00:26:00</td>\n      <td>2023-07-28 00:26:00</td>\n      <td>2023-07-28 00:26:00</td>\n      <td>3</td>\n      <td>2023-07-28 00:27:00</td>\n      <td>2023-07-28 00:27:00</td>\n      <td>False</td>\n      <td>False</td>\n    </tr>\n    <tr>\n      <th>34906</th>\n      <td>202307288955129</td>\n      <td>Y55129</td>\n      <td>2023-07-28</td>\n      <td>TD</td>\n      <td>HRLG</td>\n      <td>2023-07-28 00:29:30</td>\n      <td>2023-07-28 00:30:00</td>\n      <td>2023-07-28 00:30:00</td>\n      <td>2023-07-28 00:30:00</td>\n      <td>3</td>\n      <td>2023-07-28 00:31:00</td>\n      <td>2023-07-28 00:31:00</td>\n      <td>False</td>\n      <td>False</td>\n    </tr>\n    <tr>\n      <th>63235</th>\n      <td>202307288955129</td>\n      <td>Y55129</td>\n      <td>2023-07-28</td>\n      <td>Darwin</td>\n      <td>HDON</td>\n      <td>2023-07-28 01:11:30</td>\n      <td>2023-07-28 01:12:00</td>\n      <td>2023-07-28 01:12:00</td>\n      <td>2023-07-28 01:12:00</td>\n      <td>1</td>\n      <td>NaT</td>\n      <td>2023-07-28 01:19:00</td>\n      <td>False</td>\n      <td>False</td>\n    </tr>\n    <tr>\n      <th>63236</th>\n      <td>202307288955129</td>\n      <td>Y55129</td>\n      <td>2023-07-28</td>\n      <td>Darwin</td>\n      <td>BRENTX</td>\n      <td>2023-07-28 01:13:30</td>\n      <td>2023-07-28 01:14:00</td>\n      <td>NaT</td>\n      <td>NaT</td>\n      <td>1</td>\n      <td>2023-07-28 01:20:00</td>\n      <td>2023-07-28 01:21:00</td>\n      <td>False</td>\n      <td>False</td>\n    </tr>\n    <tr>\n      <th>63237</th>\n      <td>202307288955129</td>\n      <td>Y55129</td>\n      <td>2023-07-28</td>\n      <td>Darwin</td>\n      <td>CRKLWD</td>\n      <td>2023-07-28 01:15:30</td>\n      <td>2023-07-28 01:17:00</td>\n      <td>2023-07-28 01:16:00</td>\n      <td>2023-07-28 01:17:00</td>\n      <td>1</td>\n      <td>2023-07-28 01:22:00</td>\n      <td>2023-07-28 01:23:00</td>\n      <td>False</td>\n      <td>False</td>\n    </tr>\n    <tr>\n      <th>63238</th>\n      <td>202307288955129</td>\n      <td>Y55129</td>\n      <td>2023-07-28</td>\n      <td>Darwin</td>\n      <td>WHMPSTM</td>\n      <td>2023-07-28 01:20:00</td>\n      <td>2023-07-28 01:20:30</td>\n      <td>2023-07-28 01:20:00</td>\n      <td>2023-07-28 01:20:00</td>\n      <td>1</td>\n      <td>2023-07-28 01:25:00</td>\n      <td>2023-07-28 01:26:00</td>\n      <td>False</td>\n      <td>False</td>\n    </tr>\n    <tr>\n      <th>63240</th>\n      <td>202307288955129</td>\n      <td>Y55129</td>\n      <td>2023-07-28</td>\n      <td>Darwin</td>\n      <td>KNTSHTN</td>\n      <td>2023-07-28 01:24:00</td>\n      <td>2023-07-28 01:24:30</td>\n      <td>2023-07-28 01:24:00</td>\n      <td>2023-07-28 01:24:00</td>\n      <td>1</td>\n      <td>2023-07-28 01:29:00</td>\n      <td>2023-07-28 01:30:00</td>\n      <td>False</td>\n      <td>False</td>\n    </tr>\n    <tr>\n      <th>63242</th>\n      <td>202307288955129</td>\n      <td>Y55129</td>\n      <td>2023-07-28</td>\n      <td>Darwin</td>\n      <td>STPXBOX</td>\n      <td>2023-07-28 01:30:00</td>\n      <td>2023-07-28 01:32:00</td>\n      <td>2023-07-28 01:30:00</td>\n      <td>2023-07-28 01:32:00</td>\n      <td>A</td>\n      <td>2023-07-28 01:34:00</td>\n      <td>2023-07-28 01:35:00</td>\n      <td>False</td>\n      <td>False</td>\n    </tr>\n    <tr>\n      <th>63243</th>\n      <td>202307288955129</td>\n      <td>Y55129</td>\n      <td>2023-07-28</td>\n      <td>Darwin</td>\n      <td>FRNDNLT</td>\n      <td>2023-07-28 01:35:30</td>\n      <td>2023-07-28 01:36:30</td>\n      <td>NaT</td>\n      <td>NaT</td>\n      <td>3</td>\n      <td>2023-07-28 01:39:00</td>\n      <td>2023-07-28 01:40:00</td>\n      <td>False</td>\n      <td>False</td>\n    </tr>\n    <tr>\n      <th>63245</th>\n      <td>202307288955129</td>\n      <td>Y55129</td>\n      <td>2023-07-28</td>\n      <td>Darwin</td>\n      <td>BLFR</td>\n      <td>2023-07-28 01:39:00</td>\n      <td>2023-07-28 01:40:00</td>\n      <td>2023-07-28 01:39:00</td>\n      <td>2023-07-28 01:40:00</td>\n      <td>1</td>\n      <td>2023-07-28 01:42:00</td>\n      <td>2023-07-28 01:43:00</td>\n      <td>False</td>\n      <td>False</td>\n    </tr>\n    <tr>\n      <th>63256</th>\n      <td>202307288955129</td>\n      <td>Y55129</td>\n      <td>2023-07-28</td>\n      <td>Darwin</td>\n      <td>SELHRST</td>\n      <td>2023-07-28 02:02:30</td>\n      <td>2023-07-28 02:03:00</td>\n      <td>NaT</td>\n      <td>NaT</td>\n      <td>1</td>\n      <td>2023-07-28 02:06:00</td>\n      <td>2023-07-28 02:06:00</td>\n      <td>False</td>\n      <td>False</td>\n    </tr>\n    <tr>\n      <th>63258</th>\n      <td>202307288955129</td>\n      <td>Y55129</td>\n      <td>2023-07-28</td>\n      <td>Darwin</td>\n      <td>ECROYDN</td>\n      <td>2023-07-28 02:06:00</td>\n      <td>2023-07-28 02:07:00</td>\n      <td>2023-07-28 02:06:00</td>\n      <td>2023-07-28 02:07:00</td>\n      <td>5</td>\n      <td>2023-07-28 02:09:00</td>\n      <td>2023-07-28 02:10:00</td>\n      <td>False</td>\n      <td>False</td>\n    </tr>\n    <tr>\n      <th>63261</th>\n      <td>202307288955129</td>\n      <td>Y55129</td>\n      <td>2023-07-28</td>\n      <td>Darwin</td>\n      <td>PURLEY</td>\n      <td>2023-07-28 02:12:00</td>\n      <td>2023-07-28 02:13:00</td>\n      <td>2023-07-28 02:12:00</td>\n      <td>2023-07-28 02:13:00</td>\n      <td>4</td>\n      <td>2023-07-28 02:15:00</td>\n      <td>2023-07-28 02:16:00</td>\n      <td>False</td>\n      <td>False</td>\n    </tr>\n    <tr>\n      <th>63268</th>\n      <td>202307288955129</td>\n      <td>Y55129</td>\n      <td>2023-07-28</td>\n      <td>Darwin</td>\n      <td>HORLEY</td>\n      <td>2023-07-28 02:25:30</td>\n      <td>2023-07-28 02:26:00</td>\n      <td>2023-07-28 02:26:00</td>\n      <td>2023-07-28 02:26:00</td>\n      <td>2</td>\n      <td>2023-07-28 02:29:00</td>\n      <td>2023-07-28 02:29:00</td>\n      <td>False</td>\n      <td>False</td>\n    </tr>\n    <tr>\n      <th>63269</th>\n      <td>202307288955129</td>\n      <td>Y55129</td>\n      <td>2023-07-28</td>\n      <td>Darwin</td>\n      <td>GTWK</td>\n      <td>2023-07-28 02:29:30</td>\n      <td>2023-07-28 02:31:30</td>\n      <td>2023-07-28 02:30:00</td>\n      <td>2023-07-28 02:31:00</td>\n      <td>2</td>\n      <td>2023-07-28 02:33:00</td>\n      <td>2023-07-28 02:34:00</td>\n      <td>False</td>\n      <td>False</td>\n    </tr>\n    <tr>\n      <th>92729</th>\n      <td>202307288955129</td>\n      <td>Y55129</td>\n      <td>2023-07-28</td>\n      <td>Darwin</td>\n      <td>STALBCY</td>\n      <td>2023-07-28 00:54:30</td>\n      <td>2023-07-28 00:55:30</td>\n      <td>2023-07-28 00:55:00</td>\n      <td>2023-07-28 00:55:00</td>\n      <td>1</td>\n      <td>NaT</td>\n      <td>2023-07-28 01:01:00</td>\n      <td>False</td>\n      <td>False</td>\n    </tr>\n    <tr>\n      <th>92730</th>\n      <td>202307288955129</td>\n      <td>Y55129</td>\n      <td>2023-07-28</td>\n      <td>Darwin</td>\n      <td>RADLETT</td>\n      <td>2023-07-28 01:00:30</td>\n      <td>2023-07-28 01:01:00</td>\n      <td>2023-07-28 01:01:00</td>\n      <td>2023-07-28 01:01:00</td>\n      <td>1</td>\n      <td>2023-07-28 01:06:00</td>\n      <td>2023-07-28 01:06:00</td>\n      <td>False</td>\n      <td>False</td>\n    </tr>\n    <tr>\n      <th>92732</th>\n      <td>202307288955129</td>\n      <td>Y55129</td>\n      <td>2023-07-28</td>\n      <td>Darwin</td>\n      <td>ELTR</td>\n      <td>2023-07-28 01:04:00</td>\n      <td>2023-07-28 01:04:30</td>\n      <td>2023-07-28 01:04:00</td>\n      <td>2023-07-28 01:04:00</td>\n      <td>1</td>\n      <td>2023-07-28 01:09:00</td>\n      <td>2023-07-28 01:10:00</td>\n      <td>False</td>\n      <td>False</td>\n    </tr>\n    <tr>\n      <th>92733</th>\n      <td>202307288955129</td>\n      <td>Y55129</td>\n      <td>2023-07-28</td>\n      <td>Darwin</td>\n      <td>MLHB</td>\n      <td>2023-07-28 01:07:30</td>\n      <td>2023-07-28 01:08:30</td>\n      <td>2023-07-28 01:08:00</td>\n      <td>2023-07-28 01:08:00</td>\n      <td>1</td>\n      <td>2023-07-28 01:13:00</td>\n      <td>2023-07-28 01:13:00</td>\n      <td>False</td>\n      <td>False</td>\n    </tr>\n    <tr>\n      <th>92735</th>\n      <td>202307288955129</td>\n      <td>Y55129</td>\n      <td>2023-07-28</td>\n      <td>Darwin</td>\n      <td>HDON</td>\n      <td>2023-07-28 01:11:30</td>\n      <td>2023-07-28 01:12:00</td>\n      <td>2023-07-28 01:12:00</td>\n      <td>2023-07-28 01:12:00</td>\n      <td>1</td>\n      <td>2023-07-28 01:16:00</td>\n      <td>2023-07-28 01:17:00</td>\n      <td>False</td>\n      <td>False</td>\n    </tr>\n    <tr>\n      <th>92736</th>\n      <td>202307288955129</td>\n      <td>Y55129</td>\n      <td>2023-07-28</td>\n      <td>Darwin</td>\n      <td>BRENTX</td>\n      <td>2023-07-28 01:13:30</td>\n      <td>2023-07-28 01:14:00</td>\n      <td>NaT</td>\n      <td>NaT</td>\n      <td>1</td>\n      <td>2023-07-28 01:18:00</td>\n      <td>2023-07-28 01:19:00</td>\n      <td>False</td>\n      <td>False</td>\n    </tr>\n    <tr>\n      <th>92737</th>\n      <td>202307288955129</td>\n      <td>Y55129</td>\n      <td>2023-07-28</td>\n      <td>Darwin</td>\n      <td>CRKLWD</td>\n      <td>2023-07-28 01:15:30</td>\n      <td>2023-07-28 01:17:00</td>\n      <td>2023-07-28 01:16:00</td>\n      <td>2023-07-28 01:17:00</td>\n      <td>1</td>\n      <td>2023-07-28 01:20:00</td>\n      <td>2023-07-28 01:21:00</td>\n      <td>False</td>\n      <td>False</td>\n    </tr>\n    <tr>\n      <th>92738</th>\n      <td>202307288955129</td>\n      <td>Y55129</td>\n      <td>2023-07-28</td>\n      <td>Darwin</td>\n      <td>WHMPSTM</td>\n      <td>2023-07-28 01:20:00</td>\n      <td>2023-07-28 01:20:30</td>\n      <td>2023-07-28 01:20:00</td>\n      <td>2023-07-28 01:20:00</td>\n      <td>1</td>\n      <td>2023-07-28 01:23:00</td>\n      <td>2023-07-28 01:24:00</td>\n      <td>False</td>\n      <td>False</td>\n    </tr>\n    <tr>\n      <th>92740</th>\n      <td>202307288955129</td>\n      <td>Y55129</td>\n      <td>2023-07-28</td>\n      <td>Darwin</td>\n      <td>KNTSHTN</td>\n      <td>2023-07-28 01:24:00</td>\n      <td>2023-07-28 01:24:30</td>\n      <td>2023-07-28 01:24:00</td>\n      <td>2023-07-28 01:24:00</td>\n      <td>1</td>\n      <td>2023-07-28 01:27:00</td>\n      <td>2023-07-28 01:28:00</td>\n      <td>False</td>\n      <td>False</td>\n    </tr>\n    <tr>\n      <th>92742</th>\n      <td>202307288955129</td>\n      <td>Y55129</td>\n      <td>2023-07-28</td>\n      <td>Darwin</td>\n      <td>STPXBOX</td>\n      <td>2023-07-28 01:30:00</td>\n      <td>2023-07-28 01:32:00</td>\n      <td>2023-07-28 01:30:00</td>\n      <td>2023-07-28 01:32:00</td>\n      <td>A</td>\n      <td>2023-07-28 01:32:00</td>\n      <td>2023-07-28 01:32:00</td>\n      <td>False</td>\n      <td>False</td>\n    </tr>\n    <tr>\n      <th>92743</th>\n      <td>202307288955129</td>\n      <td>Y55129</td>\n      <td>2023-07-28</td>\n      <td>Darwin</td>\n      <td>FRNDNLT</td>\n      <td>2023-07-28 01:35:30</td>\n      <td>2023-07-28 01:36:30</td>\n      <td>NaT</td>\n      <td>NaT</td>\n      <td>3</td>\n      <td>2023-07-28 01:37:00</td>\n      <td>2023-07-28 01:38:00</td>\n      <td>False</td>\n      <td>False</td>\n    </tr>\n    <tr>\n      <th>92745</th>\n      <td>202307288955129</td>\n      <td>Y55129</td>\n      <td>2023-07-28</td>\n      <td>Darwin</td>\n      <td>BLFR</td>\n      <td>2023-07-28 01:39:00</td>\n      <td>2023-07-28 01:40:00</td>\n      <td>2023-07-28 01:39:00</td>\n      <td>2023-07-28 01:40:00</td>\n      <td>1</td>\n      <td>2023-07-28 01:39:00</td>\n      <td>2023-07-28 01:40:00</td>\n      <td>False</td>\n      <td>False</td>\n    </tr>\n    <tr>\n      <th>92756</th>\n      <td>202307288955129</td>\n      <td>Y55129</td>\n      <td>2023-07-28</td>\n      <td>Darwin</td>\n      <td>SELHRST</td>\n      <td>2023-07-28 02:02:30</td>\n      <td>2023-07-28 02:03:00</td>\n      <td>NaT</td>\n      <td>NaT</td>\n      <td>1</td>\n      <td>2023-07-28 02:04:00</td>\n      <td>2023-07-28 02:04:00</td>\n      <td>False</td>\n      <td>False</td>\n    </tr>\n    <tr>\n      <th>92758</th>\n      <td>202307288955129</td>\n      <td>Y55129</td>\n      <td>2023-07-28</td>\n      <td>Darwin</td>\n      <td>ECROYDN</td>\n      <td>2023-07-28 02:06:00</td>\n      <td>2023-07-28 02:07:00</td>\n      <td>2023-07-28 02:06:00</td>\n      <td>2023-07-28 02:07:00</td>\n      <td>5</td>\n      <td>2023-07-28 02:06:00</td>\n      <td>2023-07-28 02:07:00</td>\n      <td>False</td>\n      <td>False</td>\n    </tr>\n    <tr>\n      <th>92761</th>\n      <td>202307288955129</td>\n      <td>Y55129</td>\n      <td>2023-07-28</td>\n      <td>Darwin</td>\n      <td>PURLEY</td>\n      <td>2023-07-28 02:12:00</td>\n      <td>2023-07-28 02:13:00</td>\n      <td>2023-07-28 02:12:00</td>\n      <td>2023-07-28 02:13:00</td>\n      <td>2</td>\n      <td>2023-07-28 02:12:00</td>\n      <td>2023-07-28 02:13:00</td>\n      <td>False</td>\n      <td>False</td>\n    </tr>\n    <tr>\n      <th>92768</th>\n      <td>202307288955129</td>\n      <td>Y55129</td>\n      <td>2023-07-28</td>\n      <td>Darwin</td>\n      <td>HORLEY</td>\n      <td>2023-07-28 02:25:30</td>\n      <td>2023-07-28 02:26:00</td>\n      <td>2023-07-28 02:26:00</td>\n      <td>2023-07-28 02:26:00</td>\n      <td>2</td>\n      <td>2023-07-28 02:26:00</td>\n      <td>2023-07-28 02:26:00</td>\n      <td>False</td>\n      <td>False</td>\n    </tr>\n    <tr>\n      <th>92769</th>\n      <td>202307288955129</td>\n      <td>Y55129</td>\n      <td>2023-07-28</td>\n      <td>Darwin</td>\n      <td>GTWK</td>\n      <td>2023-07-28 02:29:30</td>\n      <td>2023-07-28 02:31:30</td>\n      <td>2023-07-28 02:30:00</td>\n      <td>2023-07-28 02:31:00</td>\n      <td>2</td>\n      <td>2023-07-28 02:30:00</td>\n      <td>2023-07-28 02:31:00</td>\n      <td>False</td>\n      <td>False</td>\n    </tr>\n  </tbody>\n</table>\n</div>"
     },
     "execution_count": 231,
     "metadata": {},
     "output_type": "execute_result"
    }
   ],
   "source": [
    "popular_id"
   ],
   "metadata": {
    "collapsed": false,
    "ExecuteTime": {
     "end_time": "2023-08-13T05:26:12.614878Z",
     "start_time": "2023-08-13T05:26:12.552597Z"
    }
   },
   "id": "756e833ca0e2e3e6"
  },
  {
   "cell_type": "code",
   "execution_count": 232,
   "outputs": [
    {
     "data": {
      "text/plain": "array(['LEAGRVE', 'LUTON', 'LUTOAPY', 'HRPNDN', 'STALBCY', 'RADLETT',\n       'ELTR', 'MLHB', 'HDON', 'BRENTX', 'CRKLWD', 'WHMPSTM', 'KNTSHTN',\n       'STPXBOX', 'FLITWCK', 'HRLG', 'FRNDNLT', 'BLFR', 'SELHRST',\n       'ECROYDN', 'PURLEY', 'HORLEY', 'GTWK'], dtype=object)"
     },
     "execution_count": 232,
     "metadata": {},
     "output_type": "execute_result"
    }
   ],
   "source": [
    "popular_id['train_platform'].unique()"
   ],
   "metadata": {
    "collapsed": false,
    "ExecuteTime": {
     "end_time": "2023-08-13T05:26:12.616447Z",
     "start_time": "2023-08-13T05:26:12.570438Z"
    }
   },
   "id": "d60ba8ffa16d2b6c"
  },
  {
   "cell_type": "markdown",
   "source": [
    "### Now that we have cleaned update origin we need to keep rows with the best actual time data"
   ],
   "metadata": {
    "collapsed": false
   },
   "id": "91c862faf28acef6"
  },
  {
   "cell_type": "code",
   "execution_count": 233,
   "outputs": [],
   "source": [
    "# Group by 'unique_id' and 'train_platform', and aggregate using min and max for desired columns\n",
    "agg_functions = {\n",
    "    'actual_arrival_time': 'min',\n",
    "    'actual_departure_time': 'max'\n",
    "}\n",
    "\n",
    "aggregated_df = df4.groupby(['unique_id', 'train_platform'], as_index=False).agg(agg_functions)\n"
   ],
   "metadata": {
    "collapsed": false,
    "ExecuteTime": {
     "end_time": "2023-08-13T05:26:12.693935Z",
     "start_time": "2023-08-13T05:26:12.578636Z"
    }
   },
   "id": "31815a807755d7b5"
  },
  {
   "cell_type": "code",
   "execution_count": 234,
   "outputs": [
    {
     "data": {
      "text/plain": "      unique_id train_platform actual_arrival_time actual_departure_time  \\\n0        C00066        LINCLNC 2023-07-28 05:47:00   2023-07-28 05:48:00   \n1        C00066        LOWDHAM 2023-07-28 05:11:00   2023-07-28 05:12:00   \n2        C00066        NWRKCAS 2023-07-28 05:24:00   2023-07-28 05:24:00   \n3        C00069         SILEBY                 NaT   2023-07-27 18:07:00   \n4        C00071           CLHM                 NaT                   NaT   \n...         ...            ...                 ...                   ...   \n24778    Y55367        WORTHNG 2023-07-28 06:28:00   2023-07-28 06:28:00   \n24779    Y55367        WVLSFLD 2023-07-28 07:00:00   2023-07-28 07:01:00   \n24780    Y55367        WWRTHNG 2023-07-28 06:25:00   2023-07-28 06:25:00   \n24781    Y55368        ECROYDN 2023-07-27 17:47:00   2023-07-27 17:47:00   \n24782    Y55368        PSLDAWH                 NaT   2023-07-27 18:44:00   \n\n      update_origin working_time_arrival working_time_departure  \n0            Darwin  2023-07-28 05:46:30    2023-07-28 05:48:30  \n1            Darwin  2023-07-28 05:11:00    2023-07-28 05:12:00  \n2            Darwin  2023-07-28 05:23:30    2023-07-28 05:24:30  \n3                TD  2023-07-27 18:01:30    2023-07-27 18:02:30  \n4             Trust  2023-07-27 20:13:00    2023-07-27 20:13:30  \n...             ...                  ...                    ...  \n24778           CIS  2023-07-28 06:27:30    2023-07-28 06:28:30  \n24779           CIS  2023-07-28 07:00:00    2023-07-28 07:01:00  \n24780           CIS  2023-07-28 06:24:30    2023-07-28 06:25:30  \n24781            TD  2023-07-27 17:46:30    2023-07-27 17:47:30  \n24782        Darwin  2023-07-27 18:42:30    2023-07-27 18:43:30  \n\n[24783 rows x 7 columns]",
      "text/html": "<div>\n<style scoped>\n    .dataframe tbody tr th:only-of-type {\n        vertical-align: middle;\n    }\n\n    .dataframe tbody tr th {\n        vertical-align: top;\n    }\n\n    .dataframe thead th {\n        text-align: right;\n    }\n</style>\n<table border=\"1\" class=\"dataframe\">\n  <thead>\n    <tr style=\"text-align: right;\">\n      <th></th>\n      <th>unique_id</th>\n      <th>train_platform</th>\n      <th>actual_arrival_time</th>\n      <th>actual_departure_time</th>\n      <th>update_origin</th>\n      <th>working_time_arrival</th>\n      <th>working_time_departure</th>\n    </tr>\n  </thead>\n  <tbody>\n    <tr>\n      <th>0</th>\n      <td>C00066</td>\n      <td>LINCLNC</td>\n      <td>2023-07-28 05:47:00</td>\n      <td>2023-07-28 05:48:00</td>\n      <td>Darwin</td>\n      <td>2023-07-28 05:46:30</td>\n      <td>2023-07-28 05:48:30</td>\n    </tr>\n    <tr>\n      <th>1</th>\n      <td>C00066</td>\n      <td>LOWDHAM</td>\n      <td>2023-07-28 05:11:00</td>\n      <td>2023-07-28 05:12:00</td>\n      <td>Darwin</td>\n      <td>2023-07-28 05:11:00</td>\n      <td>2023-07-28 05:12:00</td>\n    </tr>\n    <tr>\n      <th>2</th>\n      <td>C00066</td>\n      <td>NWRKCAS</td>\n      <td>2023-07-28 05:24:00</td>\n      <td>2023-07-28 05:24:00</td>\n      <td>Darwin</td>\n      <td>2023-07-28 05:23:30</td>\n      <td>2023-07-28 05:24:30</td>\n    </tr>\n    <tr>\n      <th>3</th>\n      <td>C00069</td>\n      <td>SILEBY</td>\n      <td>NaT</td>\n      <td>2023-07-27 18:07:00</td>\n      <td>TD</td>\n      <td>2023-07-27 18:01:30</td>\n      <td>2023-07-27 18:02:30</td>\n    </tr>\n    <tr>\n      <th>4</th>\n      <td>C00071</td>\n      <td>CLHM</td>\n      <td>NaT</td>\n      <td>NaT</td>\n      <td>Trust</td>\n      <td>2023-07-27 20:13:00</td>\n      <td>2023-07-27 20:13:30</td>\n    </tr>\n    <tr>\n      <th>...</th>\n      <td>...</td>\n      <td>...</td>\n      <td>...</td>\n      <td>...</td>\n      <td>...</td>\n      <td>...</td>\n      <td>...</td>\n    </tr>\n    <tr>\n      <th>24778</th>\n      <td>Y55367</td>\n      <td>WORTHNG</td>\n      <td>2023-07-28 06:28:00</td>\n      <td>2023-07-28 06:28:00</td>\n      <td>CIS</td>\n      <td>2023-07-28 06:27:30</td>\n      <td>2023-07-28 06:28:30</td>\n    </tr>\n    <tr>\n      <th>24779</th>\n      <td>Y55367</td>\n      <td>WVLSFLD</td>\n      <td>2023-07-28 07:00:00</td>\n      <td>2023-07-28 07:01:00</td>\n      <td>CIS</td>\n      <td>2023-07-28 07:00:00</td>\n      <td>2023-07-28 07:01:00</td>\n    </tr>\n    <tr>\n      <th>24780</th>\n      <td>Y55367</td>\n      <td>WWRTHNG</td>\n      <td>2023-07-28 06:25:00</td>\n      <td>2023-07-28 06:25:00</td>\n      <td>CIS</td>\n      <td>2023-07-28 06:24:30</td>\n      <td>2023-07-28 06:25:30</td>\n    </tr>\n    <tr>\n      <th>24781</th>\n      <td>Y55368</td>\n      <td>ECROYDN</td>\n      <td>2023-07-27 17:47:00</td>\n      <td>2023-07-27 17:47:00</td>\n      <td>TD</td>\n      <td>2023-07-27 17:46:30</td>\n      <td>2023-07-27 17:47:30</td>\n    </tr>\n    <tr>\n      <th>24782</th>\n      <td>Y55368</td>\n      <td>PSLDAWH</td>\n      <td>NaT</td>\n      <td>2023-07-27 18:44:00</td>\n      <td>Darwin</td>\n      <td>2023-07-27 18:42:30</td>\n      <td>2023-07-27 18:43:30</td>\n    </tr>\n  </tbody>\n</table>\n<p>24783 rows × 7 columns</p>\n</div>"
     },
     "execution_count": 234,
     "metadata": {},
     "output_type": "execute_result"
    }
   ],
   "source": [
    "aggregated_df"
   ],
   "metadata": {
    "collapsed": false,
    "ExecuteTime": {
     "end_time": "2023-08-13T05:26:12.718683Z",
     "start_time": "2023-08-13T05:26:12.628080Z"
    }
   },
   "id": "930f18e754008b93"
  },
  {
   "cell_type": "code",
   "execution_count": 235,
   "outputs": [
    {
     "name": "stdout",
     "output_type": "stream",
     "text": [
      "<class 'pandas.core.frame.DataFrame'>\n",
      "RangeIndex: 24783 entries, 0 to 24782\n",
      "Data columns (total 7 columns):\n",
      " #   Column                  Non-Null Count  Dtype         \n",
      "---  ------                  --------------  -----         \n",
      " 0   unique_id               24783 non-null  object        \n",
      " 1   train_platform          24783 non-null  object        \n",
      " 2   actual_arrival_time     20654 non-null  datetime64[ns]\n",
      " 3   actual_departure_time   22719 non-null  datetime64[ns]\n",
      " 4   update_origin           24325 non-null  object        \n",
      " 5   working_time_arrival    24783 non-null  datetime64[ns]\n",
      " 6   working_time_departure  24783 non-null  datetime64[ns]\n",
      "dtypes: datetime64[ns](4), object(3)\n",
      "memory usage: 1.3+ MB\n"
     ]
    }
   ],
   "source": [
    "aggregated_df.info()"
   ],
   "metadata": {
    "collapsed": false,
    "ExecuteTime": {
     "end_time": "2023-08-13T05:26:12.719315Z",
     "start_time": "2023-08-13T05:26:12.643175Z"
    }
   },
   "id": "de2b44f55489acf3"
  },
  {
   "cell_type": "code",
   "execution_count": 236,
   "outputs": [],
   "source": [
    "popular_id = aggregated_df[aggregated_df['unique_id'] == 'Y55129']"
   ],
   "metadata": {
    "collapsed": false,
    "ExecuteTime": {
     "end_time": "2023-08-13T05:26:12.734745Z",
     "start_time": "2023-08-13T05:26:12.666780Z"
    }
   },
   "id": "51c5cf56d7c1dd7a"
  },
  {
   "cell_type": "code",
   "execution_count": 237,
   "outputs": [
    {
     "data": {
      "text/plain": "      unique_id train_platform actual_arrival_time actual_departure_time  \\\n24498    Y55129           BLFR 2023-07-28 01:39:00   2023-07-28 01:43:00   \n24499    Y55129         BRENTX 2023-07-28 01:15:00   2023-07-28 01:21:00   \n24500    Y55129         CRKLWD 2023-07-28 01:16:00   2023-07-28 01:23:00   \n24501    Y55129        ECROYDN 2023-07-28 02:06:00   2023-07-28 02:10:00   \n24502    Y55129           ELTR 2023-07-28 01:06:00   2023-07-28 01:10:00   \n24503    Y55129        FLITWCK 2023-07-28 00:27:00   2023-07-28 00:27:00   \n24504    Y55129        FRNDNLT 2023-07-28 01:37:00   2023-07-28 01:40:00   \n24505    Y55129           GTWK 2023-07-28 02:30:00   2023-07-28 02:34:00   \n24506    Y55129           HDON 2023-07-28 01:12:00   2023-07-28 01:19:00   \n24507    Y55129         HORLEY 2023-07-28 02:26:00   2023-07-28 02:29:00   \n24508    Y55129           HRLG 2023-07-28 00:31:00   2023-07-28 00:31:00   \n24509    Y55129         HRPNDN 2023-07-28 00:52:00   2023-07-28 00:53:00   \n24510    Y55129        KNTSHTN 2023-07-28 01:24:00   2023-07-28 01:30:00   \n24511    Y55129        LEAGRVE                 NaT   2023-07-28 00:41:00   \n24512    Y55129        LUTOAPY 2023-07-28 00:47:00   2023-07-28 00:47:00   \n24513    Y55129          LUTON 2023-07-28 00:44:00   2023-07-28 00:45:00   \n24514    Y55129           MLHB 2023-07-28 01:10:00   2023-07-28 01:13:00   \n24515    Y55129         PURLEY 2023-07-28 02:12:00   2023-07-28 02:16:00   \n24516    Y55129        RADLETT 2023-07-28 01:03:00   2023-07-28 01:06:00   \n24517    Y55129        SELHRST 2023-07-28 02:04:00   2023-07-28 02:06:00   \n24518    Y55129        STALBCY 2023-07-28 00:57:00   2023-07-28 01:01:00   \n24519    Y55129        STPXBOX 2023-07-28 01:30:00   2023-07-28 01:35:00   \n24520    Y55129        WHMPSTM 2023-07-28 01:20:00   2023-07-28 01:26:00   \n\n      update_origin working_time_arrival working_time_departure  \n24498        Darwin  2023-07-28 01:39:00    2023-07-28 01:40:00  \n24499        Darwin  2023-07-28 01:13:30    2023-07-28 01:14:00  \n24500        Darwin  2023-07-28 01:15:30    2023-07-28 01:17:00  \n24501        Darwin  2023-07-28 02:06:00    2023-07-28 02:07:00  \n24502        Darwin  2023-07-28 01:04:00    2023-07-28 01:04:30  \n24503            TD  2023-07-28 00:25:30    2023-07-28 00:26:00  \n24504        Darwin  2023-07-28 01:35:30    2023-07-28 01:36:30  \n24505        Darwin  2023-07-28 02:29:30    2023-07-28 02:31:30  \n24506        Darwin  2023-07-28 01:11:30    2023-07-28 01:12:00  \n24507        Darwin  2023-07-28 02:25:30    2023-07-28 02:26:00  \n24508            TD  2023-07-28 00:29:30    2023-07-28 00:30:00  \n24509        Darwin  2023-07-28 00:48:30    2023-07-28 00:49:00  \n24510        Darwin  2023-07-28 01:24:00    2023-07-28 01:24:30  \n24511        Darwin  2023-07-28 00:35:30    2023-07-28 00:36:00  \n24512        Darwin  2023-07-28 00:42:30    2023-07-28 00:43:30  \n24513        Darwin  2023-07-28 00:39:00    2023-07-28 00:40:30  \n24514        Darwin  2023-07-28 01:07:30    2023-07-28 01:08:30  \n24515        Darwin  2023-07-28 02:12:00    2023-07-28 02:13:00  \n24516        Darwin  2023-07-28 01:00:30    2023-07-28 01:01:00  \n24517        Darwin  2023-07-28 02:02:30    2023-07-28 02:03:00  \n24518        Darwin  2023-07-28 00:54:30    2023-07-28 00:55:30  \n24519        Darwin  2023-07-28 01:30:00    2023-07-28 01:32:00  \n24520        Darwin  2023-07-28 01:20:00    2023-07-28 01:20:30  ",
      "text/html": "<div>\n<style scoped>\n    .dataframe tbody tr th:only-of-type {\n        vertical-align: middle;\n    }\n\n    .dataframe tbody tr th {\n        vertical-align: top;\n    }\n\n    .dataframe thead th {\n        text-align: right;\n    }\n</style>\n<table border=\"1\" class=\"dataframe\">\n  <thead>\n    <tr style=\"text-align: right;\">\n      <th></th>\n      <th>unique_id</th>\n      <th>train_platform</th>\n      <th>actual_arrival_time</th>\n      <th>actual_departure_time</th>\n      <th>update_origin</th>\n      <th>working_time_arrival</th>\n      <th>working_time_departure</th>\n    </tr>\n  </thead>\n  <tbody>\n    <tr>\n      <th>24498</th>\n      <td>Y55129</td>\n      <td>BLFR</td>\n      <td>2023-07-28 01:39:00</td>\n      <td>2023-07-28 01:43:00</td>\n      <td>Darwin</td>\n      <td>2023-07-28 01:39:00</td>\n      <td>2023-07-28 01:40:00</td>\n    </tr>\n    <tr>\n      <th>24499</th>\n      <td>Y55129</td>\n      <td>BRENTX</td>\n      <td>2023-07-28 01:15:00</td>\n      <td>2023-07-28 01:21:00</td>\n      <td>Darwin</td>\n      <td>2023-07-28 01:13:30</td>\n      <td>2023-07-28 01:14:00</td>\n    </tr>\n    <tr>\n      <th>24500</th>\n      <td>Y55129</td>\n      <td>CRKLWD</td>\n      <td>2023-07-28 01:16:00</td>\n      <td>2023-07-28 01:23:00</td>\n      <td>Darwin</td>\n      <td>2023-07-28 01:15:30</td>\n      <td>2023-07-28 01:17:00</td>\n    </tr>\n    <tr>\n      <th>24501</th>\n      <td>Y55129</td>\n      <td>ECROYDN</td>\n      <td>2023-07-28 02:06:00</td>\n      <td>2023-07-28 02:10:00</td>\n      <td>Darwin</td>\n      <td>2023-07-28 02:06:00</td>\n      <td>2023-07-28 02:07:00</td>\n    </tr>\n    <tr>\n      <th>24502</th>\n      <td>Y55129</td>\n      <td>ELTR</td>\n      <td>2023-07-28 01:06:00</td>\n      <td>2023-07-28 01:10:00</td>\n      <td>Darwin</td>\n      <td>2023-07-28 01:04:00</td>\n      <td>2023-07-28 01:04:30</td>\n    </tr>\n    <tr>\n      <th>24503</th>\n      <td>Y55129</td>\n      <td>FLITWCK</td>\n      <td>2023-07-28 00:27:00</td>\n      <td>2023-07-28 00:27:00</td>\n      <td>TD</td>\n      <td>2023-07-28 00:25:30</td>\n      <td>2023-07-28 00:26:00</td>\n    </tr>\n    <tr>\n      <th>24504</th>\n      <td>Y55129</td>\n      <td>FRNDNLT</td>\n      <td>2023-07-28 01:37:00</td>\n      <td>2023-07-28 01:40:00</td>\n      <td>Darwin</td>\n      <td>2023-07-28 01:35:30</td>\n      <td>2023-07-28 01:36:30</td>\n    </tr>\n    <tr>\n      <th>24505</th>\n      <td>Y55129</td>\n      <td>GTWK</td>\n      <td>2023-07-28 02:30:00</td>\n      <td>2023-07-28 02:34:00</td>\n      <td>Darwin</td>\n      <td>2023-07-28 02:29:30</td>\n      <td>2023-07-28 02:31:30</td>\n    </tr>\n    <tr>\n      <th>24506</th>\n      <td>Y55129</td>\n      <td>HDON</td>\n      <td>2023-07-28 01:12:00</td>\n      <td>2023-07-28 01:19:00</td>\n      <td>Darwin</td>\n      <td>2023-07-28 01:11:30</td>\n      <td>2023-07-28 01:12:00</td>\n    </tr>\n    <tr>\n      <th>24507</th>\n      <td>Y55129</td>\n      <td>HORLEY</td>\n      <td>2023-07-28 02:26:00</td>\n      <td>2023-07-28 02:29:00</td>\n      <td>Darwin</td>\n      <td>2023-07-28 02:25:30</td>\n      <td>2023-07-28 02:26:00</td>\n    </tr>\n    <tr>\n      <th>24508</th>\n      <td>Y55129</td>\n      <td>HRLG</td>\n      <td>2023-07-28 00:31:00</td>\n      <td>2023-07-28 00:31:00</td>\n      <td>TD</td>\n      <td>2023-07-28 00:29:30</td>\n      <td>2023-07-28 00:30:00</td>\n    </tr>\n    <tr>\n      <th>24509</th>\n      <td>Y55129</td>\n      <td>HRPNDN</td>\n      <td>2023-07-28 00:52:00</td>\n      <td>2023-07-28 00:53:00</td>\n      <td>Darwin</td>\n      <td>2023-07-28 00:48:30</td>\n      <td>2023-07-28 00:49:00</td>\n    </tr>\n    <tr>\n      <th>24510</th>\n      <td>Y55129</td>\n      <td>KNTSHTN</td>\n      <td>2023-07-28 01:24:00</td>\n      <td>2023-07-28 01:30:00</td>\n      <td>Darwin</td>\n      <td>2023-07-28 01:24:00</td>\n      <td>2023-07-28 01:24:30</td>\n    </tr>\n    <tr>\n      <th>24511</th>\n      <td>Y55129</td>\n      <td>LEAGRVE</td>\n      <td>NaT</td>\n      <td>2023-07-28 00:41:00</td>\n      <td>Darwin</td>\n      <td>2023-07-28 00:35:30</td>\n      <td>2023-07-28 00:36:00</td>\n    </tr>\n    <tr>\n      <th>24512</th>\n      <td>Y55129</td>\n      <td>LUTOAPY</td>\n      <td>2023-07-28 00:47:00</td>\n      <td>2023-07-28 00:47:00</td>\n      <td>Darwin</td>\n      <td>2023-07-28 00:42:30</td>\n      <td>2023-07-28 00:43:30</td>\n    </tr>\n    <tr>\n      <th>24513</th>\n      <td>Y55129</td>\n      <td>LUTON</td>\n      <td>2023-07-28 00:44:00</td>\n      <td>2023-07-28 00:45:00</td>\n      <td>Darwin</td>\n      <td>2023-07-28 00:39:00</td>\n      <td>2023-07-28 00:40:30</td>\n    </tr>\n    <tr>\n      <th>24514</th>\n      <td>Y55129</td>\n      <td>MLHB</td>\n      <td>2023-07-28 01:10:00</td>\n      <td>2023-07-28 01:13:00</td>\n      <td>Darwin</td>\n      <td>2023-07-28 01:07:30</td>\n      <td>2023-07-28 01:08:30</td>\n    </tr>\n    <tr>\n      <th>24515</th>\n      <td>Y55129</td>\n      <td>PURLEY</td>\n      <td>2023-07-28 02:12:00</td>\n      <td>2023-07-28 02:16:00</td>\n      <td>Darwin</td>\n      <td>2023-07-28 02:12:00</td>\n      <td>2023-07-28 02:13:00</td>\n    </tr>\n    <tr>\n      <th>24516</th>\n      <td>Y55129</td>\n      <td>RADLETT</td>\n      <td>2023-07-28 01:03:00</td>\n      <td>2023-07-28 01:06:00</td>\n      <td>Darwin</td>\n      <td>2023-07-28 01:00:30</td>\n      <td>2023-07-28 01:01:00</td>\n    </tr>\n    <tr>\n      <th>24517</th>\n      <td>Y55129</td>\n      <td>SELHRST</td>\n      <td>2023-07-28 02:04:00</td>\n      <td>2023-07-28 02:06:00</td>\n      <td>Darwin</td>\n      <td>2023-07-28 02:02:30</td>\n      <td>2023-07-28 02:03:00</td>\n    </tr>\n    <tr>\n      <th>24518</th>\n      <td>Y55129</td>\n      <td>STALBCY</td>\n      <td>2023-07-28 00:57:00</td>\n      <td>2023-07-28 01:01:00</td>\n      <td>Darwin</td>\n      <td>2023-07-28 00:54:30</td>\n      <td>2023-07-28 00:55:30</td>\n    </tr>\n    <tr>\n      <th>24519</th>\n      <td>Y55129</td>\n      <td>STPXBOX</td>\n      <td>2023-07-28 01:30:00</td>\n      <td>2023-07-28 01:35:00</td>\n      <td>Darwin</td>\n      <td>2023-07-28 01:30:00</td>\n      <td>2023-07-28 01:32:00</td>\n    </tr>\n    <tr>\n      <th>24520</th>\n      <td>Y55129</td>\n      <td>WHMPSTM</td>\n      <td>2023-07-28 01:20:00</td>\n      <td>2023-07-28 01:26:00</td>\n      <td>Darwin</td>\n      <td>2023-07-28 01:20:00</td>\n      <td>2023-07-28 01:20:30</td>\n    </tr>\n  </tbody>\n</table>\n</div>"
     },
     "execution_count": 237,
     "metadata": {},
     "output_type": "execute_result"
    }
   ],
   "source": [
    "popular_id"
   ],
   "metadata": {
    "collapsed": false,
    "ExecuteTime": {
     "end_time": "2023-08-13T05:26:12.767442Z",
     "start_time": "2023-08-13T05:26:12.670392Z"
    }
   },
   "id": "b7ec7c9a5271bfb1"
  },
  {
   "cell_type": "code",
   "execution_count": 237,
   "outputs": [],
   "source": [],
   "metadata": {
    "collapsed": false,
    "ExecuteTime": {
     "end_time": "2023-08-13T05:26:12.767596Z",
     "start_time": "2023-08-13T05:26:12.682125Z"
    }
   },
   "id": "a97a381e8d301ee8"
  }
 ],
 "metadata": {
  "kernelspec": {
   "display_name": "Python 3 (ipykernel)",
   "language": "python",
   "name": "python3"
  },
  "language_info": {
   "codemirror_mode": {
    "name": "ipython",
    "version": 3
   },
   "file_extension": ".py",
   "mimetype": "text/x-python",
   "name": "python",
   "nbconvert_exporter": "python",
   "pygments_lexer": "ipython3",
   "version": "3.9.13"
  }
 },
 "nbformat": 4,
 "nbformat_minor": 5
}
