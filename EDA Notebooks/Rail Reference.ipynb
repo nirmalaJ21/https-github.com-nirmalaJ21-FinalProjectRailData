{
 "cells": [
  {
   "cell_type": "code",
   "execution_count": 1,
   "id": "57e19135",
   "metadata": {},
   "outputs": [],
   "source": [
    "import pandas as pd\n",
    "import numpy as np"
   ]
  },
  {
   "cell_type": "code",
   "execution_count": 3,
   "id": "f5b6f554",
   "metadata": {},
   "outputs": [],
   "source": [
    "df = pd.read_csv('RailReferences.csv')"
   ]
  },
  {
   "cell_type": "code",
   "execution_count": 4,
   "id": "cb3301b1",
   "metadata": {},
   "outputs": [
    {
     "name": "stdout",
     "output_type": "stream",
     "text": [
      "<class 'pandas.core.frame.DataFrame'>\n",
      "RangeIndex: 2628 entries, 0 to 2627\n",
      "Data columns (total 12 columns):\n",
      " #   Column                Non-Null Count  Dtype  \n",
      "---  ------                --------------  -----  \n",
      " 0   AtcoCode              2628 non-null   object \n",
      " 1   TiplocCode            2628 non-null   object \n",
      " 2   CrsCode               2628 non-null   object \n",
      " 3   StationName           2628 non-null   object \n",
      " 4   StationNameLang       0 non-null      float64\n",
      " 5   GridType              2627 non-null   object \n",
      " 6   Easting               2628 non-null   int64  \n",
      " 7   Northing              2628 non-null   int64  \n",
      " 8   CreationDateTime      2628 non-null   object \n",
      " 9   ModificationDateTime  2628 non-null   object \n",
      " 10  RevisionNumber        2628 non-null   int64  \n",
      " 11  Modification          2628 non-null   object \n",
      "dtypes: float64(1), int64(3), object(8)\n",
      "memory usage: 246.5+ KB\n"
     ]
    }
   ],
   "source": [
    "df.info()"
   ]
  },
  {
   "cell_type": "code",
   "execution_count": 5,
   "id": "cc2e6437",
   "metadata": {},
   "outputs": [
    {
     "data": {
      "text/html": [
       "<div>\n",
       "<style scoped>\n",
       "    .dataframe tbody tr th:only-of-type {\n",
       "        vertical-align: middle;\n",
       "    }\n",
       "\n",
       "    .dataframe tbody tr th {\n",
       "        vertical-align: top;\n",
       "    }\n",
       "\n",
       "    .dataframe thead th {\n",
       "        text-align: right;\n",
       "    }\n",
       "</style>\n",
       "<table border=\"1\" class=\"dataframe\">\n",
       "  <thead>\n",
       "    <tr style=\"text-align: right;\">\n",
       "      <th></th>\n",
       "      <th>AtcoCode</th>\n",
       "      <th>TiplocCode</th>\n",
       "      <th>CrsCode</th>\n",
       "      <th>StationName</th>\n",
       "      <th>StationNameLang</th>\n",
       "      <th>GridType</th>\n",
       "      <th>Easting</th>\n",
       "      <th>Northing</th>\n",
       "      <th>CreationDateTime</th>\n",
       "      <th>ModificationDateTime</th>\n",
       "      <th>RevisionNumber</th>\n",
       "      <th>Modification</th>\n",
       "    </tr>\n",
       "  </thead>\n",
       "  <tbody>\n",
       "    <tr>\n",
       "      <th>0</th>\n",
       "      <td>9100PENZNCE</td>\n",
       "      <td>PENZNCE</td>\n",
       "      <td>PNZ</td>\n",
       "      <td>Penzance Rail Station</td>\n",
       "      <td>NaN</td>\n",
       "      <td>U</td>\n",
       "      <td>147588</td>\n",
       "      <td>30599</td>\n",
       "      <td>2003-11-04T00:00:00</td>\n",
       "      <td>2011-09-30T14:47:28</td>\n",
       "      <td>2</td>\n",
       "      <td>rev</td>\n",
       "    </tr>\n",
       "    <tr>\n",
       "      <th>1</th>\n",
       "      <td>9100STIVES</td>\n",
       "      <td>STIVES</td>\n",
       "      <td>SIV</td>\n",
       "      <td>St Ives (Cornwall) Rail Station</td>\n",
       "      <td>NaN</td>\n",
       "      <td>U</td>\n",
       "      <td>151947</td>\n",
       "      <td>40127</td>\n",
       "      <td>2005-04-04T00:00:00</td>\n",
       "      <td>2011-09-30T14:47:28</td>\n",
       "      <td>4</td>\n",
       "      <td>rev</td>\n",
       "    </tr>\n",
       "    <tr>\n",
       "      <th>2</th>\n",
       "      <td>9100CARBISB</td>\n",
       "      <td>CARBISB</td>\n",
       "      <td>CBB</td>\n",
       "      <td>Carbis Bay Rail Station</td>\n",
       "      <td>NaN</td>\n",
       "      <td>U</td>\n",
       "      <td>152930</td>\n",
       "      <td>38745</td>\n",
       "      <td>2003-11-04T00:00:00</td>\n",
       "      <td>2011-09-30T14:47:28</td>\n",
       "      <td>5</td>\n",
       "      <td>rev</td>\n",
       "    </tr>\n",
       "    <tr>\n",
       "      <th>3</th>\n",
       "      <td>9100STERTH</td>\n",
       "      <td>STERTH</td>\n",
       "      <td>SER</td>\n",
       "      <td>St Erth Rail Station</td>\n",
       "      <td>NaN</td>\n",
       "      <td>U</td>\n",
       "      <td>154150</td>\n",
       "      <td>35730</td>\n",
       "      <td>2003-11-04T00:00:00</td>\n",
       "      <td>2007-02-13T17:06:21</td>\n",
       "      <td>3</td>\n",
       "      <td>rev</td>\n",
       "    </tr>\n",
       "    <tr>\n",
       "      <th>4</th>\n",
       "      <td>9100LELANTS</td>\n",
       "      <td>LELANTS</td>\n",
       "      <td>LTS</td>\n",
       "      <td>Lelant Saltings Rail Station</td>\n",
       "      <td>NaN</td>\n",
       "      <td>U</td>\n",
       "      <td>154430</td>\n",
       "      <td>36640</td>\n",
       "      <td>2003-11-04T00:00:00</td>\n",
       "      <td>2011-09-30T14:47:28</td>\n",
       "      <td>2</td>\n",
       "      <td>rev</td>\n",
       "    </tr>\n",
       "  </tbody>\n",
       "</table>\n",
       "</div>"
      ],
      "text/plain": [
       "      AtcoCode TiplocCode CrsCode                      StationName  \\\n",
       "0  9100PENZNCE    PENZNCE     PNZ            Penzance Rail Station   \n",
       "1   9100STIVES     STIVES     SIV  St Ives (Cornwall) Rail Station   \n",
       "2  9100CARBISB    CARBISB     CBB          Carbis Bay Rail Station   \n",
       "3   9100STERTH     STERTH     SER             St Erth Rail Station   \n",
       "4  9100LELANTS    LELANTS     LTS     Lelant Saltings Rail Station   \n",
       "\n",
       "   StationNameLang GridType  Easting  Northing     CreationDateTime  \\\n",
       "0              NaN        U   147588     30599  2003-11-04T00:00:00   \n",
       "1              NaN        U   151947     40127  2005-04-04T00:00:00   \n",
       "2              NaN        U   152930     38745  2003-11-04T00:00:00   \n",
       "3              NaN        U   154150     35730  2003-11-04T00:00:00   \n",
       "4              NaN        U   154430     36640  2003-11-04T00:00:00   \n",
       "\n",
       "  ModificationDateTime  RevisionNumber Modification  \n",
       "0  2011-09-30T14:47:28               2          rev  \n",
       "1  2011-09-30T14:47:28               4          rev  \n",
       "2  2011-09-30T14:47:28               5          rev  \n",
       "3  2007-02-13T17:06:21               3          rev  \n",
       "4  2011-09-30T14:47:28               2          rev  "
      ]
     },
     "execution_count": 5,
     "metadata": {},
     "output_type": "execute_result"
    }
   ],
   "source": [
    "df.head()"
   ]
  },
  {
   "cell_type": "code",
   "execution_count": 6,
   "id": "d6ee20fe",
   "metadata": {},
   "outputs": [
    {
     "data": {
      "text/plain": [
       "Index(['AtcoCode', 'TiplocCode', 'CrsCode', 'StationName', 'StationNameLang',\n",
       "       'GridType', 'Easting', 'Northing', 'CreationDateTime',\n",
       "       'ModificationDateTime', 'RevisionNumber', 'Modification'],\n",
       "      dtype='object')"
      ]
     },
     "execution_count": 6,
     "metadata": {},
     "output_type": "execute_result"
    }
   ],
   "source": [
    "df.columns"
   ]
  },
  {
   "cell_type": "code",
   "execution_count": 7,
   "id": "e8a13bab",
   "metadata": {},
   "outputs": [],
   "source": [
    "dropped = ['AtcoCode', 'StationNameLang',\n",
    "       'GridType', 'Easting', 'Northing', 'CreationDateTime',\n",
    "       'ModificationDateTime', 'RevisionNumber', 'Modification']"
   ]
  },
  {
   "cell_type": "code",
   "execution_count": 8,
   "id": "1fefaba2",
   "metadata": {},
   "outputs": [],
   "source": [
    "df = df.drop(columns=dropped)"
   ]
  },
  {
   "cell_type": "code",
   "execution_count": 9,
   "id": "f37ead0a",
   "metadata": {},
   "outputs": [
    {
     "name": "stdout",
     "output_type": "stream",
     "text": [
      "<class 'pandas.core.frame.DataFrame'>\n",
      "RangeIndex: 2628 entries, 0 to 2627\n",
      "Data columns (total 3 columns):\n",
      " #   Column       Non-Null Count  Dtype \n",
      "---  ------       --------------  ----- \n",
      " 0   TiplocCode   2628 non-null   object\n",
      " 1   CrsCode      2628 non-null   object\n",
      " 2   StationName  2628 non-null   object\n",
      "dtypes: object(3)\n",
      "memory usage: 61.7+ KB\n"
     ]
    }
   ],
   "source": [
    "df.info()"
   ]
  },
  {
   "cell_type": "code",
   "execution_count": 10,
   "id": "d90a2318",
   "metadata": {},
   "outputs": [
    {
     "data": {
      "text/html": [
       "<div>\n",
       "<style scoped>\n",
       "    .dataframe tbody tr th:only-of-type {\n",
       "        vertical-align: middle;\n",
       "    }\n",
       "\n",
       "    .dataframe tbody tr th {\n",
       "        vertical-align: top;\n",
       "    }\n",
       "\n",
       "    .dataframe thead th {\n",
       "        text-align: right;\n",
       "    }\n",
       "</style>\n",
       "<table border=\"1\" class=\"dataframe\">\n",
       "  <thead>\n",
       "    <tr style=\"text-align: right;\">\n",
       "      <th></th>\n",
       "      <th>TiplocCode</th>\n",
       "      <th>CrsCode</th>\n",
       "      <th>StationName</th>\n",
       "    </tr>\n",
       "  </thead>\n",
       "  <tbody>\n",
       "    <tr>\n",
       "      <th>0</th>\n",
       "      <td>PENZNCE</td>\n",
       "      <td>PNZ</td>\n",
       "      <td>Penzance Rail Station</td>\n",
       "    </tr>\n",
       "    <tr>\n",
       "      <th>1</th>\n",
       "      <td>STIVES</td>\n",
       "      <td>SIV</td>\n",
       "      <td>St Ives (Cornwall) Rail Station</td>\n",
       "    </tr>\n",
       "    <tr>\n",
       "      <th>2</th>\n",
       "      <td>CARBISB</td>\n",
       "      <td>CBB</td>\n",
       "      <td>Carbis Bay Rail Station</td>\n",
       "    </tr>\n",
       "    <tr>\n",
       "      <th>3</th>\n",
       "      <td>STERTH</td>\n",
       "      <td>SER</td>\n",
       "      <td>St Erth Rail Station</td>\n",
       "    </tr>\n",
       "    <tr>\n",
       "      <th>4</th>\n",
       "      <td>LELANTS</td>\n",
       "      <td>LTS</td>\n",
       "      <td>Lelant Saltings Rail Station</td>\n",
       "    </tr>\n",
       "    <tr>\n",
       "      <th>5</th>\n",
       "      <td>LELANT</td>\n",
       "      <td>LEL</td>\n",
       "      <td>Lelant Rail Station</td>\n",
       "    </tr>\n",
       "    <tr>\n",
       "      <th>6</th>\n",
       "      <td>HAYLE</td>\n",
       "      <td>HYL</td>\n",
       "      <td>Hayle Rail Station</td>\n",
       "    </tr>\n",
       "    <tr>\n",
       "      <th>7</th>\n",
       "      <td>CBORNE</td>\n",
       "      <td>CBN</td>\n",
       "      <td>Camborne Rail Station</td>\n",
       "    </tr>\n",
       "    <tr>\n",
       "      <th>8</th>\n",
       "      <td>ARISAIG</td>\n",
       "      <td>ARG</td>\n",
       "      <td>Arisaig Rail Station</td>\n",
       "    </tr>\n",
       "    <tr>\n",
       "      <th>9</th>\n",
       "      <td>MLAIG</td>\n",
       "      <td>MLG</td>\n",
       "      <td>Mallaig Rail Station</td>\n",
       "    </tr>\n",
       "    <tr>\n",
       "      <th>10</th>\n",
       "      <td>MORAR</td>\n",
       "      <td>MRR</td>\n",
       "      <td>Morar Rail Station</td>\n",
       "    </tr>\n",
       "    <tr>\n",
       "      <th>11</th>\n",
       "      <td>REDRUTH</td>\n",
       "      <td>RED</td>\n",
       "      <td>Redruth Rail Station</td>\n",
       "    </tr>\n",
       "    <tr>\n",
       "      <th>12</th>\n",
       "      <td>BEASDAL</td>\n",
       "      <td>BSL</td>\n",
       "      <td>Beasdale Rail Station</td>\n",
       "    </tr>\n",
       "    <tr>\n",
       "      <th>13</th>\n",
       "      <td>KYLELSH</td>\n",
       "      <td>KYL</td>\n",
       "      <td>Kyle of Lochalsh Rail Station</td>\n",
       "    </tr>\n",
       "    <tr>\n",
       "      <th>14</th>\n",
       "      <td>LCHALRT</td>\n",
       "      <td>LCL</td>\n",
       "      <td>Lochailort Rail Station</td>\n",
       "    </tr>\n",
       "  </tbody>\n",
       "</table>\n",
       "</div>"
      ],
      "text/plain": [
       "   TiplocCode CrsCode                      StationName\n",
       "0     PENZNCE     PNZ            Penzance Rail Station\n",
       "1      STIVES     SIV  St Ives (Cornwall) Rail Station\n",
       "2     CARBISB     CBB          Carbis Bay Rail Station\n",
       "3      STERTH     SER             St Erth Rail Station\n",
       "4     LELANTS     LTS     Lelant Saltings Rail Station\n",
       "5      LELANT     LEL              Lelant Rail Station\n",
       "6       HAYLE     HYL               Hayle Rail Station\n",
       "7      CBORNE     CBN            Camborne Rail Station\n",
       "8     ARISAIG     ARG             Arisaig Rail Station\n",
       "9       MLAIG     MLG             Mallaig Rail Station\n",
       "10      MORAR     MRR               Morar Rail Station\n",
       "11    REDRUTH     RED             Redruth Rail Station\n",
       "12    BEASDAL     BSL            Beasdale Rail Station\n",
       "13    KYLELSH     KYL    Kyle of Lochalsh Rail Station\n",
       "14    LCHALRT     LCL          Lochailort Rail Station"
      ]
     },
     "execution_count": 10,
     "metadata": {},
     "output_type": "execute_result"
    }
   ],
   "source": [
    "df.head(15)"
   ]
  },
  {
   "cell_type": "code",
   "execution_count": 11,
   "id": "6a433067",
   "metadata": {},
   "outputs": [],
   "source": [
    "unique_tiploc = df['TiplocCode'].nunique()"
   ]
  },
  {
   "cell_type": "code",
   "execution_count": 12,
   "id": "e2c96016",
   "metadata": {},
   "outputs": [
    {
     "data": {
      "text/plain": [
       "2628"
      ]
     },
     "execution_count": 12,
     "metadata": {},
     "output_type": "execute_result"
    }
   ],
   "source": [
    "unique_tiploc"
   ]
  },
  {
   "cell_type": "code",
   "execution_count": 13,
   "id": "8fcb4fe2",
   "metadata": {},
   "outputs": [],
   "source": [
    "unique_station = df['StationName'].nunique()"
   ]
  },
  {
   "cell_type": "code",
   "execution_count": 14,
   "id": "382049ff",
   "metadata": {},
   "outputs": [
    {
     "data": {
      "text/plain": [
       "2603"
      ]
     },
     "execution_count": 14,
     "metadata": {},
     "output_type": "execute_result"
    }
   ],
   "source": [
    "unique_station"
   ]
  },
  {
   "cell_type": "code",
   "execution_count": 15,
   "id": "8e679cd2",
   "metadata": {},
   "outputs": [],
   "source": [
    "unique_crs = df['CrsCode'].nunique()"
   ]
  },
  {
   "cell_type": "code",
   "execution_count": 16,
   "id": "0227175a",
   "metadata": {},
   "outputs": [
    {
     "data": {
      "text/plain": [
       "2595"
      ]
     },
     "execution_count": 16,
     "metadata": {},
     "output_type": "execute_result"
    }
   ],
   "source": [
    "unique_crs"
   ]
  },
  {
   "cell_type": "code",
   "execution_count": null,
   "id": "361d6224",
   "metadata": {},
   "outputs": [],
   "source": [
    "merged_df = pd.merge(df, df2, left_on='train_platform', right_on='TiplocCode', how='outer')\n"
   ]
  }
 ],
 "metadata": {
  "kernelspec": {
   "display_name": "Python 3 (ipykernel)",
   "language": "python",
   "name": "python3"
  },
  "language_info": {
   "codemirror_mode": {
    "name": "ipython",
    "version": 3
   },
   "file_extension": ".py",
   "mimetype": "text/x-python",
   "name": "python",
   "nbconvert_exporter": "python",
   "pygments_lexer": "ipython3",
   "version": "3.9.13"
  }
 },
 "nbformat": 4,
 "nbformat_minor": 5
}
