{
 "cells": [
  {
   "cell_type": "code",
   "execution_count": 128,
   "id": "549bc021",
   "metadata": {
    "ExecuteTime": {
     "end_time": "2023-08-14T22:55:33.367736Z",
     "start_time": "2023-08-14T22:55:33.354176Z"
    }
   },
   "outputs": [],
   "source": [
    "import pandas as pd\n",
    "import numpy as np\n",
    "import seaborn as sns\n",
    "import matplotlib.pyplot as plt"
   ]
  },
  {
   "cell_type": "code",
   "execution_count": 129,
   "id": "9a50cb00",
   "metadata": {
    "ExecuteTime": {
     "end_time": "2023-08-14T22:55:34.102109Z",
     "start_time": "2023-08-14T22:55:34.057139Z"
    }
   },
   "outputs": [],
   "source": [
    "df = pd.read_parquet('rail_data_cleaned_20230728132300.parquet')"
   ]
  },
  {
   "cell_type": "markdown",
   "id": "6d9bc3d2bd81b433",
   "metadata": {},
   "source": [
    "### Dropping columns we don't need"
   ]
  },
  {
   "cell_type": "code",
   "execution_count": 130,
   "id": "19aa99ad09566cec",
   "metadata": {
    "ExecuteTime": {
     "end_time": "2023-08-14T22:55:35.173873Z",
     "start_time": "2023-08-14T22:55:35.168073Z"
    }
   },
   "outputs": [],
   "source": [
    "dropped = ['working_time_pass', 'pass', 'train_length']"
   ]
  },
  {
   "cell_type": "code",
   "execution_count": 131,
   "id": "b342704eb6b3b0f0",
   "metadata": {
    "ExecuteTime": {
     "end_time": "2023-08-14T22:55:35.819380Z",
     "start_time": "2023-08-14T22:55:35.782603Z"
    }
   },
   "outputs": [],
   "source": [
    "df = df.drop(columns=dropped)"
   ]
  },
  {
   "cell_type": "code",
   "execution_count": 132,
   "outputs": [
    {
     "data": {
      "text/plain": "              route_id unique_id service_start_date update_origin  \\\n8      202307277679020    L79020         2023-07-27        Darwin   \n10     202307277679020    L79020         2023-07-27        Darwin   \n16     202307277679020    L79020         2023-07-27        Darwin   \n17     202307277679020    L79020         2023-07-27        Darwin   \n22     202307277674553    L74553         2023-07-27            TD   \n...                ...       ...                ...           ...   \n94233  202307278055183    P55183         2023-07-27        Darwin   \n94235  202307278055183    P55183         2023-07-27        Darwin   \n94238  202307278055183    P55183         2023-07-27        Darwin   \n94240  202307278055183    P55183         2023-07-27        Darwin   \n94243  202307278055183    P55183         2023-07-27        Darwin   \n\n      train_platform working_time_arrival working_time_departure  \\\n8               STFD  2023-07-27 00:03:00    2023-07-27 00:03:30   \n10           SPNY205  2023-07-27 00:07:00    2023-07-27 00:13:30   \n16            PADTLL  2023-07-27 00:30:30    2023-07-27 00:31:00   \n17           WBRNPKS  2023-07-27 00:33:00    2023-07-27 00:35:00   \n22           SVNOAKS  2023-07-27 21:53:00    2023-07-27 21:54:30   \n...              ...                  ...                    ...   \n94233         BRADIN  2023-07-27 17:30:30    2023-07-27 17:33:30   \n94235           HLFX  2023-07-27 17:44:00    2023-07-27 17:45:00   \n94238        HBDNBDG  2023-07-27 17:58:30    2023-07-27 18:01:30   \n94240        TODMRDN  2023-07-27 18:08:30    2023-07-27 18:09:30   \n94243        RCHDALE  2023-07-27 18:18:30    2023-07-27 18:19:30   \n\n      planned_time_arrival planned_time_departure platform  \\\n8                      NaT                    NaT        5   \n10                     NaT                    NaT     None   \n16                     NaT                    NaT        B   \n17                     NaT                    NaT        A   \n22     2023-07-27 21:53:00    2023-07-27 21:54:00        1   \n...                    ...                    ...      ...   \n94233  2023-07-27 17:31:00    2023-07-27 17:33:00        4   \n94235  2023-07-27 17:44:00    2023-07-27 17:45:00        1   \n94238  2023-07-27 17:59:00    2023-07-27 18:01:00        1   \n94240  2023-07-27 18:09:00    2023-07-27 18:09:00        1   \n94243  2023-07-27 18:19:00    2023-07-27 18:19:00        3   \n\n      actual_arrival_time actual_departure_time  is_delayed_arrival  \\\n8     2023-07-27 00:53:00   2023-07-27 00:53:00                True   \n10    2023-07-27 00:57:00   2023-07-27 00:58:00                True   \n16    2023-07-27 01:07:00   2023-07-27 01:07:00                True   \n17    2023-07-27 01:09:00   2023-07-27 01:10:00                True   \n22                    NaT                   NaT               False   \n...                   ...                   ...                 ...   \n94233 2023-07-27 18:07:00   2023-07-27 18:08:00                True   \n94235 2023-07-27 18:18:00   2023-07-27 18:19:00                True   \n94238 2023-07-27 18:29:00   2023-07-27 18:30:00                True   \n94240 2023-07-27 18:35:00   2023-07-27 18:35:00                True   \n94243 2023-07-27 18:44:00   2023-07-27 18:45:00                True   \n\n       is_delayed_departure  \n8                      True  \n10                     True  \n16                     True  \n17                     True  \n22                    False  \n...                     ...  \n94233                  True  \n94235                  True  \n94238                  True  \n94240                  True  \n94243                  True  \n\n[37100 rows x 14 columns]",
      "text/html": "<div>\n<style scoped>\n    .dataframe tbody tr th:only-of-type {\n        vertical-align: middle;\n    }\n\n    .dataframe tbody tr th {\n        vertical-align: top;\n    }\n\n    .dataframe thead th {\n        text-align: right;\n    }\n</style>\n<table border=\"1\" class=\"dataframe\">\n  <thead>\n    <tr style=\"text-align: right;\">\n      <th></th>\n      <th>route_id</th>\n      <th>unique_id</th>\n      <th>service_start_date</th>\n      <th>update_origin</th>\n      <th>train_platform</th>\n      <th>working_time_arrival</th>\n      <th>working_time_departure</th>\n      <th>planned_time_arrival</th>\n      <th>planned_time_departure</th>\n      <th>platform</th>\n      <th>actual_arrival_time</th>\n      <th>actual_departure_time</th>\n      <th>is_delayed_arrival</th>\n      <th>is_delayed_departure</th>\n    </tr>\n  </thead>\n  <tbody>\n    <tr>\n      <th>8</th>\n      <td>202307277679020</td>\n      <td>L79020</td>\n      <td>2023-07-27</td>\n      <td>Darwin</td>\n      <td>STFD</td>\n      <td>2023-07-27 00:03:00</td>\n      <td>2023-07-27 00:03:30</td>\n      <td>NaT</td>\n      <td>NaT</td>\n      <td>5</td>\n      <td>2023-07-27 00:53:00</td>\n      <td>2023-07-27 00:53:00</td>\n      <td>True</td>\n      <td>True</td>\n    </tr>\n    <tr>\n      <th>10</th>\n      <td>202307277679020</td>\n      <td>L79020</td>\n      <td>2023-07-27</td>\n      <td>Darwin</td>\n      <td>SPNY205</td>\n      <td>2023-07-27 00:07:00</td>\n      <td>2023-07-27 00:13:30</td>\n      <td>NaT</td>\n      <td>NaT</td>\n      <td>None</td>\n      <td>2023-07-27 00:57:00</td>\n      <td>2023-07-27 00:58:00</td>\n      <td>True</td>\n      <td>True</td>\n    </tr>\n    <tr>\n      <th>16</th>\n      <td>202307277679020</td>\n      <td>L79020</td>\n      <td>2023-07-27</td>\n      <td>Darwin</td>\n      <td>PADTLL</td>\n      <td>2023-07-27 00:30:30</td>\n      <td>2023-07-27 00:31:00</td>\n      <td>NaT</td>\n      <td>NaT</td>\n      <td>B</td>\n      <td>2023-07-27 01:07:00</td>\n      <td>2023-07-27 01:07:00</td>\n      <td>True</td>\n      <td>True</td>\n    </tr>\n    <tr>\n      <th>17</th>\n      <td>202307277679020</td>\n      <td>L79020</td>\n      <td>2023-07-27</td>\n      <td>Darwin</td>\n      <td>WBRNPKS</td>\n      <td>2023-07-27 00:33:00</td>\n      <td>2023-07-27 00:35:00</td>\n      <td>NaT</td>\n      <td>NaT</td>\n      <td>A</td>\n      <td>2023-07-27 01:09:00</td>\n      <td>2023-07-27 01:10:00</td>\n      <td>True</td>\n      <td>True</td>\n    </tr>\n    <tr>\n      <th>22</th>\n      <td>202307277674553</td>\n      <td>L74553</td>\n      <td>2023-07-27</td>\n      <td>TD</td>\n      <td>SVNOAKS</td>\n      <td>2023-07-27 21:53:00</td>\n      <td>2023-07-27 21:54:30</td>\n      <td>2023-07-27 21:53:00</td>\n      <td>2023-07-27 21:54:00</td>\n      <td>1</td>\n      <td>NaT</td>\n      <td>NaT</td>\n      <td>False</td>\n      <td>False</td>\n    </tr>\n    <tr>\n      <th>...</th>\n      <td>...</td>\n      <td>...</td>\n      <td>...</td>\n      <td>...</td>\n      <td>...</td>\n      <td>...</td>\n      <td>...</td>\n      <td>...</td>\n      <td>...</td>\n      <td>...</td>\n      <td>...</td>\n      <td>...</td>\n      <td>...</td>\n      <td>...</td>\n    </tr>\n    <tr>\n      <th>94233</th>\n      <td>202307278055183</td>\n      <td>P55183</td>\n      <td>2023-07-27</td>\n      <td>Darwin</td>\n      <td>BRADIN</td>\n      <td>2023-07-27 17:30:30</td>\n      <td>2023-07-27 17:33:30</td>\n      <td>2023-07-27 17:31:00</td>\n      <td>2023-07-27 17:33:00</td>\n      <td>4</td>\n      <td>2023-07-27 18:07:00</td>\n      <td>2023-07-27 18:08:00</td>\n      <td>True</td>\n      <td>True</td>\n    </tr>\n    <tr>\n      <th>94235</th>\n      <td>202307278055183</td>\n      <td>P55183</td>\n      <td>2023-07-27</td>\n      <td>Darwin</td>\n      <td>HLFX</td>\n      <td>2023-07-27 17:44:00</td>\n      <td>2023-07-27 17:45:00</td>\n      <td>2023-07-27 17:44:00</td>\n      <td>2023-07-27 17:45:00</td>\n      <td>1</td>\n      <td>2023-07-27 18:18:00</td>\n      <td>2023-07-27 18:19:00</td>\n      <td>True</td>\n      <td>True</td>\n    </tr>\n    <tr>\n      <th>94238</th>\n      <td>202307278055183</td>\n      <td>P55183</td>\n      <td>2023-07-27</td>\n      <td>Darwin</td>\n      <td>HBDNBDG</td>\n      <td>2023-07-27 17:58:30</td>\n      <td>2023-07-27 18:01:30</td>\n      <td>2023-07-27 17:59:00</td>\n      <td>2023-07-27 18:01:00</td>\n      <td>1</td>\n      <td>2023-07-27 18:29:00</td>\n      <td>2023-07-27 18:30:00</td>\n      <td>True</td>\n      <td>True</td>\n    </tr>\n    <tr>\n      <th>94240</th>\n      <td>202307278055183</td>\n      <td>P55183</td>\n      <td>2023-07-27</td>\n      <td>Darwin</td>\n      <td>TODMRDN</td>\n      <td>2023-07-27 18:08:30</td>\n      <td>2023-07-27 18:09:30</td>\n      <td>2023-07-27 18:09:00</td>\n      <td>2023-07-27 18:09:00</td>\n      <td>1</td>\n      <td>2023-07-27 18:35:00</td>\n      <td>2023-07-27 18:35:00</td>\n      <td>True</td>\n      <td>True</td>\n    </tr>\n    <tr>\n      <th>94243</th>\n      <td>202307278055183</td>\n      <td>P55183</td>\n      <td>2023-07-27</td>\n      <td>Darwin</td>\n      <td>RCHDALE</td>\n      <td>2023-07-27 18:18:30</td>\n      <td>2023-07-27 18:19:30</td>\n      <td>2023-07-27 18:19:00</td>\n      <td>2023-07-27 18:19:00</td>\n      <td>3</td>\n      <td>2023-07-27 18:44:00</td>\n      <td>2023-07-27 18:45:00</td>\n      <td>True</td>\n      <td>True</td>\n    </tr>\n  </tbody>\n</table>\n<p>37100 rows × 14 columns</p>\n</div>"
     },
     "execution_count": 132,
     "metadata": {},
     "output_type": "execute_result"
    }
   ],
   "source": [
    "df"
   ],
   "metadata": {
    "collapsed": false,
    "ExecuteTime": {
     "end_time": "2023-08-14T22:55:36.572289Z",
     "start_time": "2023-08-14T22:55:36.566457Z"
    }
   },
   "id": "59502bbd4f4c0f3"
  },
  {
   "cell_type": "markdown",
   "id": "880e9c1e662914da",
   "metadata": {},
   "source": [
    "## Round 1\n",
    "#### Eliminating rows with duplicate id and train platforms in conjunction with null actuals"
   ]
  },
  {
   "cell_type": "code",
   "execution_count": 107,
   "outputs": [],
   "source": [
    "# Subset of columns to consider for duplicates\n",
    "subset_columns = ['unique_id', 'train_platform']\n",
    "\n",
    "# Find rows with duplicated unique_id and train_platform\n",
    "duplicates = df.duplicated(subset=subset_columns, keep=False)\n",
    "\n",
    "# Find rows with null values in actual_arrival_time and actual_departure_time\n",
    "null_rows = (df['actual_arrival_time'].isnull()) & (df['actual_departure_time'].isnull())\n",
    "\n",
    "# Combine the conditions to get the rows to be removed\n",
    "rows_to_remove = duplicates & null_rows\n",
    "\n",
    "# Keep the rows that are not in rows_to_remove\n",
    "df_cleaned = df[~rows_to_remove]\n"
   ],
   "metadata": {
    "collapsed": false
   },
   "id": "b428345e"
  },
  {
   "cell_type": "code",
   "execution_count": 108,
   "outputs": [],
   "source": [
    "df_cleaned"
   ],
   "metadata": {
    "collapsed": false
   },
   "id": "adefb786604096e8"
  },
  {
   "cell_type": "markdown",
   "source": [
    "## Get the time difference between planning and actual"
   ],
   "metadata": {
    "collapsed": false
   },
   "id": "714e8eb99aa888e6"
  },
  {
   "cell_type": "code",
   "execution_count": 141,
   "outputs": [
    {
     "data": {
      "text/plain": "              route_id unique_id service_start_date update_origin  \\\n8      202307277679020    L79020         2023-07-27        Darwin   \n10     202307277679020    L79020         2023-07-27        Darwin   \n16     202307277679020    L79020         2023-07-27        Darwin   \n17     202307277679020    L79020         2023-07-27        Darwin   \n22     202307277674553    L74553         2023-07-27            TD   \n...                ...       ...                ...           ...   \n94233  202307278055183    P55183         2023-07-27        Darwin   \n94235  202307278055183    P55183         2023-07-27        Darwin   \n94238  202307278055183    P55183         2023-07-27        Darwin   \n94240  202307278055183    P55183         2023-07-27        Darwin   \n94243  202307278055183    P55183         2023-07-27        Darwin   \n\n      train_platform working_time_arrival working_time_departure  \\\n8               STFD  2023-07-27 00:03:00    2023-07-27 00:03:30   \n10           SPNY205  2023-07-27 00:07:00    2023-07-27 00:13:30   \n16            PADTLL  2023-07-27 00:30:30    2023-07-27 00:31:00   \n17           WBRNPKS  2023-07-27 00:33:00    2023-07-27 00:35:00   \n22           SVNOAKS  2023-07-27 21:53:00    2023-07-27 21:54:30   \n...              ...                  ...                    ...   \n94233         BRADIN  2023-07-27 17:30:30    2023-07-27 17:33:30   \n94235           HLFX  2023-07-27 17:44:00    2023-07-27 17:45:00   \n94238        HBDNBDG  2023-07-27 17:58:30    2023-07-27 18:01:30   \n94240        TODMRDN  2023-07-27 18:08:30    2023-07-27 18:09:30   \n94243        RCHDALE  2023-07-27 18:18:30    2023-07-27 18:19:30   \n\n      planned_time_arrival planned_time_departure platform  \\\n8                      NaT                    NaT        5   \n10                     NaT                    NaT     None   \n16                     NaT                    NaT        B   \n17                     NaT                    NaT        A   \n22     2023-07-27 21:53:00    2023-07-27 21:54:00        1   \n...                    ...                    ...      ...   \n94233  2023-07-27 17:31:00    2023-07-27 17:33:00        4   \n94235  2023-07-27 17:44:00    2023-07-27 17:45:00        1   \n94238  2023-07-27 17:59:00    2023-07-27 18:01:00        1   \n94240  2023-07-27 18:09:00    2023-07-27 18:09:00        1   \n94243  2023-07-27 18:19:00    2023-07-27 18:19:00        3   \n\n      actual_arrival_time actual_departure_time  is_delayed_arrival  \\\n8     2023-07-27 00:53:00   2023-07-27 00:53:00                True   \n10    2023-07-27 00:57:00   2023-07-27 00:58:00                True   \n16    2023-07-27 01:07:00   2023-07-27 01:07:00                True   \n17    2023-07-27 01:09:00   2023-07-27 01:10:00                True   \n22                    NaT                   NaT               False   \n...                   ...                   ...                 ...   \n94233 2023-07-27 18:07:00   2023-07-27 18:08:00                True   \n94235 2023-07-27 18:18:00   2023-07-27 18:19:00                True   \n94238 2023-07-27 18:29:00   2023-07-27 18:30:00                True   \n94240 2023-07-27 18:35:00   2023-07-27 18:35:00                True   \n94243 2023-07-27 18:44:00   2023-07-27 18:45:00                True   \n\n       is_delayed_departure  hour arrival_time_difference  \n8                      True     0                     NaT  \n10                     True     0                     NaT  \n16                     True     0                     NaT  \n17                     True     0                     NaT  \n22                    False    21                     NaT  \n...                     ...   ...                     ...  \n94233                  True    17         0 days 00:36:00  \n94235                  True    17         0 days 00:34:00  \n94238                  True    17         0 days 00:30:00  \n94240                  True    18         0 days 00:26:00  \n94243                  True    18         0 days 00:25:00  \n\n[36614 rows x 16 columns]",
      "text/html": "<div>\n<style scoped>\n    .dataframe tbody tr th:only-of-type {\n        vertical-align: middle;\n    }\n\n    .dataframe tbody tr th {\n        vertical-align: top;\n    }\n\n    .dataframe thead th {\n        text-align: right;\n    }\n</style>\n<table border=\"1\" class=\"dataframe\">\n  <thead>\n    <tr style=\"text-align: right;\">\n      <th></th>\n      <th>route_id</th>\n      <th>unique_id</th>\n      <th>service_start_date</th>\n      <th>update_origin</th>\n      <th>train_platform</th>\n      <th>working_time_arrival</th>\n      <th>working_time_departure</th>\n      <th>planned_time_arrival</th>\n      <th>planned_time_departure</th>\n      <th>platform</th>\n      <th>actual_arrival_time</th>\n      <th>actual_departure_time</th>\n      <th>is_delayed_arrival</th>\n      <th>is_delayed_departure</th>\n      <th>hour</th>\n      <th>arrival_time_difference</th>\n    </tr>\n  </thead>\n  <tbody>\n    <tr>\n      <th>8</th>\n      <td>202307277679020</td>\n      <td>L79020</td>\n      <td>2023-07-27</td>\n      <td>Darwin</td>\n      <td>STFD</td>\n      <td>2023-07-27 00:03:00</td>\n      <td>2023-07-27 00:03:30</td>\n      <td>NaT</td>\n      <td>NaT</td>\n      <td>5</td>\n      <td>2023-07-27 00:53:00</td>\n      <td>2023-07-27 00:53:00</td>\n      <td>True</td>\n      <td>True</td>\n      <td>0</td>\n      <td>NaT</td>\n    </tr>\n    <tr>\n      <th>10</th>\n      <td>202307277679020</td>\n      <td>L79020</td>\n      <td>2023-07-27</td>\n      <td>Darwin</td>\n      <td>SPNY205</td>\n      <td>2023-07-27 00:07:00</td>\n      <td>2023-07-27 00:13:30</td>\n      <td>NaT</td>\n      <td>NaT</td>\n      <td>None</td>\n      <td>2023-07-27 00:57:00</td>\n      <td>2023-07-27 00:58:00</td>\n      <td>True</td>\n      <td>True</td>\n      <td>0</td>\n      <td>NaT</td>\n    </tr>\n    <tr>\n      <th>16</th>\n      <td>202307277679020</td>\n      <td>L79020</td>\n      <td>2023-07-27</td>\n      <td>Darwin</td>\n      <td>PADTLL</td>\n      <td>2023-07-27 00:30:30</td>\n      <td>2023-07-27 00:31:00</td>\n      <td>NaT</td>\n      <td>NaT</td>\n      <td>B</td>\n      <td>2023-07-27 01:07:00</td>\n      <td>2023-07-27 01:07:00</td>\n      <td>True</td>\n      <td>True</td>\n      <td>0</td>\n      <td>NaT</td>\n    </tr>\n    <tr>\n      <th>17</th>\n      <td>202307277679020</td>\n      <td>L79020</td>\n      <td>2023-07-27</td>\n      <td>Darwin</td>\n      <td>WBRNPKS</td>\n      <td>2023-07-27 00:33:00</td>\n      <td>2023-07-27 00:35:00</td>\n      <td>NaT</td>\n      <td>NaT</td>\n      <td>A</td>\n      <td>2023-07-27 01:09:00</td>\n      <td>2023-07-27 01:10:00</td>\n      <td>True</td>\n      <td>True</td>\n      <td>0</td>\n      <td>NaT</td>\n    </tr>\n    <tr>\n      <th>22</th>\n      <td>202307277674553</td>\n      <td>L74553</td>\n      <td>2023-07-27</td>\n      <td>TD</td>\n      <td>SVNOAKS</td>\n      <td>2023-07-27 21:53:00</td>\n      <td>2023-07-27 21:54:30</td>\n      <td>2023-07-27 21:53:00</td>\n      <td>2023-07-27 21:54:00</td>\n      <td>1</td>\n      <td>NaT</td>\n      <td>NaT</td>\n      <td>False</td>\n      <td>False</td>\n      <td>21</td>\n      <td>NaT</td>\n    </tr>\n    <tr>\n      <th>...</th>\n      <td>...</td>\n      <td>...</td>\n      <td>...</td>\n      <td>...</td>\n      <td>...</td>\n      <td>...</td>\n      <td>...</td>\n      <td>...</td>\n      <td>...</td>\n      <td>...</td>\n      <td>...</td>\n      <td>...</td>\n      <td>...</td>\n      <td>...</td>\n      <td>...</td>\n      <td>...</td>\n    </tr>\n    <tr>\n      <th>94233</th>\n      <td>202307278055183</td>\n      <td>P55183</td>\n      <td>2023-07-27</td>\n      <td>Darwin</td>\n      <td>BRADIN</td>\n      <td>2023-07-27 17:30:30</td>\n      <td>2023-07-27 17:33:30</td>\n      <td>2023-07-27 17:31:00</td>\n      <td>2023-07-27 17:33:00</td>\n      <td>4</td>\n      <td>2023-07-27 18:07:00</td>\n      <td>2023-07-27 18:08:00</td>\n      <td>True</td>\n      <td>True</td>\n      <td>17</td>\n      <td>0 days 00:36:00</td>\n    </tr>\n    <tr>\n      <th>94235</th>\n      <td>202307278055183</td>\n      <td>P55183</td>\n      <td>2023-07-27</td>\n      <td>Darwin</td>\n      <td>HLFX</td>\n      <td>2023-07-27 17:44:00</td>\n      <td>2023-07-27 17:45:00</td>\n      <td>2023-07-27 17:44:00</td>\n      <td>2023-07-27 17:45:00</td>\n      <td>1</td>\n      <td>2023-07-27 18:18:00</td>\n      <td>2023-07-27 18:19:00</td>\n      <td>True</td>\n      <td>True</td>\n      <td>17</td>\n      <td>0 days 00:34:00</td>\n    </tr>\n    <tr>\n      <th>94238</th>\n      <td>202307278055183</td>\n      <td>P55183</td>\n      <td>2023-07-27</td>\n      <td>Darwin</td>\n      <td>HBDNBDG</td>\n      <td>2023-07-27 17:58:30</td>\n      <td>2023-07-27 18:01:30</td>\n      <td>2023-07-27 17:59:00</td>\n      <td>2023-07-27 18:01:00</td>\n      <td>1</td>\n      <td>2023-07-27 18:29:00</td>\n      <td>2023-07-27 18:30:00</td>\n      <td>True</td>\n      <td>True</td>\n      <td>17</td>\n      <td>0 days 00:30:00</td>\n    </tr>\n    <tr>\n      <th>94240</th>\n      <td>202307278055183</td>\n      <td>P55183</td>\n      <td>2023-07-27</td>\n      <td>Darwin</td>\n      <td>TODMRDN</td>\n      <td>2023-07-27 18:08:30</td>\n      <td>2023-07-27 18:09:30</td>\n      <td>2023-07-27 18:09:00</td>\n      <td>2023-07-27 18:09:00</td>\n      <td>1</td>\n      <td>2023-07-27 18:35:00</td>\n      <td>2023-07-27 18:35:00</td>\n      <td>True</td>\n      <td>True</td>\n      <td>18</td>\n      <td>0 days 00:26:00</td>\n    </tr>\n    <tr>\n      <th>94243</th>\n      <td>202307278055183</td>\n      <td>P55183</td>\n      <td>2023-07-27</td>\n      <td>Darwin</td>\n      <td>RCHDALE</td>\n      <td>2023-07-27 18:18:30</td>\n      <td>2023-07-27 18:19:30</td>\n      <td>2023-07-27 18:19:00</td>\n      <td>2023-07-27 18:19:00</td>\n      <td>3</td>\n      <td>2023-07-27 18:44:00</td>\n      <td>2023-07-27 18:45:00</td>\n      <td>True</td>\n      <td>True</td>\n      <td>18</td>\n      <td>0 days 00:25:00</td>\n    </tr>\n  </tbody>\n</table>\n<p>36614 rows × 16 columns</p>\n</div>"
     },
     "execution_count": 141,
     "metadata": {},
     "output_type": "execute_result"
    }
   ],
   "source": [
    "# Create a copy of the DataFrame to avoid modifying the original\n",
    "df_cleaned_copy = df_cleaned.copy()\n",
    "\n",
    "# Convert string columns with datetime information to datetime objects using .loc\n",
    "time_columns = ['planned_time_arrival', 'actual_arrival_time']\n",
    "for col in time_columns:\n",
    "    df_cleaned_copy.loc[:, col] = pd.to_datetime(df_cleaned_copy[col])\n",
    "\n",
    "# Calculate the time difference and create a new column using .loc\n",
    "df_cleaned_copy['arrival_time_difference'] = df_cleaned_copy['actual_arrival_time'] - df_cleaned_copy['planned_time_arrival']\n",
    "\n",
    "# Display the DataFrame with the new column\n",
    "df_cleaned_copy\n"
   ],
   "metadata": {
    "collapsed": false,
    "ExecuteTime": {
     "end_time": "2023-08-14T23:35:37.514724Z",
     "start_time": "2023-08-14T23:35:37.457263Z"
    }
   },
   "id": "9586d3f78dd52bd6"
  },
  {
   "cell_type": "code",
   "execution_count": null,
   "outputs": [],
   "source": [],
   "metadata": {
    "collapsed": false
   },
   "id": "f08c4c05b8f825a8"
  },
  {
   "cell_type": "code",
   "execution_count": 142,
   "outputs": [
    {
     "name": "stdout",
     "output_type": "stream",
     "text": [
      "Counts of delayed arrivals based on the presence of null planned_time_arrival:\n",
      "planned_time_arrival\n",
      "False     622\n",
      "True     1772\n",
      "Name: is_delayed_arrival, dtype: int64\n"
     ]
    }
   ],
   "source": [
    "\n",
    "# Group by the presence of null values in working_time_arrival and calculate sum of True values\n",
    "null_delay_counts = df_cleaned.groupby(df_cleaned['planned_time_arrival'].isnull())['is_delayed_arrival'].sum()\n",
    "\n",
    "# Display the result\n",
    "print(\"Counts of delayed arrivals based on the presence of null planned_time_arrival:\")\n",
    "print(null_delay_counts)"
   ],
   "metadata": {
    "collapsed": false,
    "ExecuteTime": {
     "end_time": "2023-08-14T23:40:06.245033Z",
     "start_time": "2023-08-14T23:40:06.218852Z"
    }
   },
   "id": "133f39b6a07da70d"
  },
  {
   "cell_type": "code",
   "execution_count": 143,
   "outputs": [
    {
     "data": {
      "text/plain": "3229"
     },
     "execution_count": 143,
     "metadata": {},
     "output_type": "execute_result"
    }
   ],
   "source": [
    "df_cleaned['planned_time_arrival'].isnull().sum()"
   ],
   "metadata": {
    "collapsed": false,
    "ExecuteTime": {
     "end_time": "2023-08-14T23:41:01.847373Z",
     "start_time": "2023-08-14T23:41:01.841051Z"
    }
   },
   "id": "859e63636af686f5"
  },
  {
   "cell_type": "code",
   "execution_count": 133,
   "outputs": [
    {
     "name": "stdout",
     "output_type": "stream",
     "text": [
      "The train platform with the most delayed events is CRKLWD with 189 delayed events.\n"
     ]
    }
   ],
   "source": [
    "\n",
    "# Group by train platform and count the delayed arrivals and departures\n",
    "platform_delay_counts = df_cleaned.groupby('train_platform')[['is_delayed_arrival', 'is_delayed_departure']].sum()\n",
    "\n",
    "# Calculate the total delayed events for each platform\n",
    "platform_delay_counts['total_delayed_events'] = platform_delay_counts['is_delayed_arrival'] + platform_delay_counts['is_delayed_departure']\n",
    "\n",
    "# Find the platform with the most delayed events\n",
    "most_delayed_platform = platform_delay_counts['total_delayed_events'].idxmax()\n",
    "max_delayed_events = platform_delay_counts['total_delayed_events'].max()\n",
    "\n",
    "print(f\"The train platform with the most delayed events is {most_delayed_platform} with {max_delayed_events} delayed events.\")\n"
   ],
   "metadata": {
    "collapsed": false,
    "ExecuteTime": {
     "end_time": "2023-08-14T23:18:22.180427Z",
     "start_time": "2023-08-14T23:18:22.143837Z"
    }
   },
   "id": "bee52f913d8d33a9"
  },
  {
   "cell_type": "code",
   "execution_count": 134,
   "outputs": [
    {
     "data": {
      "text/plain": "                is_delayed_arrival  is_delayed_departure  total_delayed_events\ntrain_platform                                                                \nABDO                             0                     0                     0\nABDVY                            0                     0                     0\nABER                             0                     0                     0\nABGLELE                          1                     1                     2\nABHLJN                           0                     0                     0\n...                            ...                   ...                   ...\nYOVILPM                          1                     1                     2\nYRDLYWD                          0                     0                     0\nYSTRADM                          0                     0                     0\nYTMNSTR                          0                     0                     0\nYTRHOND                          0                     0                     0\n\n[2603 rows x 3 columns]",
      "text/html": "<div>\n<style scoped>\n    .dataframe tbody tr th:only-of-type {\n        vertical-align: middle;\n    }\n\n    .dataframe tbody tr th {\n        vertical-align: top;\n    }\n\n    .dataframe thead th {\n        text-align: right;\n    }\n</style>\n<table border=\"1\" class=\"dataframe\">\n  <thead>\n    <tr style=\"text-align: right;\">\n      <th></th>\n      <th>is_delayed_arrival</th>\n      <th>is_delayed_departure</th>\n      <th>total_delayed_events</th>\n    </tr>\n    <tr>\n      <th>train_platform</th>\n      <th></th>\n      <th></th>\n      <th></th>\n    </tr>\n  </thead>\n  <tbody>\n    <tr>\n      <th>ABDO</th>\n      <td>0</td>\n      <td>0</td>\n      <td>0</td>\n    </tr>\n    <tr>\n      <th>ABDVY</th>\n      <td>0</td>\n      <td>0</td>\n      <td>0</td>\n    </tr>\n    <tr>\n      <th>ABER</th>\n      <td>0</td>\n      <td>0</td>\n      <td>0</td>\n    </tr>\n    <tr>\n      <th>ABGLELE</th>\n      <td>1</td>\n      <td>1</td>\n      <td>2</td>\n    </tr>\n    <tr>\n      <th>ABHLJN</th>\n      <td>0</td>\n      <td>0</td>\n      <td>0</td>\n    </tr>\n    <tr>\n      <th>...</th>\n      <td>...</td>\n      <td>...</td>\n      <td>...</td>\n    </tr>\n    <tr>\n      <th>YOVILPM</th>\n      <td>1</td>\n      <td>1</td>\n      <td>2</td>\n    </tr>\n    <tr>\n      <th>YRDLYWD</th>\n      <td>0</td>\n      <td>0</td>\n      <td>0</td>\n    </tr>\n    <tr>\n      <th>YSTRADM</th>\n      <td>0</td>\n      <td>0</td>\n      <td>0</td>\n    </tr>\n    <tr>\n      <th>YTMNSTR</th>\n      <td>0</td>\n      <td>0</td>\n      <td>0</td>\n    </tr>\n    <tr>\n      <th>YTRHOND</th>\n      <td>0</td>\n      <td>0</td>\n      <td>0</td>\n    </tr>\n  </tbody>\n</table>\n<p>2603 rows × 3 columns</p>\n</div>"
     },
     "execution_count": 134,
     "metadata": {},
     "output_type": "execute_result"
    }
   ],
   "source": [
    "platform_delay_counts"
   ],
   "metadata": {
    "collapsed": false,
    "ExecuteTime": {
     "end_time": "2023-08-14T23:19:10.687457Z",
     "start_time": "2023-08-14T23:19:10.637995Z"
    }
   },
   "id": "63bf47db5d15a33f"
  },
  {
   "cell_type": "code",
   "execution_count": 135,
   "outputs": [
    {
     "name": "stdout",
     "output_type": "stream",
     "text": [
      "The update_origin with the most delayed arrivals is 'Darwin' with 2371 delayed arrivals.\n"
     ]
    }
   ],
   "source": [
    "\n",
    "# Group by update_origin and count the True values under is_delayed_arrival\n",
    "origin_delay_counts = df_cleaned.groupby('update_origin')['is_delayed_arrival'].sum()\n",
    "\n",
    "# Find the update_origin with the most True values\n",
    "most_delayed_origin = origin_delay_counts.idxmax()\n",
    "max_delayed_count = origin_delay_counts.max()\n",
    "\n",
    "print(f\"The update_origin with the most delayed arrivals is '{most_delayed_origin}' with {max_delayed_count} delayed arrivals.\")\n"
   ],
   "metadata": {
    "collapsed": false,
    "ExecuteTime": {
     "end_time": "2023-08-14T23:24:18.239838Z",
     "start_time": "2023-08-14T23:24:18.217058Z"
    }
   },
   "id": "ddcc64f0b558be79"
  },
  {
   "cell_type": "code",
   "execution_count": 136,
   "outputs": [
    {
     "data": {
      "text/plain": "<Figure size 1000x600 with 1 Axes>",
      "image/png": "[encoded data removed]"
     },
     "metadata": {},
     "output_type": "display_data"
    }
   ],
   "source": [
    "# Assuming you have already created the df_cleaned DataFrame\n",
    "\n",
    "# Group by update_origin and count the True values under is_delayed_arrival\n",
    "origin_delay_counts = df_cleaned.groupby('update_origin')['is_delayed_arrival'].sum()\n",
    "\n",
    "# Convert the Series to a DataFrame for plotting\n",
    "origin_delay_df = origin_delay_counts.reset_index(name='count')\n",
    "\n",
    "# Sort the DataFrame by count in descending order\n",
    "origin_delay_df = origin_delay_df.sort_values(by='count', ascending=False)\n",
    "\n",
    "# Create a bar plot using seaborn\n",
    "plt.figure(figsize=(10, 6))\n",
    "sns.barplot(x='update_origin', y='count', data=origin_delay_df, palette='viridis')\n",
    "plt.xlabel('Update Origin')\n",
    "plt.ylabel('Count of Delayed Arrivals')\n",
    "plt.title('Update Origins with Most Delayed Arrivals')\n",
    "plt.xticks(rotation=45)\n",
    "plt.tight_layout()\n",
    "plt.show()\n"
   ],
   "metadata": {
    "collapsed": false,
    "ExecuteTime": {
     "end_time": "2023-08-14T23:24:44.477618Z",
     "start_time": "2023-08-14T23:24:44.338725Z"
    }
   },
   "id": "b56a27e6bb707c8a"
  },
  {
   "cell_type": "code",
   "execution_count": 137,
   "outputs": [
    {
     "data": {
      "text/plain": "  update_origin  count\n1        Darwin   2371\n4        Tyrell     21\n0           CIS      1\n3         Trust      1\n2            TD      0\n5   Workstation      0",
      "text/html": "<div>\n<style scoped>\n    .dataframe tbody tr th:only-of-type {\n        vertical-align: middle;\n    }\n\n    .dataframe tbody tr th {\n        vertical-align: top;\n    }\n\n    .dataframe thead th {\n        text-align: right;\n    }\n</style>\n<table border=\"1\" class=\"dataframe\">\n  <thead>\n    <tr style=\"text-align: right;\">\n      <th></th>\n      <th>update_origin</th>\n      <th>count</th>\n    </tr>\n  </thead>\n  <tbody>\n    <tr>\n      <th>1</th>\n      <td>Darwin</td>\n      <td>2371</td>\n    </tr>\n    <tr>\n      <th>4</th>\n      <td>Tyrell</td>\n      <td>21</td>\n    </tr>\n    <tr>\n      <th>0</th>\n      <td>CIS</td>\n      <td>1</td>\n    </tr>\n    <tr>\n      <th>3</th>\n      <td>Trust</td>\n      <td>1</td>\n    </tr>\n    <tr>\n      <th>2</th>\n      <td>TD</td>\n      <td>0</td>\n    </tr>\n    <tr>\n      <th>5</th>\n      <td>Workstation</td>\n      <td>0</td>\n    </tr>\n  </tbody>\n</table>\n</div>"
     },
     "execution_count": 137,
     "metadata": {},
     "output_type": "execute_result"
    }
   ],
   "source": [
    "origin_delay_df"
   ],
   "metadata": {
    "collapsed": false,
    "ExecuteTime": {
     "end_time": "2023-08-14T23:25:31.769308Z",
     "start_time": "2023-08-14T23:25:31.759634Z"
    }
   },
   "id": "9f073a1b29c5133d"
  },
  {
   "cell_type": "markdown",
   "id": "faaf3bd54dee375f",
   "metadata": {},
   "source": [
    "#### Looking at a busy route to evaluate cleaning"
   ]
  },
  {
   "cell_type": "code",
   "execution_count": 109,
   "id": "6ebe8fad",
   "metadata": {
    "ExecuteTime": {
     "end_time": "2023-08-14T22:29:05.111830Z",
     "start_time": "2023-08-14T22:29:05.106145Z"
    }
   },
   "outputs": [],
   "source": [
    "popular_id = df_cleaned[df_cleaned['unique_id'] == 'Y55129']"
   ]
  },
  {
   "cell_type": "code",
   "execution_count": 110,
   "id": "53611a73",
   "metadata": {
    "ExecuteTime": {
     "end_time": "2023-08-14T22:29:05.597712Z",
     "start_time": "2023-08-14T22:29:05.588311Z"
    }
   },
   "outputs": [
    {
     "data": {
      "text/plain": "              route_id unique_id service_start_date update_origin  \\\n24918  202307288955129    Y55129         2023-07-28         Trust   \n24919  202307288955129    Y55129         2023-07-28         Trust   \n24920  202307288955129    Y55129         2023-07-28         Trust   \n24922  202307288955129    Y55129         2023-07-28         Trust   \n24924  202307288955129    Y55129         2023-07-28         Trust   \n...                ...       ...                ...           ...   \n92756  202307288955129    Y55129         2023-07-28        Darwin   \n92758  202307288955129    Y55129         2023-07-28        Darwin   \n92761  202307288955129    Y55129         2023-07-28        Darwin   \n92768  202307288955129    Y55129         2023-07-28        Darwin   \n92769  202307288955129    Y55129         2023-07-28        Darwin   \n\n      train_platform working_time_arrival working_time_departure  \\\n24918         BRENTX  2023-07-28 01:13:30    2023-07-28 01:14:00   \n24919         CRKLWD  2023-07-28 01:15:30    2023-07-28 01:17:00   \n24920        WHMPSTM  2023-07-28 01:20:00    2023-07-28 01:20:30   \n24922        KNTSHTN  2023-07-28 01:24:00    2023-07-28 01:24:30   \n24924        STPXBOX  2023-07-28 01:30:00    2023-07-28 01:32:00   \n...              ...                  ...                    ...   \n92756        SELHRST  2023-07-28 02:02:30    2023-07-28 02:03:00   \n92758        ECROYDN  2023-07-28 02:06:00    2023-07-28 02:07:00   \n92761         PURLEY  2023-07-28 02:12:00    2023-07-28 02:13:00   \n92768         HORLEY  2023-07-28 02:25:30    2023-07-28 02:26:00   \n92769           GTWK  2023-07-28 02:29:30    2023-07-28 02:31:30   \n\n      planned_time_arrival planned_time_departure platform  \\\n24918                  NaT                    NaT        1   \n24919  2023-07-28 01:16:00    2023-07-28 01:17:00        1   \n24920  2023-07-28 01:20:00    2023-07-28 01:20:00        1   \n24922  2023-07-28 01:24:00    2023-07-28 01:24:00        1   \n24924  2023-07-28 01:30:00    2023-07-28 01:32:00        A   \n...                    ...                    ...      ...   \n92756                  NaT                    NaT        1   \n92758  2023-07-28 02:06:00    2023-07-28 02:07:00        5   \n92761  2023-07-28 02:12:00    2023-07-28 02:13:00        2   \n92768  2023-07-28 02:26:00    2023-07-28 02:26:00        2   \n92769  2023-07-28 02:30:00    2023-07-28 02:31:00        2   \n\n      actual_arrival_time actual_departure_time  is_delayed_arrival  \\\n24918 2023-07-28 01:19:00   2023-07-28 01:20:00               False   \n24919 2023-07-28 01:21:00   2023-07-28 01:22:00               False   \n24920 2023-07-28 01:24:00   2023-07-28 01:25:00               False   \n24922 2023-07-28 01:28:00   2023-07-28 01:29:00               False   \n24924 2023-07-28 01:33:00   2023-07-28 01:34:00               False   \n...                   ...                   ...                 ...   \n92756 2023-07-28 02:04:00   2023-07-28 02:04:00               False   \n92758 2023-07-28 02:06:00   2023-07-28 02:07:00               False   \n92761 2023-07-28 02:12:00   2023-07-28 02:13:00               False   \n92768 2023-07-28 02:26:00   2023-07-28 02:26:00               False   \n92769 2023-07-28 02:30:00   2023-07-28 02:31:00               False   \n\n       is_delayed_departure  \n24918                 False  \n24919                 False  \n24920                 False  \n24922                 False  \n24924                 False  \n...                     ...  \n92756                 False  \n92758                 False  \n92761                 False  \n92768                 False  \n92769                 False  \n\n[98 rows x 14 columns]",
      "text/html": "<div>\n<style scoped>\n    .dataframe tbody tr th:only-of-type {\n        vertical-align: middle;\n    }\n\n    .dataframe tbody tr th {\n        vertical-align: top;\n    }\n\n    .dataframe thead th {\n        text-align: right;\n    }\n</style>\n<table border=\"1\" class=\"dataframe\">\n  <thead>\n    <tr style=\"text-align: right;\">\n      <th></th>\n      <th>route_id</th>\n      <th>unique_id</th>\n      <th>service_start_date</th>\n      <th>update_origin</th>\n      <th>train_platform</th>\n      <th>working_time_arrival</th>\n      <th>working_time_departure</th>\n      <th>planned_time_arrival</th>\n      <th>planned_time_departure</th>\n      <th>platform</th>\n      <th>actual_arrival_time</th>\n      <th>actual_departure_time</th>\n      <th>is_delayed_arrival</th>\n      <th>is_delayed_departure</th>\n    </tr>\n  </thead>\n  <tbody>\n    <tr>\n      <th>24918</th>\n      <td>202307288955129</td>\n      <td>Y55129</td>\n      <td>2023-07-28</td>\n      <td>Trust</td>\n      <td>BRENTX</td>\n      <td>2023-07-28 01:13:30</td>\n      <td>2023-07-28 01:14:00</td>\n      <td>NaT</td>\n      <td>NaT</td>\n      <td>1</td>\n      <td>2023-07-28 01:19:00</td>\n      <td>2023-07-28 01:20:00</td>\n      <td>False</td>\n      <td>False</td>\n    </tr>\n    <tr>\n      <th>24919</th>\n      <td>202307288955129</td>\n      <td>Y55129</td>\n      <td>2023-07-28</td>\n      <td>Trust</td>\n      <td>CRKLWD</td>\n      <td>2023-07-28 01:15:30</td>\n      <td>2023-07-28 01:17:00</td>\n      <td>2023-07-28 01:16:00</td>\n      <td>2023-07-28 01:17:00</td>\n      <td>1</td>\n      <td>2023-07-28 01:21:00</td>\n      <td>2023-07-28 01:22:00</td>\n      <td>False</td>\n      <td>False</td>\n    </tr>\n    <tr>\n      <th>24920</th>\n      <td>202307288955129</td>\n      <td>Y55129</td>\n      <td>2023-07-28</td>\n      <td>Trust</td>\n      <td>WHMPSTM</td>\n      <td>2023-07-28 01:20:00</td>\n      <td>2023-07-28 01:20:30</td>\n      <td>2023-07-28 01:20:00</td>\n      <td>2023-07-28 01:20:00</td>\n      <td>1</td>\n      <td>2023-07-28 01:24:00</td>\n      <td>2023-07-28 01:25:00</td>\n      <td>False</td>\n      <td>False</td>\n    </tr>\n    <tr>\n      <th>24922</th>\n      <td>202307288955129</td>\n      <td>Y55129</td>\n      <td>2023-07-28</td>\n      <td>Trust</td>\n      <td>KNTSHTN</td>\n      <td>2023-07-28 01:24:00</td>\n      <td>2023-07-28 01:24:30</td>\n      <td>2023-07-28 01:24:00</td>\n      <td>2023-07-28 01:24:00</td>\n      <td>1</td>\n      <td>2023-07-28 01:28:00</td>\n      <td>2023-07-28 01:29:00</td>\n      <td>False</td>\n      <td>False</td>\n    </tr>\n    <tr>\n      <th>24924</th>\n      <td>202307288955129</td>\n      <td>Y55129</td>\n      <td>2023-07-28</td>\n      <td>Trust</td>\n      <td>STPXBOX</td>\n      <td>2023-07-28 01:30:00</td>\n      <td>2023-07-28 01:32:00</td>\n      <td>2023-07-28 01:30:00</td>\n      <td>2023-07-28 01:32:00</td>\n      <td>A</td>\n      <td>2023-07-28 01:33:00</td>\n      <td>2023-07-28 01:34:00</td>\n      <td>False</td>\n      <td>False</td>\n    </tr>\n    <tr>\n      <th>...</th>\n      <td>...</td>\n      <td>...</td>\n      <td>...</td>\n      <td>...</td>\n      <td>...</td>\n      <td>...</td>\n      <td>...</td>\n      <td>...</td>\n      <td>...</td>\n      <td>...</td>\n      <td>...</td>\n      <td>...</td>\n      <td>...</td>\n      <td>...</td>\n    </tr>\n    <tr>\n      <th>92756</th>\n      <td>202307288955129</td>\n      <td>Y55129</td>\n      <td>2023-07-28</td>\n      <td>Darwin</td>\n      <td>SELHRST</td>\n      <td>2023-07-28 02:02:30</td>\n      <td>2023-07-28 02:03:00</td>\n      <td>NaT</td>\n      <td>NaT</td>\n      <td>1</td>\n      <td>2023-07-28 02:04:00</td>\n      <td>2023-07-28 02:04:00</td>\n      <td>False</td>\n      <td>False</td>\n    </tr>\n    <tr>\n      <th>92758</th>\n      <td>202307288955129</td>\n      <td>Y55129</td>\n      <td>2023-07-28</td>\n      <td>Darwin</td>\n      <td>ECROYDN</td>\n      <td>2023-07-28 02:06:00</td>\n      <td>2023-07-28 02:07:00</td>\n      <td>2023-07-28 02:06:00</td>\n      <td>2023-07-28 02:07:00</td>\n      <td>5</td>\n      <td>2023-07-28 02:06:00</td>\n      <td>2023-07-28 02:07:00</td>\n      <td>False</td>\n      <td>False</td>\n    </tr>\n    <tr>\n      <th>92761</th>\n      <td>202307288955129</td>\n      <td>Y55129</td>\n      <td>2023-07-28</td>\n      <td>Darwin</td>\n      <td>PURLEY</td>\n      <td>2023-07-28 02:12:00</td>\n      <td>2023-07-28 02:13:00</td>\n      <td>2023-07-28 02:12:00</td>\n      <td>2023-07-28 02:13:00</td>\n      <td>2</td>\n      <td>2023-07-28 02:12:00</td>\n      <td>2023-07-28 02:13:00</td>\n      <td>False</td>\n      <td>False</td>\n    </tr>\n    <tr>\n      <th>92768</th>\n      <td>202307288955129</td>\n      <td>Y55129</td>\n      <td>2023-07-28</td>\n      <td>Darwin</td>\n      <td>HORLEY</td>\n      <td>2023-07-28 02:25:30</td>\n      <td>2023-07-28 02:26:00</td>\n      <td>2023-07-28 02:26:00</td>\n      <td>2023-07-28 02:26:00</td>\n      <td>2</td>\n      <td>2023-07-28 02:26:00</td>\n      <td>2023-07-28 02:26:00</td>\n      <td>False</td>\n      <td>False</td>\n    </tr>\n    <tr>\n      <th>92769</th>\n      <td>202307288955129</td>\n      <td>Y55129</td>\n      <td>2023-07-28</td>\n      <td>Darwin</td>\n      <td>GTWK</td>\n      <td>2023-07-28 02:29:30</td>\n      <td>2023-07-28 02:31:30</td>\n      <td>2023-07-28 02:30:00</td>\n      <td>2023-07-28 02:31:00</td>\n      <td>2</td>\n      <td>2023-07-28 02:30:00</td>\n      <td>2023-07-28 02:31:00</td>\n      <td>False</td>\n      <td>False</td>\n    </tr>\n  </tbody>\n</table>\n<p>98 rows × 14 columns</p>\n</div>"
     },
     "execution_count": 110,
     "metadata": {},
     "output_type": "execute_result"
    }
   ],
   "source": [
    "popular_id"
   ]
  },
  {
   "cell_type": "code",
   "execution_count": 111,
   "id": "ec2d39aba17c6cd6",
   "metadata": {
    "ExecuteTime": {
     "end_time": "2023-08-14T22:29:05.966532Z",
     "start_time": "2023-08-14T22:29:05.962799Z"
    }
   },
   "outputs": [
    {
     "data": {
      "text/plain": "23"
     },
     "execution_count": 111,
     "metadata": {},
     "output_type": "execute_result"
    }
   ],
   "source": [
    "popular_id['train_platform'].nunique()"
   ]
  },
  {
   "cell_type": "code",
   "execution_count": 112,
   "outputs": [
    {
     "data": {
      "text/plain": "24918    False\n24919    False\n24920    False\n24922    False\n24924    False\n         ...  \n92756    False\n92758    False\n92761    False\n92768    False\n92769    False\nName: actual_arrival_time, Length: 98, dtype: bool"
     },
     "execution_count": 112,
     "metadata": {},
     "output_type": "execute_result"
    }
   ],
   "source": [
    "popular_id['actual_arrival_time'].isna()"
   ],
   "metadata": {
    "collapsed": false,
    "ExecuteTime": {
     "end_time": "2023-08-14T22:29:07.052771Z",
     "start_time": "2023-08-14T22:29:07.043186Z"
    }
   },
   "id": "3653affe9b3cd4ec"
  },
  {
   "cell_type": "markdown",
   "source": [
    "## Picking out top 20 busiest stations"
   ],
   "metadata": {
    "collapsed": false
   },
   "id": "b9847fecf68fe84f"
  },
  {
   "cell_type": "code",
   "execution_count": 113,
   "outputs": [
    {
     "data": {
      "text/plain": "LNDNBDE    312\nWLOE       162\nECROYDN    147\nSTKP       146\nCRKLWD     146\n          ... \nBRUTON       1\nSGOS         1\nWRGTCCS      1\nBCKY         1\nPRKSTON      1\nName: train_platform, Length: 2603, dtype: int64"
     },
     "execution_count": 113,
     "metadata": {},
     "output_type": "execute_result"
    }
   ],
   "source": [
    "df_cleaned['train_platform'].value_counts()"
   ],
   "metadata": {
    "collapsed": false,
    "ExecuteTime": {
     "end_time": "2023-08-14T22:29:11.472954Z",
     "start_time": "2023-08-14T22:29:11.456967Z"
    }
   },
   "id": "10c9f399ee041339"
  },
  {
   "cell_type": "code",
   "execution_count": 114,
   "outputs": [],
   "source": [
    "platforms_to_filter = ['LNDNBDE', 'WLOE', 'ECROYDN', 'STKP', 'CRKLWD', 'VAUXHLM', 'GTWK', 'CLPHMJM',\n",
    "                       'RDNGSTN', 'BLFR', 'LEWISHM', 'CTMSLNK', 'FRNDNLT', 'WDON', 'WCHAPXR', 'MKNSCEN',\n",
    "                       'STPXBOX', 'STAFFRD', 'BHAMNWS', 'FRNDXR']\n",
    "filtered_df = df_cleaned[df_cleaned['train_platform'].isin(platforms_to_filter)]"
   ],
   "metadata": {
    "collapsed": false,
    "ExecuteTime": {
     "end_time": "2023-08-14T22:29:14.103521Z",
     "start_time": "2023-08-14T22:29:14.090771Z"
    }
   },
   "id": "8b10759474ccf030"
  },
  {
   "cell_type": "code",
   "execution_count": 115,
   "outputs": [
    {
     "data": {
      "text/plain": "              route_id unique_id service_start_date update_origin  \\\n88     202307277194778    G94778         2023-07-27        Darwin   \n102    202307278954536    Y54536         2023-07-27           CIS   \n160    202307287623224    L23224         2023-07-28           CIS   \n343    202307278075284    P75284         2023-07-27            TD   \n370    202307278954008    Y54008         2023-07-27            TD   \n...                ...       ...                ...           ...   \n94074  202307277674792    L74792         2023-07-27           CIS   \n94076  202307277674792    L74792         2023-07-27           CIS   \n94159  202307277679378    L79378         2023-07-27           CIS   \n94172  202307288071669    P71669         2023-07-28        Darwin   \n94195  202307278055737    P55737         2023-07-27          None   \n\n      train_platform working_time_arrival working_time_departure  \\\n88           LEWISHM  2023-07-27 22:11:00    2023-07-27 22:12:00   \n102          STPXBOX  2023-07-27 21:34:00    2023-07-27 21:35:00   \n160          VAUXHLM  2023-07-28 23:23:00    2023-07-28 23:24:00   \n343          RDNGSTN  2023-07-27 20:59:00    2023-07-27 21:03:00   \n370          FRNDNLT  2023-07-27 22:10:30    2023-07-27 22:11:30   \n...              ...                  ...                    ...   \n94074           WLOE  2023-07-27 19:36:30    2023-07-27 19:37:30   \n94076        LNDNBDE  2023-07-27 19:41:00    2023-07-27 19:43:00   \n94159        WCHAPXR  2023-07-27 20:20:30    2023-07-27 20:21:30   \n94172        BHAMNWS  2023-07-28 08:42:00    2023-07-28 08:46:00   \n94195           STKP  2023-07-27 20:17:00    2023-07-27 20:19:30   \n\n      planned_time_arrival planned_time_departure platform  \\\n88     2023-07-27 22:11:00    2023-07-27 22:12:00        1   \n102    2023-07-27 21:34:00    2023-07-27 21:35:00        A   \n160    2023-07-28 23:23:00    2023-07-28 23:24:00        8   \n343    2023-07-27 21:00:00    2023-07-27 21:03:00       10   \n370    2023-07-27 22:11:00    2023-07-27 22:11:00        4   \n...                    ...                    ...      ...   \n94074  2023-07-27 19:37:00    2023-07-27 19:37:00        A   \n94076  2023-07-27 19:41:00    2023-07-27 19:43:00        7   \n94159  2023-07-27 20:21:00    2023-07-27 20:21:00        B   \n94172  2023-07-28 08:42:00    2023-07-28 08:46:00        8   \n94195  2023-07-27 20:17:00    2023-07-27 20:19:00        2   \n\n      actual_arrival_time actual_departure_time  is_delayed_arrival  \\\n88    2023-07-27 22:11:00   2023-07-27 22:12:00               False   \n102   2023-07-27 21:34:00   2023-07-27 21:35:00               False   \n160   2023-07-28 23:23:00   2023-07-28 23:24:00               False   \n343   2023-07-27 21:22:00   2023-07-27 21:23:00               False   \n370                   NaT   2023-07-27 22:11:00               False   \n...                   ...                   ...                 ...   \n94074 2023-07-27 19:37:00   2023-07-27 19:37:00               False   \n94076 2023-07-27 19:41:00   2023-07-27 19:43:00               False   \n94159 2023-07-27 20:21:00   2023-07-27 20:21:00               False   \n94172 2023-07-28 08:42:00   2023-07-28 08:46:00               False   \n94195 2023-07-27 20:17:00   2023-07-27 20:19:00               False   \n\n       is_delayed_departure  \n88                    False  \n102                   False  \n160                   False  \n343                   False  \n370                   False  \n...                     ...  \n94074                 False  \n94076                 False  \n94159                 False  \n94172                 False  \n94195                 False  \n\n[2506 rows x 14 columns]",
      "text/html": "<div>\n<style scoped>\n    .dataframe tbody tr th:only-of-type {\n        vertical-align: middle;\n    }\n\n    .dataframe tbody tr th {\n        vertical-align: top;\n    }\n\n    .dataframe thead th {\n        text-align: right;\n    }\n</style>\n<table border=\"1\" class=\"dataframe\">\n  <thead>\n    <tr style=\"text-align: right;\">\n      <th></th>\n      <th>route_id</th>\n      <th>unique_id</th>\n      <th>service_start_date</th>\n      <th>update_origin</th>\n      <th>train_platform</th>\n      <th>working_time_arrival</th>\n      <th>working_time_departure</th>\n      <th>planned_time_arrival</th>\n      <th>planned_time_departure</th>\n      <th>platform</th>\n      <th>actual_arrival_time</th>\n      <th>actual_departure_time</th>\n      <th>is_delayed_arrival</th>\n      <th>is_delayed_departure</th>\n    </tr>\n  </thead>\n  <tbody>\n    <tr>\n      <th>88</th>\n      <td>202307277194778</td>\n      <td>G94778</td>\n      <td>2023-07-27</td>\n      <td>Darwin</td>\n      <td>LEWISHM</td>\n      <td>2023-07-27 22:11:00</td>\n      <td>2023-07-27 22:12:00</td>\n      <td>2023-07-27 22:11:00</td>\n      <td>2023-07-27 22:12:00</td>\n      <td>1</td>\n      <td>2023-07-27 22:11:00</td>\n      <td>2023-07-27 22:12:00</td>\n      <td>False</td>\n      <td>False</td>\n    </tr>\n    <tr>\n      <th>102</th>\n      <td>202307278954536</td>\n      <td>Y54536</td>\n      <td>2023-07-27</td>\n      <td>CIS</td>\n      <td>STPXBOX</td>\n      <td>2023-07-27 21:34:00</td>\n      <td>2023-07-27 21:35:00</td>\n      <td>2023-07-27 21:34:00</td>\n      <td>2023-07-27 21:35:00</td>\n      <td>A</td>\n      <td>2023-07-27 21:34:00</td>\n      <td>2023-07-27 21:35:00</td>\n      <td>False</td>\n      <td>False</td>\n    </tr>\n    <tr>\n      <th>160</th>\n      <td>202307287623224</td>\n      <td>L23224</td>\n      <td>2023-07-28</td>\n      <td>CIS</td>\n      <td>VAUXHLM</td>\n      <td>2023-07-28 23:23:00</td>\n      <td>2023-07-28 23:24:00</td>\n      <td>2023-07-28 23:23:00</td>\n      <td>2023-07-28 23:24:00</td>\n      <td>8</td>\n      <td>2023-07-28 23:23:00</td>\n      <td>2023-07-28 23:24:00</td>\n      <td>False</td>\n      <td>False</td>\n    </tr>\n    <tr>\n      <th>343</th>\n      <td>202307278075284</td>\n      <td>P75284</td>\n      <td>2023-07-27</td>\n      <td>TD</td>\n      <td>RDNGSTN</td>\n      <td>2023-07-27 20:59:00</td>\n      <td>2023-07-27 21:03:00</td>\n      <td>2023-07-27 21:00:00</td>\n      <td>2023-07-27 21:03:00</td>\n      <td>10</td>\n      <td>2023-07-27 21:22:00</td>\n      <td>2023-07-27 21:23:00</td>\n      <td>False</td>\n      <td>False</td>\n    </tr>\n    <tr>\n      <th>370</th>\n      <td>202307278954008</td>\n      <td>Y54008</td>\n      <td>2023-07-27</td>\n      <td>TD</td>\n      <td>FRNDNLT</td>\n      <td>2023-07-27 22:10:30</td>\n      <td>2023-07-27 22:11:30</td>\n      <td>2023-07-27 22:11:00</td>\n      <td>2023-07-27 22:11:00</td>\n      <td>4</td>\n      <td>NaT</td>\n      <td>2023-07-27 22:11:00</td>\n      <td>False</td>\n      <td>False</td>\n    </tr>\n    <tr>\n      <th>...</th>\n      <td>...</td>\n      <td>...</td>\n      <td>...</td>\n      <td>...</td>\n      <td>...</td>\n      <td>...</td>\n      <td>...</td>\n      <td>...</td>\n      <td>...</td>\n      <td>...</td>\n      <td>...</td>\n      <td>...</td>\n      <td>...</td>\n      <td>...</td>\n    </tr>\n    <tr>\n      <th>94074</th>\n      <td>202307277674792</td>\n      <td>L74792</td>\n      <td>2023-07-27</td>\n      <td>CIS</td>\n      <td>WLOE</td>\n      <td>2023-07-27 19:36:30</td>\n      <td>2023-07-27 19:37:30</td>\n      <td>2023-07-27 19:37:00</td>\n      <td>2023-07-27 19:37:00</td>\n      <td>A</td>\n      <td>2023-07-27 19:37:00</td>\n      <td>2023-07-27 19:37:00</td>\n      <td>False</td>\n      <td>False</td>\n    </tr>\n    <tr>\n      <th>94076</th>\n      <td>202307277674792</td>\n      <td>L74792</td>\n      <td>2023-07-27</td>\n      <td>CIS</td>\n      <td>LNDNBDE</td>\n      <td>2023-07-27 19:41:00</td>\n      <td>2023-07-27 19:43:00</td>\n      <td>2023-07-27 19:41:00</td>\n      <td>2023-07-27 19:43:00</td>\n      <td>7</td>\n      <td>2023-07-27 19:41:00</td>\n      <td>2023-07-27 19:43:00</td>\n      <td>False</td>\n      <td>False</td>\n    </tr>\n    <tr>\n      <th>94159</th>\n      <td>202307277679378</td>\n      <td>L79378</td>\n      <td>2023-07-27</td>\n      <td>CIS</td>\n      <td>WCHAPXR</td>\n      <td>2023-07-27 20:20:30</td>\n      <td>2023-07-27 20:21:30</td>\n      <td>2023-07-27 20:21:00</td>\n      <td>2023-07-27 20:21:00</td>\n      <td>B</td>\n      <td>2023-07-27 20:21:00</td>\n      <td>2023-07-27 20:21:00</td>\n      <td>False</td>\n      <td>False</td>\n    </tr>\n    <tr>\n      <th>94172</th>\n      <td>202307288071669</td>\n      <td>P71669</td>\n      <td>2023-07-28</td>\n      <td>Darwin</td>\n      <td>BHAMNWS</td>\n      <td>2023-07-28 08:42:00</td>\n      <td>2023-07-28 08:46:00</td>\n      <td>2023-07-28 08:42:00</td>\n      <td>2023-07-28 08:46:00</td>\n      <td>8</td>\n      <td>2023-07-28 08:42:00</td>\n      <td>2023-07-28 08:46:00</td>\n      <td>False</td>\n      <td>False</td>\n    </tr>\n    <tr>\n      <th>94195</th>\n      <td>202307278055737</td>\n      <td>P55737</td>\n      <td>2023-07-27</td>\n      <td>None</td>\n      <td>STKP</td>\n      <td>2023-07-27 20:17:00</td>\n      <td>2023-07-27 20:19:30</td>\n      <td>2023-07-27 20:17:00</td>\n      <td>2023-07-27 20:19:00</td>\n      <td>2</td>\n      <td>2023-07-27 20:17:00</td>\n      <td>2023-07-27 20:19:00</td>\n      <td>False</td>\n      <td>False</td>\n    </tr>\n  </tbody>\n</table>\n<p>2506 rows × 14 columns</p>\n</div>"
     },
     "execution_count": 115,
     "metadata": {},
     "output_type": "execute_result"
    }
   ],
   "source": [
    "filtered_df"
   ],
   "metadata": {
    "collapsed": false,
    "ExecuteTime": {
     "end_time": "2023-08-14T22:29:15.482989Z",
     "start_time": "2023-08-14T22:29:15.460130Z"
    }
   },
   "id": "5685eba4939c6c79"
  },
  {
   "cell_type": "code",
   "execution_count": 116,
   "outputs": [],
   "source": [
    "top_delayed = filtered_df[filtered_df['is_delayed_arrival']== True]"
   ],
   "metadata": {
    "collapsed": false,
    "ExecuteTime": {
     "end_time": "2023-08-14T22:29:19.565671Z",
     "start_time": "2023-08-14T22:29:19.554679Z"
    }
   },
   "id": "83812d2cda3857b8"
  },
  {
   "cell_type": "code",
   "execution_count": 117,
   "outputs": [
    {
     "data": {
      "text/plain": "              route_id unique_id service_start_date update_origin  \\\n677    202307277622356    L22356         2023-07-27        Darwin   \n2048   202307278952592    Y52592         2023-07-27        Darwin   \n2050   202307278952592    Y52592         2023-07-27        Darwin   \n3176   202307287503298    K03298         2023-07-28        Darwin   \n3411   202307278075392    P75392         2023-07-27        Darwin   \n...                ...       ...                ...           ...   \n93355  202307286707727    C07727         2023-07-28        Darwin   \n93357  202307286707727    C07727         2023-07-28        Darwin   \n93758  202307288953763    Y53763         2023-07-28        Darwin   \n93759  202307288953763    Y53763         2023-07-28        Darwin   \n93767  202307288953763    Y53763         2023-07-28        Darwin   \n\n      train_platform working_time_arrival working_time_departure  \\\n677          CLPHMJM  2023-07-27 19:11:00    2023-07-27 19:12:30   \n2048         FRNDNLT  2023-07-27 00:32:00    2023-07-27 00:35:30   \n2050            BLFR  2023-07-27 00:38:00    2023-07-27 00:38:00   \n3176         STAFFRD  2023-07-28 03:20:00    2023-07-28 03:24:00   \n3411         RDNGSTN  2023-07-27 17:26:00    2023-07-27 17:29:00   \n...              ...                  ...                    ...   \n93355         CRKLWD  2023-07-28 00:13:30    2023-07-28 00:15:00   \n93357         CRKLWD  2023-07-28 00:32:00    2023-07-28 00:39:00   \n93758           BLFR  2023-07-28 00:52:30    2023-07-28 00:54:00   \n93759        CTMSLNK  2023-07-28 00:55:00    2023-07-28 00:56:00   \n93767         CRKLWD  2023-07-28 01:15:00    2023-07-28 01:16:30   \n\n      planned_time_arrival planned_time_departure platform  \\\n677    2023-07-27 19:11:00    2023-07-27 19:12:00        7   \n2048                   NaT                    NaT        3   \n2050                   NaT                    NaT        1   \n3176                   NaT                    NaT        6   \n3411   2023-07-27 17:26:00    2023-07-27 17:29:00        7   \n...                    ...                    ...      ...   \n93355                  NaT                    NaT        2   \n93357                  NaT                    NaT      DER   \n93758                  NaT                    NaT        2   \n93759                  NaT                    NaT        1   \n93767                  NaT                    NaT        2   \n\n      actual_arrival_time actual_departure_time  is_delayed_arrival  \\\n677   2023-07-27 19:36:00   2023-07-27 19:37:00                True   \n2048  2023-07-27 00:55:00   2023-07-27 00:56:00                True   \n2050  2023-07-27 00:59:00   2023-07-27 00:59:00                True   \n3176  2023-07-28 04:04:00   2023-07-28 04:05:00                True   \n3411  2023-07-27 17:59:00   2023-07-27 18:00:00                True   \n...                   ...                   ...                 ...   \n93355 2023-07-28 04:06:00   2023-07-28 04:07:00                True   \n93357 2023-07-28 04:15:00   2023-07-28 04:16:00                True   \n93758 2023-07-28 04:26:00   2023-07-28 04:27:00                True   \n93759 2023-07-28 04:28:00   2023-07-28 04:29:00                True   \n93767 2023-07-28 04:42:00   2023-07-28 04:43:00                True   \n\n       is_delayed_departure  \n677                    True  \n2048                   True  \n2050                   True  \n3176                   True  \n3411                   True  \n...                     ...  \n93355                  True  \n93357                  True  \n93758                  True  \n93759                  True  \n93767                  True  \n\n[207 rows x 14 columns]",
      "text/html": "<div>\n<style scoped>\n    .dataframe tbody tr th:only-of-type {\n        vertical-align: middle;\n    }\n\n    .dataframe tbody tr th {\n        vertical-align: top;\n    }\n\n    .dataframe thead th {\n        text-align: right;\n    }\n</style>\n<table border=\"1\" class=\"dataframe\">\n  <thead>\n    <tr style=\"text-align: right;\">\n      <th></th>\n      <th>route_id</th>\n      <th>unique_id</th>\n      <th>service_start_date</th>\n      <th>update_origin</th>\n      <th>train_platform</th>\n      <th>working_time_arrival</th>\n      <th>working_time_departure</th>\n      <th>planned_time_arrival</th>\n      <th>planned_time_departure</th>\n      <th>platform</th>\n      <th>actual_arrival_time</th>\n      <th>actual_departure_time</th>\n      <th>is_delayed_arrival</th>\n      <th>is_delayed_departure</th>\n    </tr>\n  </thead>\n  <tbody>\n    <tr>\n      <th>677</th>\n      <td>202307277622356</td>\n      <td>L22356</td>\n      <td>2023-07-27</td>\n      <td>Darwin</td>\n      <td>CLPHMJM</td>\n      <td>2023-07-27 19:11:00</td>\n      <td>2023-07-27 19:12:30</td>\n      <td>2023-07-27 19:11:00</td>\n      <td>2023-07-27 19:12:00</td>\n      <td>7</td>\n      <td>2023-07-27 19:36:00</td>\n      <td>2023-07-27 19:37:00</td>\n      <td>True</td>\n      <td>True</td>\n    </tr>\n    <tr>\n      <th>2048</th>\n      <td>202307278952592</td>\n      <td>Y52592</td>\n      <td>2023-07-27</td>\n      <td>Darwin</td>\n      <td>FRNDNLT</td>\n      <td>2023-07-27 00:32:00</td>\n      <td>2023-07-27 00:35:30</td>\n      <td>NaT</td>\n      <td>NaT</td>\n      <td>3</td>\n      <td>2023-07-27 00:55:00</td>\n      <td>2023-07-27 00:56:00</td>\n      <td>True</td>\n      <td>True</td>\n    </tr>\n    <tr>\n      <th>2050</th>\n      <td>202307278952592</td>\n      <td>Y52592</td>\n      <td>2023-07-27</td>\n      <td>Darwin</td>\n      <td>BLFR</td>\n      <td>2023-07-27 00:38:00</td>\n      <td>2023-07-27 00:38:00</td>\n      <td>NaT</td>\n      <td>NaT</td>\n      <td>1</td>\n      <td>2023-07-27 00:59:00</td>\n      <td>2023-07-27 00:59:00</td>\n      <td>True</td>\n      <td>True</td>\n    </tr>\n    <tr>\n      <th>3176</th>\n      <td>202307287503298</td>\n      <td>K03298</td>\n      <td>2023-07-28</td>\n      <td>Darwin</td>\n      <td>STAFFRD</td>\n      <td>2023-07-28 03:20:00</td>\n      <td>2023-07-28 03:24:00</td>\n      <td>NaT</td>\n      <td>NaT</td>\n      <td>6</td>\n      <td>2023-07-28 04:04:00</td>\n      <td>2023-07-28 04:05:00</td>\n      <td>True</td>\n      <td>True</td>\n    </tr>\n    <tr>\n      <th>3411</th>\n      <td>202307278075392</td>\n      <td>P75392</td>\n      <td>2023-07-27</td>\n      <td>Darwin</td>\n      <td>RDNGSTN</td>\n      <td>2023-07-27 17:26:00</td>\n      <td>2023-07-27 17:29:00</td>\n      <td>2023-07-27 17:26:00</td>\n      <td>2023-07-27 17:29:00</td>\n      <td>7</td>\n      <td>2023-07-27 17:59:00</td>\n      <td>2023-07-27 18:00:00</td>\n      <td>True</td>\n      <td>True</td>\n    </tr>\n    <tr>\n      <th>...</th>\n      <td>...</td>\n      <td>...</td>\n      <td>...</td>\n      <td>...</td>\n      <td>...</td>\n      <td>...</td>\n      <td>...</td>\n      <td>...</td>\n      <td>...</td>\n      <td>...</td>\n      <td>...</td>\n      <td>...</td>\n      <td>...</td>\n      <td>...</td>\n    </tr>\n    <tr>\n      <th>93355</th>\n      <td>202307286707727</td>\n      <td>C07727</td>\n      <td>2023-07-28</td>\n      <td>Darwin</td>\n      <td>CRKLWD</td>\n      <td>2023-07-28 00:13:30</td>\n      <td>2023-07-28 00:15:00</td>\n      <td>NaT</td>\n      <td>NaT</td>\n      <td>2</td>\n      <td>2023-07-28 04:06:00</td>\n      <td>2023-07-28 04:07:00</td>\n      <td>True</td>\n      <td>True</td>\n    </tr>\n    <tr>\n      <th>93357</th>\n      <td>202307286707727</td>\n      <td>C07727</td>\n      <td>2023-07-28</td>\n      <td>Darwin</td>\n      <td>CRKLWD</td>\n      <td>2023-07-28 00:32:00</td>\n      <td>2023-07-28 00:39:00</td>\n      <td>NaT</td>\n      <td>NaT</td>\n      <td>DER</td>\n      <td>2023-07-28 04:15:00</td>\n      <td>2023-07-28 04:16:00</td>\n      <td>True</td>\n      <td>True</td>\n    </tr>\n    <tr>\n      <th>93758</th>\n      <td>202307288953763</td>\n      <td>Y53763</td>\n      <td>2023-07-28</td>\n      <td>Darwin</td>\n      <td>BLFR</td>\n      <td>2023-07-28 00:52:30</td>\n      <td>2023-07-28 00:54:00</td>\n      <td>NaT</td>\n      <td>NaT</td>\n      <td>2</td>\n      <td>2023-07-28 04:26:00</td>\n      <td>2023-07-28 04:27:00</td>\n      <td>True</td>\n      <td>True</td>\n    </tr>\n    <tr>\n      <th>93759</th>\n      <td>202307288953763</td>\n      <td>Y53763</td>\n      <td>2023-07-28</td>\n      <td>Darwin</td>\n      <td>CTMSLNK</td>\n      <td>2023-07-28 00:55:00</td>\n      <td>2023-07-28 00:56:00</td>\n      <td>NaT</td>\n      <td>NaT</td>\n      <td>1</td>\n      <td>2023-07-28 04:28:00</td>\n      <td>2023-07-28 04:29:00</td>\n      <td>True</td>\n      <td>True</td>\n    </tr>\n    <tr>\n      <th>93767</th>\n      <td>202307288953763</td>\n      <td>Y53763</td>\n      <td>2023-07-28</td>\n      <td>Darwin</td>\n      <td>CRKLWD</td>\n      <td>2023-07-28 01:15:00</td>\n      <td>2023-07-28 01:16:30</td>\n      <td>NaT</td>\n      <td>NaT</td>\n      <td>2</td>\n      <td>2023-07-28 04:42:00</td>\n      <td>2023-07-28 04:43:00</td>\n      <td>True</td>\n      <td>True</td>\n    </tr>\n  </tbody>\n</table>\n<p>207 rows × 14 columns</p>\n</div>"
     },
     "execution_count": 117,
     "metadata": {},
     "output_type": "execute_result"
    }
   ],
   "source": [
    "top_delayed"
   ],
   "metadata": {
    "collapsed": false,
    "ExecuteTime": {
     "end_time": "2023-08-14T22:29:21.368038Z",
     "start_time": "2023-08-14T22:29:21.350755Z"
    }
   },
   "id": "55c165e8dec857b1"
  },
  {
   "cell_type": "markdown",
   "source": [
    "## Picking out top 20 most frequent route_ids"
   ],
   "metadata": {
    "collapsed": false
   },
   "id": "c3256db84a5a02ba"
  },
  {
   "cell_type": "code",
   "execution_count": 82,
   "outputs": [
    {
     "data": {
      "text/plain": "Y55129    98\nY54552    90\nY53932    75\nW26895    71\nY54816    66\n          ..\nP70954     1\nL79313     1\nC57570     1\nY29935     1\nP76891     1\nName: unique_id, Length: 6363, dtype: int64"
     },
     "execution_count": 82,
     "metadata": {},
     "output_type": "execute_result"
    }
   ],
   "source": [
    "df_cleaned['unique_id'].value_counts()"
   ],
   "metadata": {
    "collapsed": false,
    "ExecuteTime": {
     "end_time": "2023-08-14T22:15:56.009966Z",
     "start_time": "2023-08-14T22:15:55.904412Z"
    }
   },
   "id": "7b0bfee0c3e4b4bb"
  },
  {
   "cell_type": "code",
   "execution_count": 83,
   "outputs": [],
   "source": [
    "routes = ['Y55129', 'Y54552', 'Y53932', 'W26895', 'Y54816', 'L22755', 'Y54723', 'P24468', 'P25823', 'P24702',\n",
    "          'P24213', 'P57280', 'Y50413', 'L84948', 'P75392', 'Y33483', 'L35672', 'G70169', 'Y54003', 'P58316']\n",
    "busy_routes = df_cleaned[df_cleaned['unique_id'].isin(routes)]"
   ],
   "metadata": {
    "collapsed": false,
    "ExecuteTime": {
     "end_time": "2023-08-14T22:15:56.020018Z",
     "start_time": "2023-08-14T22:15:55.912596Z"
    }
   },
   "id": "7e5ac6fa5c808f4c"
  },
  {
   "cell_type": "code",
   "execution_count": 84,
   "outputs": [
    {
     "data": {
      "text/plain": "              route_id unique_id service_start_date update_origin  \\\n1122   202307278954003    Y54003         2023-07-27            TD   \n1123   202307278954003    Y54003         2023-07-27            TD   \n1124   202307278954003    Y54003         2023-07-27            TD   \n1125   202307278954003    Y54003         2023-07-27            TD   \n1126   202307278954003    Y54003         2023-07-27            TD   \n...                ...       ...                ...           ...   \n92756  202307288955129    Y55129         2023-07-28        Darwin   \n92758  202307288955129    Y55129         2023-07-28        Darwin   \n92761  202307288955129    Y55129         2023-07-28        Darwin   \n92768  202307288955129    Y55129         2023-07-28        Darwin   \n92769  202307288955129    Y55129         2023-07-28        Darwin   \n\n      train_platform working_time_arrival working_time_departure  \\\n1122          IFIELD  2023-07-27 20:34:30    2023-07-27 20:35:00   \n1123         CRAWLEY  2023-07-27 20:37:30    2023-07-27 20:38:30   \n1124          THBDGS  2023-07-27 20:41:30    2023-07-27 20:43:00   \n1125          HORLEY  2023-07-27 20:51:00    2023-07-27 20:51:30   \n1126         REDHILL  2023-07-27 20:58:30    2023-07-27 20:59:30   \n...              ...                  ...                    ...   \n92756        SELHRST  2023-07-28 02:02:30    2023-07-28 02:03:00   \n92758        ECROYDN  2023-07-28 02:06:00    2023-07-28 02:07:00   \n92761         PURLEY  2023-07-28 02:12:00    2023-07-28 02:13:00   \n92768         HORLEY  2023-07-28 02:25:30    2023-07-28 02:26:00   \n92769           GTWK  2023-07-28 02:29:30    2023-07-28 02:31:30   \n\n      planned_time_arrival planned_time_departure platform  \\\n1122   2023-07-27 20:35:00    2023-07-27 20:35:00        1   \n1123   2023-07-27 20:38:00    2023-07-27 20:38:00        1   \n1124   2023-07-27 20:42:00    2023-07-27 20:43:00        2   \n1125   2023-07-27 20:51:00    2023-07-27 20:51:00        1   \n1126   2023-07-27 20:59:00    2023-07-27 20:59:00        2   \n...                    ...                    ...      ...   \n92756                  NaT                    NaT        1   \n92758  2023-07-28 02:06:00    2023-07-28 02:07:00        5   \n92761  2023-07-28 02:12:00    2023-07-28 02:13:00        2   \n92768  2023-07-28 02:26:00    2023-07-28 02:26:00        2   \n92769  2023-07-28 02:30:00    2023-07-28 02:31:00        2   \n\n      actual_arrival_time actual_departure_time  is_delayed_arrival  \\\n1122  2023-07-27 20:39:00   2023-07-27 20:40:00               False   \n1123  2023-07-27 20:42:00   2023-07-27 20:43:00               False   \n1124  2023-07-27 20:46:00   2023-07-27 20:47:00               False   \n1125  2023-07-27 20:54:00   2023-07-27 20:55:00               False   \n1126  2023-07-27 21:02:00   2023-07-27 21:02:00               False   \n...                   ...                   ...                 ...   \n92756 2023-07-28 02:04:00   2023-07-28 02:04:00               False   \n92758 2023-07-28 02:06:00   2023-07-28 02:07:00               False   \n92761 2023-07-28 02:12:00   2023-07-28 02:13:00               False   \n92768 2023-07-28 02:26:00   2023-07-28 02:26:00               False   \n92769 2023-07-28 02:30:00   2023-07-28 02:31:00               False   \n\n       is_delayed_departure  \n1122                  False  \n1123                  False  \n1124                  False  \n1125                  False  \n1126                  False  \n...                     ...  \n92756                 False  \n92758                 False  \n92761                 False  \n92768                 False  \n92769                 False  \n\n[1289 rows x 14 columns]",
      "text/html": "<div>\n<style scoped>\n    .dataframe tbody tr th:only-of-type {\n        vertical-align: middle;\n    }\n\n    .dataframe tbody tr th {\n        vertical-align: top;\n    }\n\n    .dataframe thead th {\n        text-align: right;\n    }\n</style>\n<table border=\"1\" class=\"dataframe\">\n  <thead>\n    <tr style=\"text-align: right;\">\n      <th></th>\n      <th>route_id</th>\n      <th>unique_id</th>\n      <th>service_start_date</th>\n      <th>update_origin</th>\n      <th>train_platform</th>\n      <th>working_time_arrival</th>\n      <th>working_time_departure</th>\n      <th>planned_time_arrival</th>\n      <th>planned_time_departure</th>\n      <th>platform</th>\n      <th>actual_arrival_time</th>\n      <th>actual_departure_time</th>\n      <th>is_delayed_arrival</th>\n      <th>is_delayed_departure</th>\n    </tr>\n  </thead>\n  <tbody>\n    <tr>\n      <th>1122</th>\n      <td>202307278954003</td>\n      <td>Y54003</td>\n      <td>2023-07-27</td>\n      <td>TD</td>\n      <td>IFIELD</td>\n      <td>2023-07-27 20:34:30</td>\n      <td>2023-07-27 20:35:00</td>\n      <td>2023-07-27 20:35:00</td>\n      <td>2023-07-27 20:35:00</td>\n      <td>1</td>\n      <td>2023-07-27 20:39:00</td>\n      <td>2023-07-27 20:40:00</td>\n      <td>False</td>\n      <td>False</td>\n    </tr>\n    <tr>\n      <th>1123</th>\n      <td>202307278954003</td>\n      <td>Y54003</td>\n      <td>2023-07-27</td>\n      <td>TD</td>\n      <td>CRAWLEY</td>\n      <td>2023-07-27 20:37:30</td>\n      <td>2023-07-27 20:38:30</td>\n      <td>2023-07-27 20:38:00</td>\n      <td>2023-07-27 20:38:00</td>\n      <td>1</td>\n      <td>2023-07-27 20:42:00</td>\n      <td>2023-07-27 20:43:00</td>\n      <td>False</td>\n      <td>False</td>\n    </tr>\n    <tr>\n      <th>1124</th>\n      <td>202307278954003</td>\n      <td>Y54003</td>\n      <td>2023-07-27</td>\n      <td>TD</td>\n      <td>THBDGS</td>\n      <td>2023-07-27 20:41:30</td>\n      <td>2023-07-27 20:43:00</td>\n      <td>2023-07-27 20:42:00</td>\n      <td>2023-07-27 20:43:00</td>\n      <td>2</td>\n      <td>2023-07-27 20:46:00</td>\n      <td>2023-07-27 20:47:00</td>\n      <td>False</td>\n      <td>False</td>\n    </tr>\n    <tr>\n      <th>1125</th>\n      <td>202307278954003</td>\n      <td>Y54003</td>\n      <td>2023-07-27</td>\n      <td>TD</td>\n      <td>HORLEY</td>\n      <td>2023-07-27 20:51:00</td>\n      <td>2023-07-27 20:51:30</td>\n      <td>2023-07-27 20:51:00</td>\n      <td>2023-07-27 20:51:00</td>\n      <td>1</td>\n      <td>2023-07-27 20:54:00</td>\n      <td>2023-07-27 20:55:00</td>\n      <td>False</td>\n      <td>False</td>\n    </tr>\n    <tr>\n      <th>1126</th>\n      <td>202307278954003</td>\n      <td>Y54003</td>\n      <td>2023-07-27</td>\n      <td>TD</td>\n      <td>REDHILL</td>\n      <td>2023-07-27 20:58:30</td>\n      <td>2023-07-27 20:59:30</td>\n      <td>2023-07-27 20:59:00</td>\n      <td>2023-07-27 20:59:00</td>\n      <td>2</td>\n      <td>2023-07-27 21:02:00</td>\n      <td>2023-07-27 21:02:00</td>\n      <td>False</td>\n      <td>False</td>\n    </tr>\n    <tr>\n      <th>...</th>\n      <td>...</td>\n      <td>...</td>\n      <td>...</td>\n      <td>...</td>\n      <td>...</td>\n      <td>...</td>\n      <td>...</td>\n      <td>...</td>\n      <td>...</td>\n      <td>...</td>\n      <td>...</td>\n      <td>...</td>\n      <td>...</td>\n      <td>...</td>\n    </tr>\n    <tr>\n      <th>92756</th>\n      <td>202307288955129</td>\n      <td>Y55129</td>\n      <td>2023-07-28</td>\n      <td>Darwin</td>\n      <td>SELHRST</td>\n      <td>2023-07-28 02:02:30</td>\n      <td>2023-07-28 02:03:00</td>\n      <td>NaT</td>\n      <td>NaT</td>\n      <td>1</td>\n      <td>2023-07-28 02:04:00</td>\n      <td>2023-07-28 02:04:00</td>\n      <td>False</td>\n      <td>False</td>\n    </tr>\n    <tr>\n      <th>92758</th>\n      <td>202307288955129</td>\n      <td>Y55129</td>\n      <td>2023-07-28</td>\n      <td>Darwin</td>\n      <td>ECROYDN</td>\n      <td>2023-07-28 02:06:00</td>\n      <td>2023-07-28 02:07:00</td>\n      <td>2023-07-28 02:06:00</td>\n      <td>2023-07-28 02:07:00</td>\n      <td>5</td>\n      <td>2023-07-28 02:06:00</td>\n      <td>2023-07-28 02:07:00</td>\n      <td>False</td>\n      <td>False</td>\n    </tr>\n    <tr>\n      <th>92761</th>\n      <td>202307288955129</td>\n      <td>Y55129</td>\n      <td>2023-07-28</td>\n      <td>Darwin</td>\n      <td>PURLEY</td>\n      <td>2023-07-28 02:12:00</td>\n      <td>2023-07-28 02:13:00</td>\n      <td>2023-07-28 02:12:00</td>\n      <td>2023-07-28 02:13:00</td>\n      <td>2</td>\n      <td>2023-07-28 02:12:00</td>\n      <td>2023-07-28 02:13:00</td>\n      <td>False</td>\n      <td>False</td>\n    </tr>\n    <tr>\n      <th>92768</th>\n      <td>202307288955129</td>\n      <td>Y55129</td>\n      <td>2023-07-28</td>\n      <td>Darwin</td>\n      <td>HORLEY</td>\n      <td>2023-07-28 02:25:30</td>\n      <td>2023-07-28 02:26:00</td>\n      <td>2023-07-28 02:26:00</td>\n      <td>2023-07-28 02:26:00</td>\n      <td>2</td>\n      <td>2023-07-28 02:26:00</td>\n      <td>2023-07-28 02:26:00</td>\n      <td>False</td>\n      <td>False</td>\n    </tr>\n    <tr>\n      <th>92769</th>\n      <td>202307288955129</td>\n      <td>Y55129</td>\n      <td>2023-07-28</td>\n      <td>Darwin</td>\n      <td>GTWK</td>\n      <td>2023-07-28 02:29:30</td>\n      <td>2023-07-28 02:31:30</td>\n      <td>2023-07-28 02:30:00</td>\n      <td>2023-07-28 02:31:00</td>\n      <td>2</td>\n      <td>2023-07-28 02:30:00</td>\n      <td>2023-07-28 02:31:00</td>\n      <td>False</td>\n      <td>False</td>\n    </tr>\n  </tbody>\n</table>\n<p>1289 rows × 14 columns</p>\n</div>"
     },
     "execution_count": 84,
     "metadata": {},
     "output_type": "execute_result"
    }
   ],
   "source": [
    "busy_routes"
   ],
   "metadata": {
    "collapsed": false,
    "ExecuteTime": {
     "end_time": "2023-08-14T22:15:56.020650Z",
     "start_time": "2023-08-14T22:15:55.928276Z"
    }
   },
   "id": "e35ed049e887252a"
  },
  {
   "cell_type": "markdown",
   "source": [],
   "metadata": {
    "collapsed": false
   },
   "id": "9e264a2efd226005"
  },
  {
   "cell_type": "markdown",
   "source": [
    "## Looking at delays"
   ],
   "metadata": {
    "collapsed": false
   },
   "id": "c69efec3fd498b41"
  },
  {
   "cell_type": "code",
   "execution_count": 85,
   "outputs": [
    {
     "data": {
      "text/plain": "              route_id unique_id service_start_date update_origin  \\\n8      202307277679020    L79020         2023-07-27        Darwin   \n10     202307277679020    L79020         2023-07-27        Darwin   \n16     202307277679020    L79020         2023-07-27        Darwin   \n17     202307277679020    L79020         2023-07-27        Darwin   \n104    202307278952669    Y52669         2023-07-27        Darwin   \n...                ...       ...                ...           ...   \n94233  202307278055183    P55183         2023-07-27        Darwin   \n94235  202307278055183    P55183         2023-07-27        Darwin   \n94238  202307278055183    P55183         2023-07-27        Darwin   \n94240  202307278055183    P55183         2023-07-27        Darwin   \n94243  202307278055183    P55183         2023-07-27        Darwin   \n\n      train_platform working_time_arrival working_time_departure  \\\n8               STFD  2023-07-27 00:03:00    2023-07-27 00:03:30   \n10           SPNY205  2023-07-27 00:07:00    2023-07-27 00:13:30   \n16            PADTLL  2023-07-27 00:30:30    2023-07-27 00:31:00   \n17           WBRNPKS  2023-07-27 00:33:00    2023-07-27 00:35:00   \n104          BOGNS55  2023-07-27 00:40:00    2023-07-27 00:45:00   \n...              ...                  ...                    ...   \n94233         BRADIN  2023-07-27 17:30:30    2023-07-27 17:33:30   \n94235           HLFX  2023-07-27 17:44:00    2023-07-27 17:45:00   \n94238        HBDNBDG  2023-07-27 17:58:30    2023-07-27 18:01:30   \n94240        TODMRDN  2023-07-27 18:08:30    2023-07-27 18:09:30   \n94243        RCHDALE  2023-07-27 18:18:30    2023-07-27 18:19:30   \n\n      planned_time_arrival planned_time_departure platform  \\\n8                      NaT                    NaT        5   \n10                     NaT                    NaT     None   \n16                     NaT                    NaT        B   \n17                     NaT                    NaT        A   \n104                    NaT                    NaT     None   \n...                    ...                    ...      ...   \n94233  2023-07-27 17:31:00    2023-07-27 17:33:00        4   \n94235  2023-07-27 17:44:00    2023-07-27 17:45:00        1   \n94238  2023-07-27 17:59:00    2023-07-27 18:01:00        1   \n94240  2023-07-27 18:09:00    2023-07-27 18:09:00        1   \n94243  2023-07-27 18:19:00    2023-07-27 18:19:00        3   \n\n      actual_arrival_time actual_departure_time  is_delayed_arrival  \\\n8     2023-07-27 00:53:00   2023-07-27 00:53:00                True   \n10    2023-07-27 00:57:00   2023-07-27 00:58:00                True   \n16    2023-07-27 01:07:00   2023-07-27 01:07:00                True   \n17    2023-07-27 01:09:00   2023-07-27 01:10:00                True   \n104   2023-07-27 01:21:00   2023-07-27 01:22:00                True   \n...                   ...                   ...                 ...   \n94233 2023-07-27 18:07:00   2023-07-27 18:08:00                True   \n94235 2023-07-27 18:18:00   2023-07-27 18:19:00                True   \n94238 2023-07-27 18:29:00   2023-07-27 18:30:00                True   \n94240 2023-07-27 18:35:00   2023-07-27 18:35:00                True   \n94243 2023-07-27 18:44:00   2023-07-27 18:45:00                True   \n\n       is_delayed_departure  \n8                      True  \n10                     True  \n16                     True  \n17                     True  \n104                    True  \n...                     ...  \n94233                  True  \n94235                  True  \n94238                  True  \n94240                  True  \n94243                  True  \n\n[2394 rows x 14 columns]",
      "text/html": "<div>\n<style scoped>\n    .dataframe tbody tr th:only-of-type {\n        vertical-align: middle;\n    }\n\n    .dataframe tbody tr th {\n        vertical-align: top;\n    }\n\n    .dataframe thead th {\n        text-align: right;\n    }\n</style>\n<table border=\"1\" class=\"dataframe\">\n  <thead>\n    <tr style=\"text-align: right;\">\n      <th></th>\n      <th>route_id</th>\n      <th>unique_id</th>\n      <th>service_start_date</th>\n      <th>update_origin</th>\n      <th>train_platform</th>\n      <th>working_time_arrival</th>\n      <th>working_time_departure</th>\n      <th>planned_time_arrival</th>\n      <th>planned_time_departure</th>\n      <th>platform</th>\n      <th>actual_arrival_time</th>\n      <th>actual_departure_time</th>\n      <th>is_delayed_arrival</th>\n      <th>is_delayed_departure</th>\n    </tr>\n  </thead>\n  <tbody>\n    <tr>\n      <th>8</th>\n      <td>202307277679020</td>\n      <td>L79020</td>\n      <td>2023-07-27</td>\n      <td>Darwin</td>\n      <td>STFD</td>\n      <td>2023-07-27 00:03:00</td>\n      <td>2023-07-27 00:03:30</td>\n      <td>NaT</td>\n      <td>NaT</td>\n      <td>5</td>\n      <td>2023-07-27 00:53:00</td>\n      <td>2023-07-27 00:53:00</td>\n      <td>True</td>\n      <td>True</td>\n    </tr>\n    <tr>\n      <th>10</th>\n      <td>202307277679020</td>\n      <td>L79020</td>\n      <td>2023-07-27</td>\n      <td>Darwin</td>\n      <td>SPNY205</td>\n      <td>2023-07-27 00:07:00</td>\n      <td>2023-07-27 00:13:30</td>\n      <td>NaT</td>\n      <td>NaT</td>\n      <td>None</td>\n      <td>2023-07-27 00:57:00</td>\n      <td>2023-07-27 00:58:00</td>\n      <td>True</td>\n      <td>True</td>\n    </tr>\n    <tr>\n      <th>16</th>\n      <td>202307277679020</td>\n      <td>L79020</td>\n      <td>2023-07-27</td>\n      <td>Darwin</td>\n      <td>PADTLL</td>\n      <td>2023-07-27 00:30:30</td>\n      <td>2023-07-27 00:31:00</td>\n      <td>NaT</td>\n      <td>NaT</td>\n      <td>B</td>\n      <td>2023-07-27 01:07:00</td>\n      <td>2023-07-27 01:07:00</td>\n      <td>True</td>\n      <td>True</td>\n    </tr>\n    <tr>\n      <th>17</th>\n      <td>202307277679020</td>\n      <td>L79020</td>\n      <td>2023-07-27</td>\n      <td>Darwin</td>\n      <td>WBRNPKS</td>\n      <td>2023-07-27 00:33:00</td>\n      <td>2023-07-27 00:35:00</td>\n      <td>NaT</td>\n      <td>NaT</td>\n      <td>A</td>\n      <td>2023-07-27 01:09:00</td>\n      <td>2023-07-27 01:10:00</td>\n      <td>True</td>\n      <td>True</td>\n    </tr>\n    <tr>\n      <th>104</th>\n      <td>202307278952669</td>\n      <td>Y52669</td>\n      <td>2023-07-27</td>\n      <td>Darwin</td>\n      <td>BOGNS55</td>\n      <td>2023-07-27 00:40:00</td>\n      <td>2023-07-27 00:45:00</td>\n      <td>NaT</td>\n      <td>NaT</td>\n      <td>None</td>\n      <td>2023-07-27 01:21:00</td>\n      <td>2023-07-27 01:22:00</td>\n      <td>True</td>\n      <td>True</td>\n    </tr>\n    <tr>\n      <th>...</th>\n      <td>...</td>\n      <td>...</td>\n      <td>...</td>\n      <td>...</td>\n      <td>...</td>\n      <td>...</td>\n      <td>...</td>\n      <td>...</td>\n      <td>...</td>\n      <td>...</td>\n      <td>...</td>\n      <td>...</td>\n      <td>...</td>\n      <td>...</td>\n    </tr>\n    <tr>\n      <th>94233</th>\n      <td>202307278055183</td>\n      <td>P55183</td>\n      <td>2023-07-27</td>\n      <td>Darwin</td>\n      <td>BRADIN</td>\n      <td>2023-07-27 17:30:30</td>\n      <td>2023-07-27 17:33:30</td>\n      <td>2023-07-27 17:31:00</td>\n      <td>2023-07-27 17:33:00</td>\n      <td>4</td>\n      <td>2023-07-27 18:07:00</td>\n      <td>2023-07-27 18:08:00</td>\n      <td>True</td>\n      <td>True</td>\n    </tr>\n    <tr>\n      <th>94235</th>\n      <td>202307278055183</td>\n      <td>P55183</td>\n      <td>2023-07-27</td>\n      <td>Darwin</td>\n      <td>HLFX</td>\n      <td>2023-07-27 17:44:00</td>\n      <td>2023-07-27 17:45:00</td>\n      <td>2023-07-27 17:44:00</td>\n      <td>2023-07-27 17:45:00</td>\n      <td>1</td>\n      <td>2023-07-27 18:18:00</td>\n      <td>2023-07-27 18:19:00</td>\n      <td>True</td>\n      <td>True</td>\n    </tr>\n    <tr>\n      <th>94238</th>\n      <td>202307278055183</td>\n      <td>P55183</td>\n      <td>2023-07-27</td>\n      <td>Darwin</td>\n      <td>HBDNBDG</td>\n      <td>2023-07-27 17:58:30</td>\n      <td>2023-07-27 18:01:30</td>\n      <td>2023-07-27 17:59:00</td>\n      <td>2023-07-27 18:01:00</td>\n      <td>1</td>\n      <td>2023-07-27 18:29:00</td>\n      <td>2023-07-27 18:30:00</td>\n      <td>True</td>\n      <td>True</td>\n    </tr>\n    <tr>\n      <th>94240</th>\n      <td>202307278055183</td>\n      <td>P55183</td>\n      <td>2023-07-27</td>\n      <td>Darwin</td>\n      <td>TODMRDN</td>\n      <td>2023-07-27 18:08:30</td>\n      <td>2023-07-27 18:09:30</td>\n      <td>2023-07-27 18:09:00</td>\n      <td>2023-07-27 18:09:00</td>\n      <td>1</td>\n      <td>2023-07-27 18:35:00</td>\n      <td>2023-07-27 18:35:00</td>\n      <td>True</td>\n      <td>True</td>\n    </tr>\n    <tr>\n      <th>94243</th>\n      <td>202307278055183</td>\n      <td>P55183</td>\n      <td>2023-07-27</td>\n      <td>Darwin</td>\n      <td>RCHDALE</td>\n      <td>2023-07-27 18:18:30</td>\n      <td>2023-07-27 18:19:30</td>\n      <td>2023-07-27 18:19:00</td>\n      <td>2023-07-27 18:19:00</td>\n      <td>3</td>\n      <td>2023-07-27 18:44:00</td>\n      <td>2023-07-27 18:45:00</td>\n      <td>True</td>\n      <td>True</td>\n    </tr>\n  </tbody>\n</table>\n<p>2394 rows × 14 columns</p>\n</div>"
     },
     "execution_count": 85,
     "metadata": {},
     "output_type": "execute_result"
    }
   ],
   "source": [
    "delayed = df_cleaned[df_cleaned['is_delayed_arrival']== True]\n",
    "delayed"
   ],
   "metadata": {
    "collapsed": false,
    "ExecuteTime": {
     "end_time": "2023-08-14T22:15:56.020980Z",
     "start_time": "2023-08-14T22:15:55.932423Z"
    }
   },
   "id": "9d6789cb93eaed4"
  },
  {
   "cell_type": "code",
   "execution_count": 93,
   "outputs": [
    {
     "name": "stdout",
     "output_type": "stream",
     "text": [
      "The train platform with the most delayed events is CRKLWD with 176 delayed events.\n"
     ]
    }
   ],
   "source": [
    "# Group by train platform and count the delayed arrivals and departures\n",
    "platform_delay_counts = delayed.groupby('train_platform')[['is_delayed_arrival', 'is_delayed_departure']].sum()\n",
    "\n",
    "# Calculate the total delayed events for each platform\n",
    "platform_delay_counts['total_delayed_events'] = platform_delay_counts['is_delayed_arrival'] + platform_delay_counts['is_delayed_departure']\n",
    "\n",
    "# Find the platform with the most delayed events\n",
    "most_delayed_platform = platform_delay_counts['total_delayed_events'].idxmax()\n",
    "max_delayed_events = platform_delay_counts['total_delayed_events'].max()\n",
    "\n",
    "print(f\"The train platform with the most delayed events is {most_delayed_platform} with {max_delayed_events} delayed events.\")\n"
   ],
   "metadata": {
    "collapsed": false,
    "ExecuteTime": {
     "end_time": "2023-08-14T22:17:35.492855Z",
     "start_time": "2023-08-14T22:17:35.478777Z"
    }
   },
   "id": "115a1d4db9c7d76a"
  },
  {
   "cell_type": "code",
   "execution_count": 139,
   "outputs": [
    {
     "data": {
      "text/plain": "                      is_delayed_arrival  is_delayed_departure\nis_delayed_arrival                   NaN                   NaN\nis_delayed_departure                 NaN                   NaN",
      "text/html": "<div>\n<style scoped>\n    .dataframe tbody tr th:only-of-type {\n        vertical-align: middle;\n    }\n\n    .dataframe tbody tr th {\n        vertical-align: top;\n    }\n\n    .dataframe thead th {\n        text-align: right;\n    }\n</style>\n<table border=\"1\" class=\"dataframe\">\n  <thead>\n    <tr style=\"text-align: right;\">\n      <th></th>\n      <th>is_delayed_arrival</th>\n      <th>is_delayed_departure</th>\n    </tr>\n  </thead>\n  <tbody>\n    <tr>\n      <th>is_delayed_arrival</th>\n      <td>NaN</td>\n      <td>NaN</td>\n    </tr>\n    <tr>\n      <th>is_delayed_departure</th>\n      <td>NaN</td>\n      <td>NaN</td>\n    </tr>\n  </tbody>\n</table>\n</div>"
     },
     "execution_count": 139,
     "metadata": {},
     "output_type": "execute_result"
    }
   ],
   "source": [],
   "metadata": {
    "collapsed": false,
    "ExecuteTime": {
     "end_time": "2023-08-14T23:30:00.826049Z",
     "start_time": "2023-08-14T23:30:00.805150Z"
    }
   },
   "id": "297405e06a96685"
  },
  {
   "cell_type": "markdown",
   "id": "6dfce2e767713956",
   "metadata": {},
   "source": [
    " ## Round 2\n",
    "### Keeping rows with Darwin and Trust"
   ]
  },
  {
   "cell_type": "code",
   "execution_count": 89,
   "outputs": [],
   "source": [
    "# # Group by unique_id and train_platform and apply the filtering logic\n",
    "# def filter_group(group):\n",
    "#     darwin_rows = group[group['update_origin'] == 'Darwin']\n",
    "#     td_rows = group[group['update_origin'] == 'TD']\n",
    "# \n",
    "#     # Check if any Darwin row has null actual_arrival_time or actual_departure_time\n",
    "#     if darwin_rows[['actual_arrival_time', 'actual_departure_time']].isnull().any(axis=1).any():\n",
    "#         return td_rows\n",
    "#     else:\n",
    "#         return group\n",
    "# \n",
    "# df_filtered = df_cleaned.groupby(['unique_id', 'train_platform']).apply(filter_group).reset_index(drop=True)\n"
   ],
   "metadata": {
    "collapsed": false,
    "ExecuteTime": {
     "end_time": "2023-08-14T22:16:10.731920Z",
     "start_time": "2023-08-14T22:16:10.727775Z"
    }
   },
   "id": "cd5abaf004463367"
  },
  {
   "cell_type": "code",
   "execution_count": 90,
   "outputs": [],
   "source": [
    "# df_filtered"
   ],
   "metadata": {
    "collapsed": false,
    "ExecuteTime": {
     "end_time": "2023-08-14T22:16:10.735613Z",
     "start_time": "2023-08-14T22:16:10.731615Z"
    }
   },
   "id": "1831bc406a7f5095"
  },
  {
   "cell_type": "code",
   "execution_count": 91,
   "outputs": [],
   "source": [
    "# popular_id = df_filtered[df_filtered['unique_id'] == 'Y55129']"
   ],
   "metadata": {
    "collapsed": false,
    "ExecuteTime": {
     "end_time": "2023-08-14T22:16:10.739064Z",
     "start_time": "2023-08-14T22:16:10.733463Z"
    }
   },
   "id": "717144b7ff08cd98"
  },
  {
   "cell_type": "code",
   "execution_count": 92,
   "outputs": [],
   "source": [
    "# popular_id"
   ],
   "metadata": {
    "collapsed": false,
    "ExecuteTime": {
     "end_time": "2023-08-14T22:16:10.739984Z",
     "start_time": "2023-08-14T22:16:10.737123Z"
    }
   },
   "id": "399860a9de816da4"
  },
  {
   "cell_type": "code",
   "execution_count": 92,
   "outputs": [],
   "source": [],
   "metadata": {
    "collapsed": false,
    "ExecuteTime": {
     "end_time": "2023-08-14T22:16:10.743230Z",
     "start_time": "2023-08-14T22:16:10.740022Z"
    }
   },
   "id": "499348a9842e442b"
  }
 ],
 "metadata": {
  "kernelspec": {
   "display_name": "Python 3 (ipykernel)",
   "language": "python",
   "name": "python3"
  },
  "language_info": {
   "codemirror_mode": {
    "name": "ipython",
    "version": 3
   },
   "file_extension": ".py",
   "mimetype": "text/x-python",
   "name": "python",
   "nbconvert_exporter": "python",
   "pygments_lexer": "ipython3",
   "version": "3.9.13"
  }
 },
 "nbformat": 4,
 "nbformat_minor": 5
}
