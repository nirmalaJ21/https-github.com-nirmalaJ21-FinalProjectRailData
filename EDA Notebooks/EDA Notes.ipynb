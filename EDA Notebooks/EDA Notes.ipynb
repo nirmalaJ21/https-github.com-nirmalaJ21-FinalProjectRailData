{
 "cells": [
  {
   "cell_type": "markdown",
   "source": [
    "# Phase 1 - Preparing Your Dataset"
   ],
   "metadata": {
    "collapsed": false
   },
   "id": "d1be27b15c51dc06"
  },
  {
   "cell_type": "markdown",
   "source": [
    "## Goal: Preparing your dataset to be ready to be analyzed \n",
    "\n",
    "### What information does that dataset represent?\n",
    " The dataset represents UK Rail data showing\n",
    "- Trains represented by unique IDs\n",
    "- The trains working, planned and actual departure and arrival times\n",
    "- The service dates: 7/27, 7/28, and 7/29\n",
    "- Platform numbers of the station\n",
    "- Train lengths for certain trains\n",
    "- Status of if a delayed arrival and departure is true or false\n",
    "\n",
    "### How is the dataset stored?\n",
    "- The main dataset is a parquet file \n",
    "- The station reference dataset is a csv file\n",
    "\n",
    "### What is the initial structure of the dataset?\n",
    "Shape - (37479, 18)\n",
    "\n",
    "dtypes\n",
    " 0   route_id                37100 non-null  object        \n",
    " 1   unique_id               37100 non-null  object        \n",
    " 2   service_start_date      37100 non-null  object        \n",
    " 3   update_origin           36515 non-null  object        \n",
    " 4   train_platform          37100 non-null  object        \n",
    " 5   TiplocCode              34857 non-null  object        \n",
    " 6   CrsCode                 34857 non-null  object\n",
    " 7   StationName             34857 non-null  object        \n",
    " 8   working_time_arrival    37100 non-null  datetime64[ns]\n",
    " 9   working_time_departure  37100 non-null  datetime64[ns]\n",
    " 10  planned_time_arrival    33855 non-null  datetime64[ns]\n",
    " 11  planned_time_departure  33580 non-null  datetime64[ns]\n",
    " 12  platform                34114 non-null  object        \n",
    " 13  train_length            10595 non-null  object        \n",
    " 14  actual_arrival_time     31769 non-null  datetime64[ns]\n",
    " 15  actual_departure_time   34384 non-null  datetime64[ns]\n",
    " 16  is_delayed_arrival      37100 non-null  object        \n",
    " 17  is_delayed_departure    37100 non-null  object\n",
    " \n",
    "### Do any columns need to be cleaned, contain missing values, etc?\n",
    "working_time_pass and pass columns had no data\n",
    "The actual arrival and departure times have null values based on the update origin.\n",
    "There are also duplicates based on the update origin\n",
    "Why is the size 37479 after the merge but there are still only 37100 entries\n",
    "There are train_platforms that don't have corresponding Tiploc Codes so the other station data is null\n",
    "The Station Rail name csv file may need to be merged twice\n",
    "There are a lot of null values for train length\n",
    "\n",
    "\n"
   ],
   "metadata": {
    "collapsed": false
   },
   "id": "4f856de0e934587f"
  },
  {
   "cell_type": "markdown",
   "source": [
    "# Phase 2 - Describing your Dataset\n",
    "\n",
    "## Goal: Getting a high-level overview of the data in your dataset\n",
    "\n",
    "### Questions to ponder for charts\n",
    "- How would you determine the top 10 most frequently visited stations in a day?\n",
    "- What information can be explored to understand train delays?\n",
    "- What stations have the most delays?\n",
    "- When are the delays?\n",
    "- Which unique_ids have the most routes\n",
    "- Which unique_ids have the most delayed routes\n",
    "- How much time of a time difference from planned to arrival equates to a delay?\n",
    "- Are certain stations busier than others at certain times?\n",
    "- What is the average difference between planned and actual times?\n",
    "- What stations have the most platforms?\n",
    "- Which unique ids run the longest?\n",
    "- If there is a route that has multiple stops, can we give a suggested time to leave to arrive at another stop\n",
    "\n",
    "\n",
    "### How can I design the visuals for clarity, precision, and efficiency?\n",
    "- Heatmap to look at traffic volume\n",
    "- Stacked bar chart to compare busy station on-time data vs delay\n",
    "- Bar chart to show delayed vs on time routes\n",
    "- Line graph with a line for number of on-time routes and delayed routes\n",
    "- \n",
    "\n"
   ],
   "metadata": {
    "collapsed": false
   },
   "id": "bf4601fe3f1ca972"
  },
  {
   "cell_type": "markdown",
   "source": [
    "\n"
   ],
   "metadata": {
    "collapsed": false
   },
   "id": "d368e6d1c5c45aca"
  }
 ],
 "metadata": {
  "kernelspec": {
   "display_name": "Python 3",
   "language": "python",
   "name": "python3"
  },
  "language_info": {
   "codemirror_mode": {
    "name": "ipython",
    "version": 2
   },
   "file_extension": ".py",
   "mimetype": "text/x-python",
   "name": "python",
   "nbconvert_exporter": "python",
   "pygments_lexer": "ipython2",
   "version": "2.7.6"
  }
 },
 "nbformat": 4,
 "nbformat_minor": 5
}
