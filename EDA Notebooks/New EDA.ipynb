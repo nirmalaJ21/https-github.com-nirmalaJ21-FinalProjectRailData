{
 "cells": [
  {
   "cell_type": "code",
   "execution_count": 6,
   "id": "0eebc888",
   "metadata": {
    "ExecuteTime": {
     "end_time": "2023-08-15T00:41:03.588480Z",
     "start_time": "2023-08-15T00:41:03.557262Z"
    }
   },
   "outputs": [],
   "source": [
    "import pandas as pd\n",
    "import numpy as np\n",
    "import seaborn as sns\n",
    "import matplotlib.pyplot as plt"
   ]
  },
  {
   "cell_type": "code",
   "execution_count": 7,
   "outputs": [],
   "source": [
    "df = pd.read_parquet('rail_data_cleaned_20230728132300.parquet')\n",
    "dropped = ['working_time_pass', 'pass', 'train_length']\n",
    "df = df.drop(columns=dropped)"
   ],
   "metadata": {
    "collapsed": false,
    "ExecuteTime": {
     "end_time": "2023-08-15T00:41:03.617451Z",
     "start_time": "2023-08-15T00:41:03.565785Z"
    }
   },
   "id": "14af2f70a7ea1f1"
  },
  {
   "cell_type": "code",
   "execution_count": 8,
   "outputs": [
    {
     "name": "stdout",
     "output_type": "stream",
     "text": [
      "<class 'pandas.core.frame.DataFrame'>\n",
      "Int64Index: 37100 entries, 8 to 94243\n",
      "Data columns (total 14 columns):\n",
      " #   Column                  Non-Null Count  Dtype         \n",
      "---  ------                  --------------  -----         \n",
      " 0   route_id                37100 non-null  object        \n",
      " 1   unique_id               37100 non-null  object        \n",
      " 2   service_start_date      37100 non-null  object        \n",
      " 3   update_origin           36515 non-null  object        \n",
      " 4   train_platform          37100 non-null  object        \n",
      " 5   working_time_arrival    37100 non-null  datetime64[ns]\n",
      " 6   working_time_departure  37100 non-null  datetime64[ns]\n",
      " 7   planned_time_arrival    33855 non-null  datetime64[ns]\n",
      " 8   planned_time_departure  33580 non-null  datetime64[ns]\n",
      " 9   platform                34114 non-null  object        \n",
      " 10  actual_arrival_time     31769 non-null  datetime64[ns]\n",
      " 11  actual_departure_time   34384 non-null  datetime64[ns]\n",
      " 12  is_delayed_arrival      37100 non-null  bool          \n",
      " 13  is_delayed_departure    37100 non-null  bool          \n",
      "dtypes: bool(2), datetime64[ns](6), object(6)\n",
      "memory usage: 3.8+ MB\n"
     ]
    }
   ],
   "source": [
    "df.info()"
   ],
   "metadata": {
    "collapsed": false,
    "ExecuteTime": {
     "end_time": "2023-08-15T00:41:03.657124Z",
     "start_time": "2023-08-15T00:41:03.618533Z"
    }
   },
   "id": "4c3354f8b660fdc3"
  },
  {
   "cell_type": "code",
   "execution_count": 9,
   "outputs": [],
   "source": [
    "df['actual_arrival_time'] = pd.to_datetime(df['actual_arrival_time'])\n",
    "df['actual_departure_time'] = pd.to_datetime(df['actual_departure_time'])\n",
    "df['working_time_arrival'] = pd.to_datetime(df['working_time_arrival'])\n",
    "df['working_time_departure'] = pd.to_datetime(df['working_time_departure'])\n",
    "df['planned_time_arrival'] = pd.to_datetime(df['planned_time_arrival'])\n",
    "df['planned_time_departure'] = pd.to_datetime(df['planned_time_departure'])"
   ],
   "metadata": {
    "collapsed": false,
    "ExecuteTime": {
     "end_time": "2023-08-15T00:41:03.693599Z",
     "start_time": "2023-08-15T00:41:03.662368Z"
    }
   },
   "id": "745d092af24629af"
  },
  {
   "cell_type": "code",
   "execution_count": 10,
   "outputs": [
    {
     "name": "stdout",
     "output_type": "stream",
     "text": [
      "<class 'pandas.core.frame.DataFrame'>\n",
      "Int64Index: 37100 entries, 8 to 94243\n",
      "Data columns (total 14 columns):\n",
      " #   Column                  Non-Null Count  Dtype         \n",
      "---  ------                  --------------  -----         \n",
      " 0   route_id                37100 non-null  object        \n",
      " 1   unique_id               37100 non-null  object        \n",
      " 2   service_start_date      37100 non-null  object        \n",
      " 3   update_origin           36515 non-null  object        \n",
      " 4   train_platform          37100 non-null  object        \n",
      " 5   working_time_arrival    37100 non-null  datetime64[ns]\n",
      " 6   working_time_departure  37100 non-null  datetime64[ns]\n",
      " 7   planned_time_arrival    33855 non-null  datetime64[ns]\n",
      " 8   planned_time_departure  33580 non-null  datetime64[ns]\n",
      " 9   platform                34114 non-null  object        \n",
      " 10  actual_arrival_time     31769 non-null  datetime64[ns]\n",
      " 11  actual_departure_time   34384 non-null  datetime64[ns]\n",
      " 12  is_delayed_arrival      37100 non-null  bool          \n",
      " 13  is_delayed_departure    37100 non-null  bool          \n",
      "dtypes: bool(2), datetime64[ns](6), object(6)\n",
      "memory usage: 3.8+ MB\n"
     ]
    }
   ],
   "source": [
    "df.info()"
   ],
   "metadata": {
    "collapsed": false,
    "ExecuteTime": {
     "end_time": "2023-08-15T00:41:03.725551Z",
     "start_time": "2023-08-15T00:41:03.716590Z"
    }
   },
   "id": "644e23570986e569"
  },
  {
   "cell_type": "code",
   "execution_count": 11,
   "outputs": [
    {
     "data": {
      "text/plain": "              route_id unique_id service_start_date update_origin  \\\n8      202307277679020    L79020         2023-07-27        Darwin   \n10     202307277679020    L79020         2023-07-27        Darwin   \n16     202307277679020    L79020         2023-07-27        Darwin   \n17     202307277679020    L79020         2023-07-27        Darwin   \n22     202307277674553    L74553         2023-07-27            TD   \n...                ...       ...                ...           ...   \n94233  202307278055183    P55183         2023-07-27        Darwin   \n94235  202307278055183    P55183         2023-07-27        Darwin   \n94238  202307278055183    P55183         2023-07-27        Darwin   \n94240  202307278055183    P55183         2023-07-27        Darwin   \n94243  202307278055183    P55183         2023-07-27        Darwin   \n\n      train_platform working_time_arrival working_time_departure  \\\n8               STFD  2023-07-27 00:03:00    2023-07-27 00:03:30   \n10           SPNY205  2023-07-27 00:07:00    2023-07-27 00:13:30   \n16            PADTLL  2023-07-27 00:30:30    2023-07-27 00:31:00   \n17           WBRNPKS  2023-07-27 00:33:00    2023-07-27 00:35:00   \n22           SVNOAKS  2023-07-27 21:53:00    2023-07-27 21:54:30   \n...              ...                  ...                    ...   \n94233         BRADIN  2023-07-27 17:30:30    2023-07-27 17:33:30   \n94235           HLFX  2023-07-27 17:44:00    2023-07-27 17:45:00   \n94238        HBDNBDG  2023-07-27 17:58:30    2023-07-27 18:01:30   \n94240        TODMRDN  2023-07-27 18:08:30    2023-07-27 18:09:30   \n94243        RCHDALE  2023-07-27 18:18:30    2023-07-27 18:19:30   \n\n      planned_time_arrival planned_time_departure platform  \\\n8                      NaT                    NaT        5   \n10                     NaT                    NaT     None   \n16                     NaT                    NaT        B   \n17                     NaT                    NaT        A   \n22     2023-07-27 21:53:00    2023-07-27 21:54:00        1   \n...                    ...                    ...      ...   \n94233  2023-07-27 17:31:00    2023-07-27 17:33:00        4   \n94235  2023-07-27 17:44:00    2023-07-27 17:45:00        1   \n94238  2023-07-27 17:59:00    2023-07-27 18:01:00        1   \n94240  2023-07-27 18:09:00    2023-07-27 18:09:00        1   \n94243  2023-07-27 18:19:00    2023-07-27 18:19:00        3   \n\n      actual_arrival_time actual_departure_time  is_delayed_arrival  \\\n8     2023-07-27 00:53:00   2023-07-27 00:53:00                True   \n10    2023-07-27 00:57:00   2023-07-27 00:58:00                True   \n16    2023-07-27 01:07:00   2023-07-27 01:07:00                True   \n17    2023-07-27 01:09:00   2023-07-27 01:10:00                True   \n22                    NaT                   NaT               False   \n...                   ...                   ...                 ...   \n94233 2023-07-27 18:07:00   2023-07-27 18:08:00                True   \n94235 2023-07-27 18:18:00   2023-07-27 18:19:00                True   \n94238 2023-07-27 18:29:00   2023-07-27 18:30:00                True   \n94240 2023-07-27 18:35:00   2023-07-27 18:35:00                True   \n94243 2023-07-27 18:44:00   2023-07-27 18:45:00                True   \n\n       is_delayed_departure  \n8                      True  \n10                     True  \n16                     True  \n17                     True  \n22                    False  \n...                     ...  \n94233                  True  \n94235                  True  \n94238                  True  \n94240                  True  \n94243                  True  \n\n[37100 rows x 14 columns]",
      "text/html": "<div>\n<style scoped>\n    .dataframe tbody tr th:only-of-type {\n        vertical-align: middle;\n    }\n\n    .dataframe tbody tr th {\n        vertical-align: top;\n    }\n\n    .dataframe thead th {\n        text-align: right;\n    }\n</style>\n<table border=\"1\" class=\"dataframe\">\n  <thead>\n    <tr style=\"text-align: right;\">\n      <th></th>\n      <th>route_id</th>\n      <th>unique_id</th>\n      <th>service_start_date</th>\n      <th>update_origin</th>\n      <th>train_platform</th>\n      <th>working_time_arrival</th>\n      <th>working_time_departure</th>\n      <th>planned_time_arrival</th>\n      <th>planned_time_departure</th>\n      <th>platform</th>\n      <th>actual_arrival_time</th>\n      <th>actual_departure_time</th>\n      <th>is_delayed_arrival</th>\n      <th>is_delayed_departure</th>\n    </tr>\n  </thead>\n  <tbody>\n    <tr>\n      <th>8</th>\n      <td>202307277679020</td>\n      <td>L79020</td>\n      <td>2023-07-27</td>\n      <td>Darwin</td>\n      <td>STFD</td>\n      <td>2023-07-27 00:03:00</td>\n      <td>2023-07-27 00:03:30</td>\n      <td>NaT</td>\n      <td>NaT</td>\n      <td>5</td>\n      <td>2023-07-27 00:53:00</td>\n      <td>2023-07-27 00:53:00</td>\n      <td>True</td>\n      <td>True</td>\n    </tr>\n    <tr>\n      <th>10</th>\n      <td>202307277679020</td>\n      <td>L79020</td>\n      <td>2023-07-27</td>\n      <td>Darwin</td>\n      <td>SPNY205</td>\n      <td>2023-07-27 00:07:00</td>\n      <td>2023-07-27 00:13:30</td>\n      <td>NaT</td>\n      <td>NaT</td>\n      <td>None</td>\n      <td>2023-07-27 00:57:00</td>\n      <td>2023-07-27 00:58:00</td>\n      <td>True</td>\n      <td>True</td>\n    </tr>\n    <tr>\n      <th>16</th>\n      <td>202307277679020</td>\n      <td>L79020</td>\n      <td>2023-07-27</td>\n      <td>Darwin</td>\n      <td>PADTLL</td>\n      <td>2023-07-27 00:30:30</td>\n      <td>2023-07-27 00:31:00</td>\n      <td>NaT</td>\n      <td>NaT</td>\n      <td>B</td>\n      <td>2023-07-27 01:07:00</td>\n      <td>2023-07-27 01:07:00</td>\n      <td>True</td>\n      <td>True</td>\n    </tr>\n    <tr>\n      <th>17</th>\n      <td>202307277679020</td>\n      <td>L79020</td>\n      <td>2023-07-27</td>\n      <td>Darwin</td>\n      <td>WBRNPKS</td>\n      <td>2023-07-27 00:33:00</td>\n      <td>2023-07-27 00:35:00</td>\n      <td>NaT</td>\n      <td>NaT</td>\n      <td>A</td>\n      <td>2023-07-27 01:09:00</td>\n      <td>2023-07-27 01:10:00</td>\n      <td>True</td>\n      <td>True</td>\n    </tr>\n    <tr>\n      <th>22</th>\n      <td>202307277674553</td>\n      <td>L74553</td>\n      <td>2023-07-27</td>\n      <td>TD</td>\n      <td>SVNOAKS</td>\n      <td>2023-07-27 21:53:00</td>\n      <td>2023-07-27 21:54:30</td>\n      <td>2023-07-27 21:53:00</td>\n      <td>2023-07-27 21:54:00</td>\n      <td>1</td>\n      <td>NaT</td>\n      <td>NaT</td>\n      <td>False</td>\n      <td>False</td>\n    </tr>\n    <tr>\n      <th>...</th>\n      <td>...</td>\n      <td>...</td>\n      <td>...</td>\n      <td>...</td>\n      <td>...</td>\n      <td>...</td>\n      <td>...</td>\n      <td>...</td>\n      <td>...</td>\n      <td>...</td>\n      <td>...</td>\n      <td>...</td>\n      <td>...</td>\n      <td>...</td>\n    </tr>\n    <tr>\n      <th>94233</th>\n      <td>202307278055183</td>\n      <td>P55183</td>\n      <td>2023-07-27</td>\n      <td>Darwin</td>\n      <td>BRADIN</td>\n      <td>2023-07-27 17:30:30</td>\n      <td>2023-07-27 17:33:30</td>\n      <td>2023-07-27 17:31:00</td>\n      <td>2023-07-27 17:33:00</td>\n      <td>4</td>\n      <td>2023-07-27 18:07:00</td>\n      <td>2023-07-27 18:08:00</td>\n      <td>True</td>\n      <td>True</td>\n    </tr>\n    <tr>\n      <th>94235</th>\n      <td>202307278055183</td>\n      <td>P55183</td>\n      <td>2023-07-27</td>\n      <td>Darwin</td>\n      <td>HLFX</td>\n      <td>2023-07-27 17:44:00</td>\n      <td>2023-07-27 17:45:00</td>\n      <td>2023-07-27 17:44:00</td>\n      <td>2023-07-27 17:45:00</td>\n      <td>1</td>\n      <td>2023-07-27 18:18:00</td>\n      <td>2023-07-27 18:19:00</td>\n      <td>True</td>\n      <td>True</td>\n    </tr>\n    <tr>\n      <th>94238</th>\n      <td>202307278055183</td>\n      <td>P55183</td>\n      <td>2023-07-27</td>\n      <td>Darwin</td>\n      <td>HBDNBDG</td>\n      <td>2023-07-27 17:58:30</td>\n      <td>2023-07-27 18:01:30</td>\n      <td>2023-07-27 17:59:00</td>\n      <td>2023-07-27 18:01:00</td>\n      <td>1</td>\n      <td>2023-07-27 18:29:00</td>\n      <td>2023-07-27 18:30:00</td>\n      <td>True</td>\n      <td>True</td>\n    </tr>\n    <tr>\n      <th>94240</th>\n      <td>202307278055183</td>\n      <td>P55183</td>\n      <td>2023-07-27</td>\n      <td>Darwin</td>\n      <td>TODMRDN</td>\n      <td>2023-07-27 18:08:30</td>\n      <td>2023-07-27 18:09:30</td>\n      <td>2023-07-27 18:09:00</td>\n      <td>2023-07-27 18:09:00</td>\n      <td>1</td>\n      <td>2023-07-27 18:35:00</td>\n      <td>2023-07-27 18:35:00</td>\n      <td>True</td>\n      <td>True</td>\n    </tr>\n    <tr>\n      <th>94243</th>\n      <td>202307278055183</td>\n      <td>P55183</td>\n      <td>2023-07-27</td>\n      <td>Darwin</td>\n      <td>RCHDALE</td>\n      <td>2023-07-27 18:18:30</td>\n      <td>2023-07-27 18:19:30</td>\n      <td>2023-07-27 18:19:00</td>\n      <td>2023-07-27 18:19:00</td>\n      <td>3</td>\n      <td>2023-07-27 18:44:00</td>\n      <td>2023-07-27 18:45:00</td>\n      <td>True</td>\n      <td>True</td>\n    </tr>\n  </tbody>\n</table>\n<p>37100 rows × 14 columns</p>\n</div>"
     },
     "execution_count": 11,
     "metadata": {},
     "output_type": "execute_result"
    }
   ],
   "source": [
    "df"
   ],
   "metadata": {
    "collapsed": false,
    "ExecuteTime": {
     "end_time": "2023-08-15T00:41:32.152011Z",
     "start_time": "2023-08-15T00:41:32.129784Z"
    }
   },
   "id": "a611863545a6fd7e"
  },
  {
   "cell_type": "code",
   "execution_count": null,
   "outputs": [],
   "source": [],
   "metadata": {
    "collapsed": false
   },
   "id": "7294b085fd837cd4"
  },
  {
   "cell_type": "markdown",
   "source": [
    "- Which update origin has the most values - the system pushed the most\n",
    "- Which update origin has the most null time values\n",
    "- Which routes have the most stops - by unique platform\n",
    "- How many delays are there vs no delays\n",
    "- How many marked delays are because of null data\n",
    "- What is the time between planned times and actual times\n",
    "- What is the count of delayed arrivals based on the presence of null planned_time_arrival\n",
    "- What is the count of delayed departures based on the presence of null planned_time_departures\n",
    "- Which update origin has the most null time values\n",
    "- Which days have the most stops based on unique platforms\n"
   ],
   "metadata": {
    "collapsed": false
   },
   "id": "81546961252183f2"
  },
  {
   "cell_type": "code",
   "execution_count": 12,
   "outputs": [
    {
     "data": {
      "text/plain": "              route_id unique_id service_start_date update_origin  \\\n24917  202307288955129    Y55129         2023-07-28         Trust   \n24918  202307288955129    Y55129         2023-07-28         Trust   \n24919  202307288955129    Y55129         2023-07-28         Trust   \n24920  202307288955129    Y55129         2023-07-28         Trust   \n24922  202307288955129    Y55129         2023-07-28         Trust   \n...                ...       ...                ...           ...   \n92756  202307288955129    Y55129         2023-07-28        Darwin   \n92758  202307288955129    Y55129         2023-07-28        Darwin   \n92761  202307288955129    Y55129         2023-07-28        Darwin   \n92768  202307288955129    Y55129         2023-07-28        Darwin   \n92769  202307288955129    Y55129         2023-07-28        Darwin   \n\n      train_platform working_time_arrival working_time_departure  \\\n24917           HDON  2023-07-28 01:11:30    2023-07-28 01:12:00   \n24918         BRENTX  2023-07-28 01:13:30    2023-07-28 01:14:00   \n24919         CRKLWD  2023-07-28 01:15:30    2023-07-28 01:17:00   \n24920        WHMPSTM  2023-07-28 01:20:00    2023-07-28 01:20:30   \n24922        KNTSHTN  2023-07-28 01:24:00    2023-07-28 01:24:30   \n...              ...                  ...                    ...   \n92756        SELHRST  2023-07-28 02:02:30    2023-07-28 02:03:00   \n92758        ECROYDN  2023-07-28 02:06:00    2023-07-28 02:07:00   \n92761         PURLEY  2023-07-28 02:12:00    2023-07-28 02:13:00   \n92768         HORLEY  2023-07-28 02:25:30    2023-07-28 02:26:00   \n92769           GTWK  2023-07-28 02:29:30    2023-07-28 02:31:30   \n\n      planned_time_arrival planned_time_departure platform  \\\n24917  2023-07-28 01:12:00    2023-07-28 01:12:00        1   \n24918                  NaT                    NaT        1   \n24919  2023-07-28 01:16:00    2023-07-28 01:17:00        1   \n24920  2023-07-28 01:20:00    2023-07-28 01:20:00        1   \n24922  2023-07-28 01:24:00    2023-07-28 01:24:00        1   \n...                    ...                    ...      ...   \n92756                  NaT                    NaT        1   \n92758  2023-07-28 02:06:00    2023-07-28 02:07:00        5   \n92761  2023-07-28 02:12:00    2023-07-28 02:13:00        2   \n92768  2023-07-28 02:26:00    2023-07-28 02:26:00        2   \n92769  2023-07-28 02:30:00    2023-07-28 02:31:00        2   \n\n      actual_arrival_time actual_departure_time  is_delayed_arrival  \\\n24917                 NaT                   NaT               False   \n24918 2023-07-28 01:19:00   2023-07-28 01:20:00               False   \n24919 2023-07-28 01:21:00   2023-07-28 01:22:00               False   \n24920 2023-07-28 01:24:00   2023-07-28 01:25:00               False   \n24922 2023-07-28 01:28:00   2023-07-28 01:29:00               False   \n...                   ...                   ...                 ...   \n92756 2023-07-28 02:04:00   2023-07-28 02:04:00               False   \n92758 2023-07-28 02:06:00   2023-07-28 02:07:00               False   \n92761 2023-07-28 02:12:00   2023-07-28 02:13:00               False   \n92768 2023-07-28 02:26:00   2023-07-28 02:26:00               False   \n92769 2023-07-28 02:30:00   2023-07-28 02:31:00               False   \n\n       is_delayed_departure  \n24917                 False  \n24918                 False  \n24919                 False  \n24920                 False  \n24922                 False  \n...                     ...  \n92756                 False  \n92758                 False  \n92761                 False  \n92768                 False  \n92769                 False  \n\n[120 rows x 14 columns]",
      "text/html": "<div>\n<style scoped>\n    .dataframe tbody tr th:only-of-type {\n        vertical-align: middle;\n    }\n\n    .dataframe tbody tr th {\n        vertical-align: top;\n    }\n\n    .dataframe thead th {\n        text-align: right;\n    }\n</style>\n<table border=\"1\" class=\"dataframe\">\n  <thead>\n    <tr style=\"text-align: right;\">\n      <th></th>\n      <th>route_id</th>\n      <th>unique_id</th>\n      <th>service_start_date</th>\n      <th>update_origin</th>\n      <th>train_platform</th>\n      <th>working_time_arrival</th>\n      <th>working_time_departure</th>\n      <th>planned_time_arrival</th>\n      <th>planned_time_departure</th>\n      <th>platform</th>\n      <th>actual_arrival_time</th>\n      <th>actual_departure_time</th>\n      <th>is_delayed_arrival</th>\n      <th>is_delayed_departure</th>\n    </tr>\n  </thead>\n  <tbody>\n    <tr>\n      <th>24917</th>\n      <td>202307288955129</td>\n      <td>Y55129</td>\n      <td>2023-07-28</td>\n      <td>Trust</td>\n      <td>HDON</td>\n      <td>2023-07-28 01:11:30</td>\n      <td>2023-07-28 01:12:00</td>\n      <td>2023-07-28 01:12:00</td>\n      <td>2023-07-28 01:12:00</td>\n      <td>1</td>\n      <td>NaT</td>\n      <td>NaT</td>\n      <td>False</td>\n      <td>False</td>\n    </tr>\n    <tr>\n      <th>24918</th>\n      <td>202307288955129</td>\n      <td>Y55129</td>\n      <td>2023-07-28</td>\n      <td>Trust</td>\n      <td>BRENTX</td>\n      <td>2023-07-28 01:13:30</td>\n      <td>2023-07-28 01:14:00</td>\n      <td>NaT</td>\n      <td>NaT</td>\n      <td>1</td>\n      <td>2023-07-28 01:19:00</td>\n      <td>2023-07-28 01:20:00</td>\n      <td>False</td>\n      <td>False</td>\n    </tr>\n    <tr>\n      <th>24919</th>\n      <td>202307288955129</td>\n      <td>Y55129</td>\n      <td>2023-07-28</td>\n      <td>Trust</td>\n      <td>CRKLWD</td>\n      <td>2023-07-28 01:15:30</td>\n      <td>2023-07-28 01:17:00</td>\n      <td>2023-07-28 01:16:00</td>\n      <td>2023-07-28 01:17:00</td>\n      <td>1</td>\n      <td>2023-07-28 01:21:00</td>\n      <td>2023-07-28 01:22:00</td>\n      <td>False</td>\n      <td>False</td>\n    </tr>\n    <tr>\n      <th>24920</th>\n      <td>202307288955129</td>\n      <td>Y55129</td>\n      <td>2023-07-28</td>\n      <td>Trust</td>\n      <td>WHMPSTM</td>\n      <td>2023-07-28 01:20:00</td>\n      <td>2023-07-28 01:20:30</td>\n      <td>2023-07-28 01:20:00</td>\n      <td>2023-07-28 01:20:00</td>\n      <td>1</td>\n      <td>2023-07-28 01:24:00</td>\n      <td>2023-07-28 01:25:00</td>\n      <td>False</td>\n      <td>False</td>\n    </tr>\n    <tr>\n      <th>24922</th>\n      <td>202307288955129</td>\n      <td>Y55129</td>\n      <td>2023-07-28</td>\n      <td>Trust</td>\n      <td>KNTSHTN</td>\n      <td>2023-07-28 01:24:00</td>\n      <td>2023-07-28 01:24:30</td>\n      <td>2023-07-28 01:24:00</td>\n      <td>2023-07-28 01:24:00</td>\n      <td>1</td>\n      <td>2023-07-28 01:28:00</td>\n      <td>2023-07-28 01:29:00</td>\n      <td>False</td>\n      <td>False</td>\n    </tr>\n    <tr>\n      <th>...</th>\n      <td>...</td>\n      <td>...</td>\n      <td>...</td>\n      <td>...</td>\n      <td>...</td>\n      <td>...</td>\n      <td>...</td>\n      <td>...</td>\n      <td>...</td>\n      <td>...</td>\n      <td>...</td>\n      <td>...</td>\n      <td>...</td>\n      <td>...</td>\n    </tr>\n    <tr>\n      <th>92756</th>\n      <td>202307288955129</td>\n      <td>Y55129</td>\n      <td>2023-07-28</td>\n      <td>Darwin</td>\n      <td>SELHRST</td>\n      <td>2023-07-28 02:02:30</td>\n      <td>2023-07-28 02:03:00</td>\n      <td>NaT</td>\n      <td>NaT</td>\n      <td>1</td>\n      <td>2023-07-28 02:04:00</td>\n      <td>2023-07-28 02:04:00</td>\n      <td>False</td>\n      <td>False</td>\n    </tr>\n    <tr>\n      <th>92758</th>\n      <td>202307288955129</td>\n      <td>Y55129</td>\n      <td>2023-07-28</td>\n      <td>Darwin</td>\n      <td>ECROYDN</td>\n      <td>2023-07-28 02:06:00</td>\n      <td>2023-07-28 02:07:00</td>\n      <td>2023-07-28 02:06:00</td>\n      <td>2023-07-28 02:07:00</td>\n      <td>5</td>\n      <td>2023-07-28 02:06:00</td>\n      <td>2023-07-28 02:07:00</td>\n      <td>False</td>\n      <td>False</td>\n    </tr>\n    <tr>\n      <th>92761</th>\n      <td>202307288955129</td>\n      <td>Y55129</td>\n      <td>2023-07-28</td>\n      <td>Darwin</td>\n      <td>PURLEY</td>\n      <td>2023-07-28 02:12:00</td>\n      <td>2023-07-28 02:13:00</td>\n      <td>2023-07-28 02:12:00</td>\n      <td>2023-07-28 02:13:00</td>\n      <td>2</td>\n      <td>2023-07-28 02:12:00</td>\n      <td>2023-07-28 02:13:00</td>\n      <td>False</td>\n      <td>False</td>\n    </tr>\n    <tr>\n      <th>92768</th>\n      <td>202307288955129</td>\n      <td>Y55129</td>\n      <td>2023-07-28</td>\n      <td>Darwin</td>\n      <td>HORLEY</td>\n      <td>2023-07-28 02:25:30</td>\n      <td>2023-07-28 02:26:00</td>\n      <td>2023-07-28 02:26:00</td>\n      <td>2023-07-28 02:26:00</td>\n      <td>2</td>\n      <td>2023-07-28 02:26:00</td>\n      <td>2023-07-28 02:26:00</td>\n      <td>False</td>\n      <td>False</td>\n    </tr>\n    <tr>\n      <th>92769</th>\n      <td>202307288955129</td>\n      <td>Y55129</td>\n      <td>2023-07-28</td>\n      <td>Darwin</td>\n      <td>GTWK</td>\n      <td>2023-07-28 02:29:30</td>\n      <td>2023-07-28 02:31:30</td>\n      <td>2023-07-28 02:30:00</td>\n      <td>2023-07-28 02:31:00</td>\n      <td>2</td>\n      <td>2023-07-28 02:30:00</td>\n      <td>2023-07-28 02:31:00</td>\n      <td>False</td>\n      <td>False</td>\n    </tr>\n  </tbody>\n</table>\n<p>120 rows × 14 columns</p>\n</div>"
     },
     "execution_count": 12,
     "metadata": {},
     "output_type": "execute_result"
    }
   ],
   "source": [
    "popular_id = df[df['unique_id'] == 'Y55129']\n",
    "popular_id"
   ],
   "metadata": {
    "collapsed": false,
    "ExecuteTime": {
     "end_time": "2023-08-15T01:05:21.846983Z",
     "start_time": "2023-08-15T01:05:21.821965Z"
    }
   },
   "id": "ba655f2d151d1f"
  },
  {
   "cell_type": "code",
   "execution_count": 33,
   "outputs": [],
   "source": [
    "agg_functions = {\n",
    "    'actual_arrival_time': 'min',\n",
    "    'actual_departure_time': 'max'\n",
    "}\n",
    "\n",
    "id_and_platform = popular_id.groupby(['unique_id', 'train_platform', 'service_start_date']).agg(agg_functions)"
   ],
   "metadata": {
    "collapsed": false,
    "ExecuteTime": {
     "end_time": "2023-08-15T01:29:09.416911Z",
     "start_time": "2023-08-15T01:29:09.409636Z"
    }
   },
   "id": "3df63cfad7c1c25f"
  },
  {
   "cell_type": "code",
   "execution_count": 34,
   "outputs": [
    {
     "data": {
      "text/plain": "                                            actual_arrival_time  \\\nunique_id train_platform service_start_date                       \nY55129    BLFR           2023-07-28         2023-07-28 01:39:00   \n          BRENTX         2023-07-28         2023-07-28 01:15:00   \n          CRKLWD         2023-07-28         2023-07-28 01:16:00   \n          ECROYDN        2023-07-28         2023-07-28 02:06:00   \n          ELTR           2023-07-28         2023-07-28 01:06:00   \n          FLITWCK        2023-07-28         2023-07-28 00:27:00   \n          FRNDNLT        2023-07-28         2023-07-28 01:36:00   \n          GTWK           2023-07-28         2023-07-28 02:30:00   \n          HDON           2023-07-28         2023-07-28 01:12:00   \n          HORLEY         2023-07-28         2023-07-28 02:26:00   \n          HRLG           2023-07-28         2023-07-28 00:31:00   \n          HRPNDN         2023-07-28         2023-07-28 00:49:00   \n          KNTSHTN        2023-07-28         2023-07-28 01:24:00   \n          LEAGRVE        2023-07-28         2023-07-28 00:37:00   \n          LUTOAPY        2023-07-28         2023-07-28 00:43:00   \n          LUTON          2023-07-28         2023-07-28 00:43:00   \n          MLHB           2023-07-28         2023-07-28 01:08:00   \n          PURLEY         2023-07-28         2023-07-28 02:12:00   \n          RADLETT        2023-07-28         2023-07-28 01:01:00   \n          SELHRST        2023-07-28         2023-07-28 02:03:00   \n          STALBCY        2023-07-28         2023-07-28 00:55:00   \n          STPXBOX        2023-07-28         2023-07-28 01:30:00   \n          WHMPSTM        2023-07-28         2023-07-28 01:20:00   \n\n                                            actual_departure_time  \nunique_id train_platform service_start_date                        \nY55129    BLFR           2023-07-28           2023-07-28 01:43:00  \n          BRENTX         2023-07-28           2023-07-28 01:21:00  \n          CRKLWD         2023-07-28           2023-07-28 01:23:00  \n          ECROYDN        2023-07-28           2023-07-28 02:14:00  \n          ELTR           2023-07-28           2023-07-28 01:10:00  \n          FLITWCK        2023-07-28           2023-07-28 00:27:00  \n          FRNDNLT        2023-07-28           2023-07-28 01:40:00  \n          GTWK           2023-07-28           2023-07-28 02:38:00  \n          HDON           2023-07-28           2023-07-28 01:19:00  \n          HORLEY         2023-07-28           2023-07-28 02:33:00  \n          HRLG           2023-07-28           2023-07-28 00:31:00  \n          HRPNDN         2023-07-28           2023-07-28 00:53:00  \n          KNTSHTN        2023-07-28           2023-07-28 01:30:00  \n          LEAGRVE        2023-07-28           2023-07-28 00:41:00  \n          LUTOAPY        2023-07-28           2023-07-28 00:47:00  \n          LUTON          2023-07-28           2023-07-28 00:45:00  \n          MLHB           2023-07-28           2023-07-28 01:13:00  \n          PURLEY         2023-07-28           2023-07-28 02:20:00  \n          RADLETT        2023-07-28           2023-07-28 01:06:00  \n          SELHRST        2023-07-28           2023-07-28 02:06:00  \n          STALBCY        2023-07-28           2023-07-28 01:01:00  \n          STPXBOX        2023-07-28           2023-07-28 01:35:00  \n          WHMPSTM        2023-07-28           2023-07-28 01:26:00  ",
      "text/html": "<div>\n<style scoped>\n    .dataframe tbody tr th:only-of-type {\n        vertical-align: middle;\n    }\n\n    .dataframe tbody tr th {\n        vertical-align: top;\n    }\n\n    .dataframe thead th {\n        text-align: right;\n    }\n</style>\n<table border=\"1\" class=\"dataframe\">\n  <thead>\n    <tr style=\"text-align: right;\">\n      <th></th>\n      <th></th>\n      <th></th>\n      <th>actual_arrival_time</th>\n      <th>actual_departure_time</th>\n    </tr>\n    <tr>\n      <th>unique_id</th>\n      <th>train_platform</th>\n      <th>service_start_date</th>\n      <th></th>\n      <th></th>\n    </tr>\n  </thead>\n  <tbody>\n    <tr>\n      <th rowspan=\"23\" valign=\"top\">Y55129</th>\n      <th>BLFR</th>\n      <th>2023-07-28</th>\n      <td>2023-07-28 01:39:00</td>\n      <td>2023-07-28 01:43:00</td>\n    </tr>\n    <tr>\n      <th>BRENTX</th>\n      <th>2023-07-28</th>\n      <td>2023-07-28 01:15:00</td>\n      <td>2023-07-28 01:21:00</td>\n    </tr>\n    <tr>\n      <th>CRKLWD</th>\n      <th>2023-07-28</th>\n      <td>2023-07-28 01:16:00</td>\n      <td>2023-07-28 01:23:00</td>\n    </tr>\n    <tr>\n      <th>ECROYDN</th>\n      <th>2023-07-28</th>\n      <td>2023-07-28 02:06:00</td>\n      <td>2023-07-28 02:14:00</td>\n    </tr>\n    <tr>\n      <th>ELTR</th>\n      <th>2023-07-28</th>\n      <td>2023-07-28 01:06:00</td>\n      <td>2023-07-28 01:10:00</td>\n    </tr>\n    <tr>\n      <th>FLITWCK</th>\n      <th>2023-07-28</th>\n      <td>2023-07-28 00:27:00</td>\n      <td>2023-07-28 00:27:00</td>\n    </tr>\n    <tr>\n      <th>FRNDNLT</th>\n      <th>2023-07-28</th>\n      <td>2023-07-28 01:36:00</td>\n      <td>2023-07-28 01:40:00</td>\n    </tr>\n    <tr>\n      <th>GTWK</th>\n      <th>2023-07-28</th>\n      <td>2023-07-28 02:30:00</td>\n      <td>2023-07-28 02:38:00</td>\n    </tr>\n    <tr>\n      <th>HDON</th>\n      <th>2023-07-28</th>\n      <td>2023-07-28 01:12:00</td>\n      <td>2023-07-28 01:19:00</td>\n    </tr>\n    <tr>\n      <th>HORLEY</th>\n      <th>2023-07-28</th>\n      <td>2023-07-28 02:26:00</td>\n      <td>2023-07-28 02:33:00</td>\n    </tr>\n    <tr>\n      <th>HRLG</th>\n      <th>2023-07-28</th>\n      <td>2023-07-28 00:31:00</td>\n      <td>2023-07-28 00:31:00</td>\n    </tr>\n    <tr>\n      <th>HRPNDN</th>\n      <th>2023-07-28</th>\n      <td>2023-07-28 00:49:00</td>\n      <td>2023-07-28 00:53:00</td>\n    </tr>\n    <tr>\n      <th>KNTSHTN</th>\n      <th>2023-07-28</th>\n      <td>2023-07-28 01:24:00</td>\n      <td>2023-07-28 01:30:00</td>\n    </tr>\n    <tr>\n      <th>LEAGRVE</th>\n      <th>2023-07-28</th>\n      <td>2023-07-28 00:37:00</td>\n      <td>2023-07-28 00:41:00</td>\n    </tr>\n    <tr>\n      <th>LUTOAPY</th>\n      <th>2023-07-28</th>\n      <td>2023-07-28 00:43:00</td>\n      <td>2023-07-28 00:47:00</td>\n    </tr>\n    <tr>\n      <th>LUTON</th>\n      <th>2023-07-28</th>\n      <td>2023-07-28 00:43:00</td>\n      <td>2023-07-28 00:45:00</td>\n    </tr>\n    <tr>\n      <th>MLHB</th>\n      <th>2023-07-28</th>\n      <td>2023-07-28 01:08:00</td>\n      <td>2023-07-28 01:13:00</td>\n    </tr>\n    <tr>\n      <th>PURLEY</th>\n      <th>2023-07-28</th>\n      <td>2023-07-28 02:12:00</td>\n      <td>2023-07-28 02:20:00</td>\n    </tr>\n    <tr>\n      <th>RADLETT</th>\n      <th>2023-07-28</th>\n      <td>2023-07-28 01:01:00</td>\n      <td>2023-07-28 01:06:00</td>\n    </tr>\n    <tr>\n      <th>SELHRST</th>\n      <th>2023-07-28</th>\n      <td>2023-07-28 02:03:00</td>\n      <td>2023-07-28 02:06:00</td>\n    </tr>\n    <tr>\n      <th>STALBCY</th>\n      <th>2023-07-28</th>\n      <td>2023-07-28 00:55:00</td>\n      <td>2023-07-28 01:01:00</td>\n    </tr>\n    <tr>\n      <th>STPXBOX</th>\n      <th>2023-07-28</th>\n      <td>2023-07-28 01:30:00</td>\n      <td>2023-07-28 01:35:00</td>\n    </tr>\n    <tr>\n      <th>WHMPSTM</th>\n      <th>2023-07-28</th>\n      <td>2023-07-28 01:20:00</td>\n      <td>2023-07-28 01:26:00</td>\n    </tr>\n  </tbody>\n</table>\n</div>"
     },
     "execution_count": 34,
     "metadata": {},
     "output_type": "execute_result"
    }
   ],
   "source": [
    "id_and_platform"
   ],
   "metadata": {
    "collapsed": false,
    "ExecuteTime": {
     "end_time": "2023-08-15T01:29:10.105066Z",
     "start_time": "2023-08-15T01:29:10.096630Z"
    }
   },
   "id": "14b4b64bcb472b1"
  },
  {
   "cell_type": "code",
   "execution_count": 35,
   "outputs": [],
   "source": [
    "ids_and_platform = popular_id.groupby(['unique_id', 'train_platform', 'service_start_date']).size()"
   ],
   "metadata": {
    "collapsed": false,
    "ExecuteTime": {
     "end_time": "2023-08-15T01:30:01.835182Z",
     "start_time": "2023-08-15T01:30:01.824107Z"
    }
   },
   "id": "15403089f243efdd"
  },
  {
   "cell_type": "code",
   "execution_count": 36,
   "outputs": [
    {
     "data": {
      "text/plain": "unique_id  train_platform  service_start_date\nY55129     BLFR            2023-07-28            5\n           BRENTX          2023-07-28            7\n           CRKLWD          2023-07-28            6\n           ECROYDN         2023-07-28            6\n           ELTR            2023-07-28            5\n           FLITWCK         2023-07-28            2\n           FRNDNLT         2023-07-28            5\n           GTWK            2023-07-28            6\n           HDON            2023-07-28            7\n           HORLEY          2023-07-28            6\n           HRLG            2023-07-28            2\n           HRPNDN          2023-07-28            4\n           KNTSHTN         2023-07-28            7\n           LEAGRVE         2023-07-28            4\n           LUTOAPY         2023-07-28            4\n           LUTON           2023-07-28            3\n           MLHB            2023-07-28            5\n           PURLEY          2023-07-28            6\n           RADLETT         2023-07-28            5\n           SELHRST         2023-07-28            6\n           STALBCY         2023-07-28            6\n           STPXBOX         2023-07-28            6\n           WHMPSTM         2023-07-28            7\ndtype: int64"
     },
     "execution_count": 36,
     "metadata": {},
     "output_type": "execute_result"
    }
   ],
   "source": [
    "ids_and_platform"
   ],
   "metadata": {
    "collapsed": false,
    "ExecuteTime": {
     "end_time": "2023-08-15T01:30:04.982199Z",
     "start_time": "2023-08-15T01:30:04.955758Z"
    }
   },
   "id": "24f31be05da782fc"
  },
  {
   "cell_type": "code",
   "execution_count": 37,
   "outputs": [],
   "source": [
    "aggregated = popular_id.groupby(['unique_id', 'train_platform']).agg({\n",
    "    'update_origin': 'first',\n",
    "    'service_start_date': 'first',\n",
    "    'working_time_arrival': 'first',\n",
    "    'working_time_departure': 'first',\n",
    "    'actual_arrival_time': 'first',\n",
    "    'actual_departure_time': 'first',\n",
    "    'is_delayed_arrival': 'any'  # Use 'any' to check if any value is True in the group\n",
    "}).reset_index()\n"
   ],
   "metadata": {
    "collapsed": false,
    "ExecuteTime": {
     "end_time": "2023-08-15T01:32:33.768779Z",
     "start_time": "2023-08-15T01:32:33.746744Z"
    }
   },
   "id": "648d219b459f1d83"
  },
  {
   "cell_type": "code",
   "execution_count": 38,
   "outputs": [
    {
     "data": {
      "text/plain": "   unique_id train_platform update_origin service_start_date  \\\n0     Y55129           BLFR         Trust         2023-07-28   \n1     Y55129         BRENTX         Trust         2023-07-28   \n2     Y55129         CRKLWD         Trust         2023-07-28   \n3     Y55129        ECROYDN         Trust         2023-07-28   \n4     Y55129           ELTR        Darwin         2023-07-28   \n5     Y55129        FLITWCK            TD         2023-07-28   \n6     Y55129        FRNDNLT         Trust         2023-07-28   \n7     Y55129           GTWK         Trust         2023-07-28   \n8     Y55129           HDON         Trust         2023-07-28   \n9     Y55129         HORLEY         Trust         2023-07-28   \n10    Y55129           HRLG            TD         2023-07-28   \n11    Y55129         HRPNDN        Darwin         2023-07-28   \n12    Y55129        KNTSHTN         Trust         2023-07-28   \n13    Y55129        LEAGRVE        Darwin         2023-07-28   \n14    Y55129        LUTOAPY        Darwin         2023-07-28   \n15    Y55129          LUTON        Darwin         2023-07-28   \n16    Y55129           MLHB        Darwin         2023-07-28   \n17    Y55129         PURLEY         Trust         2023-07-28   \n18    Y55129        RADLETT        Darwin         2023-07-28   \n19    Y55129        SELHRST         Trust         2023-07-28   \n20    Y55129        STALBCY        Darwin         2023-07-28   \n21    Y55129        STPXBOX         Trust         2023-07-28   \n22    Y55129        WHMPSTM         Trust         2023-07-28   \n\n   working_time_arrival working_time_departure actual_arrival_time  \\\n0   2023-07-28 01:39:00    2023-07-28 01:40:00 2023-07-28 01:41:00   \n1   2023-07-28 01:13:30    2023-07-28 01:14:00 2023-07-28 01:19:00   \n2   2023-07-28 01:15:30    2023-07-28 01:17:00 2023-07-28 01:21:00   \n3   2023-07-28 02:06:00    2023-07-28 02:07:00 2023-07-28 02:08:00   \n4   2023-07-28 01:04:00    2023-07-28 01:04:30 2023-07-28 01:06:00   \n5   2023-07-28 00:25:30    2023-07-28 00:26:00 2023-07-28 00:27:00   \n6   2023-07-28 01:35:30    2023-07-28 01:36:30 2023-07-28 01:38:00   \n7   2023-07-28 02:29:30    2023-07-28 02:31:30 2023-07-28 02:32:00   \n8   2023-07-28 01:11:30    2023-07-28 01:12:00 2023-07-28 01:12:00   \n9   2023-07-28 02:25:30    2023-07-28 02:26:00 2023-07-28 02:28:00   \n10  2023-07-28 00:29:30    2023-07-28 00:30:00 2023-07-28 00:31:00   \n11  2023-07-28 00:48:30    2023-07-28 00:49:00 2023-07-28 00:52:00   \n12  2023-07-28 01:24:00    2023-07-28 01:24:30 2023-07-28 01:28:00   \n13  2023-07-28 00:35:30    2023-07-28 00:36:00 2023-07-28 00:37:00   \n14  2023-07-28 00:42:30    2023-07-28 00:43:30 2023-07-28 00:47:00   \n15  2023-07-28 00:39:00    2023-07-28 00:40:30 2023-07-28 00:44:00   \n16  2023-07-28 01:07:30    2023-07-28 01:08:30 2023-07-28 01:10:00   \n17  2023-07-28 02:12:00    2023-07-28 02:13:00 2023-07-28 02:14:00   \n18  2023-07-28 01:00:30    2023-07-28 01:01:00 2023-07-28 01:03:00   \n19  2023-07-28 02:02:30    2023-07-28 02:03:00 2023-07-28 02:05:00   \n20  2023-07-28 00:54:30    2023-07-28 00:55:30 2023-07-28 00:57:00   \n21  2023-07-28 01:30:00    2023-07-28 01:32:00 2023-07-28 01:33:00   \n22  2023-07-28 01:20:00    2023-07-28 01:20:30 2023-07-28 01:24:00   \n\n   actual_departure_time  is_delayed_arrival  \n0    2023-07-28 01:42:00               False  \n1    2023-07-28 01:20:00               False  \n2    2023-07-28 01:22:00               False  \n3    2023-07-28 02:09:00               False  \n4    2023-07-28 01:07:00               False  \n5    2023-07-28 00:27:00               False  \n6    2023-07-28 01:39:00               False  \n7    2023-07-28 02:33:00               False  \n8    2023-07-28 01:14:00               False  \n9    2023-07-28 02:28:00               False  \n10   2023-07-28 00:31:00               False  \n11   2023-07-28 00:53:00               False  \n12   2023-07-28 01:29:00               False  \n13   2023-07-28 00:41:00               False  \n14   2023-07-28 00:47:00               False  \n15   2023-07-28 00:45:00               False  \n16   2023-07-28 01:10:00               False  \n17   2023-07-28 02:15:00               False  \n18   2023-07-28 01:03:00               False  \n19   2023-07-28 02:05:00               False  \n20   2023-07-28 00:58:00               False  \n21   2023-07-28 01:34:00               False  \n22   2023-07-28 01:25:00               False  ",
      "text/html": "<div>\n<style scoped>\n    .dataframe tbody tr th:only-of-type {\n        vertical-align: middle;\n    }\n\n    .dataframe tbody tr th {\n        vertical-align: top;\n    }\n\n    .dataframe thead th {\n        text-align: right;\n    }\n</style>\n<table border=\"1\" class=\"dataframe\">\n  <thead>\n    <tr style=\"text-align: right;\">\n      <th></th>\n      <th>unique_id</th>\n      <th>train_platform</th>\n      <th>update_origin</th>\n      <th>service_start_date</th>\n      <th>working_time_arrival</th>\n      <th>working_time_departure</th>\n      <th>actual_arrival_time</th>\n      <th>actual_departure_time</th>\n      <th>is_delayed_arrival</th>\n    </tr>\n  </thead>\n  <tbody>\n    <tr>\n      <th>0</th>\n      <td>Y55129</td>\n      <td>BLFR</td>\n      <td>Trust</td>\n      <td>2023-07-28</td>\n      <td>2023-07-28 01:39:00</td>\n      <td>2023-07-28 01:40:00</td>\n      <td>2023-07-28 01:41:00</td>\n      <td>2023-07-28 01:42:00</td>\n      <td>False</td>\n    </tr>\n    <tr>\n      <th>1</th>\n      <td>Y55129</td>\n      <td>BRENTX</td>\n      <td>Trust</td>\n      <td>2023-07-28</td>\n      <td>2023-07-28 01:13:30</td>\n      <td>2023-07-28 01:14:00</td>\n      <td>2023-07-28 01:19:00</td>\n      <td>2023-07-28 01:20:00</td>\n      <td>False</td>\n    </tr>\n    <tr>\n      <th>2</th>\n      <td>Y55129</td>\n      <td>CRKLWD</td>\n      <td>Trust</td>\n      <td>2023-07-28</td>\n      <td>2023-07-28 01:15:30</td>\n      <td>2023-07-28 01:17:00</td>\n      <td>2023-07-28 01:21:00</td>\n      <td>2023-07-28 01:22:00</td>\n      <td>False</td>\n    </tr>\n    <tr>\n      <th>3</th>\n      <td>Y55129</td>\n      <td>ECROYDN</td>\n      <td>Trust</td>\n      <td>2023-07-28</td>\n      <td>2023-07-28 02:06:00</td>\n      <td>2023-07-28 02:07:00</td>\n      <td>2023-07-28 02:08:00</td>\n      <td>2023-07-28 02:09:00</td>\n      <td>False</td>\n    </tr>\n    <tr>\n      <th>4</th>\n      <td>Y55129</td>\n      <td>ELTR</td>\n      <td>Darwin</td>\n      <td>2023-07-28</td>\n      <td>2023-07-28 01:04:00</td>\n      <td>2023-07-28 01:04:30</td>\n      <td>2023-07-28 01:06:00</td>\n      <td>2023-07-28 01:07:00</td>\n      <td>False</td>\n    </tr>\n    <tr>\n      <th>5</th>\n      <td>Y55129</td>\n      <td>FLITWCK</td>\n      <td>TD</td>\n      <td>2023-07-28</td>\n      <td>2023-07-28 00:25:30</td>\n      <td>2023-07-28 00:26:00</td>\n      <td>2023-07-28 00:27:00</td>\n      <td>2023-07-28 00:27:00</td>\n      <td>False</td>\n    </tr>\n    <tr>\n      <th>6</th>\n      <td>Y55129</td>\n      <td>FRNDNLT</td>\n      <td>Trust</td>\n      <td>2023-07-28</td>\n      <td>2023-07-28 01:35:30</td>\n      <td>2023-07-28 01:36:30</td>\n      <td>2023-07-28 01:38:00</td>\n      <td>2023-07-28 01:39:00</td>\n      <td>False</td>\n    </tr>\n    <tr>\n      <th>7</th>\n      <td>Y55129</td>\n      <td>GTWK</td>\n      <td>Trust</td>\n      <td>2023-07-28</td>\n      <td>2023-07-28 02:29:30</td>\n      <td>2023-07-28 02:31:30</td>\n      <td>2023-07-28 02:32:00</td>\n      <td>2023-07-28 02:33:00</td>\n      <td>False</td>\n    </tr>\n    <tr>\n      <th>8</th>\n      <td>Y55129</td>\n      <td>HDON</td>\n      <td>Trust</td>\n      <td>2023-07-28</td>\n      <td>2023-07-28 01:11:30</td>\n      <td>2023-07-28 01:12:00</td>\n      <td>2023-07-28 01:12:00</td>\n      <td>2023-07-28 01:14:00</td>\n      <td>False</td>\n    </tr>\n    <tr>\n      <th>9</th>\n      <td>Y55129</td>\n      <td>HORLEY</td>\n      <td>Trust</td>\n      <td>2023-07-28</td>\n      <td>2023-07-28 02:25:30</td>\n      <td>2023-07-28 02:26:00</td>\n      <td>2023-07-28 02:28:00</td>\n      <td>2023-07-28 02:28:00</td>\n      <td>False</td>\n    </tr>\n    <tr>\n      <th>10</th>\n      <td>Y55129</td>\n      <td>HRLG</td>\n      <td>TD</td>\n      <td>2023-07-28</td>\n      <td>2023-07-28 00:29:30</td>\n      <td>2023-07-28 00:30:00</td>\n      <td>2023-07-28 00:31:00</td>\n      <td>2023-07-28 00:31:00</td>\n      <td>False</td>\n    </tr>\n    <tr>\n      <th>11</th>\n      <td>Y55129</td>\n      <td>HRPNDN</td>\n      <td>Darwin</td>\n      <td>2023-07-28</td>\n      <td>2023-07-28 00:48:30</td>\n      <td>2023-07-28 00:49:00</td>\n      <td>2023-07-28 00:52:00</td>\n      <td>2023-07-28 00:53:00</td>\n      <td>False</td>\n    </tr>\n    <tr>\n      <th>12</th>\n      <td>Y55129</td>\n      <td>KNTSHTN</td>\n      <td>Trust</td>\n      <td>2023-07-28</td>\n      <td>2023-07-28 01:24:00</td>\n      <td>2023-07-28 01:24:30</td>\n      <td>2023-07-28 01:28:00</td>\n      <td>2023-07-28 01:29:00</td>\n      <td>False</td>\n    </tr>\n    <tr>\n      <th>13</th>\n      <td>Y55129</td>\n      <td>LEAGRVE</td>\n      <td>Darwin</td>\n      <td>2023-07-28</td>\n      <td>2023-07-28 00:35:30</td>\n      <td>2023-07-28 00:36:00</td>\n      <td>2023-07-28 00:37:00</td>\n      <td>2023-07-28 00:41:00</td>\n      <td>False</td>\n    </tr>\n    <tr>\n      <th>14</th>\n      <td>Y55129</td>\n      <td>LUTOAPY</td>\n      <td>Darwin</td>\n      <td>2023-07-28</td>\n      <td>2023-07-28 00:42:30</td>\n      <td>2023-07-28 00:43:30</td>\n      <td>2023-07-28 00:47:00</td>\n      <td>2023-07-28 00:47:00</td>\n      <td>False</td>\n    </tr>\n    <tr>\n      <th>15</th>\n      <td>Y55129</td>\n      <td>LUTON</td>\n      <td>Darwin</td>\n      <td>2023-07-28</td>\n      <td>2023-07-28 00:39:00</td>\n      <td>2023-07-28 00:40:30</td>\n      <td>2023-07-28 00:44:00</td>\n      <td>2023-07-28 00:45:00</td>\n      <td>False</td>\n    </tr>\n    <tr>\n      <th>16</th>\n      <td>Y55129</td>\n      <td>MLHB</td>\n      <td>Darwin</td>\n      <td>2023-07-28</td>\n      <td>2023-07-28 01:07:30</td>\n      <td>2023-07-28 01:08:30</td>\n      <td>2023-07-28 01:10:00</td>\n      <td>2023-07-28 01:10:00</td>\n      <td>False</td>\n    </tr>\n    <tr>\n      <th>17</th>\n      <td>Y55129</td>\n      <td>PURLEY</td>\n      <td>Trust</td>\n      <td>2023-07-28</td>\n      <td>2023-07-28 02:12:00</td>\n      <td>2023-07-28 02:13:00</td>\n      <td>2023-07-28 02:14:00</td>\n      <td>2023-07-28 02:15:00</td>\n      <td>False</td>\n    </tr>\n    <tr>\n      <th>18</th>\n      <td>Y55129</td>\n      <td>RADLETT</td>\n      <td>Darwin</td>\n      <td>2023-07-28</td>\n      <td>2023-07-28 01:00:30</td>\n      <td>2023-07-28 01:01:00</td>\n      <td>2023-07-28 01:03:00</td>\n      <td>2023-07-28 01:03:00</td>\n      <td>False</td>\n    </tr>\n    <tr>\n      <th>19</th>\n      <td>Y55129</td>\n      <td>SELHRST</td>\n      <td>Trust</td>\n      <td>2023-07-28</td>\n      <td>2023-07-28 02:02:30</td>\n      <td>2023-07-28 02:03:00</td>\n      <td>2023-07-28 02:05:00</td>\n      <td>2023-07-28 02:05:00</td>\n      <td>False</td>\n    </tr>\n    <tr>\n      <th>20</th>\n      <td>Y55129</td>\n      <td>STALBCY</td>\n      <td>Darwin</td>\n      <td>2023-07-28</td>\n      <td>2023-07-28 00:54:30</td>\n      <td>2023-07-28 00:55:30</td>\n      <td>2023-07-28 00:57:00</td>\n      <td>2023-07-28 00:58:00</td>\n      <td>False</td>\n    </tr>\n    <tr>\n      <th>21</th>\n      <td>Y55129</td>\n      <td>STPXBOX</td>\n      <td>Trust</td>\n      <td>2023-07-28</td>\n      <td>2023-07-28 01:30:00</td>\n      <td>2023-07-28 01:32:00</td>\n      <td>2023-07-28 01:33:00</td>\n      <td>2023-07-28 01:34:00</td>\n      <td>False</td>\n    </tr>\n    <tr>\n      <th>22</th>\n      <td>Y55129</td>\n      <td>WHMPSTM</td>\n      <td>Trust</td>\n      <td>2023-07-28</td>\n      <td>2023-07-28 01:20:00</td>\n      <td>2023-07-28 01:20:30</td>\n      <td>2023-07-28 01:24:00</td>\n      <td>2023-07-28 01:25:00</td>\n      <td>False</td>\n    </tr>\n  </tbody>\n</table>\n</div>"
     },
     "execution_count": 38,
     "metadata": {},
     "output_type": "execute_result"
    }
   ],
   "source": [
    "aggregated"
   ],
   "metadata": {
    "collapsed": false,
    "ExecuteTime": {
     "end_time": "2023-08-15T01:32:39.152675Z",
     "start_time": "2023-08-15T01:32:39.129757Z"
    }
   },
   "id": "e84e43b3727b1696"
  },
  {
   "cell_type": "code",
   "execution_count": 43,
   "outputs": [],
   "source": [
    "grouped = popular_id.groupby(['unique_id', 'train_platform']).count()"
   ],
   "metadata": {
    "collapsed": false,
    "ExecuteTime": {
     "end_time": "2023-08-15T01:41:33.185758Z",
     "start_time": "2023-08-15T01:41:33.181014Z"
    }
   },
   "id": "222f10577eb063d2"
  },
  {
   "cell_type": "code",
   "execution_count": 44,
   "outputs": [
    {
     "data": {
      "text/plain": "                          route_id  service_start_date  update_origin  \\\nunique_id train_platform                                                \nY55129    BLFR                   5                   5              5   \n          BRENTX                 7                   7              7   \n          CRKLWD                 6                   6              6   \n          ECROYDN                6                   6              6   \n          ELTR                   5                   5              5   \n          FLITWCK                2                   2              2   \n          FRNDNLT                5                   5              5   \n          GTWK                   6                   6              6   \n          HDON                   7                   7              7   \n          HORLEY                 6                   6              6   \n          HRLG                   2                   2              2   \n          HRPNDN                 4                   4              4   \n          KNTSHTN                7                   7              7   \n          LEAGRVE                4                   4              4   \n          LUTOAPY                4                   4              4   \n          LUTON                  3                   3              3   \n          MLHB                   5                   5              5   \n          PURLEY                 6                   6              6   \n          RADLETT                5                   5              5   \n          SELHRST                6                   6              6   \n          STALBCY                6                   6              6   \n          STPXBOX                6                   6              6   \n          WHMPSTM                7                   7              7   \n\n                          working_time_arrival  working_time_departure  \\\nunique_id train_platform                                                 \nY55129    BLFR                               5                       5   \n          BRENTX                             7                       7   \n          CRKLWD                             6                       6   \n          ECROYDN                            6                       6   \n          ELTR                               5                       5   \n          FLITWCK                            2                       2   \n          FRNDNLT                            5                       5   \n          GTWK                               6                       6   \n          HDON                               7                       7   \n          HORLEY                             6                       6   \n          HRLG                               2                       2   \n          HRPNDN                             4                       4   \n          KNTSHTN                            7                       7   \n          LEAGRVE                            4                       4   \n          LUTOAPY                            4                       4   \n          LUTON                              3                       3   \n          MLHB                               5                       5   \n          PURLEY                             6                       6   \n          RADLETT                            5                       5   \n          SELHRST                            6                       6   \n          STALBCY                            6                       6   \n          STPXBOX                            6                       6   \n          WHMPSTM                            7                       7   \n\n                          planned_time_arrival  planned_time_departure  \\\nunique_id train_platform                                                 \nY55129    BLFR                               5                       5   \n          BRENTX                             0                       0   \n          CRKLWD                             6                       6   \n          ECROYDN                            6                       6   \n          ELTR                               5                       5   \n          FLITWCK                            2                       2   \n          FRNDNLT                            0                       0   \n          GTWK                               6                       6   \n          HDON                               7                       7   \n          HORLEY                             6                       6   \n          HRLG                               2                       2   \n          HRPNDN                             4                       4   \n          KNTSHTN                            7                       7   \n          LEAGRVE                            4                       4   \n          LUTOAPY                            4                       4   \n          LUTON                              3                       3   \n          MLHB                               5                       5   \n          PURLEY                             6                       6   \n          RADLETT                            5                       5   \n          SELHRST                            0                       0   \n          STALBCY                            6                       6   \n          STPXBOX                            6                       6   \n          WHMPSTM                            7                       7   \n\n                          platform  actual_arrival_time  \\\nunique_id train_platform                                  \nY55129    BLFR                   5                    4   \n          BRENTX                 7                    6   \n          CRKLWD                 6                    5   \n          ECROYDN                6                    6   \n          ELTR                   5                    4   \n          FLITWCK                2                    1   \n          FRNDNLT                5                    4   \n          GTWK                   6                    6   \n          HDON                   7                    4   \n          HORLEY                 6                    6   \n          HRLG                   2                    1   \n          HRPNDN                 4                    3   \n          KNTSHTN                7                    6   \n          LEAGRVE                4                    1   \n          LUTOAPY                4                    3   \n          LUTON                  3                    2   \n          MLHB                   5                    4   \n          PURLEY                 6                    6   \n          RADLETT                5                    4   \n          SELHRST                6                    5   \n          STALBCY                6                    3   \n          STPXBOX                6                    5   \n          WHMPSTM                7                    6   \n\n                          actual_departure_time  is_delayed_arrival  \\\nunique_id train_platform                                              \nY55129    BLFR                                4                   5   \n          BRENTX                              6                   7   \n          CRKLWD                              5                   6   \n          ECROYDN                             6                   6   \n          ELTR                                4                   5   \n          FLITWCK                             1                   2   \n          FRNDNLT                             4                   5   \n          GTWK                                6                   6   \n          HDON                                5                   7   \n          HORLEY                              6                   6   \n          HRLG                                1                   2   \n          HRPNDN                              3                   4   \n          KNTSHTN                             6                   7   \n          LEAGRVE                             2                   4   \n          LUTOAPY                             3                   4   \n          LUTON                               2                   3   \n          MLHB                                4                   5   \n          PURLEY                              6                   6   \n          RADLETT                             4                   5   \n          SELHRST                             5                   6   \n          STALBCY                             4                   6   \n          STPXBOX                             5                   6   \n          WHMPSTM                             6                   7   \n\n                          is_delayed_departure  \nunique_id train_platform                        \nY55129    BLFR                               5  \n          BRENTX                             7  \n          CRKLWD                             6  \n          ECROYDN                            6  \n          ELTR                               5  \n          FLITWCK                            2  \n          FRNDNLT                            5  \n          GTWK                               6  \n          HDON                               7  \n          HORLEY                             6  \n          HRLG                               2  \n          HRPNDN                             4  \n          KNTSHTN                            7  \n          LEAGRVE                            4  \n          LUTOAPY                            4  \n          LUTON                              3  \n          MLHB                               5  \n          PURLEY                             6  \n          RADLETT                            5  \n          SELHRST                            6  \n          STALBCY                            6  \n          STPXBOX                            6  \n          WHMPSTM                            7  ",
      "text/html": "<div>\n<style scoped>\n    .dataframe tbody tr th:only-of-type {\n        vertical-align: middle;\n    }\n\n    .dataframe tbody tr th {\n        vertical-align: top;\n    }\n\n    .dataframe thead th {\n        text-align: right;\n    }\n</style>\n<table border=\"1\" class=\"dataframe\">\n  <thead>\n    <tr style=\"text-align: right;\">\n      <th></th>\n      <th></th>\n      <th>route_id</th>\n      <th>service_start_date</th>\n      <th>update_origin</th>\n      <th>working_time_arrival</th>\n      <th>working_time_departure</th>\n      <th>planned_time_arrival</th>\n      <th>planned_time_departure</th>\n      <th>platform</th>\n      <th>actual_arrival_time</th>\n      <th>actual_departure_time</th>\n      <th>is_delayed_arrival</th>\n      <th>is_delayed_departure</th>\n    </tr>\n    <tr>\n      <th>unique_id</th>\n      <th>train_platform</th>\n      <th></th>\n      <th></th>\n      <th></th>\n      <th></th>\n      <th></th>\n      <th></th>\n      <th></th>\n      <th></th>\n      <th></th>\n      <th></th>\n      <th></th>\n      <th></th>\n    </tr>\n  </thead>\n  <tbody>\n    <tr>\n      <th rowspan=\"23\" valign=\"top\">Y55129</th>\n      <th>BLFR</th>\n      <td>5</td>\n      <td>5</td>\n      <td>5</td>\n      <td>5</td>\n      <td>5</td>\n      <td>5</td>\n      <td>5</td>\n      <td>5</td>\n      <td>4</td>\n      <td>4</td>\n      <td>5</td>\n      <td>5</td>\n    </tr>\n    <tr>\n      <th>BRENTX</th>\n      <td>7</td>\n      <td>7</td>\n      <td>7</td>\n      <td>7</td>\n      <td>7</td>\n      <td>0</td>\n      <td>0</td>\n      <td>7</td>\n      <td>6</td>\n      <td>6</td>\n      <td>7</td>\n      <td>7</td>\n    </tr>\n    <tr>\n      <th>CRKLWD</th>\n      <td>6</td>\n      <td>6</td>\n      <td>6</td>\n      <td>6</td>\n      <td>6</td>\n      <td>6</td>\n      <td>6</td>\n      <td>6</td>\n      <td>5</td>\n      <td>5</td>\n      <td>6</td>\n      <td>6</td>\n    </tr>\n    <tr>\n      <th>ECROYDN</th>\n      <td>6</td>\n      <td>6</td>\n      <td>6</td>\n      <td>6</td>\n      <td>6</td>\n      <td>6</td>\n      <td>6</td>\n      <td>6</td>\n      <td>6</td>\n      <td>6</td>\n      <td>6</td>\n      <td>6</td>\n    </tr>\n    <tr>\n      <th>ELTR</th>\n      <td>5</td>\n      <td>5</td>\n      <td>5</td>\n      <td>5</td>\n      <td>5</td>\n      <td>5</td>\n      <td>5</td>\n      <td>5</td>\n      <td>4</td>\n      <td>4</td>\n      <td>5</td>\n      <td>5</td>\n    </tr>\n    <tr>\n      <th>FLITWCK</th>\n      <td>2</td>\n      <td>2</td>\n      <td>2</td>\n      <td>2</td>\n      <td>2</td>\n      <td>2</td>\n      <td>2</td>\n      <td>2</td>\n      <td>1</td>\n      <td>1</td>\n      <td>2</td>\n      <td>2</td>\n    </tr>\n    <tr>\n      <th>FRNDNLT</th>\n      <td>5</td>\n      <td>5</td>\n      <td>5</td>\n      <td>5</td>\n      <td>5</td>\n      <td>0</td>\n      <td>0</td>\n      <td>5</td>\n      <td>4</td>\n      <td>4</td>\n      <td>5</td>\n      <td>5</td>\n    </tr>\n    <tr>\n      <th>GTWK</th>\n      <td>6</td>\n      <td>6</td>\n      <td>6</td>\n      <td>6</td>\n      <td>6</td>\n      <td>6</td>\n      <td>6</td>\n      <td>6</td>\n      <td>6</td>\n      <td>6</td>\n      <td>6</td>\n      <td>6</td>\n    </tr>\n    <tr>\n      <th>HDON</th>\n      <td>7</td>\n      <td>7</td>\n      <td>7</td>\n      <td>7</td>\n      <td>7</td>\n      <td>7</td>\n      <td>7</td>\n      <td>7</td>\n      <td>4</td>\n      <td>5</td>\n      <td>7</td>\n      <td>7</td>\n    </tr>\n    <tr>\n      <th>HORLEY</th>\n      <td>6</td>\n      <td>6</td>\n      <td>6</td>\n      <td>6</td>\n      <td>6</td>\n      <td>6</td>\n      <td>6</td>\n      <td>6</td>\n      <td>6</td>\n      <td>6</td>\n      <td>6</td>\n      <td>6</td>\n    </tr>\n    <tr>\n      <th>HRLG</th>\n      <td>2</td>\n      <td>2</td>\n      <td>2</td>\n      <td>2</td>\n      <td>2</td>\n      <td>2</td>\n      <td>2</td>\n      <td>2</td>\n      <td>1</td>\n      <td>1</td>\n      <td>2</td>\n      <td>2</td>\n    </tr>\n    <tr>\n      <th>HRPNDN</th>\n      <td>4</td>\n      <td>4</td>\n      <td>4</td>\n      <td>4</td>\n      <td>4</td>\n      <td>4</td>\n      <td>4</td>\n      <td>4</td>\n      <td>3</td>\n      <td>3</td>\n      <td>4</td>\n      <td>4</td>\n    </tr>\n    <tr>\n      <th>KNTSHTN</th>\n      <td>7</td>\n      <td>7</td>\n      <td>7</td>\n      <td>7</td>\n      <td>7</td>\n      <td>7</td>\n      <td>7</td>\n      <td>7</td>\n      <td>6</td>\n      <td>6</td>\n      <td>7</td>\n      <td>7</td>\n    </tr>\n    <tr>\n      <th>LEAGRVE</th>\n      <td>4</td>\n      <td>4</td>\n      <td>4</td>\n      <td>4</td>\n      <td>4</td>\n      <td>4</td>\n      <td>4</td>\n      <td>4</td>\n      <td>1</td>\n      <td>2</td>\n      <td>4</td>\n      <td>4</td>\n    </tr>\n    <tr>\n      <th>LUTOAPY</th>\n      <td>4</td>\n      <td>4</td>\n      <td>4</td>\n      <td>4</td>\n      <td>4</td>\n      <td>4</td>\n      <td>4</td>\n      <td>4</td>\n      <td>3</td>\n      <td>3</td>\n      <td>4</td>\n      <td>4</td>\n    </tr>\n    <tr>\n      <th>LUTON</th>\n      <td>3</td>\n      <td>3</td>\n      <td>3</td>\n      <td>3</td>\n      <td>3</td>\n      <td>3</td>\n      <td>3</td>\n      <td>3</td>\n      <td>2</td>\n      <td>2</td>\n      <td>3</td>\n      <td>3</td>\n    </tr>\n    <tr>\n      <th>MLHB</th>\n      <td>5</td>\n      <td>5</td>\n      <td>5</td>\n      <td>5</td>\n      <td>5</td>\n      <td>5</td>\n      <td>5</td>\n      <td>5</td>\n      <td>4</td>\n      <td>4</td>\n      <td>5</td>\n      <td>5</td>\n    </tr>\n    <tr>\n      <th>PURLEY</th>\n      <td>6</td>\n      <td>6</td>\n      <td>6</td>\n      <td>6</td>\n      <td>6</td>\n      <td>6</td>\n      <td>6</td>\n      <td>6</td>\n      <td>6</td>\n      <td>6</td>\n      <td>6</td>\n      <td>6</td>\n    </tr>\n    <tr>\n      <th>RADLETT</th>\n      <td>5</td>\n      <td>5</td>\n      <td>5</td>\n      <td>5</td>\n      <td>5</td>\n      <td>5</td>\n      <td>5</td>\n      <td>5</td>\n      <td>4</td>\n      <td>4</td>\n      <td>5</td>\n      <td>5</td>\n    </tr>\n    <tr>\n      <th>SELHRST</th>\n      <td>6</td>\n      <td>6</td>\n      <td>6</td>\n      <td>6</td>\n      <td>6</td>\n      <td>0</td>\n      <td>0</td>\n      <td>6</td>\n      <td>5</td>\n      <td>5</td>\n      <td>6</td>\n      <td>6</td>\n    </tr>\n    <tr>\n      <th>STALBCY</th>\n      <td>6</td>\n      <td>6</td>\n      <td>6</td>\n      <td>6</td>\n      <td>6</td>\n      <td>6</td>\n      <td>6</td>\n      <td>6</td>\n      <td>3</td>\n      <td>4</td>\n      <td>6</td>\n      <td>6</td>\n    </tr>\n    <tr>\n      <th>STPXBOX</th>\n      <td>6</td>\n      <td>6</td>\n      <td>6</td>\n      <td>6</td>\n      <td>6</td>\n      <td>6</td>\n      <td>6</td>\n      <td>6</td>\n      <td>5</td>\n      <td>5</td>\n      <td>6</td>\n      <td>6</td>\n    </tr>\n    <tr>\n      <th>WHMPSTM</th>\n      <td>7</td>\n      <td>7</td>\n      <td>7</td>\n      <td>7</td>\n      <td>7</td>\n      <td>7</td>\n      <td>7</td>\n      <td>7</td>\n      <td>6</td>\n      <td>6</td>\n      <td>7</td>\n      <td>7</td>\n    </tr>\n  </tbody>\n</table>\n</div>"
     },
     "execution_count": 44,
     "metadata": {},
     "output_type": "execute_result"
    }
   ],
   "source": [
    "grouped"
   ],
   "metadata": {
    "collapsed": false,
    "ExecuteTime": {
     "end_time": "2023-08-15T01:41:33.986775Z",
     "start_time": "2023-08-15T01:41:33.979830Z"
    }
   },
   "id": "5f0acbe1bf9f03a1"
  },
  {
   "cell_type": "code",
   "execution_count": null,
   "outputs": [],
   "source": [],
   "metadata": {
    "collapsed": false
   },
   "id": "85a95e3b3f8d5553"
  }
 ],
 "metadata": {
  "kernelspec": {
   "display_name": "Python 3 (ipykernel)",
   "language": "python",
   "name": "python3"
  },
  "language_info": {
   "codemirror_mode": {
    "name": "ipython",
    "version": 3
   },
   "file_extension": ".py",
   "mimetype": "text/x-python",
   "name": "python",
   "nbconvert_exporter": "python",
   "pygments_lexer": "ipython3",
   "version": "3.9.13"
  }
 },
 "nbformat": 4,
 "nbformat_minor": 5
}
